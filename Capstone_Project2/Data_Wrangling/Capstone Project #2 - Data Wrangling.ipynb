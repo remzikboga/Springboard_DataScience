{
 "cells": [
  {
   "cell_type": "markdown",
   "metadata": {},
   "source": [
    "__DATA WRANGLING__"
   ]
  },
  {
   "cell_type": "code",
   "execution_count": 1,
   "metadata": {},
   "outputs": [],
   "source": [
    "#load libraries\n",
    "import numpy as np\n",
    "import pandas as pd\n",
    "import matplotlib.pyplot as plt"
   ]
  },
  {
   "cell_type": "code",
   "execution_count": 2,
   "metadata": {},
   "outputs": [],
   "source": [
    "#load dataset and assing it to a dataframe\n",
    "dfmallcustomer= pd.read_csv(\"datasets/Mall_Customers.csv\")"
   ]
  },
  {
   "cell_type": "code",
   "execution_count": 3,
   "metadata": {},
   "outputs": [
    {
     "data": {
      "text/html": [
       "<div>\n",
       "<style scoped>\n",
       "    .dataframe tbody tr th:only-of-type {\n",
       "        vertical-align: middle;\n",
       "    }\n",
       "\n",
       "    .dataframe tbody tr th {\n",
       "        vertical-align: top;\n",
       "    }\n",
       "\n",
       "    .dataframe thead th {\n",
       "        text-align: right;\n",
       "    }\n",
       "</style>\n",
       "<table border=\"1\" class=\"dataframe\">\n",
       "  <thead>\n",
       "    <tr style=\"text-align: right;\">\n",
       "      <th></th>\n",
       "      <th>CustomerID</th>\n",
       "      <th>Gender</th>\n",
       "      <th>Age</th>\n",
       "      <th>Annual Income (k$)</th>\n",
       "      <th>Spending Score (1-100)</th>\n",
       "    </tr>\n",
       "  </thead>\n",
       "  <tbody>\n",
       "    <tr>\n",
       "      <th>0</th>\n",
       "      <td>1</td>\n",
       "      <td>Male</td>\n",
       "      <td>19</td>\n",
       "      <td>15</td>\n",
       "      <td>39</td>\n",
       "    </tr>\n",
       "    <tr>\n",
       "      <th>1</th>\n",
       "      <td>2</td>\n",
       "      <td>Male</td>\n",
       "      <td>21</td>\n",
       "      <td>15</td>\n",
       "      <td>81</td>\n",
       "    </tr>\n",
       "    <tr>\n",
       "      <th>2</th>\n",
       "      <td>3</td>\n",
       "      <td>Female</td>\n",
       "      <td>20</td>\n",
       "      <td>16</td>\n",
       "      <td>6</td>\n",
       "    </tr>\n",
       "    <tr>\n",
       "      <th>3</th>\n",
       "      <td>4</td>\n",
       "      <td>Female</td>\n",
       "      <td>23</td>\n",
       "      <td>16</td>\n",
       "      <td>77</td>\n",
       "    </tr>\n",
       "    <tr>\n",
       "      <th>4</th>\n",
       "      <td>5</td>\n",
       "      <td>Female</td>\n",
       "      <td>31</td>\n",
       "      <td>17</td>\n",
       "      <td>40</td>\n",
       "    </tr>\n",
       "  </tbody>\n",
       "</table>\n",
       "</div>"
      ],
      "text/plain": [
       "   CustomerID  Gender  Age  Annual Income (k$)  Spending Score (1-100)\n",
       "0           1    Male   19                  15                      39\n",
       "1           2    Male   21                  15                      81\n",
       "2           3  Female   20                  16                       6\n",
       "3           4  Female   23                  16                      77\n",
       "4           5  Female   31                  17                      40"
      ]
     },
     "execution_count": 3,
     "metadata": {},
     "output_type": "execute_result"
    }
   ],
   "source": [
    "#check the first five data points\n",
    "dfmallcustomer.head()"
   ]
  },
  {
   "cell_type": "markdown",
   "metadata": {},
   "source": [
    "Appearently there are five columns but CustomerID is label variable so that I will not include that in my analysis. "
   ]
  },
  {
   "cell_type": "code",
   "execution_count": 4,
   "metadata": {},
   "outputs": [
    {
     "data": {
      "text/plain": [
       "Female    0.56\n",
       "Male      0.44\n",
       "Name: Gender, dtype: float64"
      ]
     },
     "execution_count": 4,
     "metadata": {},
     "output_type": "execute_result"
    }
   ],
   "source": [
    "#I want to explore each variable. First Gender\n",
    "dfmallcustomer['Gender'].value_counts(dropna=False, normalize=True)"
   ]
  },
  {
   "cell_type": "markdown",
   "metadata": {},
   "source": [
    "There is no null variable within Gender. 56% of the customers are Female. Now, I want to check the shape of the dataframe before exploring other variables."
   ]
  },
  {
   "cell_type": "code",
   "execution_count": 5,
   "metadata": {},
   "outputs": [
    {
     "data": {
      "text/plain": [
       "(200, 5)"
      ]
     },
     "execution_count": 5,
     "metadata": {},
     "output_type": "execute_result"
    }
   ],
   "source": [
    "dfmallcustomer.shape"
   ]
  },
  {
   "cell_type": "code",
   "execution_count": 6,
   "metadata": {},
   "outputs": [
    {
     "data": {
      "text/plain": [
       "32    0.055\n",
       "35    0.045\n",
       "19    0.040\n",
       "31    0.040\n",
       "30    0.035\n",
       "49    0.035\n",
       "27    0.030\n",
       "47    0.030\n",
       "40    0.030\n",
       "23    0.030\n",
       "36    0.030\n",
       "38    0.030\n",
       "50    0.025\n",
       "48    0.025\n",
       "29    0.025\n",
       "21    0.025\n",
       "20    0.025\n",
       "34    0.025\n",
       "18    0.020\n",
       "28    0.020\n",
       "59    0.020\n",
       "24    0.020\n",
       "67    0.020\n",
       "54    0.020\n",
       "39    0.015\n",
       "25    0.015\n",
       "33    0.015\n",
       "22    0.015\n",
       "37    0.015\n",
       "43    0.015\n",
       "68    0.015\n",
       "45    0.015\n",
       "46    0.015\n",
       "60    0.015\n",
       "41    0.010\n",
       "57    0.010\n",
       "66    0.010\n",
       "65    0.010\n",
       "63    0.010\n",
       "58    0.010\n",
       "26    0.010\n",
       "70    0.010\n",
       "42    0.010\n",
       "53    0.010\n",
       "52    0.010\n",
       "51    0.010\n",
       "44    0.010\n",
       "55    0.005\n",
       "64    0.005\n",
       "69    0.005\n",
       "56    0.005\n",
       "Name: Age, dtype: float64"
      ]
     },
     "execution_count": 6,
     "metadata": {},
     "output_type": "execute_result"
    }
   ],
   "source": [
    "# it seems there are 200 data points. Now, I want to check the distribution of customer ages. \n",
    "dfmallcustomer['Age'].value_counts(dropna=False, normalize=True)"
   ]
  },
  {
   "cell_type": "code",
   "execution_count": 7,
   "metadata": {},
   "outputs": [
    {
     "name": "stdout",
     "output_type": "stream",
     "text": [
      "Maximum age:  70\n",
      "Minimum age:  18\n"
     ]
    }
   ],
   "source": [
    "#I want to check the maximum and minimum values as well.\n",
    "print('Maximum age: ', dfmallcustomer['Age'].max())\n",
    "print('Minimum age: ', dfmallcustomer['Age'].min())"
   ]
  },
  {
   "cell_type": "code",
   "execution_count": 9,
   "metadata": {},
   "outputs": [],
   "source": [
    "# Customer ages range between 18 and 70. I want to categorize customers based on their ages. \n",
    "#I will create labels for different ranges\n",
    "dfmallcustomer['Age'] = pd.cut(dfmallcustomer.Age, bins=[0, 25, 35, 60, 70],labels=['Young Adult','Adult',\n",
    "                                                                                     'Middle Age','Older Adult'])"
   ]
  },
  {
   "cell_type": "code",
   "execution_count": 10,
   "metadata": {},
   "outputs": [
    {
     "data": {
      "text/html": [
       "<div>\n",
       "<style scoped>\n",
       "    .dataframe tbody tr th:only-of-type {\n",
       "        vertical-align: middle;\n",
       "    }\n",
       "\n",
       "    .dataframe tbody tr th {\n",
       "        vertical-align: top;\n",
       "    }\n",
       "\n",
       "    .dataframe thead th {\n",
       "        text-align: right;\n",
       "    }\n",
       "</style>\n",
       "<table border=\"1\" class=\"dataframe\">\n",
       "  <thead>\n",
       "    <tr style=\"text-align: right;\">\n",
       "      <th></th>\n",
       "      <th>CustomerID</th>\n",
       "      <th>Gender</th>\n",
       "      <th>Age</th>\n",
       "      <th>Annual Income (k$)</th>\n",
       "      <th>Spending Score (1-100)</th>\n",
       "    </tr>\n",
       "  </thead>\n",
       "  <tbody>\n",
       "    <tr>\n",
       "      <th>0</th>\n",
       "      <td>1</td>\n",
       "      <td>Male</td>\n",
       "      <td>Young Adult</td>\n",
       "      <td>15</td>\n",
       "      <td>39</td>\n",
       "    </tr>\n",
       "    <tr>\n",
       "      <th>1</th>\n",
       "      <td>2</td>\n",
       "      <td>Male</td>\n",
       "      <td>Young Adult</td>\n",
       "      <td>15</td>\n",
       "      <td>81</td>\n",
       "    </tr>\n",
       "    <tr>\n",
       "      <th>2</th>\n",
       "      <td>3</td>\n",
       "      <td>Female</td>\n",
       "      <td>Young Adult</td>\n",
       "      <td>16</td>\n",
       "      <td>6</td>\n",
       "    </tr>\n",
       "    <tr>\n",
       "      <th>3</th>\n",
       "      <td>4</td>\n",
       "      <td>Female</td>\n",
       "      <td>Young Adult</td>\n",
       "      <td>16</td>\n",
       "      <td>77</td>\n",
       "    </tr>\n",
       "    <tr>\n",
       "      <th>4</th>\n",
       "      <td>5</td>\n",
       "      <td>Female</td>\n",
       "      <td>Adult</td>\n",
       "      <td>17</td>\n",
       "      <td>40</td>\n",
       "    </tr>\n",
       "  </tbody>\n",
       "</table>\n",
       "</div>"
      ],
      "text/plain": [
       "   CustomerID  Gender          Age  Annual Income (k$)  Spending Score (1-100)\n",
       "0           1    Male  Young Adult                  15                      39\n",
       "1           2    Male  Young Adult                  15                      81\n",
       "2           3  Female  Young Adult                  16                       6\n",
       "3           4  Female  Young Adult                  16                      77\n",
       "4           5  Female        Adult                  17                      40"
      ]
     },
     "execution_count": 10,
     "metadata": {},
     "output_type": "execute_result"
    }
   ],
   "source": [
    "dfmallcustomer.head()"
   ]
  },
  {
   "cell_type": "code",
   "execution_count": 11,
   "metadata": {},
   "outputs": [
    {
     "data": {
      "text/plain": [
       "Middle Age     0.425\n",
       "Adult          0.300\n",
       "Young Adult    0.190\n",
       "Older Adult    0.085\n",
       "Name: Age, dtype: float64"
      ]
     },
     "execution_count": 11,
     "metadata": {},
     "output_type": "execute_result"
    }
   ],
   "source": [
    "#re-check the distributions of different ages\n",
    "dfmallcustomer['Age'].value_counts(dropna=False, normalize=True)"
   ]
  },
  {
   "cell_type": "code",
   "execution_count": 12,
   "metadata": {
    "scrolled": true
   },
   "outputs": [
    {
     "data": {
      "text/plain": [
       "54     0.06\n",
       "78     0.06\n",
       "60     0.03\n",
       "87     0.03\n",
       "62     0.03\n",
       "       ... \n",
       "61     0.01\n",
       "126    0.01\n",
       "59     0.01\n",
       "58     0.01\n",
       "15     0.01\n",
       "Name: Annual Income (k$), Length: 64, dtype: float64"
      ]
     },
     "execution_count": 12,
     "metadata": {},
     "output_type": "execute_result"
    }
   ],
   "source": [
    "# most of the customers are middle ages who are between 35-60 years old, and adults who are between \n",
    "# 25-35 years old. Therefore, I can say that 72% of the customers are older than 25 and younger than 60 years old. \n",
    "#now, I will check the annual incomes\n",
    "\n",
    "dfmallcustomer['Annual Income (k$)'].value_counts(dropna=False, normalize=True)"
   ]
  },
  {
   "cell_type": "code",
   "execution_count": 14,
   "metadata": {},
   "outputs": [
    {
     "name": "stdout",
     "output_type": "stream",
     "text": [
      "Maximum annual income:  137\n",
      "Minimum annual income:  15\n"
     ]
    }
   ],
   "source": [
    "#Check the max and min annual incomes.\n",
    "\n",
    "print(\"Maximum annual income: \", dfmallcustomer['Annual Income (k$)'].max())\n",
    "print(\"Minimum annual income: \", dfmallcustomer['Annual Income (k$)'].min())"
   ]
  },
  {
   "cell_type": "code",
   "execution_count": 15,
   "metadata": {},
   "outputs": [],
   "source": [
    "#minimum annual income is 15k while the maximum one is 137k.I want to group them as well based on their income\n",
    "#The categories I will use are: lower, lower middle, middle, upper middle, and upper\n",
    "dfmallcustomer['Annual Income (k$)'] = pd.cut(dfmallcustomer['Annual Income (k$)'],\n",
    "                                              bins=[0, 20, 35, 65, 85, 137],labels=['Lower','Lower Middle', 'Middle',\n",
    "                                                                                     'Upper Middle','Upper'])"
   ]
  },
  {
   "cell_type": "code",
   "execution_count": 16,
   "metadata": {},
   "outputs": [
    {
     "data": {
      "text/plain": [
       "Middle          0.40\n",
       "Upper Middle    0.24\n",
       "Upper           0.17\n",
       "Lower Middle    0.11\n",
       "Lower           0.08\n",
       "Name: Annual Income (k$), dtype: float64"
      ]
     },
     "execution_count": 16,
     "metadata": {},
     "output_type": "execute_result"
    }
   ],
   "source": [
    "dfmallcustomer['Annual Income (k$)'].value_counts(normalize=True, dropna=False)"
   ]
  },
  {
   "cell_type": "code",
   "execution_count": 17,
   "metadata": {},
   "outputs": [
    {
     "data": {
      "text/plain": [
       "42    0.040\n",
       "55    0.035\n",
       "46    0.030\n",
       "73    0.030\n",
       "35    0.025\n",
       "      ...  \n",
       "31    0.005\n",
       "82    0.005\n",
       "24    0.005\n",
       "23    0.005\n",
       "99    0.005\n",
       "Name: Spending Score (1-100), Length: 84, dtype: float64"
      ]
     },
     "execution_count": 17,
     "metadata": {},
     "output_type": "execute_result"
    }
   ],
   "source": [
    "#the results above shows that 64% of the customers are middle and upper middle groups\n",
    "# Therefore, the annual income of them range between 35k-85k. \n",
    "#Finally, I want to explore spending scores\n",
    "dfmallcustomer['Spending Score (1-100)'].value_counts(dropna=False, normalize=True)"
   ]
  },
  {
   "cell_type": "code",
   "execution_count": 18,
   "metadata": {},
   "outputs": [],
   "source": [
    "#I want to create 4 groups for the spending scores: 0-24 Low Score, 25-49 Good Score, 50-74 Very Good Score\n",
    "# 75-100 Excellent Score\n",
    "dfmallcustomer['Spending Score (1-100)'] = pd.cut(dfmallcustomer['Spending Score (1-100)'],\n",
    "                                              bins=[0, 25, 50, 75, 100],labels=['Low Score','Good Score',\n",
    "                                                                                    'Very Good Score','Excellent Score'])"
   ]
  },
  {
   "cell_type": "code",
   "execution_count": 19,
   "metadata": {},
   "outputs": [
    {
     "data": {
      "text/plain": [
       "Good Score         0.320\n",
       "Very Good Score    0.295\n",
       "Low Score          0.195\n",
       "Excellent Score    0.190\n",
       "Name: Spending Score (1-100), dtype: float64"
      ]
     },
     "execution_count": 19,
     "metadata": {},
     "output_type": "execute_result"
    }
   ],
   "source": [
    "#recheck the spencing scores\n",
    "dfmallcustomer['Spending Score (1-100)'].value_counts(dropna=False, normalize=True)"
   ]
  },
  {
   "cell_type": "code",
   "execution_count": 20,
   "metadata": {},
   "outputs": [
    {
     "data": {
      "text/html": [
       "<div>\n",
       "<style scoped>\n",
       "    .dataframe tbody tr th:only-of-type {\n",
       "        vertical-align: middle;\n",
       "    }\n",
       "\n",
       "    .dataframe tbody tr th {\n",
       "        vertical-align: top;\n",
       "    }\n",
       "\n",
       "    .dataframe thead th {\n",
       "        text-align: right;\n",
       "    }\n",
       "</style>\n",
       "<table border=\"1\" class=\"dataframe\">\n",
       "  <thead>\n",
       "    <tr style=\"text-align: right;\">\n",
       "      <th></th>\n",
       "      <th>CustomerID</th>\n",
       "      <th>Gender</th>\n",
       "      <th>Age</th>\n",
       "      <th>Annual Income (k$)</th>\n",
       "      <th>Spending Score (1-100)</th>\n",
       "    </tr>\n",
       "  </thead>\n",
       "  <tbody>\n",
       "    <tr>\n",
       "      <th>0</th>\n",
       "      <td>1</td>\n",
       "      <td>Male</td>\n",
       "      <td>Young Adult</td>\n",
       "      <td>Lower</td>\n",
       "      <td>Good Score</td>\n",
       "    </tr>\n",
       "    <tr>\n",
       "      <th>1</th>\n",
       "      <td>2</td>\n",
       "      <td>Male</td>\n",
       "      <td>Young Adult</td>\n",
       "      <td>Lower</td>\n",
       "      <td>Excellent Score</td>\n",
       "    </tr>\n",
       "    <tr>\n",
       "      <th>2</th>\n",
       "      <td>3</td>\n",
       "      <td>Female</td>\n",
       "      <td>Young Adult</td>\n",
       "      <td>Lower</td>\n",
       "      <td>Low Score</td>\n",
       "    </tr>\n",
       "    <tr>\n",
       "      <th>3</th>\n",
       "      <td>4</td>\n",
       "      <td>Female</td>\n",
       "      <td>Young Adult</td>\n",
       "      <td>Lower</td>\n",
       "      <td>Excellent Score</td>\n",
       "    </tr>\n",
       "    <tr>\n",
       "      <th>4</th>\n",
       "      <td>5</td>\n",
       "      <td>Female</td>\n",
       "      <td>Adult</td>\n",
       "      <td>Lower</td>\n",
       "      <td>Good Score</td>\n",
       "    </tr>\n",
       "  </tbody>\n",
       "</table>\n",
       "</div>"
      ],
      "text/plain": [
       "   CustomerID  Gender          Age Annual Income (k$) Spending Score (1-100)\n",
       "0           1    Male  Young Adult              Lower             Good Score\n",
       "1           2    Male  Young Adult              Lower        Excellent Score\n",
       "2           3  Female  Young Adult              Lower              Low Score\n",
       "3           4  Female  Young Adult              Lower        Excellent Score\n",
       "4           5  Female        Adult              Lower             Good Score"
      ]
     },
     "execution_count": 20,
     "metadata": {},
     "output_type": "execute_result"
    }
   ],
   "source": [
    "dfmallcustomer.head()"
   ]
  },
  {
   "cell_type": "code",
   "execution_count": 21,
   "metadata": {},
   "outputs": [
    {
     "data": {
      "text/plain": [
       "False"
      ]
     },
     "execution_count": 21,
     "metadata": {},
     "output_type": "execute_result"
    }
   ],
   "source": [
    "#check one more time if there is any null values\n",
    "dfmallcustomer.isnull().any().any()"
   ]
  },
  {
   "cell_type": "code",
   "execution_count": 23,
   "metadata": {},
   "outputs": [],
   "source": [
    "#there is no null values. Most of the customers have good score or very good score.\n",
    "#Finally, I want to save my dataset for further analysis.\n",
    "\n",
    "dfmallcustomer.to_csv('./Datasets/dfmallcustomer.csv', index=False)\n"
   ]
  },
  {
   "cell_type": "code",
   "execution_count": null,
   "metadata": {},
   "outputs": [],
   "source": []
  }
 ],
 "metadata": {
  "kernelspec": {
   "display_name": "Python 3",
   "language": "python",
   "name": "python3"
  },
  "language_info": {
   "codemirror_mode": {
    "name": "ipython",
    "version": 3
   },
   "file_extension": ".py",
   "mimetype": "text/x-python",
   "name": "python",
   "nbconvert_exporter": "python",
   "pygments_lexer": "ipython3",
   "version": "3.7.6"
  }
 },
 "nbformat": 4,
 "nbformat_minor": 4
}
