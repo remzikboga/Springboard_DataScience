{
 "cells": [
  {
   "cell_type": "markdown",
   "metadata": {},
   "source": [
    "\n",
    "# 1. LOAD, EXPLORE, CLEAN, and MERGE DATASETS\n",
    "\n",
    "In my first capstone project, I will work on predicting Airbnb new guest booking travel experience.The data was received from \"Airbnb New User Bookings\" competition on Kaggle website (https://www.kaggle.com/c/airbnb-recruiting-new-user-bookings). 6 datasets are provided for this competitions. I will not include the sample submission and test user datasets in my analysis. Because the analysis results will be a multiclass classification, in terms of Machine Learning models, I will use a supervised model, Logistic Regression. In this notebook, I will first load all potential libraries that might be helpful for me during my analysis. Then, I will load, explore, and clean each dataset using different data wragnling strategies.   "
   ]
  },
  {
   "cell_type": "markdown",
   "metadata": {},
   "source": [
    "__LOAD LIBRARIES__"
   ]
  },
  {
   "cell_type": "code",
   "execution_count": 2,
   "metadata": {},
   "outputs": [
    {
     "name": "stdout",
     "output_type": "stream",
     "text": [
      "Loaded\n"
     ]
    }
   ],
   "source": [
    "%matplotlib inline\n",
    "import numpy as np\n",
    "import scipy as sp\n",
    "import matplotlib as mpl\n",
    "import matplotlib.cm as cm\n",
    "from matplotlib.colors import ListedColormap\n",
    "import matplotlib.pyplot as plt\n",
    "import pandas as pd\n",
    "pd.set_option('display.width', 200)\n",
    "pd.set_option('display.max_columns', 50)\n",
    "pd.set_option('display.notebook_repr_html', True)\n",
    "import seaborn as sns\n",
    "sns.set_style(\"whitegrid\")\n",
    "sns.set_context(\"poster\")\n",
    "import sklearn.model_selection\n",
    "\n",
    "\n",
    "c0=sns.color_palette()[0]\n",
    "c1=sns.color_palette()[1]\n",
    "c2=sns.color_palette()[2]\n",
    "\n",
    "cmap_light = ListedColormap(['#FFAAAA', '#AAFFAA', '#AAAAFF'])\n",
    "cmap_bold = ListedColormap(['#FF0000', '#00FF00', '#0000FF'])\n",
    "cm = plt.cm.RdBu\n",
    "cm_bright = ListedColormap(['#FF0000', '#0000FF'])\n",
    "\n",
    "def points_plot(ax, Xtr, Xte, ytr, yte, clf, mesh=True, colorscale=cmap_light, \n",
    "                cdiscrete=cmap_bold, alpha=0.1, psize=10, zfunc=False, predicted=False):\n",
    "    h = .02\n",
    "    X=np.concatenate((Xtr, Xte))\n",
    "    x_min, x_max = X[:, 0].min() - .5, X[:, 0].max() + .5\n",
    "    y_min, y_max = X[:, 1].min() - .5, X[:, 1].max() + .5\n",
    "    xx, yy = np.meshgrid(np.linspace(x_min, x_max, 100),\n",
    "                         np.linspace(y_min, y_max, 100))\n",
    "\n",
    "    #plt.figure(figsize=(10,6))\n",
    "    if zfunc:\n",
    "        p0 = clf.predict_proba(np.c_[xx.ravel(), yy.ravel()])[:, 0]\n",
    "        p1 = clf.predict_proba(np.c_[xx.ravel(), yy.ravel()])[:, 1]\n",
    "        Z=zfunc(p0, p1)\n",
    "    else:\n",
    "        Z = clf.predict(np.c_[xx.ravel(), yy.ravel()])\n",
    "    ZZ = Z.reshape(xx.shape)\n",
    "    if mesh:\n",
    "        plt.pcolormesh(xx, yy, ZZ, cmap=cmap_light, alpha=alpha, axes=ax)\n",
    "    if predicted:\n",
    "        showtr = clf.predict(Xtr)\n",
    "        showte = clf.predict(Xte)\n",
    "    else:\n",
    "        showtr = ytr\n",
    "        showte = yte\n",
    "    ax.scatter(Xtr[:, 0], Xtr[:, 1], c=showtr-1, cmap=cmap_bold, \n",
    "               s=psize, alpha=alpha,edgecolor=\"k\")\n",
    "    # and testing points\n",
    "    ax.scatter(Xte[:, 0], Xte[:, 1], c=showte-1, cmap=cmap_bold, \n",
    "               alpha=alpha, marker=\"s\", s=psize+10)\n",
    "    ax.set_xlim(xx.min(), xx.max())\n",
    "    ax.set_ylim(yy.min(), yy.max())\n",
    "    return ax,xx,yy\n",
    "\n",
    "def points_plot_prob(ax, Xtr, Xte, ytr, yte, clf, colorscale=cmap_light, \n",
    "                     cdiscrete=cmap_bold, ccolor=cm, psize=10, alpha=0.1):\n",
    "    ax,xx,yy = points_plot(ax, Xtr, Xte, ytr, yte, clf, mesh=False, \n",
    "                           colorscale=colorscale, cdiscrete=cdiscrete, \n",
    "                           psize=psize, alpha=alpha, predicted=True) \n",
    "    Z = clf.predict_proba(np.c_[xx.ravel(), yy.ravel()])[:, 1]\n",
    "    Z = Z.reshape(xx.shape)\n",
    "    plt.contourf(xx, yy, Z, cmap=ccolor, alpha=.2, axes=ax)\n",
    "    cs2 = plt.contour(xx, yy, Z, cmap=ccolor, alpha=.6, axes=ax)\n",
    "    plt.clabel(cs2, fmt = '%2.1f', colors = 'k', fontsize=14, axes=ax)\n",
    "    return ax \n",
    "\n",
    "print(\"Loaded\")"
   ]
  },
  {
   "cell_type": "markdown",
   "metadata": {},
   "source": [
    "__1A__: __DATA WRANGLING ON SESSIONS DATASET__"
   ]
  },
  {
   "cell_type": "markdown",
   "metadata": {},
   "source": [
    "I will first load and explore \"Sessions\" Dataset"
   ]
  },
  {
   "cell_type": "code",
   "execution_count": 3,
   "metadata": {},
   "outputs": [],
   "source": [
    "dfsessions = pd.read_csv(\"FirstCapsProj/sessions.csv\")"
   ]
  },
  {
   "cell_type": "code",
   "execution_count": 4,
   "metadata": {},
   "outputs": [
    {
     "name": "stdout",
     "output_type": "stream",
     "text": [
      "<class 'pandas.core.frame.DataFrame'>\n",
      "RangeIndex: 3350867 entries, 0 to 3350866\n",
      "Data columns (total 6 columns):\n",
      "user_id          object\n",
      "action           object\n",
      "action_type      object\n",
      "action_detail    object\n",
      "device_type      object\n",
      "secs_elapsed     float64\n",
      "dtypes: float64(1), object(5)\n",
      "memory usage: 153.4+ MB\n"
     ]
    }
   ],
   "source": [
    "dfsessions.info()"
   ]
  },
  {
   "cell_type": "code",
   "execution_count": 5,
   "metadata": {
    "scrolled": true
   },
   "outputs": [
    {
     "data": {
      "text/html": [
       "<div>\n",
       "<style scoped>\n",
       "    .dataframe tbody tr th:only-of-type {\n",
       "        vertical-align: middle;\n",
       "    }\n",
       "\n",
       "    .dataframe tbody tr th {\n",
       "        vertical-align: top;\n",
       "    }\n",
       "\n",
       "    .dataframe thead th {\n",
       "        text-align: right;\n",
       "    }\n",
       "</style>\n",
       "<table border=\"1\" class=\"dataframe\">\n",
       "  <thead>\n",
       "    <tr style=\"text-align: right;\">\n",
       "      <th></th>\n",
       "      <th>user_id</th>\n",
       "      <th>action</th>\n",
       "      <th>action_type</th>\n",
       "      <th>action_detail</th>\n",
       "      <th>device_type</th>\n",
       "      <th>secs_elapsed</th>\n",
       "    </tr>\n",
       "  </thead>\n",
       "  <tbody>\n",
       "    <tr>\n",
       "      <th>0</th>\n",
       "      <td>d1mm9tcy42</td>\n",
       "      <td>lookup</td>\n",
       "      <td>NaN</td>\n",
       "      <td>NaN</td>\n",
       "      <td>Windows Desktop</td>\n",
       "      <td>319.0</td>\n",
       "    </tr>\n",
       "    <tr>\n",
       "      <th>1</th>\n",
       "      <td>d1mm9tcy42</td>\n",
       "      <td>search_results</td>\n",
       "      <td>click</td>\n",
       "      <td>view_search_results</td>\n",
       "      <td>Windows Desktop</td>\n",
       "      <td>67753.0</td>\n",
       "    </tr>\n",
       "    <tr>\n",
       "      <th>2</th>\n",
       "      <td>d1mm9tcy42</td>\n",
       "      <td>lookup</td>\n",
       "      <td>NaN</td>\n",
       "      <td>NaN</td>\n",
       "      <td>Windows Desktop</td>\n",
       "      <td>301.0</td>\n",
       "    </tr>\n",
       "    <tr>\n",
       "      <th>3</th>\n",
       "      <td>d1mm9tcy42</td>\n",
       "      <td>search_results</td>\n",
       "      <td>click</td>\n",
       "      <td>view_search_results</td>\n",
       "      <td>Windows Desktop</td>\n",
       "      <td>22141.0</td>\n",
       "    </tr>\n",
       "    <tr>\n",
       "      <th>4</th>\n",
       "      <td>d1mm9tcy42</td>\n",
       "      <td>lookup</td>\n",
       "      <td>NaN</td>\n",
       "      <td>NaN</td>\n",
       "      <td>Windows Desktop</td>\n",
       "      <td>435.0</td>\n",
       "    </tr>\n",
       "  </tbody>\n",
       "</table>\n",
       "</div>"
      ],
      "text/plain": [
       "      user_id          action action_type        action_detail      device_type  secs_elapsed\n",
       "0  d1mm9tcy42          lookup         NaN                  NaN  Windows Desktop         319.0\n",
       "1  d1mm9tcy42  search_results       click  view_search_results  Windows Desktop       67753.0\n",
       "2  d1mm9tcy42          lookup         NaN                  NaN  Windows Desktop         301.0\n",
       "3  d1mm9tcy42  search_results       click  view_search_results  Windows Desktop       22141.0\n",
       "4  d1mm9tcy42          lookup         NaN                  NaN  Windows Desktop         435.0"
      ]
     },
     "execution_count": 5,
     "metadata": {},
     "output_type": "execute_result"
    }
   ],
   "source": [
    "dfsessions.head()"
   ]
  },
  {
   "cell_type": "markdown",
   "metadata": {},
   "source": [
    "There are 6 variables in \"Sessions\" dataset. user_id is used for labelling. While \"action\", \"action_type\", \"action_detail\", \"device_type\" are categorical variables, secs_elapsed is continous variable. I will apply \"shape\" method on \"dfsesssions\" to see the number of columns (variables) and observations (rows)."
   ]
  },
  {
   "cell_type": "code",
   "execution_count": 6,
   "metadata": {},
   "outputs": [
    {
     "data": {
      "text/plain": [
       "(3350867, 6)"
      ]
     },
     "execution_count": 6,
     "metadata": {},
     "output_type": "execute_result"
    }
   ],
   "source": [
    "dfsessions.shape"
   ]
  },
  {
   "cell_type": "code",
   "execution_count": 7,
   "metadata": {
    "scrolled": true
   },
   "outputs": [
    {
     "data": {
      "text/plain": [
       "Index(['user_id', 'action', 'action_type', 'action_detail', 'device_type', 'secs_elapsed'], dtype='object')"
      ]
     },
     "execution_count": 7,
     "metadata": {},
     "output_type": "execute_result"
    }
   ],
   "source": [
    "dfsessions.columns"
   ]
  },
  {
   "cell_type": "markdown",
   "metadata": {},
   "source": [
    "Starting from here, I will explore the features of each categorical variable."
   ]
  },
  {
   "cell_type": "code",
   "execution_count": 8,
   "metadata": {
    "scrolled": true
   },
   "outputs": [
    {
     "data": {
      "text/plain": [
       "NaN           10381\n",
       "wyv1imf8qw     2323\n",
       "a0uhiojrra     2137\n",
       "vcmr2jh5ix     2085\n",
       "yu5bdalz2b     1811\n",
       "Name: user_id, dtype: int64"
      ]
     },
     "execution_count": 8,
     "metadata": {},
     "output_type": "execute_result"
    }
   ],
   "source": [
    "dfsessions.user_id.value_counts(dropna=False).head()"
   ]
  },
  {
   "cell_type": "code",
   "execution_count": 9,
   "metadata": {},
   "outputs": [
    {
     "data": {
      "text/plain": [
       "show                     720939\n",
       "search_results           306745\n",
       "personalize              305294\n",
       "index                    266518\n",
       "ajax_refresh_subtotal    210145\n",
       "Name: action, dtype: int64"
      ]
     },
     "execution_count": 9,
     "metadata": {},
     "output_type": "execute_result"
    }
   ],
   "source": [
    "dfsessions.action.value_counts(dropna=False).head()"
   ]
  },
  {
   "cell_type": "code",
   "execution_count": 10,
   "metadata": {
    "scrolled": true
   },
   "outputs": [
    {
     "data": {
      "text/plain": [
       "view                894108\n",
       "data                710436\n",
       "click               696918\n",
       "NaN                 434370\n",
       "-unknown-           346514\n",
       "submit              222171\n",
       "message_post         36435\n",
       "booking_request       6681\n",
       "partner_callback      3233\n",
       "booking_response         1\n",
       "Name: action_type, dtype: int64"
      ]
     },
     "execution_count": 10,
     "metadata": {},
     "output_type": "execute_result"
    }
   ],
   "source": [
    "dfsessions.action_type.value_counts(dropna=False).head(10)"
   ]
  },
  {
   "cell_type": "code",
   "execution_count": 11,
   "metadata": {
    "scrolled": true
   },
   "outputs": [
    {
     "data": {
      "text/plain": [
       "view_search_results            583721\n",
       "NaN                            434370\n",
       "-unknown-                      346514\n",
       "p3                             309532\n",
       "wishlist_content_update        305294\n",
       "change_trip_characteristics    210145\n",
       "similar_listings               191940\n",
       "user_profile                   136444\n",
       "update_listing                  94968\n",
       "user_social_connections         77627\n",
       "Name: action_detail, dtype: int64"
      ]
     },
     "execution_count": 11,
     "metadata": {},
     "output_type": "execute_result"
    }
   ],
   "source": [
    "dfsessions.action_detail.value_counts(dropna=False).head(10)"
   ]
  },
  {
   "cell_type": "markdown",
   "metadata": {},
   "source": [
    "\n",
    "\n",
    "There are some NaN and unknown values in \"action_detail.\" For consistency, I will replace \"unknown\"s with \"NaN.\""
   ]
  },
  {
   "cell_type": "code",
   "execution_count": 12,
   "metadata": {},
   "outputs": [],
   "source": [
    "dfsessions=dfsessions.replace('-unknown-', np.nan)"
   ]
  },
  {
   "cell_type": "code",
   "execution_count": 13,
   "metadata": {
    "scrolled": true
   },
   "outputs": [
    {
     "data": {
      "text/plain": [
       "NaN                            780884\n",
       "view_search_results            583721\n",
       "p3                             309532\n",
       "wishlist_content_update        305294\n",
       "change_trip_characteristics    210145\n",
       "Name: action_detail, dtype: int64"
      ]
     },
     "execution_count": 13,
     "metadata": {},
     "output_type": "execute_result"
    }
   ],
   "source": [
    "dfsessions.action_detail.value_counts(dropna=False).head()"
   ]
  },
  {
   "cell_type": "markdown",
   "metadata": {},
   "source": [
    "As seen above, all \"unknown\" values in the \"Sessions\" dataset are repaced with NaN. I will now use \"describe\" method to explore the only non-categorical variable in this dataset. "
   ]
  },
  {
   "cell_type": "code",
   "execution_count": 14,
   "metadata": {
    "scrolled": false
   },
   "outputs": [
    {
     "data": {
      "text/html": [
       "<div>\n",
       "<style scoped>\n",
       "    .dataframe tbody tr th:only-of-type {\n",
       "        vertical-align: middle;\n",
       "    }\n",
       "\n",
       "    .dataframe tbody tr th {\n",
       "        vertical-align: top;\n",
       "    }\n",
       "\n",
       "    .dataframe thead th {\n",
       "        text-align: right;\n",
       "    }\n",
       "</style>\n",
       "<table border=\"1\" class=\"dataframe\">\n",
       "  <thead>\n",
       "    <tr style=\"text-align: right;\">\n",
       "      <th></th>\n",
       "      <th>secs_elapsed</th>\n",
       "    </tr>\n",
       "  </thead>\n",
       "  <tbody>\n",
       "    <tr>\n",
       "      <th>count</th>\n",
       "      <td>3.303438e+06</td>\n",
       "    </tr>\n",
       "    <tr>\n",
       "      <th>mean</th>\n",
       "      <td>2.112919e+04</td>\n",
       "    </tr>\n",
       "    <tr>\n",
       "      <th>std</th>\n",
       "      <td>9.353495e+04</td>\n",
       "    </tr>\n",
       "    <tr>\n",
       "      <th>min</th>\n",
       "      <td>0.000000e+00</td>\n",
       "    </tr>\n",
       "    <tr>\n",
       "      <th>25%</th>\n",
       "      <td>3.050000e+02</td>\n",
       "    </tr>\n",
       "    <tr>\n",
       "      <th>50%</th>\n",
       "      <td>1.222000e+03</td>\n",
       "    </tr>\n",
       "    <tr>\n",
       "      <th>75%</th>\n",
       "      <td>9.114000e+03</td>\n",
       "    </tr>\n",
       "    <tr>\n",
       "      <th>max</th>\n",
       "      <td>1.799949e+06</td>\n",
       "    </tr>\n",
       "  </tbody>\n",
       "</table>\n",
       "</div>"
      ],
      "text/plain": [
       "       secs_elapsed\n",
       "count  3.303438e+06\n",
       "mean   2.112919e+04\n",
       "std    9.353495e+04\n",
       "min    0.000000e+00\n",
       "25%    3.050000e+02\n",
       "50%    1.222000e+03\n",
       "75%    9.114000e+03\n",
       "max    1.799949e+06"
      ]
     },
     "execution_count": 14,
     "metadata": {},
     "output_type": "execute_result"
    }
   ],
   "source": [
    "dfsessions.describe()"
   ]
  },
  {
   "cell_type": "markdown",
   "metadata": {},
   "source": [
    "__1B__: __DATA WRANGLING ON COUNTRIES DATASET__ --- Now, I will load and explore the second dataset, which is countries. I will name it as \"dfcountries.\""
   ]
  },
  {
   "cell_type": "code",
   "execution_count": 15,
   "metadata": {},
   "outputs": [],
   "source": [
    "dfcountries=pd.read_csv(\"FirstCapsProj/countries.csv\")"
   ]
  },
  {
   "cell_type": "code",
   "execution_count": 16,
   "metadata": {},
   "outputs": [
    {
     "name": "stdout",
     "output_type": "stream",
     "text": [
      "<class 'pandas.core.frame.DataFrame'>\n",
      "RangeIndex: 10 entries, 0 to 9\n",
      "Data columns (total 7 columns):\n",
      "country_destination              10 non-null object\n",
      "lat_destination                  10 non-null float64\n",
      "lng_destination                  10 non-null float64\n",
      "distance_km                      10 non-null float64\n",
      "destination_km2                  10 non-null float64\n",
      "destination_language             10 non-null object\n",
      "language_levenshtein_distance    10 non-null float64\n",
      "dtypes: float64(5), object(2)\n",
      "memory usage: 640.0+ bytes\n"
     ]
    }
   ],
   "source": [
    "dfcountries.info()"
   ]
  },
  {
   "cell_type": "code",
   "execution_count": 17,
   "metadata": {
    "scrolled": false
   },
   "outputs": [
    {
     "data": {
      "text/html": [
       "<div>\n",
       "<style scoped>\n",
       "    .dataframe tbody tr th:only-of-type {\n",
       "        vertical-align: middle;\n",
       "    }\n",
       "\n",
       "    .dataframe tbody tr th {\n",
       "        vertical-align: top;\n",
       "    }\n",
       "\n",
       "    .dataframe thead th {\n",
       "        text-align: right;\n",
       "    }\n",
       "</style>\n",
       "<table border=\"1\" class=\"dataframe\">\n",
       "  <thead>\n",
       "    <tr style=\"text-align: right;\">\n",
       "      <th></th>\n",
       "      <th>country_destination</th>\n",
       "      <th>lat_destination</th>\n",
       "      <th>lng_destination</th>\n",
       "      <th>distance_km</th>\n",
       "      <th>destination_km2</th>\n",
       "      <th>destination_language</th>\n",
       "      <th>language_levenshtein_distance</th>\n",
       "    </tr>\n",
       "  </thead>\n",
       "  <tbody>\n",
       "    <tr>\n",
       "      <th>0</th>\n",
       "      <td>AU</td>\n",
       "      <td>-26.853388</td>\n",
       "      <td>133.275160</td>\n",
       "      <td>15297.7440</td>\n",
       "      <td>7741220.0</td>\n",
       "      <td>eng</td>\n",
       "      <td>0.00</td>\n",
       "    </tr>\n",
       "    <tr>\n",
       "      <th>1</th>\n",
       "      <td>CA</td>\n",
       "      <td>62.393303</td>\n",
       "      <td>-96.818146</td>\n",
       "      <td>2828.1333</td>\n",
       "      <td>9984670.0</td>\n",
       "      <td>eng</td>\n",
       "      <td>0.00</td>\n",
       "    </tr>\n",
       "    <tr>\n",
       "      <th>2</th>\n",
       "      <td>DE</td>\n",
       "      <td>51.165707</td>\n",
       "      <td>10.452764</td>\n",
       "      <td>7879.5680</td>\n",
       "      <td>357022.0</td>\n",
       "      <td>deu</td>\n",
       "      <td>72.61</td>\n",
       "    </tr>\n",
       "    <tr>\n",
       "      <th>3</th>\n",
       "      <td>ES</td>\n",
       "      <td>39.896027</td>\n",
       "      <td>-2.487694</td>\n",
       "      <td>7730.7240</td>\n",
       "      <td>505370.0</td>\n",
       "      <td>spa</td>\n",
       "      <td>92.25</td>\n",
       "    </tr>\n",
       "    <tr>\n",
       "      <th>4</th>\n",
       "      <td>FR</td>\n",
       "      <td>46.232193</td>\n",
       "      <td>2.209667</td>\n",
       "      <td>7682.9450</td>\n",
       "      <td>643801.0</td>\n",
       "      <td>fra</td>\n",
       "      <td>92.06</td>\n",
       "    </tr>\n",
       "    <tr>\n",
       "      <th>5</th>\n",
       "      <td>GB</td>\n",
       "      <td>54.633220</td>\n",
       "      <td>-3.432277</td>\n",
       "      <td>6883.6590</td>\n",
       "      <td>243610.0</td>\n",
       "      <td>eng</td>\n",
       "      <td>0.00</td>\n",
       "    </tr>\n",
       "    <tr>\n",
       "      <th>6</th>\n",
       "      <td>IT</td>\n",
       "      <td>41.873990</td>\n",
       "      <td>12.564167</td>\n",
       "      <td>8636.6310</td>\n",
       "      <td>301340.0</td>\n",
       "      <td>ita</td>\n",
       "      <td>89.40</td>\n",
       "    </tr>\n",
       "    <tr>\n",
       "      <th>7</th>\n",
       "      <td>NL</td>\n",
       "      <td>52.133057</td>\n",
       "      <td>5.295250</td>\n",
       "      <td>7524.3203</td>\n",
       "      <td>41543.0</td>\n",
       "      <td>nld</td>\n",
       "      <td>63.22</td>\n",
       "    </tr>\n",
       "    <tr>\n",
       "      <th>8</th>\n",
       "      <td>PT</td>\n",
       "      <td>39.553444</td>\n",
       "      <td>-7.839319</td>\n",
       "      <td>7355.2534</td>\n",
       "      <td>92090.0</td>\n",
       "      <td>por</td>\n",
       "      <td>95.45</td>\n",
       "    </tr>\n",
       "    <tr>\n",
       "      <th>9</th>\n",
       "      <td>US</td>\n",
       "      <td>36.966427</td>\n",
       "      <td>-95.844030</td>\n",
       "      <td>0.0000</td>\n",
       "      <td>9826675.0</td>\n",
       "      <td>eng</td>\n",
       "      <td>0.00</td>\n",
       "    </tr>\n",
       "  </tbody>\n",
       "</table>\n",
       "</div>"
      ],
      "text/plain": [
       "  country_destination  lat_destination  lng_destination  distance_km  destination_km2 destination_language   language_levenshtein_distance\n",
       "0                  AU       -26.853388       133.275160   15297.7440        7741220.0                   eng                           0.00\n",
       "1                  CA        62.393303       -96.818146    2828.1333        9984670.0                   eng                           0.00\n",
       "2                  DE        51.165707        10.452764    7879.5680         357022.0                   deu                          72.61\n",
       "3                  ES        39.896027        -2.487694    7730.7240         505370.0                   spa                          92.25\n",
       "4                  FR        46.232193         2.209667    7682.9450         643801.0                   fra                          92.06\n",
       "5                  GB        54.633220        -3.432277    6883.6590         243610.0                   eng                           0.00\n",
       "6                  IT        41.873990        12.564167    8636.6310         301340.0                   ita                          89.40\n",
       "7                  NL        52.133057         5.295250    7524.3203          41543.0                   nld                          63.22\n",
       "8                  PT        39.553444        -7.839319    7355.2534          92090.0                   por                          95.45\n",
       "9                  US        36.966427       -95.844030       0.0000        9826675.0                   eng                           0.00"
      ]
     },
     "execution_count": 17,
     "metadata": {},
     "output_type": "execute_result"
    }
   ],
   "source": [
    "dfcountries.head(20)"
   ]
  },
  {
   "cell_type": "code",
   "execution_count": 18,
   "metadata": {},
   "outputs": [
    {
     "data": {
      "text/plain": [
       "(10, 7)"
      ]
     },
     "execution_count": 18,
     "metadata": {},
     "output_type": "execute_result"
    }
   ],
   "source": [
    "dfcountries.shape"
   ]
  },
  {
   "cell_type": "markdown",
   "metadata": {},
   "source": [
    "There are only 10 observations and 7  in the \"countries\" dataset. \"country_destination\" and \"destination_language\" are categorical variables and other 5 variables are non-categorical variables."
   ]
  },
  {
   "cell_type": "code",
   "execution_count": 19,
   "metadata": {
    "scrolled": true
   },
   "outputs": [
    {
     "data": {
      "text/html": [
       "<div>\n",
       "<style scoped>\n",
       "    .dataframe tbody tr th:only-of-type {\n",
       "        vertical-align: middle;\n",
       "    }\n",
       "\n",
       "    .dataframe tbody tr th {\n",
       "        vertical-align: top;\n",
       "    }\n",
       "\n",
       "    .dataframe thead th {\n",
       "        text-align: right;\n",
       "    }\n",
       "</style>\n",
       "<table border=\"1\" class=\"dataframe\">\n",
       "  <thead>\n",
       "    <tr style=\"text-align: right;\">\n",
       "      <th></th>\n",
       "      <th>lat_destination</th>\n",
       "      <th>lng_destination</th>\n",
       "      <th>distance_km</th>\n",
       "      <th>destination_km2</th>\n",
       "      <th>destination_language</th>\n",
       "      <th>language_levenshtein_distance</th>\n",
       "    </tr>\n",
       "    <tr>\n",
       "      <th>country_destination</th>\n",
       "      <th></th>\n",
       "      <th></th>\n",
       "      <th></th>\n",
       "      <th></th>\n",
       "      <th></th>\n",
       "      <th></th>\n",
       "    </tr>\n",
       "  </thead>\n",
       "  <tbody>\n",
       "    <tr>\n",
       "      <th>AU</th>\n",
       "      <td>-26.853388</td>\n",
       "      <td>133.275160</td>\n",
       "      <td>15297.7440</td>\n",
       "      <td>7741220.0</td>\n",
       "      <td>eng</td>\n",
       "      <td>0.00</td>\n",
       "    </tr>\n",
       "    <tr>\n",
       "      <th>CA</th>\n",
       "      <td>62.393303</td>\n",
       "      <td>-96.818146</td>\n",
       "      <td>2828.1333</td>\n",
       "      <td>9984670.0</td>\n",
       "      <td>eng</td>\n",
       "      <td>0.00</td>\n",
       "    </tr>\n",
       "    <tr>\n",
       "      <th>DE</th>\n",
       "      <td>51.165707</td>\n",
       "      <td>10.452764</td>\n",
       "      <td>7879.5680</td>\n",
       "      <td>357022.0</td>\n",
       "      <td>deu</td>\n",
       "      <td>72.61</td>\n",
       "    </tr>\n",
       "    <tr>\n",
       "      <th>ES</th>\n",
       "      <td>39.896027</td>\n",
       "      <td>-2.487694</td>\n",
       "      <td>7730.7240</td>\n",
       "      <td>505370.0</td>\n",
       "      <td>spa</td>\n",
       "      <td>92.25</td>\n",
       "    </tr>\n",
       "    <tr>\n",
       "      <th>FR</th>\n",
       "      <td>46.232193</td>\n",
       "      <td>2.209667</td>\n",
       "      <td>7682.9450</td>\n",
       "      <td>643801.0</td>\n",
       "      <td>fra</td>\n",
       "      <td>92.06</td>\n",
       "    </tr>\n",
       "    <tr>\n",
       "      <th>GB</th>\n",
       "      <td>54.633220</td>\n",
       "      <td>-3.432277</td>\n",
       "      <td>6883.6590</td>\n",
       "      <td>243610.0</td>\n",
       "      <td>eng</td>\n",
       "      <td>0.00</td>\n",
       "    </tr>\n",
       "    <tr>\n",
       "      <th>IT</th>\n",
       "      <td>41.873990</td>\n",
       "      <td>12.564167</td>\n",
       "      <td>8636.6310</td>\n",
       "      <td>301340.0</td>\n",
       "      <td>ita</td>\n",
       "      <td>89.40</td>\n",
       "    </tr>\n",
       "    <tr>\n",
       "      <th>NL</th>\n",
       "      <td>52.133057</td>\n",
       "      <td>5.295250</td>\n",
       "      <td>7524.3203</td>\n",
       "      <td>41543.0</td>\n",
       "      <td>nld</td>\n",
       "      <td>63.22</td>\n",
       "    </tr>\n",
       "    <tr>\n",
       "      <th>PT</th>\n",
       "      <td>39.553444</td>\n",
       "      <td>-7.839319</td>\n",
       "      <td>7355.2534</td>\n",
       "      <td>92090.0</td>\n",
       "      <td>por</td>\n",
       "      <td>95.45</td>\n",
       "    </tr>\n",
       "    <tr>\n",
       "      <th>US</th>\n",
       "      <td>36.966427</td>\n",
       "      <td>-95.844030</td>\n",
       "      <td>0.0000</td>\n",
       "      <td>9826675.0</td>\n",
       "      <td>eng</td>\n",
       "      <td>0.00</td>\n",
       "    </tr>\n",
       "  </tbody>\n",
       "</table>\n",
       "</div>"
      ],
      "text/plain": [
       "                     lat_destination  lng_destination  distance_km  destination_km2 destination_language   language_levenshtein_distance\n",
       "country_destination                                                                                                                     \n",
       "AU                        -26.853388       133.275160   15297.7440        7741220.0                   eng                           0.00\n",
       "CA                         62.393303       -96.818146    2828.1333        9984670.0                   eng                           0.00\n",
       "DE                         51.165707        10.452764    7879.5680         357022.0                   deu                          72.61\n",
       "ES                         39.896027        -2.487694    7730.7240         505370.0                   spa                          92.25\n",
       "FR                         46.232193         2.209667    7682.9450         643801.0                   fra                          92.06\n",
       "GB                         54.633220        -3.432277    6883.6590         243610.0                   eng                           0.00\n",
       "IT                         41.873990        12.564167    8636.6310         301340.0                   ita                          89.40\n",
       "NL                         52.133057         5.295250    7524.3203          41543.0                   nld                          63.22\n",
       "PT                         39.553444        -7.839319    7355.2534          92090.0                   por                          95.45\n",
       "US                         36.966427       -95.844030       0.0000        9826675.0                   eng                           0.00"
      ]
     },
     "execution_count": 19,
     "metadata": {},
     "output_type": "execute_result"
    }
   ],
   "source": [
    "dfcountries.set_index('country_destination')"
   ]
  },
  {
   "cell_type": "markdown",
   "metadata": {},
   "source": [
    "I want to use descriptive statistics for the non-categorical variables in this dataset. "
   ]
  },
  {
   "cell_type": "code",
   "execution_count": 20,
   "metadata": {
    "scrolled": true
   },
   "outputs": [
    {
     "data": {
      "text/html": [
       "<div>\n",
       "<style scoped>\n",
       "    .dataframe tbody tr th:only-of-type {\n",
       "        vertical-align: middle;\n",
       "    }\n",
       "\n",
       "    .dataframe tbody tr th {\n",
       "        vertical-align: top;\n",
       "    }\n",
       "\n",
       "    .dataframe thead th {\n",
       "        text-align: right;\n",
       "    }\n",
       "</style>\n",
       "<table border=\"1\" class=\"dataframe\">\n",
       "  <thead>\n",
       "    <tr style=\"text-align: right;\">\n",
       "      <th></th>\n",
       "      <th>lat_destination</th>\n",
       "      <th>lng_destination</th>\n",
       "      <th>distance_km</th>\n",
       "      <th>destination_km2</th>\n",
       "      <th>language_levenshtein_distance</th>\n",
       "    </tr>\n",
       "  </thead>\n",
       "  <tbody>\n",
       "    <tr>\n",
       "      <th>count</th>\n",
       "      <td>10.000000</td>\n",
       "      <td>10.000000</td>\n",
       "      <td>10.000000</td>\n",
       "      <td>1.000000e+01</td>\n",
       "      <td>10.00000</td>\n",
       "    </tr>\n",
       "    <tr>\n",
       "      <th>mean</th>\n",
       "      <td>39.799398</td>\n",
       "      <td>-4.262446</td>\n",
       "      <td>7181.897800</td>\n",
       "      <td>2.973734e+06</td>\n",
       "      <td>50.49900</td>\n",
       "    </tr>\n",
       "    <tr>\n",
       "      <th>std</th>\n",
       "      <td>24.739112</td>\n",
       "      <td>63.700585</td>\n",
       "      <td>3941.141734</td>\n",
       "      <td>4.329619e+06</td>\n",
       "      <td>44.54169</td>\n",
       "    </tr>\n",
       "    <tr>\n",
       "      <th>min</th>\n",
       "      <td>-26.853388</td>\n",
       "      <td>-96.818146</td>\n",
       "      <td>0.000000</td>\n",
       "      <td>4.154300e+04</td>\n",
       "      <td>0.00000</td>\n",
       "    </tr>\n",
       "    <tr>\n",
       "      <th>25%</th>\n",
       "      <td>39.639090</td>\n",
       "      <td>-6.737559</td>\n",
       "      <td>7001.557600</td>\n",
       "      <td>2.580425e+05</td>\n",
       "      <td>0.00000</td>\n",
       "    </tr>\n",
       "    <tr>\n",
       "      <th>50%</th>\n",
       "      <td>44.053092</td>\n",
       "      <td>-0.139014</td>\n",
       "      <td>7603.632650</td>\n",
       "      <td>4.311960e+05</td>\n",
       "      <td>67.91500</td>\n",
       "    </tr>\n",
       "    <tr>\n",
       "      <th>75%</th>\n",
       "      <td>51.891219</td>\n",
       "      <td>9.163386</td>\n",
       "      <td>7842.357000</td>\n",
       "      <td>5.966865e+06</td>\n",
       "      <td>91.39500</td>\n",
       "    </tr>\n",
       "    <tr>\n",
       "      <th>max</th>\n",
       "      <td>62.393303</td>\n",
       "      <td>133.275160</td>\n",
       "      <td>15297.744000</td>\n",
       "      <td>9.984670e+06</td>\n",
       "      <td>95.45000</td>\n",
       "    </tr>\n",
       "  </tbody>\n",
       "</table>\n",
       "</div>"
      ],
      "text/plain": [
       "       lat_destination  lng_destination   distance_km  destination_km2  language_levenshtein_distance\n",
       "count        10.000000        10.000000     10.000000     1.000000e+01                       10.00000\n",
       "mean         39.799398        -4.262446   7181.897800     2.973734e+06                       50.49900\n",
       "std          24.739112        63.700585   3941.141734     4.329619e+06                       44.54169\n",
       "min         -26.853388       -96.818146      0.000000     4.154300e+04                        0.00000\n",
       "25%          39.639090        -6.737559   7001.557600     2.580425e+05                        0.00000\n",
       "50%          44.053092        -0.139014   7603.632650     4.311960e+05                       67.91500\n",
       "75%          51.891219         9.163386   7842.357000     5.966865e+06                       91.39500\n",
       "max          62.393303       133.275160  15297.744000     9.984670e+06                       95.45000"
      ]
     },
     "execution_count": 20,
     "metadata": {},
     "output_type": "execute_result"
    }
   ],
   "source": [
    "dfcountries.describe()"
   ]
  },
  {
   "cell_type": "markdown",
   "metadata": {},
   "source": [
    "__1C__: __DATA WRANGLING ON AGE_GENDER DATASET__ --- At this point, I will start loading and exploring another dataset, \"age-gender.\" "
   ]
  },
  {
   "cell_type": "code",
   "execution_count": 21,
   "metadata": {},
   "outputs": [],
   "source": [
    "dfagegender=pd.read_csv(\"FirstCapsProj/age_gender_bkts.csv\")"
   ]
  },
  {
   "cell_type": "code",
   "execution_count": 22,
   "metadata": {
    "scrolled": false
   },
   "outputs": [
    {
     "name": "stdout",
     "output_type": "stream",
     "text": [
      "<class 'pandas.core.frame.DataFrame'>\n",
      "RangeIndex: 420 entries, 0 to 419\n",
      "Data columns (total 5 columns):\n",
      "age_bucket                 420 non-null object\n",
      "country_destination        420 non-null object\n",
      "gender                     420 non-null object\n",
      "population_in_thousands    420 non-null float64\n",
      "year                       420 non-null float64\n",
      "dtypes: float64(2), object(3)\n",
      "memory usage: 16.5+ KB\n"
     ]
    }
   ],
   "source": [
    "dfagegender.info()"
   ]
  },
  {
   "cell_type": "code",
   "execution_count": 23,
   "metadata": {
    "scrolled": true
   },
   "outputs": [
    {
     "data": {
      "text/plain": [
       "(420, 5)"
      ]
     },
     "execution_count": 23,
     "metadata": {},
     "output_type": "execute_result"
    }
   ],
   "source": [
    "dfagegender.shape"
   ]
  },
  {
   "cell_type": "markdown",
   "metadata": {},
   "source": [
    "\"Age-Gender\" dataset has 420 observations and 5 variables. Let's look at how many of them are categorical variables. "
   ]
  },
  {
   "cell_type": "code",
   "execution_count": 24,
   "metadata": {
    "scrolled": false
   },
   "outputs": [
    {
     "data": {
      "text/html": [
       "<div>\n",
       "<style scoped>\n",
       "    .dataframe tbody tr th:only-of-type {\n",
       "        vertical-align: middle;\n",
       "    }\n",
       "\n",
       "    .dataframe tbody tr th {\n",
       "        vertical-align: top;\n",
       "    }\n",
       "\n",
       "    .dataframe thead th {\n",
       "        text-align: right;\n",
       "    }\n",
       "</style>\n",
       "<table border=\"1\" class=\"dataframe\">\n",
       "  <thead>\n",
       "    <tr style=\"text-align: right;\">\n",
       "      <th></th>\n",
       "      <th>age_bucket</th>\n",
       "      <th>country_destination</th>\n",
       "      <th>gender</th>\n",
       "      <th>population_in_thousands</th>\n",
       "      <th>year</th>\n",
       "    </tr>\n",
       "  </thead>\n",
       "  <tbody>\n",
       "    <tr>\n",
       "      <th>0</th>\n",
       "      <td>100+</td>\n",
       "      <td>AU</td>\n",
       "      <td>male</td>\n",
       "      <td>1.0</td>\n",
       "      <td>2015.0</td>\n",
       "    </tr>\n",
       "    <tr>\n",
       "      <th>1</th>\n",
       "      <td>95-99</td>\n",
       "      <td>AU</td>\n",
       "      <td>male</td>\n",
       "      <td>9.0</td>\n",
       "      <td>2015.0</td>\n",
       "    </tr>\n",
       "    <tr>\n",
       "      <th>2</th>\n",
       "      <td>90-94</td>\n",
       "      <td>AU</td>\n",
       "      <td>male</td>\n",
       "      <td>47.0</td>\n",
       "      <td>2015.0</td>\n",
       "    </tr>\n",
       "    <tr>\n",
       "      <th>3</th>\n",
       "      <td>85-89</td>\n",
       "      <td>AU</td>\n",
       "      <td>male</td>\n",
       "      <td>118.0</td>\n",
       "      <td>2015.0</td>\n",
       "    </tr>\n",
       "    <tr>\n",
       "      <th>4</th>\n",
       "      <td>80-84</td>\n",
       "      <td>AU</td>\n",
       "      <td>male</td>\n",
       "      <td>199.0</td>\n",
       "      <td>2015.0</td>\n",
       "    </tr>\n",
       "  </tbody>\n",
       "</table>\n",
       "</div>"
      ],
      "text/plain": [
       "  age_bucket country_destination gender  population_in_thousands    year\n",
       "0       100+                  AU   male                      1.0  2015.0\n",
       "1      95-99                  AU   male                      9.0  2015.0\n",
       "2      90-94                  AU   male                     47.0  2015.0\n",
       "3      85-89                  AU   male                    118.0  2015.0\n",
       "4      80-84                  AU   male                    199.0  2015.0"
      ]
     },
     "execution_count": 24,
     "metadata": {},
     "output_type": "execute_result"
    }
   ],
   "source": [
    "dfagegender.head()"
   ]
  },
  {
   "cell_type": "markdown",
   "metadata": {},
   "source": [
    "It looks like 3-4 for of them are categorical variables. I am going to figure out that. But first I am wondering how many age-bucket are there. When applied value_counts method, I found out that there are 21 age-bucket and 20 observations for each."
   ]
  },
  {
   "cell_type": "code",
   "execution_count": 25,
   "metadata": {},
   "outputs": [
    {
     "data": {
      "text/plain": [
       "35-39    20\n",
       "65-69    20\n",
       "70-74    20\n",
       "0-4      20\n",
       "45-49    20\n",
       "55-59    20\n",
       "95-99    20\n",
       "20-24    20\n",
       "100+     20\n",
       "5-9      20\n",
       "90-94    20\n",
       "75-79    20\n",
       "10-14    20\n",
       "80-84    20\n",
       "50-54    20\n",
       "15-19    20\n",
       "30-34    20\n",
       "40-44    20\n",
       "85-89    20\n",
       "25-29    20\n",
       "60-64    20\n",
       "Name: age_bucket, dtype: int64"
      ]
     },
     "execution_count": 25,
     "metadata": {},
     "output_type": "execute_result"
    }
   ],
   "source": [
    "dfagegender['age_bucket'].value_counts(dropna=False, ascending=True)"
   ]
  },
  {
   "cell_type": "code",
   "execution_count": 26,
   "metadata": {
    "scrolled": true
   },
   "outputs": [
    {
     "data": {
      "text/html": [
       "<div>\n",
       "<style scoped>\n",
       "    .dataframe tbody tr th:only-of-type {\n",
       "        vertical-align: middle;\n",
       "    }\n",
       "\n",
       "    .dataframe tbody tr th {\n",
       "        vertical-align: top;\n",
       "    }\n",
       "\n",
       "    .dataframe thead th {\n",
       "        text-align: right;\n",
       "    }\n",
       "</style>\n",
       "<table border=\"1\" class=\"dataframe\">\n",
       "  <thead>\n",
       "    <tr style=\"text-align: right;\">\n",
       "      <th></th>\n",
       "      <th>population_in_thousands</th>\n",
       "      <th>year</th>\n",
       "    </tr>\n",
       "  </thead>\n",
       "  <tbody>\n",
       "    <tr>\n",
       "      <th>count</th>\n",
       "      <td>420.000000</td>\n",
       "      <td>420.0</td>\n",
       "    </tr>\n",
       "    <tr>\n",
       "      <th>mean</th>\n",
       "      <td>1743.133333</td>\n",
       "      <td>2015.0</td>\n",
       "    </tr>\n",
       "    <tr>\n",
       "      <th>std</th>\n",
       "      <td>2509.843202</td>\n",
       "      <td>0.0</td>\n",
       "    </tr>\n",
       "    <tr>\n",
       "      <th>min</th>\n",
       "      <td>0.000000</td>\n",
       "      <td>2015.0</td>\n",
       "    </tr>\n",
       "    <tr>\n",
       "      <th>25%</th>\n",
       "      <td>396.500000</td>\n",
       "      <td>2015.0</td>\n",
       "    </tr>\n",
       "    <tr>\n",
       "      <th>50%</th>\n",
       "      <td>1090.500000</td>\n",
       "      <td>2015.0</td>\n",
       "    </tr>\n",
       "    <tr>\n",
       "      <th>75%</th>\n",
       "      <td>1968.000000</td>\n",
       "      <td>2015.0</td>\n",
       "    </tr>\n",
       "    <tr>\n",
       "      <th>max</th>\n",
       "      <td>11601.000000</td>\n",
       "      <td>2015.0</td>\n",
       "    </tr>\n",
       "  </tbody>\n",
       "</table>\n",
       "</div>"
      ],
      "text/plain": [
       "       population_in_thousands    year\n",
       "count               420.000000   420.0\n",
       "mean               1743.133333  2015.0\n",
       "std                2509.843202     0.0\n",
       "min                   0.000000  2015.0\n",
       "25%                 396.500000  2015.0\n",
       "50%                1090.500000  2015.0\n",
       "75%                1968.000000  2015.0\n",
       "max               11601.000000  2015.0"
      ]
     },
     "execution_count": 26,
     "metadata": {},
     "output_type": "execute_result"
    }
   ],
   "source": [
    "dfagegender.describe()"
   ]
  },
  {
   "cell_type": "markdown",
   "metadata": {},
   "source": [
    "Interestingly, I was expecting \"year\" as a categorical variable but it seems that it is not a categorical variable. However, there is only 2015 as the value. So, I don't think this will make any impact in my analyses."
   ]
  },
  {
   "cell_type": "code",
   "execution_count": 27,
   "metadata": {
    "scrolled": true
   },
   "outputs": [
    {
     "data": {
      "text/plain": [
       "GB    42\n",
       "IT    42\n",
       "AU    42\n",
       "PT    42\n",
       "US    42\n",
       "CA    42\n",
       "NL    42\n",
       "ES    42\n",
       "FR    42\n",
       "DE    42\n",
       "Name: country_destination, dtype: int64"
      ]
     },
     "execution_count": 27,
     "metadata": {},
     "output_type": "execute_result"
    }
   ],
   "source": [
    "dfagegender.country_destination.value_counts(dropna=False)"
   ]
  },
  {
   "cell_type": "markdown",
   "metadata": {},
   "source": [
    "There are 10 country destinations!"
   ]
  },
  {
   "cell_type": "code",
   "execution_count": 28,
   "metadata": {
    "scrolled": true
   },
   "outputs": [
    {
     "data": {
      "text/plain": [
       "<matplotlib.axes._subplots.AxesSubplot at 0x1a298336d8>"
      ]
     },
     "execution_count": 28,
     "metadata": {},
     "output_type": "execute_result"
    },
    {
     "data": {
      "image/png": "[encoded data removed]",
      "text/plain": [
       "<Figure size 432x288 with 1 Axes>"
      ]
     },
     "metadata": {
      "needs_background": "light"
     },
     "output_type": "display_data"
    }
   ],
   "source": [
    "sns.boxplot(x=\"country_destination\", y=\"population_in_thousands\", data=dfagegender, hue='gender', linewidth=0.2,\n",
    "           palette='Set1')"
   ]
  },
  {
   "cell_type": "markdown",
   "metadata": {},
   "source": [
    "Just for curiousity, I wanted to create a box plot to look at male and female distributions based on country destinations. I will dig more into this in data storytelling notebook."
   ]
  },
  {
   "cell_type": "markdown",
   "metadata": {},
   "source": [
    "__1C__: __DATA WRANGLING ON TRAIN USERS DATASET__ --- And, finally, I am goint to load and explore \"train_users\" dataset."
   ]
  },
  {
   "cell_type": "code",
   "execution_count": 29,
   "metadata": {},
   "outputs": [],
   "source": [
    "dftrainusers=pd.read_csv(\"FirstCapsProj/train_users_2.csv\")"
   ]
  },
  {
   "cell_type": "code",
   "execution_count": 30,
   "metadata": {
    "scrolled": false
   },
   "outputs": [
    {
     "data": {
      "text/html": [
       "<div>\n",
       "<style scoped>\n",
       "    .dataframe tbody tr th:only-of-type {\n",
       "        vertical-align: middle;\n",
       "    }\n",
       "\n",
       "    .dataframe tbody tr th {\n",
       "        vertical-align: top;\n",
       "    }\n",
       "\n",
       "    .dataframe thead th {\n",
       "        text-align: right;\n",
       "    }\n",
       "</style>\n",
       "<table border=\"1\" class=\"dataframe\">\n",
       "  <thead>\n",
       "    <tr style=\"text-align: right;\">\n",
       "      <th></th>\n",
       "      <th>id</th>\n",
       "      <th>date_account_created</th>\n",
       "      <th>timestamp_first_active</th>\n",
       "      <th>date_first_booking</th>\n",
       "      <th>gender</th>\n",
       "      <th>age</th>\n",
       "      <th>signup_method</th>\n",
       "      <th>signup_flow</th>\n",
       "      <th>language</th>\n",
       "      <th>affiliate_channel</th>\n",
       "      <th>affiliate_provider</th>\n",
       "      <th>first_affiliate_tracked</th>\n",
       "      <th>signup_app</th>\n",
       "      <th>first_device_type</th>\n",
       "      <th>first_browser</th>\n",
       "      <th>country_destination</th>\n",
       "    </tr>\n",
       "  </thead>\n",
       "  <tbody>\n",
       "    <tr>\n",
       "      <th>0</th>\n",
       "      <td>gxn3p5htnn</td>\n",
       "      <td>2010-06-28</td>\n",
       "      <td>20090319043255</td>\n",
       "      <td>NaN</td>\n",
       "      <td>-unknown-</td>\n",
       "      <td>NaN</td>\n",
       "      <td>facebook</td>\n",
       "      <td>0</td>\n",
       "      <td>en</td>\n",
       "      <td>direct</td>\n",
       "      <td>direct</td>\n",
       "      <td>untracked</td>\n",
       "      <td>Web</td>\n",
       "      <td>Mac Desktop</td>\n",
       "      <td>Chrome</td>\n",
       "      <td>NDF</td>\n",
       "    </tr>\n",
       "    <tr>\n",
       "      <th>1</th>\n",
       "      <td>820tgsjxq7</td>\n",
       "      <td>2011-05-25</td>\n",
       "      <td>20090523174809</td>\n",
       "      <td>NaN</td>\n",
       "      <td>MALE</td>\n",
       "      <td>38.0</td>\n",
       "      <td>facebook</td>\n",
       "      <td>0</td>\n",
       "      <td>en</td>\n",
       "      <td>seo</td>\n",
       "      <td>google</td>\n",
       "      <td>untracked</td>\n",
       "      <td>Web</td>\n",
       "      <td>Mac Desktop</td>\n",
       "      <td>Chrome</td>\n",
       "      <td>NDF</td>\n",
       "    </tr>\n",
       "    <tr>\n",
       "      <th>2</th>\n",
       "      <td>4ft3gnwmtx</td>\n",
       "      <td>2010-09-28</td>\n",
       "      <td>20090609231247</td>\n",
       "      <td>2010-08-02</td>\n",
       "      <td>FEMALE</td>\n",
       "      <td>56.0</td>\n",
       "      <td>basic</td>\n",
       "      <td>3</td>\n",
       "      <td>en</td>\n",
       "      <td>direct</td>\n",
       "      <td>direct</td>\n",
       "      <td>untracked</td>\n",
       "      <td>Web</td>\n",
       "      <td>Windows Desktop</td>\n",
       "      <td>IE</td>\n",
       "      <td>US</td>\n",
       "    </tr>\n",
       "    <tr>\n",
       "      <th>3</th>\n",
       "      <td>bjjt8pjhuk</td>\n",
       "      <td>2011-12-05</td>\n",
       "      <td>20091031060129</td>\n",
       "      <td>2012-09-08</td>\n",
       "      <td>FEMALE</td>\n",
       "      <td>42.0</td>\n",
       "      <td>facebook</td>\n",
       "      <td>0</td>\n",
       "      <td>en</td>\n",
       "      <td>direct</td>\n",
       "      <td>direct</td>\n",
       "      <td>untracked</td>\n",
       "      <td>Web</td>\n",
       "      <td>Mac Desktop</td>\n",
       "      <td>Firefox</td>\n",
       "      <td>other</td>\n",
       "    </tr>\n",
       "    <tr>\n",
       "      <th>4</th>\n",
       "      <td>87mebub9p4</td>\n",
       "      <td>2010-09-14</td>\n",
       "      <td>20091208061105</td>\n",
       "      <td>2010-02-18</td>\n",
       "      <td>-unknown-</td>\n",
       "      <td>41.0</td>\n",
       "      <td>basic</td>\n",
       "      <td>0</td>\n",
       "      <td>en</td>\n",
       "      <td>direct</td>\n",
       "      <td>direct</td>\n",
       "      <td>untracked</td>\n",
       "      <td>Web</td>\n",
       "      <td>Mac Desktop</td>\n",
       "      <td>Chrome</td>\n",
       "      <td>US</td>\n",
       "    </tr>\n",
       "  </tbody>\n",
       "</table>\n",
       "</div>"
      ],
      "text/plain": [
       "           id date_account_created  timestamp_first_active date_first_booking     gender   age signup_method  signup_flow language affiliate_channel affiliate_provider first_affiliate_tracked  \\\n",
       "0  gxn3p5htnn           2010-06-28          20090319043255                NaN  -unknown-   NaN      facebook            0       en            direct             direct               untracked   \n",
       "1  820tgsjxq7           2011-05-25          20090523174809                NaN       MALE  38.0      facebook            0       en               seo             google               untracked   \n",
       "2  4ft3gnwmtx           2010-09-28          20090609231247         2010-08-02     FEMALE  56.0         basic            3       en            direct             direct               untracked   \n",
       "3  bjjt8pjhuk           2011-12-05          20091031060129         2012-09-08     FEMALE  42.0      facebook            0       en            direct             direct               untracked   \n",
       "4  87mebub9p4           2010-09-14          20091208061105         2010-02-18  -unknown-  41.0         basic            0       en            direct             direct               untracked   \n",
       "\n",
       "  signup_app first_device_type first_browser country_destination  \n",
       "0        Web       Mac Desktop        Chrome                 NDF  \n",
       "1        Web       Mac Desktop        Chrome                 NDF  \n",
       "2        Web   Windows Desktop            IE                  US  \n",
       "3        Web       Mac Desktop       Firefox               other  \n",
       "4        Web       Mac Desktop        Chrome                  US  "
      ]
     },
     "execution_count": 30,
     "metadata": {},
     "output_type": "execute_result"
    }
   ],
   "source": [
    "dftrainusers.head()"
   ]
  },
  {
   "cell_type": "markdown",
   "metadata": {},
   "source": [
    "I see some \"unknown\" values here as well. Therefore, I am going to replace them with NaN values. "
   ]
  },
  {
   "cell_type": "code",
   "execution_count": 31,
   "metadata": {},
   "outputs": [],
   "source": [
    "dftrainusers=dftrainusers.replace('-unknown-', np.nan)"
   ]
  },
  {
   "cell_type": "code",
   "execution_count": 32,
   "metadata": {},
   "outputs": [
    {
     "data": {
      "text/html": [
       "<div>\n",
       "<style scoped>\n",
       "    .dataframe tbody tr th:only-of-type {\n",
       "        vertical-align: middle;\n",
       "    }\n",
       "\n",
       "    .dataframe tbody tr th {\n",
       "        vertical-align: top;\n",
       "    }\n",
       "\n",
       "    .dataframe thead th {\n",
       "        text-align: right;\n",
       "    }\n",
       "</style>\n",
       "<table border=\"1\" class=\"dataframe\">\n",
       "  <thead>\n",
       "    <tr style=\"text-align: right;\">\n",
       "      <th></th>\n",
       "      <th>id</th>\n",
       "      <th>date_account_created</th>\n",
       "      <th>timestamp_first_active</th>\n",
       "      <th>date_first_booking</th>\n",
       "      <th>gender</th>\n",
       "      <th>age</th>\n",
       "      <th>signup_method</th>\n",
       "      <th>signup_flow</th>\n",
       "      <th>language</th>\n",
       "      <th>affiliate_channel</th>\n",
       "      <th>affiliate_provider</th>\n",
       "      <th>first_affiliate_tracked</th>\n",
       "      <th>signup_app</th>\n",
       "      <th>first_device_type</th>\n",
       "      <th>first_browser</th>\n",
       "      <th>country_destination</th>\n",
       "    </tr>\n",
       "  </thead>\n",
       "  <tbody>\n",
       "    <tr>\n",
       "      <th>0</th>\n",
       "      <td>gxn3p5htnn</td>\n",
       "      <td>2010-06-28</td>\n",
       "      <td>20090319043255</td>\n",
       "      <td>NaN</td>\n",
       "      <td>NaN</td>\n",
       "      <td>NaN</td>\n",
       "      <td>facebook</td>\n",
       "      <td>0</td>\n",
       "      <td>en</td>\n",
       "      <td>direct</td>\n",
       "      <td>direct</td>\n",
       "      <td>untracked</td>\n",
       "      <td>Web</td>\n",
       "      <td>Mac Desktop</td>\n",
       "      <td>Chrome</td>\n",
       "      <td>NDF</td>\n",
       "    </tr>\n",
       "    <tr>\n",
       "      <th>1</th>\n",
       "      <td>820tgsjxq7</td>\n",
       "      <td>2011-05-25</td>\n",
       "      <td>20090523174809</td>\n",
       "      <td>NaN</td>\n",
       "      <td>MALE</td>\n",
       "      <td>38.0</td>\n",
       "      <td>facebook</td>\n",
       "      <td>0</td>\n",
       "      <td>en</td>\n",
       "      <td>seo</td>\n",
       "      <td>google</td>\n",
       "      <td>untracked</td>\n",
       "      <td>Web</td>\n",
       "      <td>Mac Desktop</td>\n",
       "      <td>Chrome</td>\n",
       "      <td>NDF</td>\n",
       "    </tr>\n",
       "    <tr>\n",
       "      <th>2</th>\n",
       "      <td>4ft3gnwmtx</td>\n",
       "      <td>2010-09-28</td>\n",
       "      <td>20090609231247</td>\n",
       "      <td>2010-08-02</td>\n",
       "      <td>FEMALE</td>\n",
       "      <td>56.0</td>\n",
       "      <td>basic</td>\n",
       "      <td>3</td>\n",
       "      <td>en</td>\n",
       "      <td>direct</td>\n",
       "      <td>direct</td>\n",
       "      <td>untracked</td>\n",
       "      <td>Web</td>\n",
       "      <td>Windows Desktop</td>\n",
       "      <td>IE</td>\n",
       "      <td>US</td>\n",
       "    </tr>\n",
       "    <tr>\n",
       "      <th>3</th>\n",
       "      <td>bjjt8pjhuk</td>\n",
       "      <td>2011-12-05</td>\n",
       "      <td>20091031060129</td>\n",
       "      <td>2012-09-08</td>\n",
       "      <td>FEMALE</td>\n",
       "      <td>42.0</td>\n",
       "      <td>facebook</td>\n",
       "      <td>0</td>\n",
       "      <td>en</td>\n",
       "      <td>direct</td>\n",
       "      <td>direct</td>\n",
       "      <td>untracked</td>\n",
       "      <td>Web</td>\n",
       "      <td>Mac Desktop</td>\n",
       "      <td>Firefox</td>\n",
       "      <td>other</td>\n",
       "    </tr>\n",
       "    <tr>\n",
       "      <th>4</th>\n",
       "      <td>87mebub9p4</td>\n",
       "      <td>2010-09-14</td>\n",
       "      <td>20091208061105</td>\n",
       "      <td>2010-02-18</td>\n",
       "      <td>NaN</td>\n",
       "      <td>41.0</td>\n",
       "      <td>basic</td>\n",
       "      <td>0</td>\n",
       "      <td>en</td>\n",
       "      <td>direct</td>\n",
       "      <td>direct</td>\n",
       "      <td>untracked</td>\n",
       "      <td>Web</td>\n",
       "      <td>Mac Desktop</td>\n",
       "      <td>Chrome</td>\n",
       "      <td>US</td>\n",
       "    </tr>\n",
       "  </tbody>\n",
       "</table>\n",
       "</div>"
      ],
      "text/plain": [
       "           id date_account_created  timestamp_first_active date_first_booking  gender   age signup_method  signup_flow language affiliate_channel affiliate_provider first_affiliate_tracked  \\\n",
       "0  gxn3p5htnn           2010-06-28          20090319043255                NaN     NaN   NaN      facebook            0       en            direct             direct               untracked   \n",
       "1  820tgsjxq7           2011-05-25          20090523174809                NaN    MALE  38.0      facebook            0       en               seo             google               untracked   \n",
       "2  4ft3gnwmtx           2010-09-28          20090609231247         2010-08-02  FEMALE  56.0         basic            3       en            direct             direct               untracked   \n",
       "3  bjjt8pjhuk           2011-12-05          20091031060129         2012-09-08  FEMALE  42.0      facebook            0       en            direct             direct               untracked   \n",
       "4  87mebub9p4           2010-09-14          20091208061105         2010-02-18     NaN  41.0         basic            0       en            direct             direct               untracked   \n",
       "\n",
       "  signup_app first_device_type first_browser country_destination  \n",
       "0        Web       Mac Desktop        Chrome                 NDF  \n",
       "1        Web       Mac Desktop        Chrome                 NDF  \n",
       "2        Web   Windows Desktop            IE                  US  \n",
       "3        Web       Mac Desktop       Firefox               other  \n",
       "4        Web       Mac Desktop        Chrome                  US  "
      ]
     },
     "execution_count": 32,
     "metadata": {},
     "output_type": "execute_result"
    }
   ],
   "source": [
    "dftrainusers.head()"
   ]
  },
  {
   "cell_type": "markdown",
   "metadata": {},
   "source": [
    "As seen in the new table above, unknown_values are replaced with NaN."
   ]
  },
  {
   "cell_type": "code",
   "execution_count": 33,
   "metadata": {
    "scrolled": false
   },
   "outputs": [
    {
     "name": "stdout",
     "output_type": "stream",
     "text": [
      "<class 'pandas.core.frame.DataFrame'>\n",
      "RangeIndex: 213451 entries, 0 to 213450\n",
      "Data columns (total 16 columns):\n",
      "id                         213451 non-null object\n",
      "date_account_created       213451 non-null object\n",
      "timestamp_first_active     213451 non-null int64\n",
      "date_first_booking         88908 non-null object\n",
      "gender                     117763 non-null object\n",
      "age                        125461 non-null float64\n",
      "signup_method              213451 non-null object\n",
      "signup_flow                213451 non-null int64\n",
      "language                   213451 non-null object\n",
      "affiliate_channel          213451 non-null object\n",
      "affiliate_provider         213451 non-null object\n",
      "first_affiliate_tracked    207386 non-null object\n",
      "signup_app                 213451 non-null object\n",
      "first_device_type          213451 non-null object\n",
      "first_browser              186185 non-null object\n",
      "country_destination        213451 non-null object\n",
      "dtypes: float64(1), int64(2), object(13)\n",
      "memory usage: 26.1+ MB\n"
     ]
    }
   ],
   "source": [
    "dftrainusers.info()"
   ]
  },
  {
   "cell_type": "code",
   "execution_count": 34,
   "metadata": {},
   "outputs": [
    {
     "data": {
      "text/plain": [
       "Index(['id', 'date_account_created', 'timestamp_first_active', 'date_first_booking', 'gender', 'age', 'signup_method', 'signup_flow', 'language', 'affiliate_channel', 'affiliate_provider',\n",
       "       'first_affiliate_tracked', 'signup_app', 'first_device_type', 'first_browser', 'country_destination'],\n",
       "      dtype='object')"
      ]
     },
     "execution_count": 34,
     "metadata": {},
     "output_type": "execute_result"
    }
   ],
   "source": [
    "dftrainusers.columns"
   ]
  },
  {
   "cell_type": "code",
   "execution_count": 35,
   "metadata": {},
   "outputs": [
    {
     "data": {
      "text/plain": [
       "zlcv8mpzyq    1\n",
       "ngzwl479e1    1\n",
       "4m390hrq9k    1\n",
       "rrdmn09gbw    1\n",
       "p0yhc0wvws    1\n",
       "Name: id, dtype: int64"
      ]
     },
     "execution_count": 35,
     "metadata": {},
     "output_type": "execute_result"
    }
   ],
   "source": [
    "dftrainusers.id.value_counts(dropna=False).head()"
   ]
  },
  {
   "cell_type": "code",
   "execution_count": 36,
   "metadata": {},
   "outputs": [
    {
     "data": {
      "text/plain": [
       "(213451, 16)"
      ]
     },
     "execution_count": 36,
     "metadata": {},
     "output_type": "execute_result"
    }
   ],
   "source": [
    "dftrainusers.shape"
   ]
  },
  {
   "cell_type": "markdown",
   "metadata": {},
   "source": [
    "There are 213451 observations for 16 variables in the \"Train Users\" dataset."
   ]
  },
  {
   "cell_type": "markdown",
   "metadata": {},
   "source": [
    "__1E__: __MERGING DATASETS__ --- Looking at the datasets, I will first merge trainusers and countries dataframes on \"country_destination\" using \"left\" method."
   ]
  },
  {
   "cell_type": "code",
   "execution_count": 37,
   "metadata": {},
   "outputs": [],
   "source": [
    "dfmerge= pd.merge(dftrainusers, dfcountries, on='country_destination', how='left')"
   ]
  },
  {
   "cell_type": "code",
   "execution_count": 38,
   "metadata": {},
   "outputs": [
    {
     "data": {
      "text/plain": [
       "(213451, 22)"
      ]
     },
     "execution_count": 38,
     "metadata": {},
     "output_type": "execute_result"
    }
   ],
   "source": [
    "dfmerge.shape"
   ]
  },
  {
   "cell_type": "markdown",
   "metadata": {},
   "source": [
    "As seen above, the number of observations are same with the \"dftrainusers\" dataframe. However, the number of variables increased from 16 to 22. In fact, there were 7 variables in \"dfcountries\" but increased the number of columns by 6 because I merged them on a common variable (country_destination). It seems that my merging worked fine here. Now, I am going to do a few exploration on this merged dataframe."
   ]
  },
  {
   "cell_type": "code",
   "execution_count": 39,
   "metadata": {},
   "outputs": [
    {
     "data": {
      "text/html": [
       "<div>\n",
       "<style scoped>\n",
       "    .dataframe tbody tr th:only-of-type {\n",
       "        vertical-align: middle;\n",
       "    }\n",
       "\n",
       "    .dataframe tbody tr th {\n",
       "        vertical-align: top;\n",
       "    }\n",
       "\n",
       "    .dataframe thead th {\n",
       "        text-align: right;\n",
       "    }\n",
       "</style>\n",
       "<table border=\"1\" class=\"dataframe\">\n",
       "  <thead>\n",
       "    <tr style=\"text-align: right;\">\n",
       "      <th></th>\n",
       "      <th>id</th>\n",
       "      <th>date_account_created</th>\n",
       "      <th>timestamp_first_active</th>\n",
       "      <th>date_first_booking</th>\n",
       "      <th>gender</th>\n",
       "      <th>age</th>\n",
       "      <th>signup_method</th>\n",
       "      <th>signup_flow</th>\n",
       "      <th>language</th>\n",
       "      <th>affiliate_channel</th>\n",
       "      <th>affiliate_provider</th>\n",
       "      <th>first_affiliate_tracked</th>\n",
       "      <th>signup_app</th>\n",
       "      <th>first_device_type</th>\n",
       "      <th>first_browser</th>\n",
       "      <th>country_destination</th>\n",
       "      <th>lat_destination</th>\n",
       "      <th>lng_destination</th>\n",
       "      <th>distance_km</th>\n",
       "      <th>destination_km2</th>\n",
       "      <th>destination_language</th>\n",
       "      <th>language_levenshtein_distance</th>\n",
       "    </tr>\n",
       "  </thead>\n",
       "  <tbody>\n",
       "    <tr>\n",
       "      <th>0</th>\n",
       "      <td>gxn3p5htnn</td>\n",
       "      <td>2010-06-28</td>\n",
       "      <td>20090319043255</td>\n",
       "      <td>NaN</td>\n",
       "      <td>NaN</td>\n",
       "      <td>NaN</td>\n",
       "      <td>facebook</td>\n",
       "      <td>0</td>\n",
       "      <td>en</td>\n",
       "      <td>direct</td>\n",
       "      <td>direct</td>\n",
       "      <td>untracked</td>\n",
       "      <td>Web</td>\n",
       "      <td>Mac Desktop</td>\n",
       "      <td>Chrome</td>\n",
       "      <td>NDF</td>\n",
       "      <td>NaN</td>\n",
       "      <td>NaN</td>\n",
       "      <td>NaN</td>\n",
       "      <td>NaN</td>\n",
       "      <td>NaN</td>\n",
       "      <td>NaN</td>\n",
       "    </tr>\n",
       "    <tr>\n",
       "      <th>1</th>\n",
       "      <td>820tgsjxq7</td>\n",
       "      <td>2011-05-25</td>\n",
       "      <td>20090523174809</td>\n",
       "      <td>NaN</td>\n",
       "      <td>MALE</td>\n",
       "      <td>38.0</td>\n",
       "      <td>facebook</td>\n",
       "      <td>0</td>\n",
       "      <td>en</td>\n",
       "      <td>seo</td>\n",
       "      <td>google</td>\n",
       "      <td>untracked</td>\n",
       "      <td>Web</td>\n",
       "      <td>Mac Desktop</td>\n",
       "      <td>Chrome</td>\n",
       "      <td>NDF</td>\n",
       "      <td>NaN</td>\n",
       "      <td>NaN</td>\n",
       "      <td>NaN</td>\n",
       "      <td>NaN</td>\n",
       "      <td>NaN</td>\n",
       "      <td>NaN</td>\n",
       "    </tr>\n",
       "    <tr>\n",
       "      <th>2</th>\n",
       "      <td>4ft3gnwmtx</td>\n",
       "      <td>2010-09-28</td>\n",
       "      <td>20090609231247</td>\n",
       "      <td>2010-08-02</td>\n",
       "      <td>FEMALE</td>\n",
       "      <td>56.0</td>\n",
       "      <td>basic</td>\n",
       "      <td>3</td>\n",
       "      <td>en</td>\n",
       "      <td>direct</td>\n",
       "      <td>direct</td>\n",
       "      <td>untracked</td>\n",
       "      <td>Web</td>\n",
       "      <td>Windows Desktop</td>\n",
       "      <td>IE</td>\n",
       "      <td>US</td>\n",
       "      <td>36.966427</td>\n",
       "      <td>-95.84403</td>\n",
       "      <td>0.0</td>\n",
       "      <td>9826675.0</td>\n",
       "      <td>eng</td>\n",
       "      <td>0.0</td>\n",
       "    </tr>\n",
       "    <tr>\n",
       "      <th>3</th>\n",
       "      <td>bjjt8pjhuk</td>\n",
       "      <td>2011-12-05</td>\n",
       "      <td>20091031060129</td>\n",
       "      <td>2012-09-08</td>\n",
       "      <td>FEMALE</td>\n",
       "      <td>42.0</td>\n",
       "      <td>facebook</td>\n",
       "      <td>0</td>\n",
       "      <td>en</td>\n",
       "      <td>direct</td>\n",
       "      <td>direct</td>\n",
       "      <td>untracked</td>\n",
       "      <td>Web</td>\n",
       "      <td>Mac Desktop</td>\n",
       "      <td>Firefox</td>\n",
       "      <td>other</td>\n",
       "      <td>NaN</td>\n",
       "      <td>NaN</td>\n",
       "      <td>NaN</td>\n",
       "      <td>NaN</td>\n",
       "      <td>NaN</td>\n",
       "      <td>NaN</td>\n",
       "    </tr>\n",
       "    <tr>\n",
       "      <th>4</th>\n",
       "      <td>87mebub9p4</td>\n",
       "      <td>2010-09-14</td>\n",
       "      <td>20091208061105</td>\n",
       "      <td>2010-02-18</td>\n",
       "      <td>NaN</td>\n",
       "      <td>41.0</td>\n",
       "      <td>basic</td>\n",
       "      <td>0</td>\n",
       "      <td>en</td>\n",
       "      <td>direct</td>\n",
       "      <td>direct</td>\n",
       "      <td>untracked</td>\n",
       "      <td>Web</td>\n",
       "      <td>Mac Desktop</td>\n",
       "      <td>Chrome</td>\n",
       "      <td>US</td>\n",
       "      <td>36.966427</td>\n",
       "      <td>-95.84403</td>\n",
       "      <td>0.0</td>\n",
       "      <td>9826675.0</td>\n",
       "      <td>eng</td>\n",
       "      <td>0.0</td>\n",
       "    </tr>\n",
       "  </tbody>\n",
       "</table>\n",
       "</div>"
      ],
      "text/plain": [
       "           id date_account_created  timestamp_first_active date_first_booking  gender   age signup_method  signup_flow language affiliate_channel affiliate_provider first_affiliate_tracked  \\\n",
       "0  gxn3p5htnn           2010-06-28          20090319043255                NaN     NaN   NaN      facebook            0       en            direct             direct               untracked   \n",
       "1  820tgsjxq7           2011-05-25          20090523174809                NaN    MALE  38.0      facebook            0       en               seo             google               untracked   \n",
       "2  4ft3gnwmtx           2010-09-28          20090609231247         2010-08-02  FEMALE  56.0         basic            3       en            direct             direct               untracked   \n",
       "3  bjjt8pjhuk           2011-12-05          20091031060129         2012-09-08  FEMALE  42.0      facebook            0       en            direct             direct               untracked   \n",
       "4  87mebub9p4           2010-09-14          20091208061105         2010-02-18     NaN  41.0         basic            0       en            direct             direct               untracked   \n",
       "\n",
       "  signup_app first_device_type first_browser country_destination  lat_destination  lng_destination  distance_km  destination_km2 destination_language   language_levenshtein_distance  \n",
       "0        Web       Mac Desktop        Chrome                 NDF              NaN              NaN          NaN              NaN                   NaN                            NaN  \n",
       "1        Web       Mac Desktop        Chrome                 NDF              NaN              NaN          NaN              NaN                   NaN                            NaN  \n",
       "2        Web   Windows Desktop            IE                  US        36.966427        -95.84403          0.0        9826675.0                   eng                            0.0  \n",
       "3        Web       Mac Desktop       Firefox               other              NaN              NaN          NaN              NaN                   NaN                            NaN  \n",
       "4        Web       Mac Desktop        Chrome                  US        36.966427        -95.84403          0.0        9826675.0                   eng                            0.0  "
      ]
     },
     "execution_count": 39,
     "metadata": {},
     "output_type": "execute_result"
    }
   ],
   "source": [
    "dfmerge.head()"
   ]
  },
  {
   "cell_type": "code",
   "execution_count": 40,
   "metadata": {
    "scrolled": true
   },
   "outputs": [
    {
     "name": "stdout",
     "output_type": "stream",
     "text": [
      "<class 'pandas.core.frame.DataFrame'>\n",
      "Int64Index: 213451 entries, 0 to 213450\n",
      "Data columns (total 22 columns):\n",
      "id                               213451 non-null object\n",
      "date_account_created             213451 non-null object\n",
      "timestamp_first_active           213451 non-null int64\n",
      "date_first_booking               88908 non-null object\n",
      "gender                           117763 non-null object\n",
      "age                              125461 non-null float64\n",
      "signup_method                    213451 non-null object\n",
      "signup_flow                      213451 non-null int64\n",
      "language                         213451 non-null object\n",
      "affiliate_channel                213451 non-null object\n",
      "affiliate_provider               213451 non-null object\n",
      "first_affiliate_tracked          207386 non-null object\n",
      "signup_app                       213451 non-null object\n",
      "first_device_type                213451 non-null object\n",
      "first_browser                    186185 non-null object\n",
      "country_destination              213451 non-null object\n",
      "lat_destination                  78814 non-null float64\n",
      "lng_destination                  78814 non-null float64\n",
      "distance_km                      78814 non-null float64\n",
      "destination_km2                  78814 non-null float64\n",
      "destination_language             78814 non-null object\n",
      "language_levenshtein_distance    78814 non-null float64\n",
      "dtypes: float64(6), int64(2), object(14)\n",
      "memory usage: 37.5+ MB\n"
     ]
    }
   ],
   "source": [
    "dfmerge.info()"
   ]
  },
  {
   "cell_type": "code",
   "execution_count": 41,
   "metadata": {
    "scrolled": true
   },
   "outputs": [
    {
     "data": {
      "text/plain": [
       "Index(['id', 'date_account_created', 'timestamp_first_active', 'date_first_booking', 'gender', 'age', 'signup_method', 'signup_flow', 'language', 'affiliate_channel', 'affiliate_provider',\n",
       "       'first_affiliate_tracked', 'signup_app', 'first_device_type', 'first_browser', 'country_destination', 'lat_destination', 'lng_destination', 'distance_km', 'destination_km2',\n",
       "       'destination_language ', 'language_levenshtein_distance'],\n",
       "      dtype='object')"
      ]
     },
     "execution_count": 41,
     "metadata": {},
     "output_type": "execute_result"
    }
   ],
   "source": [
    "dfmerge.columns"
   ]
  },
  {
   "cell_type": "markdown",
   "metadata": {},
   "source": [
    "Now, I noticed that there is an \"id\" variable here. I remember that in the \"dfsessions\" table, there was an \"user_id\" variable. I am wondering if they have the same id labels. I am going to test it. "
   ]
  },
  {
   "cell_type": "code",
   "execution_count": 42,
   "metadata": {},
   "outputs": [],
   "source": [
    "set1 = dfmerge.id.drop_duplicates().unique()"
   ]
  },
  {
   "cell_type": "code",
   "execution_count": 43,
   "metadata": {},
   "outputs": [],
   "source": [
    "set2 = dfsessions.user_id.drop_duplicates().unique()"
   ]
  },
  {
   "cell_type": "code",
   "execution_count": 44,
   "metadata": {},
   "outputs": [
    {
     "data": {
      "text/plain": [
       "213451"
      ]
     },
     "execution_count": 44,
     "metadata": {},
     "output_type": "execute_result"
    }
   ],
   "source": [
    "len(set1)"
   ]
  },
  {
   "cell_type": "code",
   "execution_count": 45,
   "metadata": {},
   "outputs": [
    {
     "data": {
      "text/plain": [
       "47251"
      ]
     },
     "execution_count": 45,
     "metadata": {},
     "output_type": "execute_result"
    }
   ],
   "source": [
    "len(set2)"
   ]
  },
  {
   "cell_type": "code",
   "execution_count": 46,
   "metadata": {},
   "outputs": [],
   "source": [
    "x= (set(set1).intersection(set(set2)) == set(set1))"
   ]
  },
  {
   "cell_type": "code",
   "execution_count": 47,
   "metadata": {},
   "outputs": [
    {
     "name": "stdout",
     "output_type": "stream",
     "text": [
      "False\n"
     ]
    }
   ],
   "source": [
    "print(x)"
   ]
  },
  {
   "cell_type": "markdown",
   "metadata": {},
   "source": [
    "Above, it says \"False\" but it was \"True\" before I applied data wrangling! Now, I am going to apply \"rename\" method on dfmerge to rename \"id\" with \"user_id\"."
   ]
  },
  {
   "cell_type": "code",
   "execution_count": 48,
   "metadata": {},
   "outputs": [],
   "source": [
    "dfmerge = dfmerge.rename(columns={'id' : 'user_id'})"
   ]
  },
  {
   "cell_type": "code",
   "execution_count": 49,
   "metadata": {},
   "outputs": [
    {
     "data": {
      "text/html": [
       "<div>\n",
       "<style scoped>\n",
       "    .dataframe tbody tr th:only-of-type {\n",
       "        vertical-align: middle;\n",
       "    }\n",
       "\n",
       "    .dataframe tbody tr th {\n",
       "        vertical-align: top;\n",
       "    }\n",
       "\n",
       "    .dataframe thead th {\n",
       "        text-align: right;\n",
       "    }\n",
       "</style>\n",
       "<table border=\"1\" class=\"dataframe\">\n",
       "  <thead>\n",
       "    <tr style=\"text-align: right;\">\n",
       "      <th></th>\n",
       "      <th>user_id</th>\n",
       "      <th>date_account_created</th>\n",
       "      <th>timestamp_first_active</th>\n",
       "      <th>date_first_booking</th>\n",
       "      <th>gender</th>\n",
       "      <th>age</th>\n",
       "      <th>signup_method</th>\n",
       "      <th>signup_flow</th>\n",
       "      <th>language</th>\n",
       "      <th>affiliate_channel</th>\n",
       "      <th>affiliate_provider</th>\n",
       "      <th>first_affiliate_tracked</th>\n",
       "      <th>signup_app</th>\n",
       "      <th>first_device_type</th>\n",
       "      <th>first_browser</th>\n",
       "      <th>country_destination</th>\n",
       "      <th>lat_destination</th>\n",
       "      <th>lng_destination</th>\n",
       "      <th>distance_km</th>\n",
       "      <th>destination_km2</th>\n",
       "      <th>destination_language</th>\n",
       "      <th>language_levenshtein_distance</th>\n",
       "    </tr>\n",
       "  </thead>\n",
       "  <tbody>\n",
       "    <tr>\n",
       "      <th>0</th>\n",
       "      <td>gxn3p5htnn</td>\n",
       "      <td>2010-06-28</td>\n",
       "      <td>20090319043255</td>\n",
       "      <td>NaN</td>\n",
       "      <td>NaN</td>\n",
       "      <td>NaN</td>\n",
       "      <td>facebook</td>\n",
       "      <td>0</td>\n",
       "      <td>en</td>\n",
       "      <td>direct</td>\n",
       "      <td>direct</td>\n",
       "      <td>untracked</td>\n",
       "      <td>Web</td>\n",
       "      <td>Mac Desktop</td>\n",
       "      <td>Chrome</td>\n",
       "      <td>NDF</td>\n",
       "      <td>NaN</td>\n",
       "      <td>NaN</td>\n",
       "      <td>NaN</td>\n",
       "      <td>NaN</td>\n",
       "      <td>NaN</td>\n",
       "      <td>NaN</td>\n",
       "    </tr>\n",
       "    <tr>\n",
       "      <th>1</th>\n",
       "      <td>820tgsjxq7</td>\n",
       "      <td>2011-05-25</td>\n",
       "      <td>20090523174809</td>\n",
       "      <td>NaN</td>\n",
       "      <td>MALE</td>\n",
       "      <td>38.0</td>\n",
       "      <td>facebook</td>\n",
       "      <td>0</td>\n",
       "      <td>en</td>\n",
       "      <td>seo</td>\n",
       "      <td>google</td>\n",
       "      <td>untracked</td>\n",
       "      <td>Web</td>\n",
       "      <td>Mac Desktop</td>\n",
       "      <td>Chrome</td>\n",
       "      <td>NDF</td>\n",
       "      <td>NaN</td>\n",
       "      <td>NaN</td>\n",
       "      <td>NaN</td>\n",
       "      <td>NaN</td>\n",
       "      <td>NaN</td>\n",
       "      <td>NaN</td>\n",
       "    </tr>\n",
       "    <tr>\n",
       "      <th>2</th>\n",
       "      <td>4ft3gnwmtx</td>\n",
       "      <td>2010-09-28</td>\n",
       "      <td>20090609231247</td>\n",
       "      <td>2010-08-02</td>\n",
       "      <td>FEMALE</td>\n",
       "      <td>56.0</td>\n",
       "      <td>basic</td>\n",
       "      <td>3</td>\n",
       "      <td>en</td>\n",
       "      <td>direct</td>\n",
       "      <td>direct</td>\n",
       "      <td>untracked</td>\n",
       "      <td>Web</td>\n",
       "      <td>Windows Desktop</td>\n",
       "      <td>IE</td>\n",
       "      <td>US</td>\n",
       "      <td>36.966427</td>\n",
       "      <td>-95.84403</td>\n",
       "      <td>0.0</td>\n",
       "      <td>9826675.0</td>\n",
       "      <td>eng</td>\n",
       "      <td>0.0</td>\n",
       "    </tr>\n",
       "    <tr>\n",
       "      <th>3</th>\n",
       "      <td>bjjt8pjhuk</td>\n",
       "      <td>2011-12-05</td>\n",
       "      <td>20091031060129</td>\n",
       "      <td>2012-09-08</td>\n",
       "      <td>FEMALE</td>\n",
       "      <td>42.0</td>\n",
       "      <td>facebook</td>\n",
       "      <td>0</td>\n",
       "      <td>en</td>\n",
       "      <td>direct</td>\n",
       "      <td>direct</td>\n",
       "      <td>untracked</td>\n",
       "      <td>Web</td>\n",
       "      <td>Mac Desktop</td>\n",
       "      <td>Firefox</td>\n",
       "      <td>other</td>\n",
       "      <td>NaN</td>\n",
       "      <td>NaN</td>\n",
       "      <td>NaN</td>\n",
       "      <td>NaN</td>\n",
       "      <td>NaN</td>\n",
       "      <td>NaN</td>\n",
       "    </tr>\n",
       "    <tr>\n",
       "      <th>4</th>\n",
       "      <td>87mebub9p4</td>\n",
       "      <td>2010-09-14</td>\n",
       "      <td>20091208061105</td>\n",
       "      <td>2010-02-18</td>\n",
       "      <td>NaN</td>\n",
       "      <td>41.0</td>\n",
       "      <td>basic</td>\n",
       "      <td>0</td>\n",
       "      <td>en</td>\n",
       "      <td>direct</td>\n",
       "      <td>direct</td>\n",
       "      <td>untracked</td>\n",
       "      <td>Web</td>\n",
       "      <td>Mac Desktop</td>\n",
       "      <td>Chrome</td>\n",
       "      <td>US</td>\n",
       "      <td>36.966427</td>\n",
       "      <td>-95.84403</td>\n",
       "      <td>0.0</td>\n",
       "      <td>9826675.0</td>\n",
       "      <td>eng</td>\n",
       "      <td>0.0</td>\n",
       "    </tr>\n",
       "  </tbody>\n",
       "</table>\n",
       "</div>"
      ],
      "text/plain": [
       "      user_id date_account_created  timestamp_first_active date_first_booking  gender   age signup_method  signup_flow language affiliate_channel affiliate_provider first_affiliate_tracked  \\\n",
       "0  gxn3p5htnn           2010-06-28          20090319043255                NaN     NaN   NaN      facebook            0       en            direct             direct               untracked   \n",
       "1  820tgsjxq7           2011-05-25          20090523174809                NaN    MALE  38.0      facebook            0       en               seo             google               untracked   \n",
       "2  4ft3gnwmtx           2010-09-28          20090609231247         2010-08-02  FEMALE  56.0         basic            3       en            direct             direct               untracked   \n",
       "3  bjjt8pjhuk           2011-12-05          20091031060129         2012-09-08  FEMALE  42.0      facebook            0       en            direct             direct               untracked   \n",
       "4  87mebub9p4           2010-09-14          20091208061105         2010-02-18     NaN  41.0         basic            0       en            direct             direct               untracked   \n",
       "\n",
       "  signup_app first_device_type first_browser country_destination  lat_destination  lng_destination  distance_km  destination_km2 destination_language   language_levenshtein_distance  \n",
       "0        Web       Mac Desktop        Chrome                 NDF              NaN              NaN          NaN              NaN                   NaN                            NaN  \n",
       "1        Web       Mac Desktop        Chrome                 NDF              NaN              NaN          NaN              NaN                   NaN                            NaN  \n",
       "2        Web   Windows Desktop            IE                  US        36.966427        -95.84403          0.0        9826675.0                   eng                            0.0  \n",
       "3        Web       Mac Desktop       Firefox               other              NaN              NaN          NaN              NaN                   NaN                            NaN  \n",
       "4        Web       Mac Desktop        Chrome                  US        36.966427        -95.84403          0.0        9826675.0                   eng                            0.0  "
      ]
     },
     "execution_count": 49,
     "metadata": {},
     "output_type": "execute_result"
    }
   ],
   "source": [
    "dfmerge.head()"
   ]
  },
  {
   "cell_type": "markdown",
   "metadata": {},
   "source": [
    "Great! Now, I can merge \"dfmerge\" and \"dfsesssions\" dataframes on \"user_id\" using inner method. "
   ]
  },
  {
   "cell_type": "code",
   "execution_count": 50,
   "metadata": {},
   "outputs": [],
   "source": [
    "dfmerge2= pd.merge(dfmerge, dfsessions, how='inner', on='user_id', left_on=None, right_on=None, left_index=False, right_index=False, sort=False, copy=True, indicator=False)"
   ]
  },
  {
   "cell_type": "code",
   "execution_count": 51,
   "metadata": {
    "scrolled": true
   },
   "outputs": [
    {
     "data": {
      "text/plain": [
       "(3340486, 27)"
      ]
     },
     "execution_count": 51,
     "metadata": {},
     "output_type": "execute_result"
    }
   ],
   "source": [
    "dfmerge2.shape"
   ]
  },
  {
   "cell_type": "markdown",
   "metadata": {},
   "source": [
    "The new dataset has 3340486 obervations and 27 columns (variables). "
   ]
  },
  {
   "cell_type": "code",
   "execution_count": 52,
   "metadata": {},
   "outputs": [
    {
     "data": {
      "text/html": [
       "<div>\n",
       "<style scoped>\n",
       "    .dataframe tbody tr th:only-of-type {\n",
       "        vertical-align: middle;\n",
       "    }\n",
       "\n",
       "    .dataframe tbody tr th {\n",
       "        vertical-align: top;\n",
       "    }\n",
       "\n",
       "    .dataframe thead th {\n",
       "        text-align: right;\n",
       "    }\n",
       "</style>\n",
       "<table border=\"1\" class=\"dataframe\">\n",
       "  <thead>\n",
       "    <tr style=\"text-align: right;\">\n",
       "      <th></th>\n",
       "      <th>user_id</th>\n",
       "      <th>date_account_created</th>\n",
       "      <th>timestamp_first_active</th>\n",
       "      <th>date_first_booking</th>\n",
       "      <th>gender</th>\n",
       "      <th>age</th>\n",
       "      <th>signup_method</th>\n",
       "      <th>signup_flow</th>\n",
       "      <th>language</th>\n",
       "      <th>affiliate_channel</th>\n",
       "      <th>affiliate_provider</th>\n",
       "      <th>first_affiliate_tracked</th>\n",
       "      <th>signup_app</th>\n",
       "      <th>first_device_type</th>\n",
       "      <th>first_browser</th>\n",
       "      <th>country_destination</th>\n",
       "      <th>lat_destination</th>\n",
       "      <th>lng_destination</th>\n",
       "      <th>distance_km</th>\n",
       "      <th>destination_km2</th>\n",
       "      <th>destination_language</th>\n",
       "      <th>language_levenshtein_distance</th>\n",
       "      <th>action</th>\n",
       "      <th>action_type</th>\n",
       "      <th>action_detail</th>\n",
       "      <th>device_type</th>\n",
       "      <th>secs_elapsed</th>\n",
       "    </tr>\n",
       "  </thead>\n",
       "  <tbody>\n",
       "    <tr>\n",
       "      <th>0</th>\n",
       "      <td>d1mm9tcy42</td>\n",
       "      <td>2014-01-01</td>\n",
       "      <td>20140101000936</td>\n",
       "      <td>2014-01-04</td>\n",
       "      <td>MALE</td>\n",
       "      <td>62.0</td>\n",
       "      <td>basic</td>\n",
       "      <td>0</td>\n",
       "      <td>en</td>\n",
       "      <td>sem-non-brand</td>\n",
       "      <td>google</td>\n",
       "      <td>omg</td>\n",
       "      <td>Web</td>\n",
       "      <td>Windows Desktop</td>\n",
       "      <td>Chrome</td>\n",
       "      <td>other</td>\n",
       "      <td>NaN</td>\n",
       "      <td>NaN</td>\n",
       "      <td>NaN</td>\n",
       "      <td>NaN</td>\n",
       "      <td>NaN</td>\n",
       "      <td>NaN</td>\n",
       "      <td>lookup</td>\n",
       "      <td>NaN</td>\n",
       "      <td>NaN</td>\n",
       "      <td>Windows Desktop</td>\n",
       "      <td>319.0</td>\n",
       "    </tr>\n",
       "    <tr>\n",
       "      <th>1</th>\n",
       "      <td>d1mm9tcy42</td>\n",
       "      <td>2014-01-01</td>\n",
       "      <td>20140101000936</td>\n",
       "      <td>2014-01-04</td>\n",
       "      <td>MALE</td>\n",
       "      <td>62.0</td>\n",
       "      <td>basic</td>\n",
       "      <td>0</td>\n",
       "      <td>en</td>\n",
       "      <td>sem-non-brand</td>\n",
       "      <td>google</td>\n",
       "      <td>omg</td>\n",
       "      <td>Web</td>\n",
       "      <td>Windows Desktop</td>\n",
       "      <td>Chrome</td>\n",
       "      <td>other</td>\n",
       "      <td>NaN</td>\n",
       "      <td>NaN</td>\n",
       "      <td>NaN</td>\n",
       "      <td>NaN</td>\n",
       "      <td>NaN</td>\n",
       "      <td>NaN</td>\n",
       "      <td>search_results</td>\n",
       "      <td>click</td>\n",
       "      <td>view_search_results</td>\n",
       "      <td>Windows Desktop</td>\n",
       "      <td>67753.0</td>\n",
       "    </tr>\n",
       "    <tr>\n",
       "      <th>2</th>\n",
       "      <td>d1mm9tcy42</td>\n",
       "      <td>2014-01-01</td>\n",
       "      <td>20140101000936</td>\n",
       "      <td>2014-01-04</td>\n",
       "      <td>MALE</td>\n",
       "      <td>62.0</td>\n",
       "      <td>basic</td>\n",
       "      <td>0</td>\n",
       "      <td>en</td>\n",
       "      <td>sem-non-brand</td>\n",
       "      <td>google</td>\n",
       "      <td>omg</td>\n",
       "      <td>Web</td>\n",
       "      <td>Windows Desktop</td>\n",
       "      <td>Chrome</td>\n",
       "      <td>other</td>\n",
       "      <td>NaN</td>\n",
       "      <td>NaN</td>\n",
       "      <td>NaN</td>\n",
       "      <td>NaN</td>\n",
       "      <td>NaN</td>\n",
       "      <td>NaN</td>\n",
       "      <td>lookup</td>\n",
       "      <td>NaN</td>\n",
       "      <td>NaN</td>\n",
       "      <td>Windows Desktop</td>\n",
       "      <td>301.0</td>\n",
       "    </tr>\n",
       "    <tr>\n",
       "      <th>3</th>\n",
       "      <td>d1mm9tcy42</td>\n",
       "      <td>2014-01-01</td>\n",
       "      <td>20140101000936</td>\n",
       "      <td>2014-01-04</td>\n",
       "      <td>MALE</td>\n",
       "      <td>62.0</td>\n",
       "      <td>basic</td>\n",
       "      <td>0</td>\n",
       "      <td>en</td>\n",
       "      <td>sem-non-brand</td>\n",
       "      <td>google</td>\n",
       "      <td>omg</td>\n",
       "      <td>Web</td>\n",
       "      <td>Windows Desktop</td>\n",
       "      <td>Chrome</td>\n",
       "      <td>other</td>\n",
       "      <td>NaN</td>\n",
       "      <td>NaN</td>\n",
       "      <td>NaN</td>\n",
       "      <td>NaN</td>\n",
       "      <td>NaN</td>\n",
       "      <td>NaN</td>\n",
       "      <td>search_results</td>\n",
       "      <td>click</td>\n",
       "      <td>view_search_results</td>\n",
       "      <td>Windows Desktop</td>\n",
       "      <td>22141.0</td>\n",
       "    </tr>\n",
       "    <tr>\n",
       "      <th>4</th>\n",
       "      <td>d1mm9tcy42</td>\n",
       "      <td>2014-01-01</td>\n",
       "      <td>20140101000936</td>\n",
       "      <td>2014-01-04</td>\n",
       "      <td>MALE</td>\n",
       "      <td>62.0</td>\n",
       "      <td>basic</td>\n",
       "      <td>0</td>\n",
       "      <td>en</td>\n",
       "      <td>sem-non-brand</td>\n",
       "      <td>google</td>\n",
       "      <td>omg</td>\n",
       "      <td>Web</td>\n",
       "      <td>Windows Desktop</td>\n",
       "      <td>Chrome</td>\n",
       "      <td>other</td>\n",
       "      <td>NaN</td>\n",
       "      <td>NaN</td>\n",
       "      <td>NaN</td>\n",
       "      <td>NaN</td>\n",
       "      <td>NaN</td>\n",
       "      <td>NaN</td>\n",
       "      <td>lookup</td>\n",
       "      <td>NaN</td>\n",
       "      <td>NaN</td>\n",
       "      <td>Windows Desktop</td>\n",
       "      <td>435.0</td>\n",
       "    </tr>\n",
       "  </tbody>\n",
       "</table>\n",
       "</div>"
      ],
      "text/plain": [
       "      user_id date_account_created  timestamp_first_active date_first_booking gender   age signup_method  signup_flow language affiliate_channel affiliate_provider first_affiliate_tracked  \\\n",
       "0  d1mm9tcy42           2014-01-01          20140101000936         2014-01-04   MALE  62.0         basic            0       en     sem-non-brand             google                     omg   \n",
       "1  d1mm9tcy42           2014-01-01          20140101000936         2014-01-04   MALE  62.0         basic            0       en     sem-non-brand             google                     omg   \n",
       "2  d1mm9tcy42           2014-01-01          20140101000936         2014-01-04   MALE  62.0         basic            0       en     sem-non-brand             google                     omg   \n",
       "3  d1mm9tcy42           2014-01-01          20140101000936         2014-01-04   MALE  62.0         basic            0       en     sem-non-brand             google                     omg   \n",
       "4  d1mm9tcy42           2014-01-01          20140101000936         2014-01-04   MALE  62.0         basic            0       en     sem-non-brand             google                     omg   \n",
       "\n",
       "  signup_app first_device_type first_browser country_destination  lat_destination  lng_destination  distance_km  destination_km2 destination_language   language_levenshtein_distance          action  \\\n",
       "0        Web   Windows Desktop        Chrome               other              NaN              NaN          NaN              NaN                   NaN                            NaN          lookup   \n",
       "1        Web   Windows Desktop        Chrome               other              NaN              NaN          NaN              NaN                   NaN                            NaN  search_results   \n",
       "2        Web   Windows Desktop        Chrome               other              NaN              NaN          NaN              NaN                   NaN                            NaN          lookup   \n",
       "3        Web   Windows Desktop        Chrome               other              NaN              NaN          NaN              NaN                   NaN                            NaN  search_results   \n",
       "4        Web   Windows Desktop        Chrome               other              NaN              NaN          NaN              NaN                   NaN                            NaN          lookup   \n",
       "\n",
       "  action_type        action_detail      device_type  secs_elapsed  \n",
       "0         NaN                  NaN  Windows Desktop         319.0  \n",
       "1       click  view_search_results  Windows Desktop       67753.0  \n",
       "2         NaN                  NaN  Windows Desktop         301.0  \n",
       "3       click  view_search_results  Windows Desktop       22141.0  \n",
       "4         NaN                  NaN  Windows Desktop         435.0  "
      ]
     },
     "execution_count": 52,
     "metadata": {},
     "output_type": "execute_result"
    }
   ],
   "source": [
    "dfmerge2.head()"
   ]
  },
  {
   "cell_type": "markdown",
   "metadata": {},
   "source": [
    "Finally, I can go ahead and merge \"dfmerge2\" dataframe with \"dfagegender\" using  \"outer\" method on 'country_destination' and 'gender'. "
   ]
  },
  {
   "cell_type": "code",
   "execution_count": 53,
   "metadata": {},
   "outputs": [],
   "source": [
    "dfmergefinal = pd.merge(dfmerge2, dfagegender, how='left', on=['country_destination', 'gender'], left_on=None, right_on=None, left_index=False, right_index=False, sort=False, copy=True, indicator=False)"
   ]
  },
  {
   "cell_type": "code",
   "execution_count": 54,
   "metadata": {},
   "outputs": [
    {
     "data": {
      "text/plain": [
       "(3340486, 30)"
      ]
     },
     "execution_count": 54,
     "metadata": {},
     "output_type": "execute_result"
    }
   ],
   "source": [
    "dfmergefinal.shape"
   ]
  },
  {
   "cell_type": "code",
   "execution_count": 55,
   "metadata": {},
   "outputs": [
    {
     "data": {
      "text/html": [
       "<div>\n",
       "<style scoped>\n",
       "    .dataframe tbody tr th:only-of-type {\n",
       "        vertical-align: middle;\n",
       "    }\n",
       "\n",
       "    .dataframe tbody tr th {\n",
       "        vertical-align: top;\n",
       "    }\n",
       "\n",
       "    .dataframe thead th {\n",
       "        text-align: right;\n",
       "    }\n",
       "</style>\n",
       "<table border=\"1\" class=\"dataframe\">\n",
       "  <thead>\n",
       "    <tr style=\"text-align: right;\">\n",
       "      <th></th>\n",
       "      <th>user_id</th>\n",
       "      <th>date_account_created</th>\n",
       "      <th>timestamp_first_active</th>\n",
       "      <th>date_first_booking</th>\n",
       "      <th>gender</th>\n",
       "      <th>age</th>\n",
       "      <th>signup_method</th>\n",
       "      <th>signup_flow</th>\n",
       "      <th>language</th>\n",
       "      <th>affiliate_channel</th>\n",
       "      <th>affiliate_provider</th>\n",
       "      <th>first_affiliate_tracked</th>\n",
       "      <th>signup_app</th>\n",
       "      <th>first_device_type</th>\n",
       "      <th>first_browser</th>\n",
       "      <th>country_destination</th>\n",
       "      <th>lat_destination</th>\n",
       "      <th>lng_destination</th>\n",
       "      <th>distance_km</th>\n",
       "      <th>destination_km2</th>\n",
       "      <th>destination_language</th>\n",
       "      <th>language_levenshtein_distance</th>\n",
       "      <th>action</th>\n",
       "      <th>action_type</th>\n",
       "      <th>action_detail</th>\n",
       "      <th>device_type</th>\n",
       "      <th>secs_elapsed</th>\n",
       "      <th>age_bucket</th>\n",
       "      <th>population_in_thousands</th>\n",
       "      <th>year</th>\n",
       "    </tr>\n",
       "  </thead>\n",
       "  <tbody>\n",
       "    <tr>\n",
       "      <th>0</th>\n",
       "      <td>d1mm9tcy42</td>\n",
       "      <td>2014-01-01</td>\n",
       "      <td>20140101000936</td>\n",
       "      <td>2014-01-04</td>\n",
       "      <td>MALE</td>\n",
       "      <td>62.0</td>\n",
       "      <td>basic</td>\n",
       "      <td>0</td>\n",
       "      <td>en</td>\n",
       "      <td>sem-non-brand</td>\n",
       "      <td>google</td>\n",
       "      <td>omg</td>\n",
       "      <td>Web</td>\n",
       "      <td>Windows Desktop</td>\n",
       "      <td>Chrome</td>\n",
       "      <td>other</td>\n",
       "      <td>NaN</td>\n",
       "      <td>NaN</td>\n",
       "      <td>NaN</td>\n",
       "      <td>NaN</td>\n",
       "      <td>NaN</td>\n",
       "      <td>NaN</td>\n",
       "      <td>lookup</td>\n",
       "      <td>NaN</td>\n",
       "      <td>NaN</td>\n",
       "      <td>Windows Desktop</td>\n",
       "      <td>319.0</td>\n",
       "      <td>NaN</td>\n",
       "      <td>NaN</td>\n",
       "      <td>NaN</td>\n",
       "    </tr>\n",
       "    <tr>\n",
       "      <th>1</th>\n",
       "      <td>d1mm9tcy42</td>\n",
       "      <td>2014-01-01</td>\n",
       "      <td>20140101000936</td>\n",
       "      <td>2014-01-04</td>\n",
       "      <td>MALE</td>\n",
       "      <td>62.0</td>\n",
       "      <td>basic</td>\n",
       "      <td>0</td>\n",
       "      <td>en</td>\n",
       "      <td>sem-non-brand</td>\n",
       "      <td>google</td>\n",
       "      <td>omg</td>\n",
       "      <td>Web</td>\n",
       "      <td>Windows Desktop</td>\n",
       "      <td>Chrome</td>\n",
       "      <td>other</td>\n",
       "      <td>NaN</td>\n",
       "      <td>NaN</td>\n",
       "      <td>NaN</td>\n",
       "      <td>NaN</td>\n",
       "      <td>NaN</td>\n",
       "      <td>NaN</td>\n",
       "      <td>search_results</td>\n",
       "      <td>click</td>\n",
       "      <td>view_search_results</td>\n",
       "      <td>Windows Desktop</td>\n",
       "      <td>67753.0</td>\n",
       "      <td>NaN</td>\n",
       "      <td>NaN</td>\n",
       "      <td>NaN</td>\n",
       "    </tr>\n",
       "    <tr>\n",
       "      <th>2</th>\n",
       "      <td>d1mm9tcy42</td>\n",
       "      <td>2014-01-01</td>\n",
       "      <td>20140101000936</td>\n",
       "      <td>2014-01-04</td>\n",
       "      <td>MALE</td>\n",
       "      <td>62.0</td>\n",
       "      <td>basic</td>\n",
       "      <td>0</td>\n",
       "      <td>en</td>\n",
       "      <td>sem-non-brand</td>\n",
       "      <td>google</td>\n",
       "      <td>omg</td>\n",
       "      <td>Web</td>\n",
       "      <td>Windows Desktop</td>\n",
       "      <td>Chrome</td>\n",
       "      <td>other</td>\n",
       "      <td>NaN</td>\n",
       "      <td>NaN</td>\n",
       "      <td>NaN</td>\n",
       "      <td>NaN</td>\n",
       "      <td>NaN</td>\n",
       "      <td>NaN</td>\n",
       "      <td>lookup</td>\n",
       "      <td>NaN</td>\n",
       "      <td>NaN</td>\n",
       "      <td>Windows Desktop</td>\n",
       "      <td>301.0</td>\n",
       "      <td>NaN</td>\n",
       "      <td>NaN</td>\n",
       "      <td>NaN</td>\n",
       "    </tr>\n",
       "    <tr>\n",
       "      <th>3</th>\n",
       "      <td>d1mm9tcy42</td>\n",
       "      <td>2014-01-01</td>\n",
       "      <td>20140101000936</td>\n",
       "      <td>2014-01-04</td>\n",
       "      <td>MALE</td>\n",
       "      <td>62.0</td>\n",
       "      <td>basic</td>\n",
       "      <td>0</td>\n",
       "      <td>en</td>\n",
       "      <td>sem-non-brand</td>\n",
       "      <td>google</td>\n",
       "      <td>omg</td>\n",
       "      <td>Web</td>\n",
       "      <td>Windows Desktop</td>\n",
       "      <td>Chrome</td>\n",
       "      <td>other</td>\n",
       "      <td>NaN</td>\n",
       "      <td>NaN</td>\n",
       "      <td>NaN</td>\n",
       "      <td>NaN</td>\n",
       "      <td>NaN</td>\n",
       "      <td>NaN</td>\n",
       "      <td>search_results</td>\n",
       "      <td>click</td>\n",
       "      <td>view_search_results</td>\n",
       "      <td>Windows Desktop</td>\n",
       "      <td>22141.0</td>\n",
       "      <td>NaN</td>\n",
       "      <td>NaN</td>\n",
       "      <td>NaN</td>\n",
       "    </tr>\n",
       "    <tr>\n",
       "      <th>4</th>\n",
       "      <td>d1mm9tcy42</td>\n",
       "      <td>2014-01-01</td>\n",
       "      <td>20140101000936</td>\n",
       "      <td>2014-01-04</td>\n",
       "      <td>MALE</td>\n",
       "      <td>62.0</td>\n",
       "      <td>basic</td>\n",
       "      <td>0</td>\n",
       "      <td>en</td>\n",
       "      <td>sem-non-brand</td>\n",
       "      <td>google</td>\n",
       "      <td>omg</td>\n",
       "      <td>Web</td>\n",
       "      <td>Windows Desktop</td>\n",
       "      <td>Chrome</td>\n",
       "      <td>other</td>\n",
       "      <td>NaN</td>\n",
       "      <td>NaN</td>\n",
       "      <td>NaN</td>\n",
       "      <td>NaN</td>\n",
       "      <td>NaN</td>\n",
       "      <td>NaN</td>\n",
       "      <td>lookup</td>\n",
       "      <td>NaN</td>\n",
       "      <td>NaN</td>\n",
       "      <td>Windows Desktop</td>\n",
       "      <td>435.0</td>\n",
       "      <td>NaN</td>\n",
       "      <td>NaN</td>\n",
       "      <td>NaN</td>\n",
       "    </tr>\n",
       "  </tbody>\n",
       "</table>\n",
       "</div>"
      ],
      "text/plain": [
       "      user_id date_account_created  timestamp_first_active date_first_booking gender   age signup_method  signup_flow language affiliate_channel affiliate_provider first_affiliate_tracked  \\\n",
       "0  d1mm9tcy42           2014-01-01          20140101000936         2014-01-04   MALE  62.0         basic            0       en     sem-non-brand             google                     omg   \n",
       "1  d1mm9tcy42           2014-01-01          20140101000936         2014-01-04   MALE  62.0         basic            0       en     sem-non-brand             google                     omg   \n",
       "2  d1mm9tcy42           2014-01-01          20140101000936         2014-01-04   MALE  62.0         basic            0       en     sem-non-brand             google                     omg   \n",
       "3  d1mm9tcy42           2014-01-01          20140101000936         2014-01-04   MALE  62.0         basic            0       en     sem-non-brand             google                     omg   \n",
       "4  d1mm9tcy42           2014-01-01          20140101000936         2014-01-04   MALE  62.0         basic            0       en     sem-non-brand             google                     omg   \n",
       "\n",
       "  signup_app first_device_type first_browser country_destination  lat_destination  lng_destination  distance_km  destination_km2 destination_language   language_levenshtein_distance          action  \\\n",
       "0        Web   Windows Desktop        Chrome               other              NaN              NaN          NaN              NaN                   NaN                            NaN          lookup   \n",
       "1        Web   Windows Desktop        Chrome               other              NaN              NaN          NaN              NaN                   NaN                            NaN  search_results   \n",
       "2        Web   Windows Desktop        Chrome               other              NaN              NaN          NaN              NaN                   NaN                            NaN          lookup   \n",
       "3        Web   Windows Desktop        Chrome               other              NaN              NaN          NaN              NaN                   NaN                            NaN  search_results   \n",
       "4        Web   Windows Desktop        Chrome               other              NaN              NaN          NaN              NaN                   NaN                            NaN          lookup   \n",
       "\n",
       "  action_type        action_detail      device_type  secs_elapsed age_bucket  population_in_thousands  year  \n",
       "0         NaN                  NaN  Windows Desktop         319.0        NaN                      NaN   NaN  \n",
       "1       click  view_search_results  Windows Desktop       67753.0        NaN                      NaN   NaN  \n",
       "2         NaN                  NaN  Windows Desktop         301.0        NaN                      NaN   NaN  \n",
       "3       click  view_search_results  Windows Desktop       22141.0        NaN                      NaN   NaN  \n",
       "4         NaN                  NaN  Windows Desktop         435.0        NaN                      NaN   NaN  "
      ]
     },
     "execution_count": 55,
     "metadata": {},
     "output_type": "execute_result"
    }
   ],
   "source": [
    "dfmergefinal.head()"
   ]
  },
  {
   "cell_type": "markdown",
   "metadata": {},
   "source": [
    "I think the number increased because of the year. However, there might be many NaN values for year. I am going to check it now and if it is true, I will change my method to \"left\" and merge two dataframes again."
   ]
  },
  {
   "cell_type": "markdown",
   "metadata": {},
   "source": [
    "AND yes, there are only 420, 2015 values for year. Because they will not impact my analysis, I changed merging method to left above."
   ]
  },
  {
   "cell_type": "code",
   "execution_count": 56,
   "metadata": {},
   "outputs": [
    {
     "data": {
      "text/plain": [
       "NaN    3340486\n",
       "Name: year, dtype: int64"
      ]
     },
     "execution_count": 56,
     "metadata": {},
     "output_type": "execute_result"
    }
   ],
   "source": [
    "dfmergefinal.year.value_counts(dropna=False)"
   ]
  },
  {
   "cell_type": "code",
   "execution_count": 57,
   "metadata": {},
   "outputs": [
    {
     "data": {
      "text/html": [
       "<div>\n",
       "<style scoped>\n",
       "    .dataframe tbody tr th:only-of-type {\n",
       "        vertical-align: middle;\n",
       "    }\n",
       "\n",
       "    .dataframe tbody tr th {\n",
       "        vertical-align: top;\n",
       "    }\n",
       "\n",
       "    .dataframe thead th {\n",
       "        text-align: right;\n",
       "    }\n",
       "</style>\n",
       "<table border=\"1\" class=\"dataframe\">\n",
       "  <thead>\n",
       "    <tr style=\"text-align: right;\">\n",
       "      <th></th>\n",
       "      <th>date_account_created</th>\n",
       "      <th>timestamp_first_active</th>\n",
       "      <th>date_first_booking</th>\n",
       "      <th>gender</th>\n",
       "      <th>age</th>\n",
       "      <th>signup_method</th>\n",
       "      <th>signup_flow</th>\n",
       "      <th>language</th>\n",
       "      <th>affiliate_channel</th>\n",
       "      <th>affiliate_provider</th>\n",
       "      <th>first_affiliate_tracked</th>\n",
       "      <th>signup_app</th>\n",
       "      <th>first_device_type</th>\n",
       "      <th>first_browser</th>\n",
       "      <th>country_destination</th>\n",
       "      <th>lat_destination</th>\n",
       "      <th>lng_destination</th>\n",
       "      <th>distance_km</th>\n",
       "      <th>destination_km2</th>\n",
       "      <th>destination_language</th>\n",
       "      <th>language_levenshtein_distance</th>\n",
       "      <th>action</th>\n",
       "      <th>action_type</th>\n",
       "      <th>action_detail</th>\n",
       "      <th>device_type</th>\n",
       "      <th>secs_elapsed</th>\n",
       "      <th>age_bucket</th>\n",
       "      <th>population_in_thousands</th>\n",
       "      <th>year</th>\n",
       "    </tr>\n",
       "    <tr>\n",
       "      <th>user_id</th>\n",
       "      <th></th>\n",
       "      <th></th>\n",
       "      <th></th>\n",
       "      <th></th>\n",
       "      <th></th>\n",
       "      <th></th>\n",
       "      <th></th>\n",
       "      <th></th>\n",
       "      <th></th>\n",
       "      <th></th>\n",
       "      <th></th>\n",
       "      <th></th>\n",
       "      <th></th>\n",
       "      <th></th>\n",
       "      <th></th>\n",
       "      <th></th>\n",
       "      <th></th>\n",
       "      <th></th>\n",
       "      <th></th>\n",
       "      <th></th>\n",
       "      <th></th>\n",
       "      <th></th>\n",
       "      <th></th>\n",
       "      <th></th>\n",
       "      <th></th>\n",
       "      <th></th>\n",
       "      <th></th>\n",
       "      <th></th>\n",
       "      <th></th>\n",
       "    </tr>\n",
       "  </thead>\n",
       "  <tbody>\n",
       "    <tr>\n",
       "      <th>d1mm9tcy42</th>\n",
       "      <td>2014-01-01</td>\n",
       "      <td>20140101000936</td>\n",
       "      <td>2014-01-04</td>\n",
       "      <td>MALE</td>\n",
       "      <td>62.0</td>\n",
       "      <td>basic</td>\n",
       "      <td>0</td>\n",
       "      <td>en</td>\n",
       "      <td>sem-non-brand</td>\n",
       "      <td>google</td>\n",
       "      <td>omg</td>\n",
       "      <td>Web</td>\n",
       "      <td>Windows Desktop</td>\n",
       "      <td>Chrome</td>\n",
       "      <td>other</td>\n",
       "      <td>NaN</td>\n",
       "      <td>NaN</td>\n",
       "      <td>NaN</td>\n",
       "      <td>NaN</td>\n",
       "      <td>NaN</td>\n",
       "      <td>NaN</td>\n",
       "      <td>lookup</td>\n",
       "      <td>NaN</td>\n",
       "      <td>NaN</td>\n",
       "      <td>Windows Desktop</td>\n",
       "      <td>319.0</td>\n",
       "      <td>NaN</td>\n",
       "      <td>NaN</td>\n",
       "      <td>NaN</td>\n",
       "    </tr>\n",
       "    <tr>\n",
       "      <th>d1mm9tcy42</th>\n",
       "      <td>2014-01-01</td>\n",
       "      <td>20140101000936</td>\n",
       "      <td>2014-01-04</td>\n",
       "      <td>MALE</td>\n",
       "      <td>62.0</td>\n",
       "      <td>basic</td>\n",
       "      <td>0</td>\n",
       "      <td>en</td>\n",
       "      <td>sem-non-brand</td>\n",
       "      <td>google</td>\n",
       "      <td>omg</td>\n",
       "      <td>Web</td>\n",
       "      <td>Windows Desktop</td>\n",
       "      <td>Chrome</td>\n",
       "      <td>other</td>\n",
       "      <td>NaN</td>\n",
       "      <td>NaN</td>\n",
       "      <td>NaN</td>\n",
       "      <td>NaN</td>\n",
       "      <td>NaN</td>\n",
       "      <td>NaN</td>\n",
       "      <td>search_results</td>\n",
       "      <td>click</td>\n",
       "      <td>view_search_results</td>\n",
       "      <td>Windows Desktop</td>\n",
       "      <td>67753.0</td>\n",
       "      <td>NaN</td>\n",
       "      <td>NaN</td>\n",
       "      <td>NaN</td>\n",
       "    </tr>\n",
       "    <tr>\n",
       "      <th>d1mm9tcy42</th>\n",
       "      <td>2014-01-01</td>\n",
       "      <td>20140101000936</td>\n",
       "      <td>2014-01-04</td>\n",
       "      <td>MALE</td>\n",
       "      <td>62.0</td>\n",
       "      <td>basic</td>\n",
       "      <td>0</td>\n",
       "      <td>en</td>\n",
       "      <td>sem-non-brand</td>\n",
       "      <td>google</td>\n",
       "      <td>omg</td>\n",
       "      <td>Web</td>\n",
       "      <td>Windows Desktop</td>\n",
       "      <td>Chrome</td>\n",
       "      <td>other</td>\n",
       "      <td>NaN</td>\n",
       "      <td>NaN</td>\n",
       "      <td>NaN</td>\n",
       "      <td>NaN</td>\n",
       "      <td>NaN</td>\n",
       "      <td>NaN</td>\n",
       "      <td>lookup</td>\n",
       "      <td>NaN</td>\n",
       "      <td>NaN</td>\n",
       "      <td>Windows Desktop</td>\n",
       "      <td>301.0</td>\n",
       "      <td>NaN</td>\n",
       "      <td>NaN</td>\n",
       "      <td>NaN</td>\n",
       "    </tr>\n",
       "    <tr>\n",
       "      <th>d1mm9tcy42</th>\n",
       "      <td>2014-01-01</td>\n",
       "      <td>20140101000936</td>\n",
       "      <td>2014-01-04</td>\n",
       "      <td>MALE</td>\n",
       "      <td>62.0</td>\n",
       "      <td>basic</td>\n",
       "      <td>0</td>\n",
       "      <td>en</td>\n",
       "      <td>sem-non-brand</td>\n",
       "      <td>google</td>\n",
       "      <td>omg</td>\n",
       "      <td>Web</td>\n",
       "      <td>Windows Desktop</td>\n",
       "      <td>Chrome</td>\n",
       "      <td>other</td>\n",
       "      <td>NaN</td>\n",
       "      <td>NaN</td>\n",
       "      <td>NaN</td>\n",
       "      <td>NaN</td>\n",
       "      <td>NaN</td>\n",
       "      <td>NaN</td>\n",
       "      <td>search_results</td>\n",
       "      <td>click</td>\n",
       "      <td>view_search_results</td>\n",
       "      <td>Windows Desktop</td>\n",
       "      <td>22141.0</td>\n",
       "      <td>NaN</td>\n",
       "      <td>NaN</td>\n",
       "      <td>NaN</td>\n",
       "    </tr>\n",
       "    <tr>\n",
       "      <th>d1mm9tcy42</th>\n",
       "      <td>2014-01-01</td>\n",
       "      <td>20140101000936</td>\n",
       "      <td>2014-01-04</td>\n",
       "      <td>MALE</td>\n",
       "      <td>62.0</td>\n",
       "      <td>basic</td>\n",
       "      <td>0</td>\n",
       "      <td>en</td>\n",
       "      <td>sem-non-brand</td>\n",
       "      <td>google</td>\n",
       "      <td>omg</td>\n",
       "      <td>Web</td>\n",
       "      <td>Windows Desktop</td>\n",
       "      <td>Chrome</td>\n",
       "      <td>other</td>\n",
       "      <td>NaN</td>\n",
       "      <td>NaN</td>\n",
       "      <td>NaN</td>\n",
       "      <td>NaN</td>\n",
       "      <td>NaN</td>\n",
       "      <td>NaN</td>\n",
       "      <td>lookup</td>\n",
       "      <td>NaN</td>\n",
       "      <td>NaN</td>\n",
       "      <td>Windows Desktop</td>\n",
       "      <td>435.0</td>\n",
       "      <td>NaN</td>\n",
       "      <td>NaN</td>\n",
       "      <td>NaN</td>\n",
       "    </tr>\n",
       "  </tbody>\n",
       "</table>\n",
       "</div>"
      ],
      "text/plain": [
       "           date_account_created  timestamp_first_active date_first_booking gender   age signup_method  signup_flow language affiliate_channel affiliate_provider first_affiliate_tracked signup_app  \\\n",
       "user_id                                                                                                                                                                                               \n",
       "d1mm9tcy42           2014-01-01          20140101000936         2014-01-04   MALE  62.0         basic            0       en     sem-non-brand             google                     omg        Web   \n",
       "d1mm9tcy42           2014-01-01          20140101000936         2014-01-04   MALE  62.0         basic            0       en     sem-non-brand             google                     omg        Web   \n",
       "d1mm9tcy42           2014-01-01          20140101000936         2014-01-04   MALE  62.0         basic            0       en     sem-non-brand             google                     omg        Web   \n",
       "d1mm9tcy42           2014-01-01          20140101000936         2014-01-04   MALE  62.0         basic            0       en     sem-non-brand             google                     omg        Web   \n",
       "d1mm9tcy42           2014-01-01          20140101000936         2014-01-04   MALE  62.0         basic            0       en     sem-non-brand             google                     omg        Web   \n",
       "\n",
       "           first_device_type first_browser country_destination  lat_destination  lng_destination  distance_km  destination_km2 destination_language   language_levenshtein_distance          action  \\\n",
       "user_id                                                                                                                                                                                               \n",
       "d1mm9tcy42   Windows Desktop        Chrome               other              NaN              NaN          NaN              NaN                   NaN                            NaN          lookup   \n",
       "d1mm9tcy42   Windows Desktop        Chrome               other              NaN              NaN          NaN              NaN                   NaN                            NaN  search_results   \n",
       "d1mm9tcy42   Windows Desktop        Chrome               other              NaN              NaN          NaN              NaN                   NaN                            NaN          lookup   \n",
       "d1mm9tcy42   Windows Desktop        Chrome               other              NaN              NaN          NaN              NaN                   NaN                            NaN  search_results   \n",
       "d1mm9tcy42   Windows Desktop        Chrome               other              NaN              NaN          NaN              NaN                   NaN                            NaN          lookup   \n",
       "\n",
       "           action_type        action_detail      device_type  secs_elapsed age_bucket  population_in_thousands  year  \n",
       "user_id                                                                                                               \n",
       "d1mm9tcy42         NaN                  NaN  Windows Desktop         319.0        NaN                      NaN   NaN  \n",
       "d1mm9tcy42       click  view_search_results  Windows Desktop       67753.0        NaN                      NaN   NaN  \n",
       "d1mm9tcy42         NaN                  NaN  Windows Desktop         301.0        NaN                      NaN   NaN  \n",
       "d1mm9tcy42       click  view_search_results  Windows Desktop       22141.0        NaN                      NaN   NaN  \n",
       "d1mm9tcy42         NaN                  NaN  Windows Desktop         435.0        NaN                      NaN   NaN  "
      ]
     },
     "execution_count": 57,
     "metadata": {},
     "output_type": "execute_result"
    }
   ],
   "source": [
    "dfmergefinal.set_index('user_id').head()"
   ]
  },
  {
   "cell_type": "markdown",
   "metadata": {},
   "source": [
    "__1F__: __EXPLORE FINAL DATASET__"
   ]
  },
  {
   "cell_type": "code",
   "execution_count": 58,
   "metadata": {
    "scrolled": true
   },
   "outputs": [
    {
     "name": "stdout",
     "output_type": "stream",
     "text": [
      "<class 'pandas.core.frame.DataFrame'>\n",
      "Int64Index: 3340486 entries, 0 to 3340485\n",
      "Data columns (total 30 columns):\n",
      "user_id                          object\n",
      "date_account_created             object\n",
      "timestamp_first_active           int64\n",
      "date_first_booking               object\n",
      "gender                           object\n",
      "age                              float64\n",
      "signup_method                    object\n",
      "signup_flow                      int64\n",
      "language                         object\n",
      "affiliate_channel                object\n",
      "affiliate_provider               object\n",
      "first_affiliate_tracked          object\n",
      "signup_app                       object\n",
      "first_device_type                object\n",
      "first_browser                    object\n",
      "country_destination              object\n",
      "lat_destination                  float64\n",
      "lng_destination                  float64\n",
      "distance_km                      float64\n",
      "destination_km2                  float64\n",
      "destination_language             object\n",
      "language_levenshtein_distance    float64\n",
      "action                           object\n",
      "action_type                      object\n",
      "action_detail                    object\n",
      "device_type                      object\n",
      "secs_elapsed                     float64\n",
      "age_bucket                       object\n",
      "population_in_thousands          float64\n",
      "year                             float64\n",
      "dtypes: float64(9), int64(2), object(19)\n",
      "memory usage: 790.1+ MB\n"
     ]
    }
   ],
   "source": [
    "dfmergefinal.info()"
   ]
  },
  {
   "cell_type": "code",
   "execution_count": 59,
   "metadata": {},
   "outputs": [
    {
     "data": {
      "text/plain": [
       "NDF      1833467\n",
       "US       1013036\n",
       "other     205497\n",
       "FR         90282\n",
       "IT         59932\n",
       "ES         41473\n",
       "GB         39540\n",
       "CA         19006\n",
       "DE         14512\n",
       "NL         12830\n",
       "AU          7434\n",
       "PT          3477\n",
       "Name: country_destination, dtype: int64"
      ]
     },
     "execution_count": 59,
     "metadata": {},
     "output_type": "execute_result"
    }
   ],
   "source": [
    "dfmergefinal.country_destination.value_counts(dropna=False)"
   ]
  },
  {
   "cell_type": "code",
   "execution_count": 60,
   "metadata": {},
   "outputs": [
    {
     "data": {
      "text/plain": [
       "NaN    3340486\n",
       "Name: year, dtype: int64"
      ]
     },
     "execution_count": 60,
     "metadata": {},
     "output_type": "execute_result"
    }
   ],
   "source": [
    "dfmergefinal.year.value_counts(dropna=False)"
   ]
  },
  {
   "cell_type": "code",
   "execution_count": 61,
   "metadata": {},
   "outputs": [
    {
     "data": {
      "text/html": [
       "<div>\n",
       "<style scoped>\n",
       "    .dataframe tbody tr th:only-of-type {\n",
       "        vertical-align: middle;\n",
       "    }\n",
       "\n",
       "    .dataframe tbody tr th {\n",
       "        vertical-align: top;\n",
       "    }\n",
       "\n",
       "    .dataframe thead th {\n",
       "        text-align: right;\n",
       "    }\n",
       "</style>\n",
       "<table border=\"1\" class=\"dataframe\">\n",
       "  <thead>\n",
       "    <tr style=\"text-align: right;\">\n",
       "      <th></th>\n",
       "      <th>timestamp_first_active</th>\n",
       "      <th>age</th>\n",
       "      <th>signup_flow</th>\n",
       "      <th>lat_destination</th>\n",
       "      <th>lng_destination</th>\n",
       "      <th>distance_km</th>\n",
       "      <th>destination_km2</th>\n",
       "      <th>language_levenshtein_distance</th>\n",
       "      <th>secs_elapsed</th>\n",
       "      <th>population_in_thousands</th>\n",
       "      <th>year</th>\n",
       "    </tr>\n",
       "  </thead>\n",
       "  <tbody>\n",
       "    <tr>\n",
       "      <th>count</th>\n",
       "      <td>3.340486e+06</td>\n",
       "      <td>2.051133e+06</td>\n",
       "      <td>3.340486e+06</td>\n",
       "      <td>1.301522e+06</td>\n",
       "      <td>1.301522e+06</td>\n",
       "      <td>1.301522e+06</td>\n",
       "      <td>1.301522e+06</td>\n",
       "      <td>1.301522e+06</td>\n",
       "      <td>3.293236e+06</td>\n",
       "      <td>0.0</td>\n",
       "      <td>0.0</td>\n",
       "    </tr>\n",
       "    <tr>\n",
       "      <th>mean</th>\n",
       "      <td>2.014031e+13</td>\n",
       "      <td>4.707961e+01</td>\n",
       "      <td>4.190008e+00</td>\n",
       "      <td>3.878673e+01</td>\n",
       "      <td>-7.455643e+01</td>\n",
       "      <td>1.696455e+03</td>\n",
       "      <td>7.925261e+06</td>\n",
       "      <td>1.512988e+01</td>\n",
       "      <td>2.113653e+04</td>\n",
       "      <td>NaN</td>\n",
       "      <td>NaN</td>\n",
       "    </tr>\n",
       "    <tr>\n",
       "      <th>std</th>\n",
       "      <td>1.294457e+08</td>\n",
       "      <td>1.462601e+02</td>\n",
       "      <td>8.630514e+00</td>\n",
       "      <td>7.123551e+00</td>\n",
       "      <td>4.288890e+01</td>\n",
       "      <td>3.292969e+03</td>\n",
       "      <td>3.767313e+06</td>\n",
       "      <td>3.347682e+01</td>\n",
       "      <td>9.356850e+04</td>\n",
       "      <td>NaN</td>\n",
       "      <td>NaN</td>\n",
       "    </tr>\n",
       "    <tr>\n",
       "      <th>min</th>\n",
       "      <td>2.014010e+13</td>\n",
       "      <td>1.500000e+01</td>\n",
       "      <td>0.000000e+00</td>\n",
       "      <td>-2.685339e+01</td>\n",
       "      <td>-9.681815e+01</td>\n",
       "      <td>0.000000e+00</td>\n",
       "      <td>4.154300e+04</td>\n",
       "      <td>0.000000e+00</td>\n",
       "      <td>0.000000e+00</td>\n",
       "      <td>NaN</td>\n",
       "      <td>NaN</td>\n",
       "    </tr>\n",
       "    <tr>\n",
       "      <th>25%</th>\n",
       "      <td>2.014021e+13</td>\n",
       "      <td>2.700000e+01</td>\n",
       "      <td>0.000000e+00</td>\n",
       "      <td>3.696643e+01</td>\n",
       "      <td>-9.584403e+01</td>\n",
       "      <td>0.000000e+00</td>\n",
       "      <td>9.826675e+06</td>\n",
       "      <td>0.000000e+00</td>\n",
       "      <td>3.040000e+02</td>\n",
       "      <td>NaN</td>\n",
       "      <td>NaN</td>\n",
       "    </tr>\n",
       "    <tr>\n",
       "      <th>50%</th>\n",
       "      <td>2.014032e+13</td>\n",
       "      <td>3.200000e+01</td>\n",
       "      <td>0.000000e+00</td>\n",
       "      <td>3.696643e+01</td>\n",
       "      <td>-9.584403e+01</td>\n",
       "      <td>0.000000e+00</td>\n",
       "      <td>9.826675e+06</td>\n",
       "      <td>0.000000e+00</td>\n",
       "      <td>1.222000e+03</td>\n",
       "      <td>NaN</td>\n",
       "      <td>NaN</td>\n",
       "    </tr>\n",
       "    <tr>\n",
       "      <th>75%</th>\n",
       "      <td>2.014042e+13</td>\n",
       "      <td>4.100000e+01</td>\n",
       "      <td>0.000000e+00</td>\n",
       "      <td>3.696643e+01</td>\n",
       "      <td>-9.584403e+01</td>\n",
       "      <td>0.000000e+00</td>\n",
       "      <td>9.826675e+06</td>\n",
       "      <td>0.000000e+00</td>\n",
       "      <td>9.112000e+03</td>\n",
       "      <td>NaN</td>\n",
       "      <td>NaN</td>\n",
       "    </tr>\n",
       "    <tr>\n",
       "      <th>max</th>\n",
       "      <td>2.014051e+13</td>\n",
       "      <td>2.014000e+03</td>\n",
       "      <td>2.500000e+01</td>\n",
       "      <td>6.239330e+01</td>\n",
       "      <td>1.332752e+02</td>\n",
       "      <td>1.529774e+04</td>\n",
       "      <td>9.984670e+06</td>\n",
       "      <td>9.545000e+01</td>\n",
       "      <td>1.799949e+06</td>\n",
       "      <td>NaN</td>\n",
       "      <td>NaN</td>\n",
       "    </tr>\n",
       "  </tbody>\n",
       "</table>\n",
       "</div>"
      ],
      "text/plain": [
       "       timestamp_first_active           age   signup_flow  lat_destination  lng_destination   distance_km  destination_km2  language_levenshtein_distance  secs_elapsed  population_in_thousands  year\n",
       "count            3.340486e+06  2.051133e+06  3.340486e+06     1.301522e+06     1.301522e+06  1.301522e+06     1.301522e+06                   1.301522e+06  3.293236e+06                      0.0   0.0\n",
       "mean             2.014031e+13  4.707961e+01  4.190008e+00     3.878673e+01    -7.455643e+01  1.696455e+03     7.925261e+06                   1.512988e+01  2.113653e+04                      NaN   NaN\n",
       "std              1.294457e+08  1.462601e+02  8.630514e+00     7.123551e+00     4.288890e+01  3.292969e+03     3.767313e+06                   3.347682e+01  9.356850e+04                      NaN   NaN\n",
       "min              2.014010e+13  1.500000e+01  0.000000e+00    -2.685339e+01    -9.681815e+01  0.000000e+00     4.154300e+04                   0.000000e+00  0.000000e+00                      NaN   NaN\n",
       "25%              2.014021e+13  2.700000e+01  0.000000e+00     3.696643e+01    -9.584403e+01  0.000000e+00     9.826675e+06                   0.000000e+00  3.040000e+02                      NaN   NaN\n",
       "50%              2.014032e+13  3.200000e+01  0.000000e+00     3.696643e+01    -9.584403e+01  0.000000e+00     9.826675e+06                   0.000000e+00  1.222000e+03                      NaN   NaN\n",
       "75%              2.014042e+13  4.100000e+01  0.000000e+00     3.696643e+01    -9.584403e+01  0.000000e+00     9.826675e+06                   0.000000e+00  9.112000e+03                      NaN   NaN\n",
       "max              2.014051e+13  2.014000e+03  2.500000e+01     6.239330e+01     1.332752e+02  1.529774e+04     9.984670e+06                   9.545000e+01  1.799949e+06                      NaN   NaN"
      ]
     },
     "execution_count": 61,
     "metadata": {},
     "output_type": "execute_result"
    }
   ],
   "source": [
    "dfmergefinal.describe()"
   ]
  },
  {
   "cell_type": "code",
   "execution_count": 62,
   "metadata": {},
   "outputs": [
    {
     "data": {
      "text/plain": [
       "Index(['user_id', 'date_account_created', 'timestamp_first_active', 'date_first_booking', 'gender', 'age', 'signup_method', 'signup_flow', 'language', 'affiliate_channel', 'affiliate_provider',\n",
       "       'first_affiliate_tracked', 'signup_app', 'first_device_type', 'first_browser', 'country_destination', 'lat_destination', 'lng_destination', 'distance_km', 'destination_km2',\n",
       "       'destination_language ', 'language_levenshtein_distance', 'action', 'action_type', 'action_detail', 'device_type', 'secs_elapsed', 'age_bucket', 'population_in_thousands', 'year'],\n",
       "      dtype='object')"
      ]
     },
     "execution_count": 62,
     "metadata": {},
     "output_type": "execute_result"
    }
   ],
   "source": [
    "dfmergefinal.columns"
   ]
  },
  {
   "cell_type": "code",
   "execution_count": 63,
   "metadata": {
    "scrolled": true
   },
   "outputs": [
    {
     "data": {
      "text/plain": [
       "NaN       1577464\n",
       "FEMALE     983557\n",
       "MALE       775840\n",
       "OTHER        3625\n",
       "Name: gender, dtype: int64"
      ]
     },
     "execution_count": 63,
     "metadata": {},
     "output_type": "execute_result"
    }
   ],
   "source": [
    "dfmergefinal['gender'].value_counts(dropna=False)"
   ]
  },
  {
   "cell_type": "code",
   "execution_count": 64,
   "metadata": {},
   "outputs": [
    {
     "data": {
      "text/plain": [
       "2014-04-23    51606\n",
       "2014-05-08    45675\n",
       "2014-05-01    45340\n",
       "2014-04-22    40898\n",
       "2014-05-06    40715\n",
       "Name: date_account_created, dtype: int64"
      ]
     },
     "execution_count": 64,
     "metadata": {},
     "output_type": "execute_result"
    }
   ],
   "source": [
    "dfmergefinal[\"date_account_created\"].value_counts(dropna=False).head()"
   ]
  },
  {
   "cell_type": "code",
   "execution_count": 65,
   "metadata": {},
   "outputs": [
    {
     "data": {
      "text/plain": [
       "basic       2560503\n",
       "facebook     758025\n",
       "google        21958\n",
       "Name: signup_method, dtype: int64"
      ]
     },
     "execution_count": 65,
     "metadata": {},
     "output_type": "execute_result"
    }
   ],
   "source": [
    "dfmergefinal['signup_method'].value_counts(dropna=False)"
   ]
  },
  {
   "cell_type": "code",
   "execution_count": 66,
   "metadata": {},
   "outputs": [
    {
     "data": {
      "text/plain": [
       "en    3220418\n",
       "zh      32886\n",
       "ko      18134\n",
       "fr      16562\n",
       "es      14353\n",
       "de       7690\n",
       "it       6848\n",
       "ru       6351\n",
       "pt       5903\n",
       "ja       4069\n",
       "Name: language, dtype: int64"
      ]
     },
     "execution_count": 66,
     "metadata": {},
     "output_type": "execute_result"
    }
   ],
   "source": [
    "dfmergefinal['language'].value_counts(dropna=False).head(10)"
   ]
  },
  {
   "cell_type": "code",
   "execution_count": 67,
   "metadata": {},
   "outputs": [
    {
     "data": {
      "text/plain": [
       "direct           2040957\n",
       "sem-brand         561621\n",
       "sem-non-brand     300409\n",
       "seo               162039\n",
       "api               137208\n",
       "content            60256\n",
       "other              41715\n",
       "remarketing        36281\n",
       "Name: affiliate_channel, dtype: int64"
      ]
     },
     "execution_count": 67,
     "metadata": {},
     "output_type": "execute_result"
    }
   ],
   "source": [
    "dfmergefinal['affiliate_channel'].value_counts(dropna=False)"
   ]
  },
  {
   "cell_type": "code",
   "execution_count": 68,
   "metadata": {},
   "outputs": [
    {
     "data": {
      "text/plain": [
       "direct      2040957\n",
       "google      1054052\n",
       "other        167958\n",
       "facebook      28514\n",
       "bing          24800\n",
       "Name: affiliate_provider, dtype: int64"
      ]
     },
     "execution_count": 68,
     "metadata": {},
     "output_type": "execute_result"
    }
   ],
   "source": [
    "dfmergefinal['affiliate_provider'].value_counts(dropna=False).head()"
   ]
  },
  {
   "cell_type": "code",
   "execution_count": 69,
   "metadata": {},
   "outputs": [
    {
     "data": {
      "text/plain": [
       "untracked        1826984\n",
       "omg               840053\n",
       "linked            588867\n",
       "tracked-other      48118\n",
       "product            24692\n",
       "marketing           9063\n",
       "local ops           1408\n",
       "NaN                 1301\n",
       "Name: first_affiliate_tracked, dtype: int64"
      ]
     },
     "execution_count": 69,
     "metadata": {},
     "output_type": "execute_result"
    }
   ],
   "source": [
    "dfmergefinal['first_affiliate_tracked'].value_counts(dropna=False)"
   ]
  },
  {
   "cell_type": "code",
   "execution_count": 70,
   "metadata": {},
   "outputs": [
    {
     "data": {
      "text/plain": [
       "Web        2658107\n",
       "iOS         337293\n",
       "Android     257227\n",
       "Moweb        87859\n",
       "Name: signup_app, dtype: int64"
      ]
     },
     "execution_count": 70,
     "metadata": {},
     "output_type": "execute_result"
    }
   ],
   "source": [
    "dfmergefinal['signup_app'].value_counts(dropna=False)"
   ]
  },
  {
   "cell_type": "code",
   "execution_count": 71,
   "metadata": {},
   "outputs": [
    {
     "data": {
      "text/plain": [
       "Mac Desktop           1393196\n",
       "Windows Desktop       1014599\n",
       "iPhone                 360698\n",
       "Other/Unknown          252422\n",
       "iPad                   236127\n",
       "Android Phone           37971\n",
       "Android Tablet          24539\n",
       "Desktop (Other)         20247\n",
       "SmartPhone (Other)        687\n",
       "Name: first_device_type, dtype: int64"
      ]
     },
     "execution_count": 71,
     "metadata": {},
     "output_type": "execute_result"
    }
   ],
   "source": [
    "dfmergefinal['first_device_type'].value_counts(dropna=False)"
   ]
  },
  {
   "cell_type": "code",
   "execution_count": 72,
   "metadata": {},
   "outputs": [
    {
     "data": {
      "text/plain": [
       "Chrome             1023269\n",
       "Safari              745934\n",
       "NaN                 581051\n",
       "Firefox             423528\n",
       "Mobile Safari       280566\n",
       "IE                  244100\n",
       "Chrome Mobile        20531\n",
       "Android Browser       8388\n",
       "Name: first_browser, dtype: int64"
      ]
     },
     "execution_count": 72,
     "metadata": {},
     "output_type": "execute_result"
    }
   ],
   "source": [
    "dfmergefinal['first_browser'].value_counts(dropna=False).head(8)"
   ]
  },
  {
   "cell_type": "code",
   "execution_count": 73,
   "metadata": {},
   "outputs": [
    {
     "data": {
      "text/plain": [
       "NDF      1833467\n",
       "US       1013036\n",
       "other     205497\n",
       "FR         90282\n",
       "IT         59932\n",
       "ES         41473\n",
       "GB         39540\n",
       "CA         19006\n",
       "DE         14512\n",
       "NL         12830\n",
       "AU          7434\n",
       "PT          3477\n",
       "Name: country_destination, dtype: int64"
      ]
     },
     "execution_count": 73,
     "metadata": {},
     "output_type": "execute_result"
    }
   ],
   "source": [
    "dfmergefinal['country_destination'].value_counts(dropna=False)"
   ]
  },
  {
   "cell_type": "code",
   "execution_count": 74,
   "metadata": {},
   "outputs": [
    {
     "data": {
      "text/plain": [
       "show                     718641\n",
       "search_results           305832\n",
       "personalize              304252\n",
       "index                    265751\n",
       "ajax_refresh_subtotal    209524\n",
       "similar_listings         191308\n",
       "lookup                   125724\n",
       "update                   124317\n",
       "search                   109414\n",
       "social_connections        79580\n",
       "Name: action, dtype: int64"
      ]
     },
     "execution_count": 74,
     "metadata": {},
     "output_type": "execute_result"
    }
   ],
   "source": [
    "dfmergefinal['action'].value_counts(dropna=False).head(10)"
   ]
  },
  {
   "cell_type": "code",
   "execution_count": 75,
   "metadata": {},
   "outputs": [
    {
     "data": {
      "text/plain": [
       "view                891481\n",
       "NaN                 778417\n",
       "data                708144\n",
       "click               695092\n",
       "submit              221079\n",
       "message_post         36365\n",
       "booking_request       6679\n",
       "partner_callback      3228\n",
       "booking_response         1\n",
       "Name: action_type, dtype: int64"
      ]
     },
     "execution_count": 75,
     "metadata": {},
     "output_type": "execute_result"
    }
   ],
   "source": [
    "dfmergefinal['action_type'].value_counts(dropna=False)"
   ]
  },
  {
   "cell_type": "code",
   "execution_count": 76,
   "metadata": {},
   "outputs": [
    {
     "data": {
      "text/plain": [
       "NaN                            778417\n",
       "view_search_results            582208\n",
       "p3                             308472\n",
       "wishlist_content_update        304252\n",
       "change_trip_characteristics    209524\n",
       "similar_listings               191308\n",
       "user_profile                   136091\n",
       "update_listing                  94293\n",
       "user_social_connections         77393\n",
       "header_userpic                  53745\n",
       "Name: action_detail, dtype: int64"
      ]
     },
     "execution_count": 76,
     "metadata": {},
     "output_type": "execute_result"
    }
   ],
   "source": [
    "dfmergefinal['action_detail'].value_counts(dropna=False).head(10)"
   ]
  },
  {
   "cell_type": "code",
   "execution_count": 77,
   "metadata": {},
   "outputs": [
    {
     "data": {
      "text/plain": [
       "Mac Desktop                         1380371\n",
       "Windows Desktop                      996292\n",
       "iPhone                               347747\n",
       "Android App Unknown Phone/Tablet     261669\n",
       "iPad Tablet                          227619\n",
       "NaN                                   52313\n",
       "Android Phone                         30889\n",
       "Tablet                                21546\n",
       "Linux Desktop                         10748\n",
       "Chromebook                             8710\n",
       "Name: device_type, dtype: int64"
      ]
     },
     "execution_count": 77,
     "metadata": {},
     "output_type": "execute_result"
    }
   ],
   "source": [
    "dfmergefinal['device_type'].value_counts(dropna=False).head(10)"
   ]
  },
  {
   "cell_type": "code",
   "execution_count": 78,
   "metadata": {
    "scrolled": true
   },
   "outputs": [
    {
     "data": {
      "text/plain": [
       "NaN    3340486\n",
       "Name: age_bucket, dtype: int64"
      ]
     },
     "execution_count": 78,
     "metadata": {},
     "output_type": "execute_result"
    }
   ],
   "source": [
    "dfmergefinal['age_bucket'].value_counts(dropna=False)"
   ]
  },
  {
   "cell_type": "code",
   "execution_count": 79,
   "metadata": {
    "scrolled": true
   },
   "outputs": [
    {
     "data": {
      "text/html": [
       "<div>\n",
       "<style scoped>\n",
       "    .dataframe tbody tr th:only-of-type {\n",
       "        vertical-align: middle;\n",
       "    }\n",
       "\n",
       "    .dataframe tbody tr th {\n",
       "        vertical-align: top;\n",
       "    }\n",
       "\n",
       "    .dataframe thead th {\n",
       "        text-align: right;\n",
       "    }\n",
       "</style>\n",
       "<table border=\"1\" class=\"dataframe\">\n",
       "  <thead>\n",
       "    <tr style=\"text-align: right;\">\n",
       "      <th></th>\n",
       "      <th>date_account_created</th>\n",
       "      <th>timestamp_first_active</th>\n",
       "      <th>date_first_booking</th>\n",
       "      <th>gender</th>\n",
       "      <th>age</th>\n",
       "      <th>signup_method</th>\n",
       "      <th>signup_flow</th>\n",
       "      <th>language</th>\n",
       "      <th>affiliate_channel</th>\n",
       "      <th>affiliate_provider</th>\n",
       "      <th>first_affiliate_tracked</th>\n",
       "      <th>signup_app</th>\n",
       "      <th>first_device_type</th>\n",
       "      <th>first_browser</th>\n",
       "      <th>country_destination</th>\n",
       "      <th>lat_destination</th>\n",
       "      <th>lng_destination</th>\n",
       "      <th>distance_km</th>\n",
       "      <th>destination_km2</th>\n",
       "      <th>destination_language</th>\n",
       "      <th>language_levenshtein_distance</th>\n",
       "      <th>action</th>\n",
       "      <th>action_type</th>\n",
       "      <th>action_detail</th>\n",
       "      <th>device_type</th>\n",
       "      <th>secs_elapsed</th>\n",
       "      <th>age_bucket</th>\n",
       "      <th>population_in_thousands</th>\n",
       "      <th>year</th>\n",
       "    </tr>\n",
       "    <tr>\n",
       "      <th>user_id</th>\n",
       "      <th></th>\n",
       "      <th></th>\n",
       "      <th></th>\n",
       "      <th></th>\n",
       "      <th></th>\n",
       "      <th></th>\n",
       "      <th></th>\n",
       "      <th></th>\n",
       "      <th></th>\n",
       "      <th></th>\n",
       "      <th></th>\n",
       "      <th></th>\n",
       "      <th></th>\n",
       "      <th></th>\n",
       "      <th></th>\n",
       "      <th></th>\n",
       "      <th></th>\n",
       "      <th></th>\n",
       "      <th></th>\n",
       "      <th></th>\n",
       "      <th></th>\n",
       "      <th></th>\n",
       "      <th></th>\n",
       "      <th></th>\n",
       "      <th></th>\n",
       "      <th></th>\n",
       "      <th></th>\n",
       "      <th></th>\n",
       "      <th></th>\n",
       "    </tr>\n",
       "  </thead>\n",
       "  <tbody>\n",
       "    <tr>\n",
       "      <th>d1mm9tcy42</th>\n",
       "      <td>2014-01-01</td>\n",
       "      <td>20140101000936</td>\n",
       "      <td>2014-01-04</td>\n",
       "      <td>MALE</td>\n",
       "      <td>62.0</td>\n",
       "      <td>basic</td>\n",
       "      <td>0</td>\n",
       "      <td>en</td>\n",
       "      <td>sem-non-brand</td>\n",
       "      <td>google</td>\n",
       "      <td>omg</td>\n",
       "      <td>Web</td>\n",
       "      <td>Windows Desktop</td>\n",
       "      <td>Chrome</td>\n",
       "      <td>other</td>\n",
       "      <td>NaN</td>\n",
       "      <td>NaN</td>\n",
       "      <td>NaN</td>\n",
       "      <td>NaN</td>\n",
       "      <td>NaN</td>\n",
       "      <td>NaN</td>\n",
       "      <td>lookup</td>\n",
       "      <td>NaN</td>\n",
       "      <td>NaN</td>\n",
       "      <td>Windows Desktop</td>\n",
       "      <td>319.0</td>\n",
       "      <td>NaN</td>\n",
       "      <td>NaN</td>\n",
       "      <td>NaN</td>\n",
       "    </tr>\n",
       "    <tr>\n",
       "      <th>d1mm9tcy42</th>\n",
       "      <td>2014-01-01</td>\n",
       "      <td>20140101000936</td>\n",
       "      <td>2014-01-04</td>\n",
       "      <td>MALE</td>\n",
       "      <td>62.0</td>\n",
       "      <td>basic</td>\n",
       "      <td>0</td>\n",
       "      <td>en</td>\n",
       "      <td>sem-non-brand</td>\n",
       "      <td>google</td>\n",
       "      <td>omg</td>\n",
       "      <td>Web</td>\n",
       "      <td>Windows Desktop</td>\n",
       "      <td>Chrome</td>\n",
       "      <td>other</td>\n",
       "      <td>NaN</td>\n",
       "      <td>NaN</td>\n",
       "      <td>NaN</td>\n",
       "      <td>NaN</td>\n",
       "      <td>NaN</td>\n",
       "      <td>NaN</td>\n",
       "      <td>search_results</td>\n",
       "      <td>click</td>\n",
       "      <td>view_search_results</td>\n",
       "      <td>Windows Desktop</td>\n",
       "      <td>67753.0</td>\n",
       "      <td>NaN</td>\n",
       "      <td>NaN</td>\n",
       "      <td>NaN</td>\n",
       "    </tr>\n",
       "    <tr>\n",
       "      <th>d1mm9tcy42</th>\n",
       "      <td>2014-01-01</td>\n",
       "      <td>20140101000936</td>\n",
       "      <td>2014-01-04</td>\n",
       "      <td>MALE</td>\n",
       "      <td>62.0</td>\n",
       "      <td>basic</td>\n",
       "      <td>0</td>\n",
       "      <td>en</td>\n",
       "      <td>sem-non-brand</td>\n",
       "      <td>google</td>\n",
       "      <td>omg</td>\n",
       "      <td>Web</td>\n",
       "      <td>Windows Desktop</td>\n",
       "      <td>Chrome</td>\n",
       "      <td>other</td>\n",
       "      <td>NaN</td>\n",
       "      <td>NaN</td>\n",
       "      <td>NaN</td>\n",
       "      <td>NaN</td>\n",
       "      <td>NaN</td>\n",
       "      <td>NaN</td>\n",
       "      <td>lookup</td>\n",
       "      <td>NaN</td>\n",
       "      <td>NaN</td>\n",
       "      <td>Windows Desktop</td>\n",
       "      <td>301.0</td>\n",
       "      <td>NaN</td>\n",
       "      <td>NaN</td>\n",
       "      <td>NaN</td>\n",
       "    </tr>\n",
       "    <tr>\n",
       "      <th>d1mm9tcy42</th>\n",
       "      <td>2014-01-01</td>\n",
       "      <td>20140101000936</td>\n",
       "      <td>2014-01-04</td>\n",
       "      <td>MALE</td>\n",
       "      <td>62.0</td>\n",
       "      <td>basic</td>\n",
       "      <td>0</td>\n",
       "      <td>en</td>\n",
       "      <td>sem-non-brand</td>\n",
       "      <td>google</td>\n",
       "      <td>omg</td>\n",
       "      <td>Web</td>\n",
       "      <td>Windows Desktop</td>\n",
       "      <td>Chrome</td>\n",
       "      <td>other</td>\n",
       "      <td>NaN</td>\n",
       "      <td>NaN</td>\n",
       "      <td>NaN</td>\n",
       "      <td>NaN</td>\n",
       "      <td>NaN</td>\n",
       "      <td>NaN</td>\n",
       "      <td>search_results</td>\n",
       "      <td>click</td>\n",
       "      <td>view_search_results</td>\n",
       "      <td>Windows Desktop</td>\n",
       "      <td>22141.0</td>\n",
       "      <td>NaN</td>\n",
       "      <td>NaN</td>\n",
       "      <td>NaN</td>\n",
       "    </tr>\n",
       "    <tr>\n",
       "      <th>d1mm9tcy42</th>\n",
       "      <td>2014-01-01</td>\n",
       "      <td>20140101000936</td>\n",
       "      <td>2014-01-04</td>\n",
       "      <td>MALE</td>\n",
       "      <td>62.0</td>\n",
       "      <td>basic</td>\n",
       "      <td>0</td>\n",
       "      <td>en</td>\n",
       "      <td>sem-non-brand</td>\n",
       "      <td>google</td>\n",
       "      <td>omg</td>\n",
       "      <td>Web</td>\n",
       "      <td>Windows Desktop</td>\n",
       "      <td>Chrome</td>\n",
       "      <td>other</td>\n",
       "      <td>NaN</td>\n",
       "      <td>NaN</td>\n",
       "      <td>NaN</td>\n",
       "      <td>NaN</td>\n",
       "      <td>NaN</td>\n",
       "      <td>NaN</td>\n",
       "      <td>lookup</td>\n",
       "      <td>NaN</td>\n",
       "      <td>NaN</td>\n",
       "      <td>Windows Desktop</td>\n",
       "      <td>435.0</td>\n",
       "      <td>NaN</td>\n",
       "      <td>NaN</td>\n",
       "      <td>NaN</td>\n",
       "    </tr>\n",
       "  </tbody>\n",
       "</table>\n",
       "</div>"
      ],
      "text/plain": [
       "           date_account_created  timestamp_first_active date_first_booking gender   age signup_method  signup_flow language affiliate_channel affiliate_provider first_affiliate_tracked signup_app  \\\n",
       "user_id                                                                                                                                                                                               \n",
       "d1mm9tcy42           2014-01-01          20140101000936         2014-01-04   MALE  62.0         basic            0       en     sem-non-brand             google                     omg        Web   \n",
       "d1mm9tcy42           2014-01-01          20140101000936         2014-01-04   MALE  62.0         basic            0       en     sem-non-brand             google                     omg        Web   \n",
       "d1mm9tcy42           2014-01-01          20140101000936         2014-01-04   MALE  62.0         basic            0       en     sem-non-brand             google                     omg        Web   \n",
       "d1mm9tcy42           2014-01-01          20140101000936         2014-01-04   MALE  62.0         basic            0       en     sem-non-brand             google                     omg        Web   \n",
       "d1mm9tcy42           2014-01-01          20140101000936         2014-01-04   MALE  62.0         basic            0       en     sem-non-brand             google                     omg        Web   \n",
       "\n",
       "           first_device_type first_browser country_destination  lat_destination  lng_destination  distance_km  destination_km2 destination_language   language_levenshtein_distance          action  \\\n",
       "user_id                                                                                                                                                                                               \n",
       "d1mm9tcy42   Windows Desktop        Chrome               other              NaN              NaN          NaN              NaN                   NaN                            NaN          lookup   \n",
       "d1mm9tcy42   Windows Desktop        Chrome               other              NaN              NaN          NaN              NaN                   NaN                            NaN  search_results   \n",
       "d1mm9tcy42   Windows Desktop        Chrome               other              NaN              NaN          NaN              NaN                   NaN                            NaN          lookup   \n",
       "d1mm9tcy42   Windows Desktop        Chrome               other              NaN              NaN          NaN              NaN                   NaN                            NaN  search_results   \n",
       "d1mm9tcy42   Windows Desktop        Chrome               other              NaN              NaN          NaN              NaN                   NaN                            NaN          lookup   \n",
       "\n",
       "           action_type        action_detail      device_type  secs_elapsed age_bucket  population_in_thousands  year  \n",
       "user_id                                                                                                               \n",
       "d1mm9tcy42         NaN                  NaN  Windows Desktop         319.0        NaN                      NaN   NaN  \n",
       "d1mm9tcy42       click  view_search_results  Windows Desktop       67753.0        NaN                      NaN   NaN  \n",
       "d1mm9tcy42         NaN                  NaN  Windows Desktop         301.0        NaN                      NaN   NaN  \n",
       "d1mm9tcy42       click  view_search_results  Windows Desktop       22141.0        NaN                      NaN   NaN  \n",
       "d1mm9tcy42         NaN                  NaN  Windows Desktop         435.0        NaN                      NaN   NaN  "
      ]
     },
     "execution_count": 79,
     "metadata": {},
     "output_type": "execute_result"
    }
   ],
   "source": [
    "dfmergefinal.set_index('user_id').head()"
   ]
  },
  {
   "cell_type": "code",
   "execution_count": 80,
   "metadata": {},
   "outputs": [
    {
     "data": {
      "text/plain": [
       "user_id                                0\n",
       "date_account_created                   0\n",
       "timestamp_first_active                 0\n",
       "date_first_booking               1833467\n",
       "gender                           1577464\n",
       "age                              1289353\n",
       "signup_method                          0\n",
       "signup_flow                            0\n",
       "language                               0\n",
       "affiliate_channel                      0\n",
       "affiliate_provider                     0\n",
       "first_affiliate_tracked             1301\n",
       "signup_app                             0\n",
       "first_device_type                      0\n",
       "first_browser                     581051\n",
       "country_destination                    0\n",
       "lat_destination                  2038964\n",
       "lng_destination                  2038964\n",
       "distance_km                      2038964\n",
       "destination_km2                  2038964\n",
       "destination_language             2038964\n",
       "language_levenshtein_distance    2038964\n",
       "action                             33876\n",
       "action_type                       778417\n",
       "action_detail                     778417\n",
       "device_type                        52313\n",
       "secs_elapsed                       47250\n",
       "age_bucket                       3340486\n",
       "population_in_thousands          3340486\n",
       "year                             3340486\n",
       "dtype: int64"
      ]
     },
     "execution_count": 80,
     "metadata": {},
     "output_type": "execute_result"
    }
   ],
   "source": [
    "dfmergefinal.isnull().sum(axis=0)"
   ]
  },
  {
   "cell_type": "markdown",
   "metadata": {},
   "source": [
    "As seen above, some of the variables have all NaN values, some have most of them as NaN, some other have a few of the variables listed NaN, while some others have no NaN values. For my first intention, I think I will not be using age_bucket, population_in_thousands, year, destination_km2, destination_language, distance_km, lat_destination, lng_destination, and language_levenshtein_distance for my analysis. Therefore, I don't ave any problem with them having all or most of the observations as NaN. "
   ]
  },
  {
   "cell_type": "code",
   "execution_count": 81,
   "metadata": {},
   "outputs": [
    {
     "data": {
      "text/plain": [
       "NaN       1289353\n",
       "27.0       111913\n",
       "30.0       102873\n",
       "28.0       102512\n",
       "29.0        98400\n",
       "26.0        98077\n",
       "31.0        92877\n",
       "25.0        92733\n",
       "32.0        89541\n",
       "33.0        83604\n",
       "34.0        76240\n",
       "24.0        73068\n",
       "35.0        72124\n",
       "23.0        65081\n",
       "36.0        58834\n",
       "22.0        51620\n",
       "37.0        48560\n",
       "38.0        47375\n",
       "39.0        36940\n",
       "40.0        33703\n",
       "41.0        31746\n",
       "42.0        31400\n",
       "21.0        30933\n",
       "43.0        29791\n",
       "45.0        28589\n",
       "44.0        28327\n",
       "105.0       27146\n",
       "46.0        25482\n",
       "47.0        25277\n",
       "51.0        21479\n",
       "           ...   \n",
       "85.0          221\n",
       "106.0         216\n",
       "86.0          198\n",
       "1942.0        196\n",
       "1995.0        195\n",
       "107.0         181\n",
       "2008.0        152\n",
       "96.0          142\n",
       "99.0          127\n",
       "90.0          123\n",
       "93.0          121\n",
       "83.0          115\n",
       "81.0          105\n",
       "91.0          101\n",
       "89.0           81\n",
       "115.0          75\n",
       "1936.0         74\n",
       "103.0          73\n",
       "82.0           58\n",
       "2013.0         50\n",
       "15.0           42\n",
       "94.0           32\n",
       "87.0           32\n",
       "1953.0         15\n",
       "132.0           8\n",
       "1928.0          5\n",
       "1924.0          5\n",
       "88.0            3\n",
       "1931.0          1\n",
       "1927.0          1\n",
       "Name: age, Length: 109, dtype: int64"
      ]
     },
     "execution_count": 81,
     "metadata": {},
     "output_type": "execute_result"
    }
   ],
   "source": [
    "dfmergefinal['age'].value_counts(dropna=False)"
   ]
  },
  {
   "cell_type": "code",
   "execution_count": 82,
   "metadata": {},
   "outputs": [
    {
     "name": "stdout",
     "output_type": "stream",
     "text": [
      "44005\n",
      "1455\n"
     ]
    }
   ],
   "source": [
    "print(sum(dfmergefinal.age > 100))\n",
    "print(sum(dfmergefinal.age < 18))"
   ]
  },
  {
   "cell_type": "code",
   "execution_count": 83,
   "metadata": {},
   "outputs": [
    {
     "data": {
      "text/plain": [
       "count    44005.000000\n",
       "mean       590.759686\n",
       "std        830.016341\n",
       "min        101.000000\n",
       "25%        105.000000\n",
       "50%        105.000000\n",
       "75%       1942.000000\n",
       "max       2014.000000\n",
       "Name: age, dtype: float64"
      ]
     },
     "execution_count": 83,
     "metadata": {},
     "output_type": "execute_result"
    }
   ],
   "source": [
    "dfmergefinal[dfmergefinal.age > 100]['age'].describe()"
   ]
  },
  {
   "cell_type": "markdown",
   "metadata": {},
   "source": [
    "As seen above, there are some inconsistencies in age values. The max value is 2014 above 100. I think someone might enter the year rather than age. Also, there are 1289353 NaN values, 44005 values above 100, and 1455 values lower than 18. Even though,the longest life span of human beings is around 122, I do not want to involve the people over 100 years old but I will check if I want to include them. Therefore, I am going to check the number less and more than 122 next. https://en.wikipedia.org/wiki/Oldest_people"
   ]
  },
  {
   "cell_type": "code",
   "execution_count": 84,
   "metadata": {},
   "outputs": [
    {
     "data": {
      "text/plain": [
       "count    11599.000000\n",
       "mean      1946.777308\n",
       "std        341.616915\n",
       "min        132.000000\n",
       "25%       2014.000000\n",
       "50%       2014.000000\n",
       "75%       2014.000000\n",
       "max       2014.000000\n",
       "Name: age, dtype: float64"
      ]
     },
     "execution_count": 84,
     "metadata": {},
     "output_type": "execute_result"
    }
   ],
   "source": [
    "dfmergefinal[dfmergefinal.age >= 122]['age'].describe()"
   ]
  },
  {
   "cell_type": "markdown",
   "metadata": {},
   "source": [
    "The minimum value larger than 122 seems to be 132. I am going to repeat the process one more time to see both how many 132 exist and the values larger than 132. "
   ]
  },
  {
   "cell_type": "code",
   "execution_count": 85,
   "metadata": {},
   "outputs": [
    {
     "data": {
      "text/plain": [
       "count    11591.000000\n",
       "mean      1948.029851\n",
       "std        338.390041\n",
       "min        150.000000\n",
       "25%       2014.000000\n",
       "50%       2014.000000\n",
       "75%       2014.000000\n",
       "max       2014.000000\n",
       "Name: age, dtype: float64"
      ]
     },
     "execution_count": 85,
     "metadata": {},
     "output_type": "execute_result"
    }
   ],
   "source": [
    "dfmergefinal[dfmergefinal.age >132]['age'].describe()\n"
   ]
  },
  {
   "cell_type": "code",
   "execution_count": 86,
   "metadata": {},
   "outputs": [
    {
     "data": {
      "text/plain": [
       "132.0    8\n",
       "Name: age, dtype: int64"
      ]
     },
     "execution_count": 86,
     "metadata": {},
     "output_type": "execute_result"
    }
   ],
   "source": [
    "dfmergefinal[dfmergefinal.age==132]['age'].value_counts()"
   ]
  },
  {
   "cell_type": "markdown",
   "metadata": {},
   "source": [
    "There are 8 observations of 132 years old. Also, the minimum age more than 132 is 150. So, I am going to check if there is any customers more than 150 years old."
   ]
  },
  {
   "cell_type": "code",
   "execution_count": 87,
   "metadata": {},
   "outputs": [
    {
     "data": {
      "text/plain": [
       "count    11195.000000\n",
       "mean      2011.631443\n",
       "std         12.056480\n",
       "min       1924.000000\n",
       "25%       2014.000000\n",
       "50%       2014.000000\n",
       "75%       2014.000000\n",
       "max       2014.000000\n",
       "Name: age, dtype: float64"
      ]
     },
     "execution_count": 87,
     "metadata": {},
     "output_type": "execute_result"
    }
   ],
   "source": [
    "dfmergefinal[dfmergefinal.age >150]['age'].describe()"
   ]
  },
  {
   "cell_type": "code",
   "execution_count": 88,
   "metadata": {},
   "outputs": [
    {
     "data": {
      "text/plain": [
       "150.0    396\n",
       "Name: age, dtype: int64"
      ]
     },
     "execution_count": 88,
     "metadata": {},
     "output_type": "execute_result"
    }
   ],
   "source": [
    "dfmergefinal[dfmergefinal.age==150]['age'].value_counts()"
   ]
  },
  {
   "cell_type": "markdown",
   "metadata": {},
   "source": [
    "It seems that the largest values that I can include in my analysis is 150. I don't want to miss this value because there are 396 observation on the age 150. Now, I am going to explore the values less than 18 and see if I might want to include any values less than 18. "
   ]
  },
  {
   "cell_type": "code",
   "execution_count": 89,
   "metadata": {},
   "outputs": [
    {
     "data": {
      "text/plain": [
       "count    1455.000000\n",
       "mean       16.698969\n",
       "std         0.518004\n",
       "min        15.000000\n",
       "25%        16.000000\n",
       "50%        17.000000\n",
       "75%        17.000000\n",
       "max        17.000000\n",
       "Name: age, dtype: float64"
      ]
     },
     "execution_count": 89,
     "metadata": {},
     "output_type": "execute_result"
    }
   ],
   "source": [
    "dfmergefinal[dfmergefinal.age <18]['age'].describe()"
   ]
  },
  {
   "cell_type": "markdown",
   "metadata": {},
   "source": [
    "The minimum value is 15. I am going to check how many 15s are there. "
   ]
  },
  {
   "cell_type": "code",
   "execution_count": 90,
   "metadata": {},
   "outputs": [
    {
     "data": {
      "text/plain": [
       "15.0    42\n",
       "Name: age, dtype: int64"
      ]
     },
     "execution_count": 90,
     "metadata": {},
     "output_type": "execute_result"
    }
   ],
   "source": [
    "dfmergefinal[dfmergefinal.age == 15]['age'].value_counts()"
   ]
  },
  {
   "cell_type": "markdown",
   "metadata": {},
   "source": [
    "42 observations. I am going to include those observations in my analysis as well. "
   ]
  },
  {
   "cell_type": "markdown",
   "metadata": {},
   "source": [
    "Now, I want to replace the values more than 150 years old with NaN because there might be some values in other variables that might be useful for my analysis. "
   ]
  },
  {
   "cell_type": "code",
   "execution_count": 91,
   "metadata": {},
   "outputs": [],
   "source": [
    "dfmergefinal['age'] = np.where((dfmergefinal.age>150), np.nan, dfmergefinal.age)"
   ]
  },
  {
   "cell_type": "code",
   "execution_count": 92,
   "metadata": {},
   "outputs": [
    {
     "data": {
      "text/plain": [
       "NaN      1300548\n",
       "27.0      111913\n",
       "30.0      102873\n",
       "28.0      102512\n",
       "29.0       98400\n",
       "26.0       98077\n",
       "31.0       92877\n",
       "25.0       92733\n",
       "32.0       89541\n",
       "33.0       83604\n",
       "34.0       76240\n",
       "24.0       73068\n",
       "35.0       72124\n",
       "23.0       65081\n",
       "36.0       58834\n",
       "22.0       51620\n",
       "37.0       48560\n",
       "38.0       47375\n",
       "39.0       36940\n",
       "40.0       33703\n",
       "41.0       31746\n",
       "42.0       31400\n",
       "21.0       30933\n",
       "43.0       29791\n",
       "45.0       28589\n",
       "44.0       28327\n",
       "105.0      27146\n",
       "46.0       25482\n",
       "47.0       25277\n",
       "51.0       21479\n",
       "          ...   \n",
       "79.0         493\n",
       "100.0        490\n",
       "101.0        486\n",
       "150.0        396\n",
       "108.0        373\n",
       "16.0         354\n",
       "95.0         352\n",
       "84.0         349\n",
       "102.0        328\n",
       "78.0         223\n",
       "85.0         221\n",
       "106.0        216\n",
       "86.0         198\n",
       "107.0        181\n",
       "96.0         142\n",
       "99.0         127\n",
       "90.0         123\n",
       "93.0         121\n",
       "83.0         115\n",
       "81.0         105\n",
       "91.0         101\n",
       "89.0          81\n",
       "115.0         75\n",
       "103.0         73\n",
       "82.0          58\n",
       "15.0          42\n",
       "94.0          32\n",
       "87.0          32\n",
       "132.0          8\n",
       "88.0           3\n",
       "Name: age, Length: 98, dtype: int64"
      ]
     },
     "execution_count": 92,
     "metadata": {},
     "output_type": "execute_result"
    }
   ],
   "source": [
    "dfmergefinal['age'].value_counts(dropna=False)"
   ]
  },
  {
   "cell_type": "code",
   "execution_count": 93,
   "metadata": {},
   "outputs": [
    {
     "data": {
      "text/plain": [
       "(3340486, 30)"
      ]
     },
     "execution_count": 93,
     "metadata": {},
     "output_type": "execute_result"
    }
   ],
   "source": [
    "dfmergefinal.shape"
   ]
  }
 ],
 "metadata": {
  "kernelspec": {
   "display_name": "Python 3",
   "language": "python",
   "name": "python3"
  }
 },
 "nbformat": 4,
 "nbformat_minor": 2
}
