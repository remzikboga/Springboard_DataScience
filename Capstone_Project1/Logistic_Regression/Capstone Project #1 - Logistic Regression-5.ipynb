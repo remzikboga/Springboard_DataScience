{
 "cells": [
  {
   "cell_type": "markdown",
   "metadata": {},
   "source": [
    "__LOGISTIC REGRESSION ON AIRBNB DATA__"
   ]
  },
  {
   "cell_type": "markdown",
   "metadata": {},
   "source": [
    "__CAPSTONE PROJECT #1 MACHINE LEARNING APPLICATION__\n"
   ]
  },
  {
   "cell_type": "code",
   "execution_count": 1,
   "metadata": {},
   "outputs": [
    {
     "name": "stdout",
     "output_type": "stream",
     "text": [
      "Loaded\n"
     ]
    }
   ],
   "source": [
    "%matplotlib inline\n",
    "import numpy as np\n",
    "import scipy as sp\n",
    "import matplotlib as mpl\n",
    "import matplotlib.cm as cm\n",
    "from matplotlib.colors import ListedColormap\n",
    "import matplotlib.pyplot as plt\n",
    "import pandas as pd\n",
    "pd.set_option('display.width', 500)\n",
    "pd.set_option('display.max_columns', 100)\n",
    "pd.set_option('display.notebook_repr_html', True)\n",
    "import seaborn as sns\n",
    "sns.set_style(\"whitegrid\")\n",
    "sns.set_context(\"poster\")\n",
    "import sklearn.model_selection\n",
    "\n",
    "c0=sns.color_palette()[0]\n",
    "c1=sns.color_palette()[1]\n",
    "c2=sns.color_palette()[2]\n",
    "\n",
    "cmap_light = ListedColormap(['#FFAAAA', '#AAFFAA', '#AAAAFF'])\n",
    "cmap_bold = ListedColormap(['#FF0000', '#00FF00', '#0000FF'])\n",
    "cm = plt.cm.RdBu\n",
    "cm_bright = ListedColormap(['#FF0000', '#0000FF'])\n",
    "\n",
    "def points_plot(ax, Xtr, Xte, ytr, yte, clf, mesh=True, colorscale=cmap_light, \n",
    "                cdiscrete=cmap_bold, alpha=0.1, psize=10, zfunc=False, predicted=False):\n",
    "    h = .02\n",
    "    X=np.concatenate((Xtr, Xte))\n",
    "    x_min, x_max = X[:, 0].min() - .5, X[:, 0].max() + .5\n",
    "    y_min, y_max = X[:, 1].min() - .5, X[:, 1].max() + .5\n",
    "    xx, yy = np.meshgrid(np.linspace(x_min, x_max, 100),\n",
    "                         np.linspace(y_min, y_max, 100))\n",
    "\n",
    "    #plt.figure(figsize=(10,6))\n",
    "    if zfunc:\n",
    "        p0 = clf.predict_proba(np.c_[xx.ravel(), yy.ravel()])[:, 0]\n",
    "        p1 = clf.predict_proba(np.c_[xx.ravel(), yy.ravel()])[:, 1]\n",
    "        Z=zfunc(p0, p1)\n",
    "    else:\n",
    "        Z = clf.predict(np.c_[xx.ravel(), yy.ravel()])\n",
    "    ZZ = Z.reshape(xx.shape)\n",
    "    if mesh:\n",
    "        plt.pcolormesh(xx, yy, ZZ, cmap=cmap_light, alpha=alpha, axes=ax)\n",
    "    if predicted:\n",
    "        showtr = clf.predict(Xtr)\n",
    "        showte = clf.predict(Xte)\n",
    "    else:\n",
    "        showtr = ytr\n",
    "        showte = yte\n",
    "    ax.scatter(Xtr[:, 0], Xtr[:, 1], c=showtr-1, cmap=cmap_bold, \n",
    "               s=psize, alpha=alpha,edgecolor=\"k\")\n",
    "    # and testing points\n",
    "    ax.scatter(Xte[:, 0], Xte[:, 1], c=showte-1, cmap=cmap_bold, \n",
    "               alpha=alpha, marker=\"s\", s=psize+10)\n",
    "    ax.set_xlim(xx.min(), xx.max())\n",
    "    ax.set_ylim(yy.min(), yy.max())\n",
    "    return ax,xx,yy\n",
    "\n",
    "def points_plot_prob(ax, Xtr, Xte, ytr, yte, clf, colorscale=cmap_light, \n",
    "                     cdiscrete=cmap_bold, ccolor=cm, psize=10, alpha=0.1):\n",
    "    ax,xx,yy = points_plot(ax, Xtr, Xte, ytr, yte, clf, mesh=False, \n",
    "                           colorscale=colorscale, cdiscrete=cdiscrete, \n",
    "                           psize=psize, alpha=alpha, predicted=True) \n",
    "    Z = clf.predict_proba(np.c_[xx.ravel(), yy.ravel()])[:, 1]\n",
    "    Z = Z.reshape(xx.shape)\n",
    "    plt.contourf(xx, yy, Z, cmap=ccolor, alpha=.2, axes=ax)\n",
    "    cs2 = plt.contour(xx, yy, Z, cmap=ccolor, alpha=.6, axes=ax)\n",
    "    plt.clabel(cs2, fmt = '%2.1f', colors = 'k', fontsize=14, axes=ax)\n",
    "    return ax \n",
    "\n",
    "print(\"Loaded\")\n",
    "airbnb = pd.read_csv('data/dfmergefinal.csv')"
   ]
  },
  {
   "cell_type": "code",
   "execution_count": 2,
   "metadata": {},
   "outputs": [
    {
     "data": {
      "text/plain": [
       "(3340486, 30)"
      ]
     },
     "execution_count": 2,
     "metadata": {},
     "output_type": "execute_result"
    }
   ],
   "source": [
    "airbnb.shape"
   ]
  },
  {
   "cell_type": "code",
   "execution_count": 3,
   "metadata": {
    "scrolled": true
   },
   "outputs": [
    {
     "data": {
      "text/html": [
       "<div>\n",
       "<style scoped>\n",
       "    .dataframe tbody tr th:only-of-type {\n",
       "        vertical-align: middle;\n",
       "    }\n",
       "\n",
       "    .dataframe tbody tr th {\n",
       "        vertical-align: top;\n",
       "    }\n",
       "\n",
       "    .dataframe thead th {\n",
       "        text-align: right;\n",
       "    }\n",
       "</style>\n",
       "<table border=\"1\" class=\"dataframe\">\n",
       "  <thead>\n",
       "    <tr style=\"text-align: right;\">\n",
       "      <th></th>\n",
       "      <th>user_id</th>\n",
       "      <th>date_account_created</th>\n",
       "      <th>timestamp_first_active</th>\n",
       "      <th>date_first_booking</th>\n",
       "      <th>gender</th>\n",
       "      <th>age</th>\n",
       "      <th>signup_method</th>\n",
       "      <th>signup_flow</th>\n",
       "      <th>language</th>\n",
       "      <th>affiliate_channel</th>\n",
       "      <th>affiliate_provider</th>\n",
       "      <th>first_affiliate_tracked</th>\n",
       "      <th>signup_app</th>\n",
       "      <th>first_device_type</th>\n",
       "      <th>first_browser</th>\n",
       "      <th>country_destination</th>\n",
       "      <th>lat_destination</th>\n",
       "      <th>lng_destination</th>\n",
       "      <th>distance_km</th>\n",
       "      <th>destination_km2</th>\n",
       "      <th>destination_language</th>\n",
       "      <th>language_levenshtein_distance</th>\n",
       "      <th>action</th>\n",
       "      <th>action_type</th>\n",
       "      <th>action_detail</th>\n",
       "      <th>device_type</th>\n",
       "      <th>secs_elapsed</th>\n",
       "      <th>age_bucket</th>\n",
       "      <th>population_in_thousands</th>\n",
       "      <th>year</th>\n",
       "    </tr>\n",
       "  </thead>\n",
       "  <tbody>\n",
       "    <tr>\n",
       "      <th>0</th>\n",
       "      <td>d1mm9tcy42</td>\n",
       "      <td>2014-01-01</td>\n",
       "      <td>20140101000936</td>\n",
       "      <td>2014-01-04</td>\n",
       "      <td>MALE</td>\n",
       "      <td>62.0</td>\n",
       "      <td>basic</td>\n",
       "      <td>0</td>\n",
       "      <td>en</td>\n",
       "      <td>sem-non-brand</td>\n",
       "      <td>google</td>\n",
       "      <td>omg</td>\n",
       "      <td>Web</td>\n",
       "      <td>Windows Desktop</td>\n",
       "      <td>Chrome</td>\n",
       "      <td>other</td>\n",
       "      <td>NaN</td>\n",
       "      <td>NaN</td>\n",
       "      <td>NaN</td>\n",
       "      <td>NaN</td>\n",
       "      <td>NaN</td>\n",
       "      <td>NaN</td>\n",
       "      <td>lookup</td>\n",
       "      <td>NaN</td>\n",
       "      <td>NaN</td>\n",
       "      <td>Windows Desktop</td>\n",
       "      <td>319.0</td>\n",
       "      <td>NaN</td>\n",
       "      <td>NaN</td>\n",
       "      <td>NaN</td>\n",
       "    </tr>\n",
       "    <tr>\n",
       "      <th>1</th>\n",
       "      <td>d1mm9tcy42</td>\n",
       "      <td>2014-01-01</td>\n",
       "      <td>20140101000936</td>\n",
       "      <td>2014-01-04</td>\n",
       "      <td>MALE</td>\n",
       "      <td>62.0</td>\n",
       "      <td>basic</td>\n",
       "      <td>0</td>\n",
       "      <td>en</td>\n",
       "      <td>sem-non-brand</td>\n",
       "      <td>google</td>\n",
       "      <td>omg</td>\n",
       "      <td>Web</td>\n",
       "      <td>Windows Desktop</td>\n",
       "      <td>Chrome</td>\n",
       "      <td>other</td>\n",
       "      <td>NaN</td>\n",
       "      <td>NaN</td>\n",
       "      <td>NaN</td>\n",
       "      <td>NaN</td>\n",
       "      <td>NaN</td>\n",
       "      <td>NaN</td>\n",
       "      <td>search_results</td>\n",
       "      <td>click</td>\n",
       "      <td>view_search_results</td>\n",
       "      <td>Windows Desktop</td>\n",
       "      <td>67753.0</td>\n",
       "      <td>NaN</td>\n",
       "      <td>NaN</td>\n",
       "      <td>NaN</td>\n",
       "    </tr>\n",
       "    <tr>\n",
       "      <th>2</th>\n",
       "      <td>d1mm9tcy42</td>\n",
       "      <td>2014-01-01</td>\n",
       "      <td>20140101000936</td>\n",
       "      <td>2014-01-04</td>\n",
       "      <td>MALE</td>\n",
       "      <td>62.0</td>\n",
       "      <td>basic</td>\n",
       "      <td>0</td>\n",
       "      <td>en</td>\n",
       "      <td>sem-non-brand</td>\n",
       "      <td>google</td>\n",
       "      <td>omg</td>\n",
       "      <td>Web</td>\n",
       "      <td>Windows Desktop</td>\n",
       "      <td>Chrome</td>\n",
       "      <td>other</td>\n",
       "      <td>NaN</td>\n",
       "      <td>NaN</td>\n",
       "      <td>NaN</td>\n",
       "      <td>NaN</td>\n",
       "      <td>NaN</td>\n",
       "      <td>NaN</td>\n",
       "      <td>lookup</td>\n",
       "      <td>NaN</td>\n",
       "      <td>NaN</td>\n",
       "      <td>Windows Desktop</td>\n",
       "      <td>301.0</td>\n",
       "      <td>NaN</td>\n",
       "      <td>NaN</td>\n",
       "      <td>NaN</td>\n",
       "    </tr>\n",
       "    <tr>\n",
       "      <th>3</th>\n",
       "      <td>d1mm9tcy42</td>\n",
       "      <td>2014-01-01</td>\n",
       "      <td>20140101000936</td>\n",
       "      <td>2014-01-04</td>\n",
       "      <td>MALE</td>\n",
       "      <td>62.0</td>\n",
       "      <td>basic</td>\n",
       "      <td>0</td>\n",
       "      <td>en</td>\n",
       "      <td>sem-non-brand</td>\n",
       "      <td>google</td>\n",
       "      <td>omg</td>\n",
       "      <td>Web</td>\n",
       "      <td>Windows Desktop</td>\n",
       "      <td>Chrome</td>\n",
       "      <td>other</td>\n",
       "      <td>NaN</td>\n",
       "      <td>NaN</td>\n",
       "      <td>NaN</td>\n",
       "      <td>NaN</td>\n",
       "      <td>NaN</td>\n",
       "      <td>NaN</td>\n",
       "      <td>search_results</td>\n",
       "      <td>click</td>\n",
       "      <td>view_search_results</td>\n",
       "      <td>Windows Desktop</td>\n",
       "      <td>22141.0</td>\n",
       "      <td>NaN</td>\n",
       "      <td>NaN</td>\n",
       "      <td>NaN</td>\n",
       "    </tr>\n",
       "    <tr>\n",
       "      <th>4</th>\n",
       "      <td>d1mm9tcy42</td>\n",
       "      <td>2014-01-01</td>\n",
       "      <td>20140101000936</td>\n",
       "      <td>2014-01-04</td>\n",
       "      <td>MALE</td>\n",
       "      <td>62.0</td>\n",
       "      <td>basic</td>\n",
       "      <td>0</td>\n",
       "      <td>en</td>\n",
       "      <td>sem-non-brand</td>\n",
       "      <td>google</td>\n",
       "      <td>omg</td>\n",
       "      <td>Web</td>\n",
       "      <td>Windows Desktop</td>\n",
       "      <td>Chrome</td>\n",
       "      <td>other</td>\n",
       "      <td>NaN</td>\n",
       "      <td>NaN</td>\n",
       "      <td>NaN</td>\n",
       "      <td>NaN</td>\n",
       "      <td>NaN</td>\n",
       "      <td>NaN</td>\n",
       "      <td>lookup</td>\n",
       "      <td>NaN</td>\n",
       "      <td>NaN</td>\n",
       "      <td>Windows Desktop</td>\n",
       "      <td>435.0</td>\n",
       "      <td>NaN</td>\n",
       "      <td>NaN</td>\n",
       "      <td>NaN</td>\n",
       "    </tr>\n",
       "  </tbody>\n",
       "</table>\n",
       "</div>"
      ],
      "text/plain": [
       "      user_id date_account_created  timestamp_first_active date_first_booking gender   age signup_method  signup_flow language affiliate_channel affiliate_provider first_affiliate_tracked signup_app first_device_type first_browser country_destination  lat_destination  lng_destination  distance_km  destination_km2 destination_language   language_levenshtein_distance          action action_type        action_detail      device_type  secs_elapsed  age_bucket  population_in_thousands  year\n",
       "0  d1mm9tcy42           2014-01-01          20140101000936         2014-01-04   MALE  62.0         basic            0       en     sem-non-brand             google                     omg        Web   Windows Desktop        Chrome               other              NaN              NaN          NaN              NaN                   NaN                            NaN          lookup         NaN                  NaN  Windows Desktop         319.0         NaN                      NaN   NaN\n",
       "1  d1mm9tcy42           2014-01-01          20140101000936         2014-01-04   MALE  62.0         basic            0       en     sem-non-brand             google                     omg        Web   Windows Desktop        Chrome               other              NaN              NaN          NaN              NaN                   NaN                            NaN  search_results       click  view_search_results  Windows Desktop       67753.0         NaN                      NaN   NaN\n",
       "2  d1mm9tcy42           2014-01-01          20140101000936         2014-01-04   MALE  62.0         basic            0       en     sem-non-brand             google                     omg        Web   Windows Desktop        Chrome               other              NaN              NaN          NaN              NaN                   NaN                            NaN          lookup         NaN                  NaN  Windows Desktop         301.0         NaN                      NaN   NaN\n",
       "3  d1mm9tcy42           2014-01-01          20140101000936         2014-01-04   MALE  62.0         basic            0       en     sem-non-brand             google                     omg        Web   Windows Desktop        Chrome               other              NaN              NaN          NaN              NaN                   NaN                            NaN  search_results       click  view_search_results  Windows Desktop       22141.0         NaN                      NaN   NaN\n",
       "4  d1mm9tcy42           2014-01-01          20140101000936         2014-01-04   MALE  62.0         basic            0       en     sem-non-brand             google                     omg        Web   Windows Desktop        Chrome               other              NaN              NaN          NaN              NaN                   NaN                            NaN          lookup         NaN                  NaN  Windows Desktop         435.0         NaN                      NaN   NaN"
      ]
     },
     "execution_count": 3,
     "metadata": {},
     "output_type": "execute_result"
    }
   ],
   "source": [
    "airbnb.head()"
   ]
  },
  {
   "cell_type": "code",
   "execution_count": 4,
   "metadata": {},
   "outputs": [],
   "source": [
    "#create labels for age groups\n",
    "airbnb['age'] = pd.cut(airbnb.age,bins=[0,2,10,17,35,65,150],labels=['Toddler','Child','Young Adult','Adult', \n",
    "                                                                  'Middle Age','Older Adult'])"
   ]
  },
  {
   "cell_type": "code",
   "execution_count": 5,
   "metadata": {
    "scrolled": false
   },
   "outputs": [
    {
     "data": {
      "text/html": [
       "<div>\n",
       "<style scoped>\n",
       "    .dataframe tbody tr th:only-of-type {\n",
       "        vertical-align: middle;\n",
       "    }\n",
       "\n",
       "    .dataframe tbody tr th {\n",
       "        vertical-align: top;\n",
       "    }\n",
       "\n",
       "    .dataframe thead th {\n",
       "        text-align: right;\n",
       "    }\n",
       "</style>\n",
       "<table border=\"1\" class=\"dataframe\">\n",
       "  <thead>\n",
       "    <tr style=\"text-align: right;\">\n",
       "      <th></th>\n",
       "      <th>user_id</th>\n",
       "      <th>date_account_created</th>\n",
       "      <th>timestamp_first_active</th>\n",
       "      <th>date_first_booking</th>\n",
       "      <th>gender</th>\n",
       "      <th>age</th>\n",
       "      <th>signup_method</th>\n",
       "      <th>signup_flow</th>\n",
       "      <th>language</th>\n",
       "      <th>affiliate_channel</th>\n",
       "      <th>affiliate_provider</th>\n",
       "      <th>first_affiliate_tracked</th>\n",
       "      <th>signup_app</th>\n",
       "      <th>first_device_type</th>\n",
       "      <th>first_browser</th>\n",
       "      <th>country_destination</th>\n",
       "      <th>lat_destination</th>\n",
       "      <th>lng_destination</th>\n",
       "      <th>distance_km</th>\n",
       "      <th>destination_km2</th>\n",
       "      <th>destination_language</th>\n",
       "      <th>language_levenshtein_distance</th>\n",
       "      <th>action</th>\n",
       "      <th>action_type</th>\n",
       "      <th>action_detail</th>\n",
       "      <th>device_type</th>\n",
       "      <th>secs_elapsed</th>\n",
       "      <th>age_bucket</th>\n",
       "      <th>population_in_thousands</th>\n",
       "      <th>year</th>\n",
       "    </tr>\n",
       "  </thead>\n",
       "  <tbody>\n",
       "    <tr>\n",
       "      <th>0</th>\n",
       "      <td>d1mm9tcy42</td>\n",
       "      <td>2014-01-01</td>\n",
       "      <td>20140101000936</td>\n",
       "      <td>2014-01-04</td>\n",
       "      <td>MALE</td>\n",
       "      <td>Middle Age</td>\n",
       "      <td>basic</td>\n",
       "      <td>0</td>\n",
       "      <td>en</td>\n",
       "      <td>sem-non-brand</td>\n",
       "      <td>google</td>\n",
       "      <td>omg</td>\n",
       "      <td>Web</td>\n",
       "      <td>Windows Desktop</td>\n",
       "      <td>Chrome</td>\n",
       "      <td>other</td>\n",
       "      <td>NaN</td>\n",
       "      <td>NaN</td>\n",
       "      <td>NaN</td>\n",
       "      <td>NaN</td>\n",
       "      <td>NaN</td>\n",
       "      <td>NaN</td>\n",
       "      <td>lookup</td>\n",
       "      <td>NaN</td>\n",
       "      <td>NaN</td>\n",
       "      <td>Windows Desktop</td>\n",
       "      <td>319.0</td>\n",
       "      <td>NaN</td>\n",
       "      <td>NaN</td>\n",
       "      <td>NaN</td>\n",
       "    </tr>\n",
       "    <tr>\n",
       "      <th>1</th>\n",
       "      <td>d1mm9tcy42</td>\n",
       "      <td>2014-01-01</td>\n",
       "      <td>20140101000936</td>\n",
       "      <td>2014-01-04</td>\n",
       "      <td>MALE</td>\n",
       "      <td>Middle Age</td>\n",
       "      <td>basic</td>\n",
       "      <td>0</td>\n",
       "      <td>en</td>\n",
       "      <td>sem-non-brand</td>\n",
       "      <td>google</td>\n",
       "      <td>omg</td>\n",
       "      <td>Web</td>\n",
       "      <td>Windows Desktop</td>\n",
       "      <td>Chrome</td>\n",
       "      <td>other</td>\n",
       "      <td>NaN</td>\n",
       "      <td>NaN</td>\n",
       "      <td>NaN</td>\n",
       "      <td>NaN</td>\n",
       "      <td>NaN</td>\n",
       "      <td>NaN</td>\n",
       "      <td>search_results</td>\n",
       "      <td>click</td>\n",
       "      <td>view_search_results</td>\n",
       "      <td>Windows Desktop</td>\n",
       "      <td>67753.0</td>\n",
       "      <td>NaN</td>\n",
       "      <td>NaN</td>\n",
       "      <td>NaN</td>\n",
       "    </tr>\n",
       "    <tr>\n",
       "      <th>2</th>\n",
       "      <td>d1mm9tcy42</td>\n",
       "      <td>2014-01-01</td>\n",
       "      <td>20140101000936</td>\n",
       "      <td>2014-01-04</td>\n",
       "      <td>MALE</td>\n",
       "      <td>Middle Age</td>\n",
       "      <td>basic</td>\n",
       "      <td>0</td>\n",
       "      <td>en</td>\n",
       "      <td>sem-non-brand</td>\n",
       "      <td>google</td>\n",
       "      <td>omg</td>\n",
       "      <td>Web</td>\n",
       "      <td>Windows Desktop</td>\n",
       "      <td>Chrome</td>\n",
       "      <td>other</td>\n",
       "      <td>NaN</td>\n",
       "      <td>NaN</td>\n",
       "      <td>NaN</td>\n",
       "      <td>NaN</td>\n",
       "      <td>NaN</td>\n",
       "      <td>NaN</td>\n",
       "      <td>lookup</td>\n",
       "      <td>NaN</td>\n",
       "      <td>NaN</td>\n",
       "      <td>Windows Desktop</td>\n",
       "      <td>301.0</td>\n",
       "      <td>NaN</td>\n",
       "      <td>NaN</td>\n",
       "      <td>NaN</td>\n",
       "    </tr>\n",
       "    <tr>\n",
       "      <th>3</th>\n",
       "      <td>d1mm9tcy42</td>\n",
       "      <td>2014-01-01</td>\n",
       "      <td>20140101000936</td>\n",
       "      <td>2014-01-04</td>\n",
       "      <td>MALE</td>\n",
       "      <td>Middle Age</td>\n",
       "      <td>basic</td>\n",
       "      <td>0</td>\n",
       "      <td>en</td>\n",
       "      <td>sem-non-brand</td>\n",
       "      <td>google</td>\n",
       "      <td>omg</td>\n",
       "      <td>Web</td>\n",
       "      <td>Windows Desktop</td>\n",
       "      <td>Chrome</td>\n",
       "      <td>other</td>\n",
       "      <td>NaN</td>\n",
       "      <td>NaN</td>\n",
       "      <td>NaN</td>\n",
       "      <td>NaN</td>\n",
       "      <td>NaN</td>\n",
       "      <td>NaN</td>\n",
       "      <td>search_results</td>\n",
       "      <td>click</td>\n",
       "      <td>view_search_results</td>\n",
       "      <td>Windows Desktop</td>\n",
       "      <td>22141.0</td>\n",
       "      <td>NaN</td>\n",
       "      <td>NaN</td>\n",
       "      <td>NaN</td>\n",
       "    </tr>\n",
       "    <tr>\n",
       "      <th>4</th>\n",
       "      <td>d1mm9tcy42</td>\n",
       "      <td>2014-01-01</td>\n",
       "      <td>20140101000936</td>\n",
       "      <td>2014-01-04</td>\n",
       "      <td>MALE</td>\n",
       "      <td>Middle Age</td>\n",
       "      <td>basic</td>\n",
       "      <td>0</td>\n",
       "      <td>en</td>\n",
       "      <td>sem-non-brand</td>\n",
       "      <td>google</td>\n",
       "      <td>omg</td>\n",
       "      <td>Web</td>\n",
       "      <td>Windows Desktop</td>\n",
       "      <td>Chrome</td>\n",
       "      <td>other</td>\n",
       "      <td>NaN</td>\n",
       "      <td>NaN</td>\n",
       "      <td>NaN</td>\n",
       "      <td>NaN</td>\n",
       "      <td>NaN</td>\n",
       "      <td>NaN</td>\n",
       "      <td>lookup</td>\n",
       "      <td>NaN</td>\n",
       "      <td>NaN</td>\n",
       "      <td>Windows Desktop</td>\n",
       "      <td>435.0</td>\n",
       "      <td>NaN</td>\n",
       "      <td>NaN</td>\n",
       "      <td>NaN</td>\n",
       "    </tr>\n",
       "  </tbody>\n",
       "</table>\n",
       "</div>"
      ],
      "text/plain": [
       "      user_id date_account_created  timestamp_first_active date_first_booking gender         age signup_method  signup_flow language affiliate_channel affiliate_provider first_affiliate_tracked signup_app first_device_type first_browser country_destination  lat_destination  lng_destination  distance_km  destination_km2 destination_language   language_levenshtein_distance          action action_type        action_detail      device_type  secs_elapsed  age_bucket  population_in_thousands  year\n",
       "0  d1mm9tcy42           2014-01-01          20140101000936         2014-01-04   MALE  Middle Age         basic            0       en     sem-non-brand             google                     omg        Web   Windows Desktop        Chrome               other              NaN              NaN          NaN              NaN                   NaN                            NaN          lookup         NaN                  NaN  Windows Desktop         319.0         NaN                      NaN   NaN\n",
       "1  d1mm9tcy42           2014-01-01          20140101000936         2014-01-04   MALE  Middle Age         basic            0       en     sem-non-brand             google                     omg        Web   Windows Desktop        Chrome               other              NaN              NaN          NaN              NaN                   NaN                            NaN  search_results       click  view_search_results  Windows Desktop       67753.0         NaN                      NaN   NaN\n",
       "2  d1mm9tcy42           2014-01-01          20140101000936         2014-01-04   MALE  Middle Age         basic            0       en     sem-non-brand             google                     omg        Web   Windows Desktop        Chrome               other              NaN              NaN          NaN              NaN                   NaN                            NaN          lookup         NaN                  NaN  Windows Desktop         301.0         NaN                      NaN   NaN\n",
       "3  d1mm9tcy42           2014-01-01          20140101000936         2014-01-04   MALE  Middle Age         basic            0       en     sem-non-brand             google                     omg        Web   Windows Desktop        Chrome               other              NaN              NaN          NaN              NaN                   NaN                            NaN  search_results       click  view_search_results  Windows Desktop       22141.0         NaN                      NaN   NaN\n",
       "4  d1mm9tcy42           2014-01-01          20140101000936         2014-01-04   MALE  Middle Age         basic            0       en     sem-non-brand             google                     omg        Web   Windows Desktop        Chrome               other              NaN              NaN          NaN              NaN                   NaN                            NaN          lookup         NaN                  NaN  Windows Desktop         435.0         NaN                      NaN   NaN"
      ]
     },
     "execution_count": 5,
     "metadata": {},
     "output_type": "execute_result"
    }
   ],
   "source": [
    "airbnb.head()"
   ]
  },
  {
   "cell_type": "code",
   "execution_count": 6,
   "metadata": {},
   "outputs": [],
   "source": [
    "#drop user_id, data_account_created, timestamp_first_active, and date_first_booking because they don't seem to be \n",
    "#my interest. For example, I am not creating models for each user. \n",
    "airbnb = airbnb.drop(['user_id', 'date_account_created','timestamp_first_active', 'date_first_booking'], axis=1)"
   ]
  },
  {
   "cell_type": "code",
   "execution_count": 7,
   "metadata": {},
   "outputs": [
    {
     "data": {
      "text/plain": [
       "(3340486, 26)"
      ]
     },
     "execution_count": 7,
     "metadata": {},
     "output_type": "execute_result"
    }
   ],
   "source": [
    "airbnb.shape"
   ]
  },
  {
   "cell_type": "code",
   "execution_count": 8,
   "metadata": {},
   "outputs": [
    {
     "data": {
      "text/html": [
       "<div>\n",
       "<style scoped>\n",
       "    .dataframe tbody tr th:only-of-type {\n",
       "        vertical-align: middle;\n",
       "    }\n",
       "\n",
       "    .dataframe tbody tr th {\n",
       "        vertical-align: top;\n",
       "    }\n",
       "\n",
       "    .dataframe thead th {\n",
       "        text-align: right;\n",
       "    }\n",
       "</style>\n",
       "<table border=\"1\" class=\"dataframe\">\n",
       "  <thead>\n",
       "    <tr style=\"text-align: right;\">\n",
       "      <th></th>\n",
       "      <th>gender</th>\n",
       "      <th>age</th>\n",
       "      <th>signup_method</th>\n",
       "      <th>signup_flow</th>\n",
       "      <th>language</th>\n",
       "      <th>affiliate_channel</th>\n",
       "      <th>affiliate_provider</th>\n",
       "      <th>first_affiliate_tracked</th>\n",
       "      <th>signup_app</th>\n",
       "      <th>first_device_type</th>\n",
       "      <th>first_browser</th>\n",
       "      <th>country_destination</th>\n",
       "      <th>lat_destination</th>\n",
       "      <th>lng_destination</th>\n",
       "      <th>distance_km</th>\n",
       "      <th>destination_km2</th>\n",
       "      <th>destination_language</th>\n",
       "      <th>language_levenshtein_distance</th>\n",
       "      <th>action</th>\n",
       "      <th>action_type</th>\n",
       "      <th>action_detail</th>\n",
       "      <th>device_type</th>\n",
       "      <th>secs_elapsed</th>\n",
       "      <th>age_bucket</th>\n",
       "      <th>population_in_thousands</th>\n",
       "      <th>year</th>\n",
       "    </tr>\n",
       "  </thead>\n",
       "  <tbody>\n",
       "    <tr>\n",
       "      <th>0</th>\n",
       "      <td>MALE</td>\n",
       "      <td>Middle Age</td>\n",
       "      <td>basic</td>\n",
       "      <td>0</td>\n",
       "      <td>en</td>\n",
       "      <td>sem-non-brand</td>\n",
       "      <td>google</td>\n",
       "      <td>omg</td>\n",
       "      <td>Web</td>\n",
       "      <td>Windows Desktop</td>\n",
       "      <td>Chrome</td>\n",
       "      <td>other</td>\n",
       "      <td>NaN</td>\n",
       "      <td>NaN</td>\n",
       "      <td>NaN</td>\n",
       "      <td>NaN</td>\n",
       "      <td>NaN</td>\n",
       "      <td>NaN</td>\n",
       "      <td>lookup</td>\n",
       "      <td>NaN</td>\n",
       "      <td>NaN</td>\n",
       "      <td>Windows Desktop</td>\n",
       "      <td>319.0</td>\n",
       "      <td>NaN</td>\n",
       "      <td>NaN</td>\n",
       "      <td>NaN</td>\n",
       "    </tr>\n",
       "    <tr>\n",
       "      <th>1</th>\n",
       "      <td>MALE</td>\n",
       "      <td>Middle Age</td>\n",
       "      <td>basic</td>\n",
       "      <td>0</td>\n",
       "      <td>en</td>\n",
       "      <td>sem-non-brand</td>\n",
       "      <td>google</td>\n",
       "      <td>omg</td>\n",
       "      <td>Web</td>\n",
       "      <td>Windows Desktop</td>\n",
       "      <td>Chrome</td>\n",
       "      <td>other</td>\n",
       "      <td>NaN</td>\n",
       "      <td>NaN</td>\n",
       "      <td>NaN</td>\n",
       "      <td>NaN</td>\n",
       "      <td>NaN</td>\n",
       "      <td>NaN</td>\n",
       "      <td>search_results</td>\n",
       "      <td>click</td>\n",
       "      <td>view_search_results</td>\n",
       "      <td>Windows Desktop</td>\n",
       "      <td>67753.0</td>\n",
       "      <td>NaN</td>\n",
       "      <td>NaN</td>\n",
       "      <td>NaN</td>\n",
       "    </tr>\n",
       "    <tr>\n",
       "      <th>2</th>\n",
       "      <td>MALE</td>\n",
       "      <td>Middle Age</td>\n",
       "      <td>basic</td>\n",
       "      <td>0</td>\n",
       "      <td>en</td>\n",
       "      <td>sem-non-brand</td>\n",
       "      <td>google</td>\n",
       "      <td>omg</td>\n",
       "      <td>Web</td>\n",
       "      <td>Windows Desktop</td>\n",
       "      <td>Chrome</td>\n",
       "      <td>other</td>\n",
       "      <td>NaN</td>\n",
       "      <td>NaN</td>\n",
       "      <td>NaN</td>\n",
       "      <td>NaN</td>\n",
       "      <td>NaN</td>\n",
       "      <td>NaN</td>\n",
       "      <td>lookup</td>\n",
       "      <td>NaN</td>\n",
       "      <td>NaN</td>\n",
       "      <td>Windows Desktop</td>\n",
       "      <td>301.0</td>\n",
       "      <td>NaN</td>\n",
       "      <td>NaN</td>\n",
       "      <td>NaN</td>\n",
       "    </tr>\n",
       "    <tr>\n",
       "      <th>3</th>\n",
       "      <td>MALE</td>\n",
       "      <td>Middle Age</td>\n",
       "      <td>basic</td>\n",
       "      <td>0</td>\n",
       "      <td>en</td>\n",
       "      <td>sem-non-brand</td>\n",
       "      <td>google</td>\n",
       "      <td>omg</td>\n",
       "      <td>Web</td>\n",
       "      <td>Windows Desktop</td>\n",
       "      <td>Chrome</td>\n",
       "      <td>other</td>\n",
       "      <td>NaN</td>\n",
       "      <td>NaN</td>\n",
       "      <td>NaN</td>\n",
       "      <td>NaN</td>\n",
       "      <td>NaN</td>\n",
       "      <td>NaN</td>\n",
       "      <td>search_results</td>\n",
       "      <td>click</td>\n",
       "      <td>view_search_results</td>\n",
       "      <td>Windows Desktop</td>\n",
       "      <td>22141.0</td>\n",
       "      <td>NaN</td>\n",
       "      <td>NaN</td>\n",
       "      <td>NaN</td>\n",
       "    </tr>\n",
       "    <tr>\n",
       "      <th>4</th>\n",
       "      <td>MALE</td>\n",
       "      <td>Middle Age</td>\n",
       "      <td>basic</td>\n",
       "      <td>0</td>\n",
       "      <td>en</td>\n",
       "      <td>sem-non-brand</td>\n",
       "      <td>google</td>\n",
       "      <td>omg</td>\n",
       "      <td>Web</td>\n",
       "      <td>Windows Desktop</td>\n",
       "      <td>Chrome</td>\n",
       "      <td>other</td>\n",
       "      <td>NaN</td>\n",
       "      <td>NaN</td>\n",
       "      <td>NaN</td>\n",
       "      <td>NaN</td>\n",
       "      <td>NaN</td>\n",
       "      <td>NaN</td>\n",
       "      <td>lookup</td>\n",
       "      <td>NaN</td>\n",
       "      <td>NaN</td>\n",
       "      <td>Windows Desktop</td>\n",
       "      <td>435.0</td>\n",
       "      <td>NaN</td>\n",
       "      <td>NaN</td>\n",
       "      <td>NaN</td>\n",
       "    </tr>\n",
       "  </tbody>\n",
       "</table>\n",
       "</div>"
      ],
      "text/plain": [
       "  gender         age signup_method  signup_flow language affiliate_channel affiliate_provider first_affiliate_tracked signup_app first_device_type first_browser country_destination  lat_destination  lng_destination  distance_km  destination_km2 destination_language   language_levenshtein_distance          action action_type        action_detail      device_type  secs_elapsed  age_bucket  population_in_thousands  year\n",
       "0   MALE  Middle Age         basic            0       en     sem-non-brand             google                     omg        Web   Windows Desktop        Chrome               other              NaN              NaN          NaN              NaN                   NaN                            NaN          lookup         NaN                  NaN  Windows Desktop         319.0         NaN                      NaN   NaN\n",
       "1   MALE  Middle Age         basic            0       en     sem-non-brand             google                     omg        Web   Windows Desktop        Chrome               other              NaN              NaN          NaN              NaN                   NaN                            NaN  search_results       click  view_search_results  Windows Desktop       67753.0         NaN                      NaN   NaN\n",
       "2   MALE  Middle Age         basic            0       en     sem-non-brand             google                     omg        Web   Windows Desktop        Chrome               other              NaN              NaN          NaN              NaN                   NaN                            NaN          lookup         NaN                  NaN  Windows Desktop         301.0         NaN                      NaN   NaN\n",
       "3   MALE  Middle Age         basic            0       en     sem-non-brand             google                     omg        Web   Windows Desktop        Chrome               other              NaN              NaN          NaN              NaN                   NaN                            NaN  search_results       click  view_search_results  Windows Desktop       22141.0         NaN                      NaN   NaN\n",
       "4   MALE  Middle Age         basic            0       en     sem-non-brand             google                     omg        Web   Windows Desktop        Chrome               other              NaN              NaN          NaN              NaN                   NaN                            NaN          lookup         NaN                  NaN  Windows Desktop         435.0         NaN                      NaN   NaN"
      ]
     },
     "execution_count": 8,
     "metadata": {},
     "output_type": "execute_result"
    }
   ],
   "source": [
    "airbnb.head()"
   ]
  },
  {
   "cell_type": "code",
   "execution_count": 9,
   "metadata": {},
   "outputs": [
    {
     "data": {
      "text/plain": [
       "0     2650986\n",
       "25     263652\n",
       "12     219121\n",
       "23     133799\n",
       "24      69657\n",
       "8        3225\n",
       "21         46\n",
       "Name: signup_flow, dtype: int64"
      ]
     },
     "execution_count": 9,
     "metadata": {},
     "output_type": "execute_result"
    }
   ],
   "source": [
    "#I don't think it is clear what signup_flow means. So, I will drop this as well\n",
    "airbnb['signup_flow'].value_counts(dropna=False)"
   ]
  },
  {
   "cell_type": "code",
   "execution_count": 10,
   "metadata": {},
   "outputs": [],
   "source": [
    "#drop signup_flow\n",
    "airbnb = airbnb.drop(['signup_flow'], axis=1)"
   ]
  },
  {
   "cell_type": "code",
   "execution_count": 11,
   "metadata": {},
   "outputs": [
    {
     "data": {
      "text/plain": [
       "(3340486, 25)"
      ]
     },
     "execution_count": 11,
     "metadata": {},
     "output_type": "execute_result"
    }
   ],
   "source": [
    "airbnb.shape"
   ]
  },
  {
   "cell_type": "code",
   "execution_count": 12,
   "metadata": {},
   "outputs": [
    {
     "data": {
      "text/plain": [
       "Web        0.795725\n",
       "iOS        0.100971\n",
       "Android    0.077003\n",
       "Moweb      0.026301\n",
       "Name: signup_app, dtype: float64"
      ]
     },
     "execution_count": 12,
     "metadata": {},
     "output_type": "execute_result"
    }
   ],
   "source": [
    "airbnb['signup_app'].value_counts(normalize=True, dropna=False)"
   ]
  },
  {
   "cell_type": "code",
   "execution_count": 13,
   "metadata": {},
   "outputs": [],
   "source": [
    "airbnb.signup_app=airbnb['signup_app'].replace(to_replace =[\"iOS\", \"Android\", \"Moweb\"], \n",
    "                 value =\"Mobile\")"
   ]
  },
  {
   "cell_type": "code",
   "execution_count": 14,
   "metadata": {
    "scrolled": true
   },
   "outputs": [
    {
     "data": {
      "text/plain": [
       "Web       0.795725\n",
       "Mobile    0.204275\n",
       "Name: signup_app, dtype: float64"
      ]
     },
     "execution_count": 14,
     "metadata": {},
     "output_type": "execute_result"
    }
   ],
   "source": [
    "airbnb['signup_app'].value_counts(normalize=True)"
   ]
  },
  {
   "cell_type": "code",
   "execution_count": 15,
   "metadata": {},
   "outputs": [],
   "source": [
    "#drop some other columns that are not related\n",
    "\n",
    "airbnb = airbnb.drop(['lat_destination', 'lng_destination','distance_km', 'destination_km2',\n",
    "                           'language_levenshtein_distance'], axis=1)"
   ]
  },
  {
   "cell_type": "code",
   "execution_count": 16,
   "metadata": {},
   "outputs": [
    {
     "data": {
      "text/plain": [
       "(3340486, 20)"
      ]
     },
     "execution_count": 16,
     "metadata": {},
     "output_type": "execute_result"
    }
   ],
   "source": [
    "airbnb.shape"
   ]
  },
  {
   "cell_type": "code",
   "execution_count": 17,
   "metadata": {},
   "outputs": [
    {
     "data": {
      "text/plain": [
       "Chrome                0.306323\n",
       "Safari                0.223301\n",
       "NaN                   0.173942\n",
       "Firefox               0.126786\n",
       "Mobile Safari         0.083990\n",
       "IE                    0.073073\n",
       "Chrome Mobile         0.006146\n",
       "Android Browser       0.002511\n",
       "Silk                  0.000892\n",
       "Opera                 0.000884\n",
       "Chromium              0.000365\n",
       "AOL Explorer          0.000298\n",
       "Apple Mail            0.000277\n",
       "Mobile Firefox        0.000262\n",
       "Maxthon               0.000187\n",
       "Sogou Explorer        0.000134\n",
       "BlackBerry Browser    0.000134\n",
       "SiteKiosk             0.000102\n",
       "Yandex.Browser        0.000097\n",
       "IceWeasel             0.000074\n",
       "Iron                  0.000053\n",
       "Opera Mini            0.000041\n",
       "IE Mobile             0.000041\n",
       "CoolNovo              0.000037\n",
       "TenFourFox            0.000017\n",
       "SeaMonkey             0.000009\n",
       "Outlook 2007          0.000006\n",
       "wOSBrowser            0.000005\n",
       "Mozilla               0.000004\n",
       "Pale Moon             0.000004\n",
       "Googlebot             0.000004\n",
       "Name: first_browser, dtype: float64"
      ]
     },
     "execution_count": 17,
     "metadata": {},
     "output_type": "execute_result"
    }
   ],
   "source": [
    "airbnb['first_browser'].value_counts(normalize=True, dropna=False)"
   ]
  },
  {
   "cell_type": "code",
   "execution_count": 18,
   "metadata": {},
   "outputs": [],
   "source": [
    "airbnb['first_browser'] = airbnb['first_browser'].replace(to_replace = ['Android Browser', 'BlackBerry Browser',\n",
    "                                                                             'wOSBrowser', 'Yandex.Browser', 'Opera',\n",
    "                                                                             'Mozilla', 'Silk'],\n",
    "                                                                value='Other Browser')"
   ]
  },
  {
   "cell_type": "code",
   "execution_count": 19,
   "metadata": {
    "scrolled": true
   },
   "outputs": [
    {
     "data": {
      "text/plain": [
       "Chrome            0.306323\n",
       "Safari            0.223301\n",
       "NaN               0.173942\n",
       "Firefox           0.126786\n",
       "Mobile Safari     0.083990\n",
       "IE                0.073073\n",
       "Chrome Mobile     0.006146\n",
       "Other Browser     0.004527\n",
       "Chromium          0.000365\n",
       "AOL Explorer      0.000298\n",
       "Apple Mail        0.000277\n",
       "Mobile Firefox    0.000262\n",
       "Maxthon           0.000187\n",
       "Sogou Explorer    0.000134\n",
       "SiteKiosk         0.000102\n",
       "IceWeasel         0.000074\n",
       "Iron              0.000053\n",
       "Opera Mini        0.000041\n",
       "IE Mobile         0.000041\n",
       "CoolNovo          0.000037\n",
       "TenFourFox        0.000017\n",
       "SeaMonkey         0.000009\n",
       "Outlook 2007      0.000006\n",
       "Googlebot         0.000004\n",
       "Pale Moon         0.000004\n",
       "Name: first_browser, dtype: float64"
      ]
     },
     "execution_count": 19,
     "metadata": {},
     "output_type": "execute_result"
    }
   ],
   "source": [
    "airbnb['first_browser'].value_counts(normalize=True, dropna=False)"
   ]
  },
  {
   "cell_type": "code",
   "execution_count": 20,
   "metadata": {},
   "outputs": [],
   "source": [
    "airbnb['first_browser'] = airbnb['first_browser'].replace(to_replace = ['Chrome Mobile', 'Mobile Safari',\n",
    "                                                                             'IE Mobile', 'Mobile Firefox'],\n",
    "                                                                value='Mobile')"
   ]
  },
  {
   "cell_type": "code",
   "execution_count": 21,
   "metadata": {
    "scrolled": true
   },
   "outputs": [
    {
     "data": {
      "text/plain": [
       "Chrome            0.306323\n",
       "Safari            0.223301\n",
       "NaN               0.173942\n",
       "Firefox           0.126786\n",
       "Mobile            0.090438\n",
       "IE                0.073073\n",
       "Other Browser     0.004527\n",
       "Chromium          0.000365\n",
       "AOL Explorer      0.000298\n",
       "Apple Mail        0.000277\n",
       "Maxthon           0.000187\n",
       "Sogou Explorer    0.000134\n",
       "SiteKiosk         0.000102\n",
       "IceWeasel         0.000074\n",
       "Iron              0.000053\n",
       "Opera Mini        0.000041\n",
       "CoolNovo          0.000037\n",
       "TenFourFox        0.000017\n",
       "SeaMonkey         0.000009\n",
       "Outlook 2007      0.000006\n",
       "Pale Moon         0.000004\n",
       "Googlebot         0.000004\n",
       "Name: first_browser, dtype: float64"
      ]
     },
     "execution_count": 21,
     "metadata": {},
     "output_type": "execute_result"
    }
   ],
   "source": [
    "airbnb['first_browser'].value_counts(normalize=True, dropna=False)"
   ]
  },
  {
   "cell_type": "code",
   "execution_count": 22,
   "metadata": {},
   "outputs": [],
   "source": [
    "airbnb['first_browser'] = airbnb['first_browser'].replace(to_replace = ['Chromium', 'AOL Explorer', 'Apple Mail', \n",
    "                                                                             'Maxthon', 'Sogou Explorer', 'SiteKiosk',\n",
    "                                                                             'IceWeasel', 'Iron','Opera Mini','CoolNovo',\n",
    "                                                                             'TenFourFox', 'SeaMonkey', 'Outlook 2007',\n",
    "                                                                             'Pale Moon', 'Googlebot'],\n",
    "                                                                value='Other')"
   ]
  },
  {
   "cell_type": "code",
   "execution_count": 23,
   "metadata": {
    "scrolled": true
   },
   "outputs": [
    {
     "data": {
      "text/plain": [
       "Chrome           0.306323\n",
       "Safari           0.223301\n",
       "NaN              0.173942\n",
       "Firefox          0.126786\n",
       "Mobile           0.090438\n",
       "IE               0.073073\n",
       "Other Browser    0.004527\n",
       "Other            0.001608\n",
       "Name: first_browser, dtype: float64"
      ]
     },
     "execution_count": 23,
     "metadata": {},
     "output_type": "execute_result"
    }
   ],
   "source": [
    "airbnb['first_browser'].value_counts(normalize=True, dropna=False)"
   ]
  },
  {
   "cell_type": "code",
   "execution_count": 24,
   "metadata": {},
   "outputs": [],
   "source": [
    "# I also want to replace other browser with other\n",
    "airbnb['first_browser'] = airbnb['first_browser'].replace(to_replace = ['Other Browser'],\n",
    "                                                                value='Other')"
   ]
  },
  {
   "cell_type": "code",
   "execution_count": 25,
   "metadata": {},
   "outputs": [
    {
     "data": {
      "text/plain": [
       "Chrome     0.306323\n",
       "Safari     0.223301\n",
       "NaN        0.173942\n",
       "Firefox    0.126786\n",
       "Mobile     0.090438\n",
       "IE         0.073073\n",
       "Other      0.006136\n",
       "Name: first_browser, dtype: float64"
      ]
     },
     "execution_count": 25,
     "metadata": {},
     "output_type": "execute_result"
    }
   ],
   "source": [
    "airbnb['first_browser'].value_counts(normalize=True, dropna=False)"
   ]
  },
  {
   "cell_type": "code",
   "execution_count": 26,
   "metadata": {},
   "outputs": [
    {
     "data": {
      "text/html": [
       "<div>\n",
       "<style scoped>\n",
       "    .dataframe tbody tr th:only-of-type {\n",
       "        vertical-align: middle;\n",
       "    }\n",
       "\n",
       "    .dataframe tbody tr th {\n",
       "        vertical-align: top;\n",
       "    }\n",
       "\n",
       "    .dataframe thead th {\n",
       "        text-align: right;\n",
       "    }\n",
       "</style>\n",
       "<table border=\"1\" class=\"dataframe\">\n",
       "  <thead>\n",
       "    <tr style=\"text-align: right;\">\n",
       "      <th></th>\n",
       "      <th>gender</th>\n",
       "      <th>age</th>\n",
       "      <th>signup_method</th>\n",
       "      <th>language</th>\n",
       "      <th>affiliate_channel</th>\n",
       "      <th>affiliate_provider</th>\n",
       "      <th>first_affiliate_tracked</th>\n",
       "      <th>signup_app</th>\n",
       "      <th>first_device_type</th>\n",
       "      <th>first_browser</th>\n",
       "      <th>country_destination</th>\n",
       "      <th>destination_language</th>\n",
       "      <th>action</th>\n",
       "      <th>action_type</th>\n",
       "      <th>action_detail</th>\n",
       "      <th>device_type</th>\n",
       "      <th>secs_elapsed</th>\n",
       "      <th>age_bucket</th>\n",
       "      <th>population_in_thousands</th>\n",
       "      <th>year</th>\n",
       "    </tr>\n",
       "  </thead>\n",
       "  <tbody>\n",
       "    <tr>\n",
       "      <th>0</th>\n",
       "      <td>MALE</td>\n",
       "      <td>Middle Age</td>\n",
       "      <td>basic</td>\n",
       "      <td>en</td>\n",
       "      <td>sem-non-brand</td>\n",
       "      <td>google</td>\n",
       "      <td>omg</td>\n",
       "      <td>Web</td>\n",
       "      <td>Windows Desktop</td>\n",
       "      <td>Chrome</td>\n",
       "      <td>other</td>\n",
       "      <td>NaN</td>\n",
       "      <td>lookup</td>\n",
       "      <td>NaN</td>\n",
       "      <td>NaN</td>\n",
       "      <td>Windows Desktop</td>\n",
       "      <td>319.0</td>\n",
       "      <td>NaN</td>\n",
       "      <td>NaN</td>\n",
       "      <td>NaN</td>\n",
       "    </tr>\n",
       "    <tr>\n",
       "      <th>1</th>\n",
       "      <td>MALE</td>\n",
       "      <td>Middle Age</td>\n",
       "      <td>basic</td>\n",
       "      <td>en</td>\n",
       "      <td>sem-non-brand</td>\n",
       "      <td>google</td>\n",
       "      <td>omg</td>\n",
       "      <td>Web</td>\n",
       "      <td>Windows Desktop</td>\n",
       "      <td>Chrome</td>\n",
       "      <td>other</td>\n",
       "      <td>NaN</td>\n",
       "      <td>search_results</td>\n",
       "      <td>click</td>\n",
       "      <td>view_search_results</td>\n",
       "      <td>Windows Desktop</td>\n",
       "      <td>67753.0</td>\n",
       "      <td>NaN</td>\n",
       "      <td>NaN</td>\n",
       "      <td>NaN</td>\n",
       "    </tr>\n",
       "    <tr>\n",
       "      <th>2</th>\n",
       "      <td>MALE</td>\n",
       "      <td>Middle Age</td>\n",
       "      <td>basic</td>\n",
       "      <td>en</td>\n",
       "      <td>sem-non-brand</td>\n",
       "      <td>google</td>\n",
       "      <td>omg</td>\n",
       "      <td>Web</td>\n",
       "      <td>Windows Desktop</td>\n",
       "      <td>Chrome</td>\n",
       "      <td>other</td>\n",
       "      <td>NaN</td>\n",
       "      <td>lookup</td>\n",
       "      <td>NaN</td>\n",
       "      <td>NaN</td>\n",
       "      <td>Windows Desktop</td>\n",
       "      <td>301.0</td>\n",
       "      <td>NaN</td>\n",
       "      <td>NaN</td>\n",
       "      <td>NaN</td>\n",
       "    </tr>\n",
       "    <tr>\n",
       "      <th>3</th>\n",
       "      <td>MALE</td>\n",
       "      <td>Middle Age</td>\n",
       "      <td>basic</td>\n",
       "      <td>en</td>\n",
       "      <td>sem-non-brand</td>\n",
       "      <td>google</td>\n",
       "      <td>omg</td>\n",
       "      <td>Web</td>\n",
       "      <td>Windows Desktop</td>\n",
       "      <td>Chrome</td>\n",
       "      <td>other</td>\n",
       "      <td>NaN</td>\n",
       "      <td>search_results</td>\n",
       "      <td>click</td>\n",
       "      <td>view_search_results</td>\n",
       "      <td>Windows Desktop</td>\n",
       "      <td>22141.0</td>\n",
       "      <td>NaN</td>\n",
       "      <td>NaN</td>\n",
       "      <td>NaN</td>\n",
       "    </tr>\n",
       "    <tr>\n",
       "      <th>4</th>\n",
       "      <td>MALE</td>\n",
       "      <td>Middle Age</td>\n",
       "      <td>basic</td>\n",
       "      <td>en</td>\n",
       "      <td>sem-non-brand</td>\n",
       "      <td>google</td>\n",
       "      <td>omg</td>\n",
       "      <td>Web</td>\n",
       "      <td>Windows Desktop</td>\n",
       "      <td>Chrome</td>\n",
       "      <td>other</td>\n",
       "      <td>NaN</td>\n",
       "      <td>lookup</td>\n",
       "      <td>NaN</td>\n",
       "      <td>NaN</td>\n",
       "      <td>Windows Desktop</td>\n",
       "      <td>435.0</td>\n",
       "      <td>NaN</td>\n",
       "      <td>NaN</td>\n",
       "      <td>NaN</td>\n",
       "    </tr>\n",
       "  </tbody>\n",
       "</table>\n",
       "</div>"
      ],
      "text/plain": [
       "  gender         age signup_method language affiliate_channel affiliate_provider first_affiliate_tracked signup_app first_device_type first_browser country_destination destination_language           action action_type        action_detail      device_type  secs_elapsed  age_bucket  population_in_thousands  year\n",
       "0   MALE  Middle Age         basic       en     sem-non-brand             google                     omg        Web   Windows Desktop        Chrome               other                   NaN          lookup         NaN                  NaN  Windows Desktop         319.0         NaN                      NaN   NaN\n",
       "1   MALE  Middle Age         basic       en     sem-non-brand             google                     omg        Web   Windows Desktop        Chrome               other                   NaN  search_results       click  view_search_results  Windows Desktop       67753.0         NaN                      NaN   NaN\n",
       "2   MALE  Middle Age         basic       en     sem-non-brand             google                     omg        Web   Windows Desktop        Chrome               other                   NaN          lookup         NaN                  NaN  Windows Desktop         301.0         NaN                      NaN   NaN\n",
       "3   MALE  Middle Age         basic       en     sem-non-brand             google                     omg        Web   Windows Desktop        Chrome               other                   NaN  search_results       click  view_search_results  Windows Desktop       22141.0         NaN                      NaN   NaN\n",
       "4   MALE  Middle Age         basic       en     sem-non-brand             google                     omg        Web   Windows Desktop        Chrome               other                   NaN          lookup         NaN                  NaN  Windows Desktop         435.0         NaN                      NaN   NaN"
      ]
     },
     "execution_count": 26,
     "metadata": {},
     "output_type": "execute_result"
    }
   ],
   "source": [
    "airbnb.head()"
   ]
  },
  {
   "cell_type": "code",
   "execution_count": 27,
   "metadata": {},
   "outputs": [],
   "source": [
    "#drop the language because there could be a correlation between language and country destination\n",
    "airbnb = airbnb.drop(['language'], axis=1)"
   ]
  },
  {
   "cell_type": "code",
   "execution_count": 28,
   "metadata": {},
   "outputs": [
    {
     "data": {
      "text/plain": [
       "(3340486, 19)"
      ]
     },
     "execution_count": 28,
     "metadata": {},
     "output_type": "execute_result"
    }
   ],
   "source": [
    "airbnb.shape"
   ]
  },
  {
   "cell_type": "code",
   "execution_count": 29,
   "metadata": {},
   "outputs": [
    {
     "data": {
      "text/html": [
       "<div>\n",
       "<style scoped>\n",
       "    .dataframe tbody tr th:only-of-type {\n",
       "        vertical-align: middle;\n",
       "    }\n",
       "\n",
       "    .dataframe tbody tr th {\n",
       "        vertical-align: top;\n",
       "    }\n",
       "\n",
       "    .dataframe thead th {\n",
       "        text-align: right;\n",
       "    }\n",
       "</style>\n",
       "<table border=\"1\" class=\"dataframe\">\n",
       "  <thead>\n",
       "    <tr style=\"text-align: right;\">\n",
       "      <th></th>\n",
       "      <th>gender</th>\n",
       "      <th>age</th>\n",
       "      <th>signup_method</th>\n",
       "      <th>affiliate_channel</th>\n",
       "      <th>affiliate_provider</th>\n",
       "      <th>first_affiliate_tracked</th>\n",
       "      <th>signup_app</th>\n",
       "      <th>first_device_type</th>\n",
       "      <th>first_browser</th>\n",
       "      <th>country_destination</th>\n",
       "      <th>destination_language</th>\n",
       "      <th>action</th>\n",
       "      <th>action_type</th>\n",
       "      <th>action_detail</th>\n",
       "      <th>device_type</th>\n",
       "      <th>secs_elapsed</th>\n",
       "      <th>age_bucket</th>\n",
       "      <th>population_in_thousands</th>\n",
       "      <th>year</th>\n",
       "    </tr>\n",
       "  </thead>\n",
       "  <tbody>\n",
       "    <tr>\n",
       "      <th>0</th>\n",
       "      <td>MALE</td>\n",
       "      <td>Middle Age</td>\n",
       "      <td>basic</td>\n",
       "      <td>sem-non-brand</td>\n",
       "      <td>google</td>\n",
       "      <td>omg</td>\n",
       "      <td>Web</td>\n",
       "      <td>Windows Desktop</td>\n",
       "      <td>Chrome</td>\n",
       "      <td>other</td>\n",
       "      <td>NaN</td>\n",
       "      <td>lookup</td>\n",
       "      <td>NaN</td>\n",
       "      <td>NaN</td>\n",
       "      <td>Windows Desktop</td>\n",
       "      <td>319.0</td>\n",
       "      <td>NaN</td>\n",
       "      <td>NaN</td>\n",
       "      <td>NaN</td>\n",
       "    </tr>\n",
       "    <tr>\n",
       "      <th>1</th>\n",
       "      <td>MALE</td>\n",
       "      <td>Middle Age</td>\n",
       "      <td>basic</td>\n",
       "      <td>sem-non-brand</td>\n",
       "      <td>google</td>\n",
       "      <td>omg</td>\n",
       "      <td>Web</td>\n",
       "      <td>Windows Desktop</td>\n",
       "      <td>Chrome</td>\n",
       "      <td>other</td>\n",
       "      <td>NaN</td>\n",
       "      <td>search_results</td>\n",
       "      <td>click</td>\n",
       "      <td>view_search_results</td>\n",
       "      <td>Windows Desktop</td>\n",
       "      <td>67753.0</td>\n",
       "      <td>NaN</td>\n",
       "      <td>NaN</td>\n",
       "      <td>NaN</td>\n",
       "    </tr>\n",
       "    <tr>\n",
       "      <th>2</th>\n",
       "      <td>MALE</td>\n",
       "      <td>Middle Age</td>\n",
       "      <td>basic</td>\n",
       "      <td>sem-non-brand</td>\n",
       "      <td>google</td>\n",
       "      <td>omg</td>\n",
       "      <td>Web</td>\n",
       "      <td>Windows Desktop</td>\n",
       "      <td>Chrome</td>\n",
       "      <td>other</td>\n",
       "      <td>NaN</td>\n",
       "      <td>lookup</td>\n",
       "      <td>NaN</td>\n",
       "      <td>NaN</td>\n",
       "      <td>Windows Desktop</td>\n",
       "      <td>301.0</td>\n",
       "      <td>NaN</td>\n",
       "      <td>NaN</td>\n",
       "      <td>NaN</td>\n",
       "    </tr>\n",
       "    <tr>\n",
       "      <th>3</th>\n",
       "      <td>MALE</td>\n",
       "      <td>Middle Age</td>\n",
       "      <td>basic</td>\n",
       "      <td>sem-non-brand</td>\n",
       "      <td>google</td>\n",
       "      <td>omg</td>\n",
       "      <td>Web</td>\n",
       "      <td>Windows Desktop</td>\n",
       "      <td>Chrome</td>\n",
       "      <td>other</td>\n",
       "      <td>NaN</td>\n",
       "      <td>search_results</td>\n",
       "      <td>click</td>\n",
       "      <td>view_search_results</td>\n",
       "      <td>Windows Desktop</td>\n",
       "      <td>22141.0</td>\n",
       "      <td>NaN</td>\n",
       "      <td>NaN</td>\n",
       "      <td>NaN</td>\n",
       "    </tr>\n",
       "    <tr>\n",
       "      <th>4</th>\n",
       "      <td>MALE</td>\n",
       "      <td>Middle Age</td>\n",
       "      <td>basic</td>\n",
       "      <td>sem-non-brand</td>\n",
       "      <td>google</td>\n",
       "      <td>omg</td>\n",
       "      <td>Web</td>\n",
       "      <td>Windows Desktop</td>\n",
       "      <td>Chrome</td>\n",
       "      <td>other</td>\n",
       "      <td>NaN</td>\n",
       "      <td>lookup</td>\n",
       "      <td>NaN</td>\n",
       "      <td>NaN</td>\n",
       "      <td>Windows Desktop</td>\n",
       "      <td>435.0</td>\n",
       "      <td>NaN</td>\n",
       "      <td>NaN</td>\n",
       "      <td>NaN</td>\n",
       "    </tr>\n",
       "  </tbody>\n",
       "</table>\n",
       "</div>"
      ],
      "text/plain": [
       "  gender         age signup_method affiliate_channel affiliate_provider first_affiliate_tracked signup_app first_device_type first_browser country_destination destination_language           action action_type        action_detail      device_type  secs_elapsed  age_bucket  population_in_thousands  year\n",
       "0   MALE  Middle Age         basic     sem-non-brand             google                     omg        Web   Windows Desktop        Chrome               other                   NaN          lookup         NaN                  NaN  Windows Desktop         319.0         NaN                      NaN   NaN\n",
       "1   MALE  Middle Age         basic     sem-non-brand             google                     omg        Web   Windows Desktop        Chrome               other                   NaN  search_results       click  view_search_results  Windows Desktop       67753.0         NaN                      NaN   NaN\n",
       "2   MALE  Middle Age         basic     sem-non-brand             google                     omg        Web   Windows Desktop        Chrome               other                   NaN          lookup         NaN                  NaN  Windows Desktop         301.0         NaN                      NaN   NaN\n",
       "3   MALE  Middle Age         basic     sem-non-brand             google                     omg        Web   Windows Desktop        Chrome               other                   NaN  search_results       click  view_search_results  Windows Desktop       22141.0         NaN                      NaN   NaN\n",
       "4   MALE  Middle Age         basic     sem-non-brand             google                     omg        Web   Windows Desktop        Chrome               other                   NaN          lookup         NaN                  NaN  Windows Desktop         435.0         NaN                      NaN   NaN"
      ]
     },
     "execution_count": 29,
     "metadata": {},
     "output_type": "execute_result"
    }
   ],
   "source": [
    "airbnb.head()"
   ]
  },
  {
   "cell_type": "code",
   "execution_count": 30,
   "metadata": {},
   "outputs": [
    {
     "data": {
      "text/plain": [
       "basic       0.766506\n",
       "facebook    0.226921\n",
       "google      0.006573\n",
       "Name: signup_method, dtype: float64"
      ]
     },
     "execution_count": 30,
     "metadata": {},
     "output_type": "execute_result"
    }
   ],
   "source": [
    "airbnb['signup_method'].value_counts(normalize=True, dropna=False)"
   ]
  },
  {
   "cell_type": "code",
   "execution_count": 31,
   "metadata": {},
   "outputs": [
    {
     "data": {
      "text/plain": [
       "direct           0.610976\n",
       "sem-brand        0.168126\n",
       "sem-non-brand    0.089930\n",
       "seo              0.048508\n",
       "api              0.041074\n",
       "content          0.018038\n",
       "other            0.012488\n",
       "remarketing      0.010861\n",
       "Name: affiliate_channel, dtype: float64"
      ]
     },
     "execution_count": 31,
     "metadata": {},
     "output_type": "execute_result"
    }
   ],
   "source": [
    "airbnb['affiliate_channel'].value_counts(normalize=True, dropna=False)\n"
   ]
  },
  {
   "cell_type": "code",
   "execution_count": 32,
   "metadata": {},
   "outputs": [],
   "source": [
    "#in affiliate channels, content, other and remarmeting are very close. I will put them all into other\n",
    "airbnb['affiliate_channel'] = airbnb['affiliate_channel'].replace(to_replace = ['content', 'remarketing'],\n",
    "                                                                value='other')"
   ]
  },
  {
   "cell_type": "code",
   "execution_count": 33,
   "metadata": {
    "scrolled": true
   },
   "outputs": [
    {
     "data": {
      "text/plain": [
       "direct           0.610976\n",
       "sem-brand        0.168126\n",
       "sem-non-brand    0.089930\n",
       "seo              0.048508\n",
       "other            0.041387\n",
       "api              0.041074\n",
       "Name: affiliate_channel, dtype: float64"
      ]
     },
     "execution_count": 33,
     "metadata": {},
     "output_type": "execute_result"
    }
   ],
   "source": [
    "airbnb['affiliate_channel'].value_counts(normalize=True, dropna=False)"
   ]
  },
  {
   "cell_type": "code",
   "execution_count": 34,
   "metadata": {},
   "outputs": [
    {
     "data": {
      "text/plain": [
       "direct                 0.610976\n",
       "google                 0.315539\n",
       "other                  0.050280\n",
       "facebook               0.008536\n",
       "bing                   0.007424\n",
       "padmapper              0.002239\n",
       "yahoo                  0.001631\n",
       "facebook-open-graph    0.000799\n",
       "email-marketing        0.000755\n",
       "vast                   0.000641\n",
       "naver                  0.000517\n",
       "gsp                    0.000246\n",
       "baidu                  0.000192\n",
       "yandex                 0.000134\n",
       "daum                   0.000065\n",
       "meetup                 0.000027\n",
       "craigslist             0.000001\n",
       "Name: affiliate_provider, dtype: float64"
      ]
     },
     "execution_count": 34,
     "metadata": {},
     "output_type": "execute_result"
    }
   ],
   "source": [
    "airbnb['affiliate_provider'].value_counts(normalize=True, dropna=False)"
   ]
  },
  {
   "cell_type": "code",
   "execution_count": 35,
   "metadata": {},
   "outputs": [],
   "source": [
    "#As seen above, direct and google are the most common affiliate providers. So, I am going to replace the rest of them\n",
    "#with other\n",
    "airbnb['affiliate_provider'] = airbnb['affiliate_provider'].replace(to_replace = ['craigslist', 'meetup', 'daum','yandex',\n",
    "                                                                             'baidu', 'gsp', 'naver','vast','yahoo',\n",
    "                                                                             'email-marketing', 'padmapper','bing',\n",
    "                                                                             'facebook-open-graph', 'facebook'],\n",
    "                                                                value='other')"
   ]
  },
  {
   "cell_type": "code",
   "execution_count": 36,
   "metadata": {
    "scrolled": true
   },
   "outputs": [
    {
     "data": {
      "text/plain": [
       "direct    0.610976\n",
       "google    0.315539\n",
       "other     0.073485\n",
       "Name: affiliate_provider, dtype: float64"
      ]
     },
     "execution_count": 36,
     "metadata": {},
     "output_type": "execute_result"
    }
   ],
   "source": [
    "airbnb['affiliate_provider'].value_counts(normalize=True, dropna=False)"
   ]
  },
  {
   "cell_type": "code",
   "execution_count": 37,
   "metadata": {
    "scrolled": true
   },
   "outputs": [
    {
     "data": {
      "text/plain": [
       "untracked        0.546922\n",
       "omg              0.251476\n",
       "linked           0.176282\n",
       "tracked-other    0.014404\n",
       "product          0.007392\n",
       "marketing        0.002713\n",
       "local ops        0.000421\n",
       "NaN              0.000389\n",
       "Name: first_affiliate_tracked, dtype: float64"
      ]
     },
     "execution_count": 37,
     "metadata": {},
     "output_type": "execute_result"
    }
   ],
   "source": [
    "airbnb['first_affiliate_tracked'].value_counts(normalize=True, dropna=False)"
   ]
  },
  {
   "cell_type": "code",
   "execution_count": 38,
   "metadata": {},
   "outputs": [],
   "source": [
    "#Here, I will change the small values with tracked-other\n",
    "airbnb['first_affiliate_tracked'] = airbnb['first_affiliate_tracked'].replace(to_replace = ['local ops',\n",
    "                                                                                                  'marketing', 'product'],\n",
    "                                                                value='tracked-other')"
   ]
  },
  {
   "cell_type": "code",
   "execution_count": 39,
   "metadata": {
    "scrolled": true
   },
   "outputs": [
    {
     "data": {
      "text/plain": [
       "untracked        0.546922\n",
       "omg              0.251476\n",
       "linked           0.176282\n",
       "tracked-other    0.024931\n",
       "NaN              0.000389\n",
       "Name: first_affiliate_tracked, dtype: float64"
      ]
     },
     "execution_count": 39,
     "metadata": {},
     "output_type": "execute_result"
    }
   ],
   "source": [
    "airbnb['first_affiliate_tracked'].value_counts(normalize=True, dropna=False)"
   ]
  },
  {
   "cell_type": "code",
   "execution_count": 40,
   "metadata": {},
   "outputs": [
    {
     "data": {
      "text/html": [
       "<div>\n",
       "<style scoped>\n",
       "    .dataframe tbody tr th:only-of-type {\n",
       "        vertical-align: middle;\n",
       "    }\n",
       "\n",
       "    .dataframe tbody tr th {\n",
       "        vertical-align: top;\n",
       "    }\n",
       "\n",
       "    .dataframe thead th {\n",
       "        text-align: right;\n",
       "    }\n",
       "</style>\n",
       "<table border=\"1\" class=\"dataframe\">\n",
       "  <thead>\n",
       "    <tr style=\"text-align: right;\">\n",
       "      <th></th>\n",
       "      <th>gender</th>\n",
       "      <th>age</th>\n",
       "      <th>signup_method</th>\n",
       "      <th>affiliate_channel</th>\n",
       "      <th>affiliate_provider</th>\n",
       "      <th>first_affiliate_tracked</th>\n",
       "      <th>signup_app</th>\n",
       "      <th>first_device_type</th>\n",
       "      <th>first_browser</th>\n",
       "      <th>country_destination</th>\n",
       "      <th>destination_language</th>\n",
       "      <th>action</th>\n",
       "      <th>action_type</th>\n",
       "      <th>action_detail</th>\n",
       "      <th>device_type</th>\n",
       "      <th>secs_elapsed</th>\n",
       "      <th>age_bucket</th>\n",
       "      <th>population_in_thousands</th>\n",
       "      <th>year</th>\n",
       "    </tr>\n",
       "  </thead>\n",
       "  <tbody>\n",
       "    <tr>\n",
       "      <th>0</th>\n",
       "      <td>MALE</td>\n",
       "      <td>Middle Age</td>\n",
       "      <td>basic</td>\n",
       "      <td>sem-non-brand</td>\n",
       "      <td>google</td>\n",
       "      <td>omg</td>\n",
       "      <td>Web</td>\n",
       "      <td>Windows Desktop</td>\n",
       "      <td>Chrome</td>\n",
       "      <td>other</td>\n",
       "      <td>NaN</td>\n",
       "      <td>lookup</td>\n",
       "      <td>NaN</td>\n",
       "      <td>NaN</td>\n",
       "      <td>Windows Desktop</td>\n",
       "      <td>319.0</td>\n",
       "      <td>NaN</td>\n",
       "      <td>NaN</td>\n",
       "      <td>NaN</td>\n",
       "    </tr>\n",
       "    <tr>\n",
       "      <th>1</th>\n",
       "      <td>MALE</td>\n",
       "      <td>Middle Age</td>\n",
       "      <td>basic</td>\n",
       "      <td>sem-non-brand</td>\n",
       "      <td>google</td>\n",
       "      <td>omg</td>\n",
       "      <td>Web</td>\n",
       "      <td>Windows Desktop</td>\n",
       "      <td>Chrome</td>\n",
       "      <td>other</td>\n",
       "      <td>NaN</td>\n",
       "      <td>search_results</td>\n",
       "      <td>click</td>\n",
       "      <td>view_search_results</td>\n",
       "      <td>Windows Desktop</td>\n",
       "      <td>67753.0</td>\n",
       "      <td>NaN</td>\n",
       "      <td>NaN</td>\n",
       "      <td>NaN</td>\n",
       "    </tr>\n",
       "    <tr>\n",
       "      <th>2</th>\n",
       "      <td>MALE</td>\n",
       "      <td>Middle Age</td>\n",
       "      <td>basic</td>\n",
       "      <td>sem-non-brand</td>\n",
       "      <td>google</td>\n",
       "      <td>omg</td>\n",
       "      <td>Web</td>\n",
       "      <td>Windows Desktop</td>\n",
       "      <td>Chrome</td>\n",
       "      <td>other</td>\n",
       "      <td>NaN</td>\n",
       "      <td>lookup</td>\n",
       "      <td>NaN</td>\n",
       "      <td>NaN</td>\n",
       "      <td>Windows Desktop</td>\n",
       "      <td>301.0</td>\n",
       "      <td>NaN</td>\n",
       "      <td>NaN</td>\n",
       "      <td>NaN</td>\n",
       "    </tr>\n",
       "    <tr>\n",
       "      <th>3</th>\n",
       "      <td>MALE</td>\n",
       "      <td>Middle Age</td>\n",
       "      <td>basic</td>\n",
       "      <td>sem-non-brand</td>\n",
       "      <td>google</td>\n",
       "      <td>omg</td>\n",
       "      <td>Web</td>\n",
       "      <td>Windows Desktop</td>\n",
       "      <td>Chrome</td>\n",
       "      <td>other</td>\n",
       "      <td>NaN</td>\n",
       "      <td>search_results</td>\n",
       "      <td>click</td>\n",
       "      <td>view_search_results</td>\n",
       "      <td>Windows Desktop</td>\n",
       "      <td>22141.0</td>\n",
       "      <td>NaN</td>\n",
       "      <td>NaN</td>\n",
       "      <td>NaN</td>\n",
       "    </tr>\n",
       "    <tr>\n",
       "      <th>4</th>\n",
       "      <td>MALE</td>\n",
       "      <td>Middle Age</td>\n",
       "      <td>basic</td>\n",
       "      <td>sem-non-brand</td>\n",
       "      <td>google</td>\n",
       "      <td>omg</td>\n",
       "      <td>Web</td>\n",
       "      <td>Windows Desktop</td>\n",
       "      <td>Chrome</td>\n",
       "      <td>other</td>\n",
       "      <td>NaN</td>\n",
       "      <td>lookup</td>\n",
       "      <td>NaN</td>\n",
       "      <td>NaN</td>\n",
       "      <td>Windows Desktop</td>\n",
       "      <td>435.0</td>\n",
       "      <td>NaN</td>\n",
       "      <td>NaN</td>\n",
       "      <td>NaN</td>\n",
       "    </tr>\n",
       "  </tbody>\n",
       "</table>\n",
       "</div>"
      ],
      "text/plain": [
       "  gender         age signup_method affiliate_channel affiliate_provider first_affiliate_tracked signup_app first_device_type first_browser country_destination destination_language           action action_type        action_detail      device_type  secs_elapsed  age_bucket  population_in_thousands  year\n",
       "0   MALE  Middle Age         basic     sem-non-brand             google                     omg        Web   Windows Desktop        Chrome               other                   NaN          lookup         NaN                  NaN  Windows Desktop         319.0         NaN                      NaN   NaN\n",
       "1   MALE  Middle Age         basic     sem-non-brand             google                     omg        Web   Windows Desktop        Chrome               other                   NaN  search_results       click  view_search_results  Windows Desktop       67753.0         NaN                      NaN   NaN\n",
       "2   MALE  Middle Age         basic     sem-non-brand             google                     omg        Web   Windows Desktop        Chrome               other                   NaN          lookup         NaN                  NaN  Windows Desktop         301.0         NaN                      NaN   NaN\n",
       "3   MALE  Middle Age         basic     sem-non-brand             google                     omg        Web   Windows Desktop        Chrome               other                   NaN  search_results       click  view_search_results  Windows Desktop       22141.0         NaN                      NaN   NaN\n",
       "4   MALE  Middle Age         basic     sem-non-brand             google                     omg        Web   Windows Desktop        Chrome               other                   NaN          lookup         NaN                  NaN  Windows Desktop         435.0         NaN                      NaN   NaN"
      ]
     },
     "execution_count": 40,
     "metadata": {},
     "output_type": "execute_result"
    }
   ],
   "source": [
    "airbnb.head()"
   ]
  },
  {
   "cell_type": "code",
   "execution_count": 41,
   "metadata": {
    "scrolled": false
   },
   "outputs": [
    {
     "data": {
      "text/plain": [
       "Mac Desktop           0.417064\n",
       "Windows Desktop       0.303728\n",
       "iPhone                0.107978\n",
       "Other/Unknown         0.075564\n",
       "iPad                  0.070686\n",
       "Android Phone         0.011367\n",
       "Android Tablet        0.007346\n",
       "Desktop (Other)       0.006061\n",
       "SmartPhone (Other)    0.000206\n",
       "Name: first_device_type, dtype: float64"
      ]
     },
     "execution_count": 41,
     "metadata": {},
     "output_type": "execute_result"
    }
   ],
   "source": [
    "airbnb['first_device_type'].value_counts(normalize=True, dropna=False)"
   ]
  },
  {
   "cell_type": "code",
   "execution_count": 42,
   "metadata": {},
   "outputs": [],
   "source": [
    "#Create a single group for smartphones\n",
    "airbnb['first_device_type'] = airbnb['first_device_type'].replace(to_replace = ['iPhone','Android Phone',\n",
    "                                                                                     'SmartPhone (Other)'],\n",
    "                                                                value='Smart Phone')"
   ]
  },
  {
   "cell_type": "code",
   "execution_count": 43,
   "metadata": {},
   "outputs": [
    {
     "data": {
      "text/plain": [
       "Mac Desktop        0.417064\n",
       "Windows Desktop    0.303728\n",
       "Smart Phone        0.119550\n",
       "Other/Unknown      0.075564\n",
       "iPad               0.070686\n",
       "Android Tablet     0.007346\n",
       "Desktop (Other)    0.006061\n",
       "Name: first_device_type, dtype: float64"
      ]
     },
     "execution_count": 43,
     "metadata": {},
     "output_type": "execute_result"
    }
   ],
   "source": [
    "airbnb['first_device_type'].value_counts(normalize=True, dropna=False)"
   ]
  },
  {
   "cell_type": "code",
   "execution_count": 44,
   "metadata": {},
   "outputs": [],
   "source": [
    "#Create a single group for tablets\n",
    "airbnb['first_device_type'] = airbnb['first_device_type'].replace(to_replace = ['iPad','Android Tablet'],\n",
    "                                                                value='Tablet')"
   ]
  },
  {
   "cell_type": "code",
   "execution_count": 45,
   "metadata": {
    "scrolled": true
   },
   "outputs": [
    {
     "data": {
      "text/plain": [
       "Mac Desktop        0.417064\n",
       "Windows Desktop    0.303728\n",
       "Smart Phone        0.119550\n",
       "Tablet             0.078032\n",
       "Other/Unknown      0.075564\n",
       "Desktop (Other)    0.006061\n",
       "Name: first_device_type, dtype: float64"
      ]
     },
     "execution_count": 45,
     "metadata": {},
     "output_type": "execute_result"
    }
   ],
   "source": [
    "airbnb['first_device_type'].value_counts(normalize=True, dropna=False)"
   ]
  },
  {
   "cell_type": "code",
   "execution_count": 46,
   "metadata": {
    "scrolled": false
   },
   "outputs": [
    {
     "data": {
      "text/html": [
       "<div>\n",
       "<style scoped>\n",
       "    .dataframe tbody tr th:only-of-type {\n",
       "        vertical-align: middle;\n",
       "    }\n",
       "\n",
       "    .dataframe tbody tr th {\n",
       "        vertical-align: top;\n",
       "    }\n",
       "\n",
       "    .dataframe thead th {\n",
       "        text-align: right;\n",
       "    }\n",
       "</style>\n",
       "<table border=\"1\" class=\"dataframe\">\n",
       "  <thead>\n",
       "    <tr style=\"text-align: right;\">\n",
       "      <th></th>\n",
       "      <th>gender</th>\n",
       "      <th>age</th>\n",
       "      <th>signup_method</th>\n",
       "      <th>affiliate_channel</th>\n",
       "      <th>affiliate_provider</th>\n",
       "      <th>first_affiliate_tracked</th>\n",
       "      <th>signup_app</th>\n",
       "      <th>first_device_type</th>\n",
       "      <th>first_browser</th>\n",
       "      <th>country_destination</th>\n",
       "      <th>destination_language</th>\n",
       "      <th>action</th>\n",
       "      <th>action_type</th>\n",
       "      <th>action_detail</th>\n",
       "      <th>device_type</th>\n",
       "      <th>secs_elapsed</th>\n",
       "      <th>age_bucket</th>\n",
       "      <th>population_in_thousands</th>\n",
       "      <th>year</th>\n",
       "    </tr>\n",
       "  </thead>\n",
       "  <tbody>\n",
       "    <tr>\n",
       "      <th>0</th>\n",
       "      <td>MALE</td>\n",
       "      <td>Middle Age</td>\n",
       "      <td>basic</td>\n",
       "      <td>sem-non-brand</td>\n",
       "      <td>google</td>\n",
       "      <td>omg</td>\n",
       "      <td>Web</td>\n",
       "      <td>Windows Desktop</td>\n",
       "      <td>Chrome</td>\n",
       "      <td>other</td>\n",
       "      <td>NaN</td>\n",
       "      <td>lookup</td>\n",
       "      <td>NaN</td>\n",
       "      <td>NaN</td>\n",
       "      <td>Windows Desktop</td>\n",
       "      <td>319.0</td>\n",
       "      <td>NaN</td>\n",
       "      <td>NaN</td>\n",
       "      <td>NaN</td>\n",
       "    </tr>\n",
       "    <tr>\n",
       "      <th>1</th>\n",
       "      <td>MALE</td>\n",
       "      <td>Middle Age</td>\n",
       "      <td>basic</td>\n",
       "      <td>sem-non-brand</td>\n",
       "      <td>google</td>\n",
       "      <td>omg</td>\n",
       "      <td>Web</td>\n",
       "      <td>Windows Desktop</td>\n",
       "      <td>Chrome</td>\n",
       "      <td>other</td>\n",
       "      <td>NaN</td>\n",
       "      <td>search_results</td>\n",
       "      <td>click</td>\n",
       "      <td>view_search_results</td>\n",
       "      <td>Windows Desktop</td>\n",
       "      <td>67753.0</td>\n",
       "      <td>NaN</td>\n",
       "      <td>NaN</td>\n",
       "      <td>NaN</td>\n",
       "    </tr>\n",
       "    <tr>\n",
       "      <th>2</th>\n",
       "      <td>MALE</td>\n",
       "      <td>Middle Age</td>\n",
       "      <td>basic</td>\n",
       "      <td>sem-non-brand</td>\n",
       "      <td>google</td>\n",
       "      <td>omg</td>\n",
       "      <td>Web</td>\n",
       "      <td>Windows Desktop</td>\n",
       "      <td>Chrome</td>\n",
       "      <td>other</td>\n",
       "      <td>NaN</td>\n",
       "      <td>lookup</td>\n",
       "      <td>NaN</td>\n",
       "      <td>NaN</td>\n",
       "      <td>Windows Desktop</td>\n",
       "      <td>301.0</td>\n",
       "      <td>NaN</td>\n",
       "      <td>NaN</td>\n",
       "      <td>NaN</td>\n",
       "    </tr>\n",
       "    <tr>\n",
       "      <th>3</th>\n",
       "      <td>MALE</td>\n",
       "      <td>Middle Age</td>\n",
       "      <td>basic</td>\n",
       "      <td>sem-non-brand</td>\n",
       "      <td>google</td>\n",
       "      <td>omg</td>\n",
       "      <td>Web</td>\n",
       "      <td>Windows Desktop</td>\n",
       "      <td>Chrome</td>\n",
       "      <td>other</td>\n",
       "      <td>NaN</td>\n",
       "      <td>search_results</td>\n",
       "      <td>click</td>\n",
       "      <td>view_search_results</td>\n",
       "      <td>Windows Desktop</td>\n",
       "      <td>22141.0</td>\n",
       "      <td>NaN</td>\n",
       "      <td>NaN</td>\n",
       "      <td>NaN</td>\n",
       "    </tr>\n",
       "    <tr>\n",
       "      <th>4</th>\n",
       "      <td>MALE</td>\n",
       "      <td>Middle Age</td>\n",
       "      <td>basic</td>\n",
       "      <td>sem-non-brand</td>\n",
       "      <td>google</td>\n",
       "      <td>omg</td>\n",
       "      <td>Web</td>\n",
       "      <td>Windows Desktop</td>\n",
       "      <td>Chrome</td>\n",
       "      <td>other</td>\n",
       "      <td>NaN</td>\n",
       "      <td>lookup</td>\n",
       "      <td>NaN</td>\n",
       "      <td>NaN</td>\n",
       "      <td>Windows Desktop</td>\n",
       "      <td>435.0</td>\n",
       "      <td>NaN</td>\n",
       "      <td>NaN</td>\n",
       "      <td>NaN</td>\n",
       "    </tr>\n",
       "  </tbody>\n",
       "</table>\n",
       "</div>"
      ],
      "text/plain": [
       "  gender         age signup_method affiliate_channel affiliate_provider first_affiliate_tracked signup_app first_device_type first_browser country_destination destination_language           action action_type        action_detail      device_type  secs_elapsed  age_bucket  population_in_thousands  year\n",
       "0   MALE  Middle Age         basic     sem-non-brand             google                     omg        Web   Windows Desktop        Chrome               other                   NaN          lookup         NaN                  NaN  Windows Desktop         319.0         NaN                      NaN   NaN\n",
       "1   MALE  Middle Age         basic     sem-non-brand             google                     omg        Web   Windows Desktop        Chrome               other                   NaN  search_results       click  view_search_results  Windows Desktop       67753.0         NaN                      NaN   NaN\n",
       "2   MALE  Middle Age         basic     sem-non-brand             google                     omg        Web   Windows Desktop        Chrome               other                   NaN          lookup         NaN                  NaN  Windows Desktop         301.0         NaN                      NaN   NaN\n",
       "3   MALE  Middle Age         basic     sem-non-brand             google                     omg        Web   Windows Desktop        Chrome               other                   NaN  search_results       click  view_search_results  Windows Desktop       22141.0         NaN                      NaN   NaN\n",
       "4   MALE  Middle Age         basic     sem-non-brand             google                     omg        Web   Windows Desktop        Chrome               other                   NaN          lookup         NaN                  NaN  Windows Desktop         435.0         NaN                      NaN   NaN"
      ]
     },
     "execution_count": 46,
     "metadata": {},
     "output_type": "execute_result"
    }
   ],
   "source": [
    "airbnb.head()"
   ]
  },
  {
   "cell_type": "code",
   "execution_count": 47,
   "metadata": {},
   "outputs": [
    {
     "data": {
      "text/plain": [
       "show                                  2.151307e-01\n",
       "search_results                        9.155315e-02\n",
       "personalize                           9.108016e-02\n",
       "index                                 7.955459e-02\n",
       "ajax_refresh_subtotal                 6.272261e-02\n",
       "similar_listings                      5.726951e-02\n",
       "lookup                                3.763644e-02\n",
       "update                                3.721524e-02\n",
       "search                                3.275392e-02\n",
       "social_connections                    2.382288e-02\n",
       "header_userpic                        1.608898e-02\n",
       "create                                1.594738e-02\n",
       "active                                1.563485e-02\n",
       "track_page_view                       1.358724e-02\n",
       "dashboard                             1.179709e-02\n",
       "collections                           1.123609e-02\n",
       "NaN                                   1.014104e-02\n",
       "reviews                               9.536636e-03\n",
       "edit                                  9.018448e-03\n",
       "calendar_tab_inner2                   7.794674e-03\n",
       "ajax_check_dates                      7.438139e-03\n",
       "confirm_email                         6.693637e-03\n",
       "qt2                                   6.555633e-03\n",
       "ask_question                          6.211671e-03\n",
       "listings                              6.174251e-03\n",
       "requested                             6.000624e-03\n",
       "other_hosting_reviews_first           5.351317e-03\n",
       "campaigns                             5.170505e-03\n",
       "show_personalize                      5.131888e-03\n",
       "authenticate                          5.122608e-03\n",
       "                                          ...     \n",
       "feed                                  1.197431e-06\n",
       "maybe_information                     1.197431e-06\n",
       "payout_delete                         1.197431e-06\n",
       "message                               1.197431e-06\n",
       "locale_from_host                      8.980729e-07\n",
       "sync                                  8.980729e-07\n",
       "questions                             8.980729e-07\n",
       "print_confirmation                    5.987153e-07\n",
       "social-media                          5.987153e-07\n",
       "guest_billing_receipt                 5.987153e-07\n",
       "photography_update                    5.987153e-07\n",
       "show_code                             5.987153e-07\n",
       "approve                               5.987153e-07\n",
       "united-states                         5.987153e-07\n",
       "load_more                             5.987153e-07\n",
       "friend_listing                        5.987153e-07\n",
       "nyan                                  2.993576e-07\n",
       "envoy_bank_details_redirect           2.993576e-07\n",
       "ajax_special_offer_dates_available    2.993576e-07\n",
       "toggle_availability                   2.993576e-07\n",
       "booking                               2.993576e-07\n",
       "sldf                                  2.993576e-07\n",
       "recommendation_page                   2.993576e-07\n",
       "envoy_form                            2.993576e-07\n",
       "wishlists                             2.993576e-07\n",
       "plaxo_cb                              2.993576e-07\n",
       "southern-europe                       2.993576e-07\n",
       "localized                             2.993576e-07\n",
       "deactivate                            2.993576e-07\n",
       "preapproval                           2.993576e-07\n",
       "Name: action, Length: 281, dtype: float64"
      ]
     },
     "execution_count": 47,
     "metadata": {},
     "output_type": "execute_result"
    }
   ],
   "source": [
    "airbnb['action'].value_counts(normalize=True, dropna=False)"
   ]
  },
  {
   "cell_type": "code",
   "execution_count": 48,
   "metadata": {
    "scrolled": true
   },
   "outputs": [
    {
     "data": {
      "text/plain": [
       "NaN                              2.330251e-01\n",
       "view_search_results              1.742884e-01\n",
       "p3                               9.234345e-02\n",
       "wishlist_content_update          9.108016e-02\n",
       "change_trip_characteristics      6.272261e-02\n",
       "similar_listings                 5.726951e-02\n",
       "user_profile                     4.073988e-02\n",
       "update_listing                   2.822733e-02\n",
       "user_social_connections          2.316819e-02\n",
       "header_userpic                   1.608898e-02\n",
       "user_wishlists                   1.399198e-02\n",
       "message_thread                   1.280442e-02\n",
       "dashboard                        1.179709e-02\n",
       "contact_host                     1.134715e-02\n",
       "message_post                     1.088614e-02\n",
       "edit_profile                     8.969653e-03\n",
       "listing_reviews                  7.709956e-03\n",
       "change_contact_host_dates        7.438139e-03\n",
       "create_user                      6.730757e-03\n",
       "confirm_email_link               6.669389e-03\n",
       "user_profile_content_update      5.131888e-03\n",
       "login                            4.957662e-03\n",
       "p5                               4.840014e-03\n",
       "unavailable_dates                4.742723e-03\n",
       "user_listings                    4.562809e-03\n",
       "create_phone_numbers             3.788670e-03\n",
       "your_trips                       3.437224e-03\n",
       "update_listing_description       3.135771e-03\n",
       "your_listings                    3.083384e-03\n",
       "profile_verifications            2.825637e-03\n",
       "                                     ...     \n",
       "guest_cancellation               5.178887e-05\n",
       "translate_listing_reviews        4.909465e-05\n",
       "toggle_archived_thread           4.729851e-05\n",
       "host_guarantee                   4.580172e-05\n",
       "admin_templates                  4.400557e-05\n",
       "set_password_page                3.801842e-05\n",
       "guest_receipt                    3.801842e-05\n",
       "previous_trips                   3.233062e-05\n",
       "translations                     3.143255e-05\n",
       "forgot_password                  3.143255e-05\n",
       "user_friend_recommendations      2.784026e-05\n",
       "airbnb_picks_wishlists           2.784026e-05\n",
       "confirm_email                    2.364925e-05\n",
       "toggle_starred_thread            2.334990e-05\n",
       "alteration_field                 1.975760e-05\n",
       "place_worth                      1.406981e-05\n",
       "change_password                  1.377045e-05\n",
       "delete_listing                   9.280087e-06\n",
       "calculate_worth                  8.980729e-06\n",
       "complete_booking                 7.783299e-06\n",
       "remove_dashboard_alert           6.585868e-06\n",
       "alteration_request               5.687795e-06\n",
       "change_availability              3.592292e-06\n",
       "homepage                         2.394861e-06\n",
       "respond_to_alteration_request    2.394861e-06\n",
       "create_alteration_request        1.796146e-06\n",
       "delete_listing_description       5.987153e-07\n",
       "booking                          2.993576e-07\n",
       "host_respond                     2.993576e-07\n",
       "special_offer_field              2.993576e-07\n",
       "Name: action_detail, Length: 113, dtype: float64"
      ]
     },
     "execution_count": 48,
     "metadata": {},
     "output_type": "execute_result"
    }
   ],
   "source": [
    "airbnb['action_detail'].value_counts(normalize=True, dropna=False)"
   ]
  },
  {
   "cell_type": "code",
   "execution_count": 49,
   "metadata": {},
   "outputs": [
    {
     "data": {
      "text/plain": [
       "112"
      ]
     },
     "execution_count": 49,
     "metadata": {},
     "output_type": "execute_result"
    }
   ],
   "source": [
    "airbnb['action_detail'].nunique()"
   ]
  },
  {
   "cell_type": "code",
   "execution_count": 50,
   "metadata": {},
   "outputs": [
    {
     "data": {
      "text/plain": [
       "280"
      ]
     },
     "execution_count": 50,
     "metadata": {},
     "output_type": "execute_result"
    }
   ],
   "source": [
    "airbnb['action'].nunique()"
   ]
  },
  {
   "cell_type": "code",
   "execution_count": 51,
   "metadata": {
    "scrolled": true
   },
   "outputs": [
    {
     "data": {
      "text/plain": [
       "view                2.668716e-01\n",
       "NaN                 2.330251e-01\n",
       "data                2.119883e-01\n",
       "click               2.080811e-01\n",
       "submit              6.618169e-02\n",
       "message_post        1.088614e-02\n",
       "booking_request     1.999410e-03\n",
       "partner_callback    9.663265e-04\n",
       "booking_response    2.993576e-07\n",
       "Name: action_type, dtype: float64"
      ]
     },
     "execution_count": 51,
     "metadata": {},
     "output_type": "execute_result"
    }
   ],
   "source": [
    "airbnb['action_type'].value_counts(normalize=True, dropna=False)"
   ]
  },
  {
   "cell_type": "code",
   "execution_count": 52,
   "metadata": {},
   "outputs": [],
   "source": [
    "#There is little value in action type. I will drop it. In terms of action details and action, I am not going to\n",
    "#touch them now because I can see some important values could be important for my analysis.\n",
    "#However, I will be tinking about it while working on other cleaning stuff.\n",
    "\n",
    "airbnb = airbnb.drop(['action_type'], axis=1)"
   ]
  },
  {
   "cell_type": "code",
   "execution_count": 53,
   "metadata": {},
   "outputs": [],
   "source": [
    "#similarly, it is not clearly indicated what the differences are between action and action detail.\n",
    "#However, I feel that action detail is grouped-themes version on action. So, I will drop action as well\n",
    "airbnb = airbnb.drop(['action'], axis=1)"
   ]
  },
  {
   "cell_type": "code",
   "execution_count": 54,
   "metadata": {},
   "outputs": [
    {
     "data": {
      "text/plain": [
       "(3340486, 17)"
      ]
     },
     "execution_count": 54,
     "metadata": {},
     "output_type": "execute_result"
    }
   ],
   "source": [
    "airbnb.shape"
   ]
  },
  {
   "cell_type": "code",
   "execution_count": 55,
   "metadata": {},
   "outputs": [
    {
     "data": {
      "text/html": [
       "<div>\n",
       "<style scoped>\n",
       "    .dataframe tbody tr th:only-of-type {\n",
       "        vertical-align: middle;\n",
       "    }\n",
       "\n",
       "    .dataframe tbody tr th {\n",
       "        vertical-align: top;\n",
       "    }\n",
       "\n",
       "    .dataframe thead th {\n",
       "        text-align: right;\n",
       "    }\n",
       "</style>\n",
       "<table border=\"1\" class=\"dataframe\">\n",
       "  <thead>\n",
       "    <tr style=\"text-align: right;\">\n",
       "      <th></th>\n",
       "      <th>gender</th>\n",
       "      <th>age</th>\n",
       "      <th>signup_method</th>\n",
       "      <th>affiliate_channel</th>\n",
       "      <th>affiliate_provider</th>\n",
       "      <th>first_affiliate_tracked</th>\n",
       "      <th>signup_app</th>\n",
       "      <th>first_device_type</th>\n",
       "      <th>first_browser</th>\n",
       "      <th>country_destination</th>\n",
       "      <th>destination_language</th>\n",
       "      <th>action_detail</th>\n",
       "      <th>device_type</th>\n",
       "      <th>secs_elapsed</th>\n",
       "      <th>age_bucket</th>\n",
       "      <th>population_in_thousands</th>\n",
       "      <th>year</th>\n",
       "    </tr>\n",
       "  </thead>\n",
       "  <tbody>\n",
       "    <tr>\n",
       "      <th>0</th>\n",
       "      <td>MALE</td>\n",
       "      <td>Middle Age</td>\n",
       "      <td>basic</td>\n",
       "      <td>sem-non-brand</td>\n",
       "      <td>google</td>\n",
       "      <td>omg</td>\n",
       "      <td>Web</td>\n",
       "      <td>Windows Desktop</td>\n",
       "      <td>Chrome</td>\n",
       "      <td>other</td>\n",
       "      <td>NaN</td>\n",
       "      <td>NaN</td>\n",
       "      <td>Windows Desktop</td>\n",
       "      <td>319.0</td>\n",
       "      <td>NaN</td>\n",
       "      <td>NaN</td>\n",
       "      <td>NaN</td>\n",
       "    </tr>\n",
       "    <tr>\n",
       "      <th>1</th>\n",
       "      <td>MALE</td>\n",
       "      <td>Middle Age</td>\n",
       "      <td>basic</td>\n",
       "      <td>sem-non-brand</td>\n",
       "      <td>google</td>\n",
       "      <td>omg</td>\n",
       "      <td>Web</td>\n",
       "      <td>Windows Desktop</td>\n",
       "      <td>Chrome</td>\n",
       "      <td>other</td>\n",
       "      <td>NaN</td>\n",
       "      <td>view_search_results</td>\n",
       "      <td>Windows Desktop</td>\n",
       "      <td>67753.0</td>\n",
       "      <td>NaN</td>\n",
       "      <td>NaN</td>\n",
       "      <td>NaN</td>\n",
       "    </tr>\n",
       "    <tr>\n",
       "      <th>2</th>\n",
       "      <td>MALE</td>\n",
       "      <td>Middle Age</td>\n",
       "      <td>basic</td>\n",
       "      <td>sem-non-brand</td>\n",
       "      <td>google</td>\n",
       "      <td>omg</td>\n",
       "      <td>Web</td>\n",
       "      <td>Windows Desktop</td>\n",
       "      <td>Chrome</td>\n",
       "      <td>other</td>\n",
       "      <td>NaN</td>\n",
       "      <td>NaN</td>\n",
       "      <td>Windows Desktop</td>\n",
       "      <td>301.0</td>\n",
       "      <td>NaN</td>\n",
       "      <td>NaN</td>\n",
       "      <td>NaN</td>\n",
       "    </tr>\n",
       "    <tr>\n",
       "      <th>3</th>\n",
       "      <td>MALE</td>\n",
       "      <td>Middle Age</td>\n",
       "      <td>basic</td>\n",
       "      <td>sem-non-brand</td>\n",
       "      <td>google</td>\n",
       "      <td>omg</td>\n",
       "      <td>Web</td>\n",
       "      <td>Windows Desktop</td>\n",
       "      <td>Chrome</td>\n",
       "      <td>other</td>\n",
       "      <td>NaN</td>\n",
       "      <td>view_search_results</td>\n",
       "      <td>Windows Desktop</td>\n",
       "      <td>22141.0</td>\n",
       "      <td>NaN</td>\n",
       "      <td>NaN</td>\n",
       "      <td>NaN</td>\n",
       "    </tr>\n",
       "    <tr>\n",
       "      <th>4</th>\n",
       "      <td>MALE</td>\n",
       "      <td>Middle Age</td>\n",
       "      <td>basic</td>\n",
       "      <td>sem-non-brand</td>\n",
       "      <td>google</td>\n",
       "      <td>omg</td>\n",
       "      <td>Web</td>\n",
       "      <td>Windows Desktop</td>\n",
       "      <td>Chrome</td>\n",
       "      <td>other</td>\n",
       "      <td>NaN</td>\n",
       "      <td>NaN</td>\n",
       "      <td>Windows Desktop</td>\n",
       "      <td>435.0</td>\n",
       "      <td>NaN</td>\n",
       "      <td>NaN</td>\n",
       "      <td>NaN</td>\n",
       "    </tr>\n",
       "  </tbody>\n",
       "</table>\n",
       "</div>"
      ],
      "text/plain": [
       "  gender         age signup_method affiliate_channel affiliate_provider first_affiliate_tracked signup_app first_device_type first_browser country_destination destination_language         action_detail      device_type  secs_elapsed  age_bucket  population_in_thousands  year\n",
       "0   MALE  Middle Age         basic     sem-non-brand             google                     omg        Web   Windows Desktop        Chrome               other                   NaN                  NaN  Windows Desktop         319.0         NaN                      NaN   NaN\n",
       "1   MALE  Middle Age         basic     sem-non-brand             google                     omg        Web   Windows Desktop        Chrome               other                   NaN  view_search_results  Windows Desktop       67753.0         NaN                      NaN   NaN\n",
       "2   MALE  Middle Age         basic     sem-non-brand             google                     omg        Web   Windows Desktop        Chrome               other                   NaN                  NaN  Windows Desktop         301.0         NaN                      NaN   NaN\n",
       "3   MALE  Middle Age         basic     sem-non-brand             google                     omg        Web   Windows Desktop        Chrome               other                   NaN  view_search_results  Windows Desktop       22141.0         NaN                      NaN   NaN\n",
       "4   MALE  Middle Age         basic     sem-non-brand             google                     omg        Web   Windows Desktop        Chrome               other                   NaN                  NaN  Windows Desktop         435.0         NaN                      NaN   NaN"
      ]
     },
     "execution_count": 55,
     "metadata": {},
     "output_type": "execute_result"
    }
   ],
   "source": [
    "airbnb.head()"
   ]
  },
  {
   "cell_type": "code",
   "execution_count": 56,
   "metadata": {},
   "outputs": [
    {
     "data": {
      "text/plain": [
       "NaN    1.0\n",
       "Name: age_bucket, dtype: float64"
      ]
     },
     "execution_count": 56,
     "metadata": {},
     "output_type": "execute_result"
    }
   ],
   "source": [
    "airbnb['age_bucket'].value_counts(normalize=True, dropna=False)"
   ]
  },
  {
   "cell_type": "code",
   "execution_count": 57,
   "metadata": {},
   "outputs": [],
   "source": [
    "#drop age bucket because all values are nan\n",
    "airbnb = airbnb.drop('age_bucket', axis=1)"
   ]
  },
  {
   "cell_type": "code",
   "execution_count": 58,
   "metadata": {},
   "outputs": [
    {
     "data": {
      "text/plain": [
       "(3340486, 16)"
      ]
     },
     "execution_count": 58,
     "metadata": {},
     "output_type": "execute_result"
    }
   ],
   "source": [
    "airbnb.shape"
   ]
  },
  {
   "cell_type": "code",
   "execution_count": 59,
   "metadata": {},
   "outputs": [
    {
     "data": {
      "text/plain": [
       "NaN    1.0\n",
       "Name: population_in_thousands, dtype: float64"
      ]
     },
     "execution_count": 59,
     "metadata": {},
     "output_type": "execute_result"
    }
   ],
   "source": [
    "airbnb['population_in_thousands'].value_counts(normalize=True, dropna=False)"
   ]
  },
  {
   "cell_type": "code",
   "execution_count": 60,
   "metadata": {},
   "outputs": [],
   "source": [
    "#drop population because all values are nan\n",
    "airbnb = airbnb.drop('population_in_thousands', axis=1)"
   ]
  },
  {
   "cell_type": "code",
   "execution_count": 61,
   "metadata": {
    "scrolled": true
   },
   "outputs": [
    {
     "data": {
      "text/plain": [
       "(3340486, 15)"
      ]
     },
     "execution_count": 61,
     "metadata": {},
     "output_type": "execute_result"
    }
   ],
   "source": [
    "airbnb.shape"
   ]
  },
  {
   "cell_type": "code",
   "execution_count": 62,
   "metadata": {},
   "outputs": [
    {
     "data": {
      "text/plain": [
       "NaN    1.0\n",
       "Name: year, dtype: float64"
      ]
     },
     "execution_count": 62,
     "metadata": {},
     "output_type": "execute_result"
    }
   ],
   "source": [
    "airbnb['year'].value_counts(normalize=True, dropna=False)"
   ]
  },
  {
   "cell_type": "code",
   "execution_count": 63,
   "metadata": {},
   "outputs": [],
   "source": [
    "#drop year because all values are nan\n",
    "airbnb = airbnb.drop('year', axis=1)"
   ]
  },
  {
   "cell_type": "code",
   "execution_count": 64,
   "metadata": {},
   "outputs": [
    {
     "data": {
      "text/plain": [
       "(3340486, 14)"
      ]
     },
     "execution_count": 64,
     "metadata": {},
     "output_type": "execute_result"
    }
   ],
   "source": [
    "airbnb.shape"
   ]
  },
  {
   "cell_type": "code",
   "execution_count": 65,
   "metadata": {},
   "outputs": [],
   "source": [
    "airbnb = airbnb[airbnb['country_destination'] != 'NDF']"
   ]
  },
  {
   "cell_type": "code",
   "execution_count": 66,
   "metadata": {},
   "outputs": [
    {
     "data": {
      "text/plain": [
       "US       0.672212\n",
       "other    0.136360\n",
       "FR       0.059908\n",
       "IT       0.039769\n",
       "ES       0.027520\n",
       "GB       0.026237\n",
       "CA       0.012612\n",
       "DE       0.009630\n",
       "NL       0.008513\n",
       "AU       0.004933\n",
       "PT       0.002307\n",
       "Name: country_destination, dtype: float64"
      ]
     },
     "execution_count": 66,
     "metadata": {},
     "output_type": "execute_result"
    }
   ],
   "source": [
    "airbnb.country_destination.value_counts(normalize=True, dropna=False)"
   ]
  },
  {
   "cell_type": "code",
   "execution_count": 67,
   "metadata": {},
   "outputs": [
    {
     "data": {
      "text/plain": [
       "(1507019, 14)"
      ]
     },
     "execution_count": 67,
     "metadata": {},
     "output_type": "execute_result"
    }
   ],
   "source": [
    "airbnb.shape"
   ]
  },
  {
   "cell_type": "code",
   "execution_count": 68,
   "metadata": {},
   "outputs": [],
   "source": [
    "#I feel that I finished data wrangling part here. So, I am going to create a dataframe for the target variable,\n",
    "#and another dataframe for the predictor variables\n",
    "\n",
    "# create a dataframe for the target variable\n",
    "airbnb_tv= airbnb['country_destination']\n",
    "\n"
   ]
  },
  {
   "cell_type": "code",
   "execution_count": 69,
   "metadata": {},
   "outputs": [
    {
     "data": {
      "text/plain": [
       "(1507019,)"
      ]
     },
     "execution_count": 69,
     "metadata": {},
     "output_type": "execute_result"
    }
   ],
   "source": [
    "airbnb_tv.shape"
   ]
  },
  {
   "cell_type": "code",
   "execution_count": 70,
   "metadata": {},
   "outputs": [
    {
     "data": {
      "text/plain": [
       "0    other\n",
       "1    other\n",
       "2    other\n",
       "3    other\n",
       "4    other\n",
       "Name: country_destination, dtype: object"
      ]
     },
     "execution_count": 70,
     "metadata": {},
     "output_type": "execute_result"
    }
   ],
   "source": [
    "airbnb_tv.head()"
   ]
  },
  {
   "cell_type": "code",
   "execution_count": 71,
   "metadata": {},
   "outputs": [],
   "source": [
    "#drop country destination and assign it to a dataframe called airbnb_pv\n",
    "airbnb_pv = airbnb.drop(['country_destination'], axis=1)\n"
   ]
  },
  {
   "cell_type": "code",
   "execution_count": 72,
   "metadata": {},
   "outputs": [
    {
     "data": {
      "text/plain": [
       "(1507019, 13)"
      ]
     },
     "execution_count": 72,
     "metadata": {},
     "output_type": "execute_result"
    }
   ],
   "source": [
    "airbnb_pv.shape"
   ]
  },
  {
   "cell_type": "code",
   "execution_count": 73,
   "metadata": {
    "scrolled": true
   },
   "outputs": [
    {
     "data": {
      "text/html": [
       "<div>\n",
       "<style scoped>\n",
       "    .dataframe tbody tr th:only-of-type {\n",
       "        vertical-align: middle;\n",
       "    }\n",
       "\n",
       "    .dataframe tbody tr th {\n",
       "        vertical-align: top;\n",
       "    }\n",
       "\n",
       "    .dataframe thead th {\n",
       "        text-align: right;\n",
       "    }\n",
       "</style>\n",
       "<table border=\"1\" class=\"dataframe\">\n",
       "  <thead>\n",
       "    <tr style=\"text-align: right;\">\n",
       "      <th></th>\n",
       "      <th>gender</th>\n",
       "      <th>age</th>\n",
       "      <th>signup_method</th>\n",
       "      <th>affiliate_channel</th>\n",
       "      <th>affiliate_provider</th>\n",
       "      <th>first_affiliate_tracked</th>\n",
       "      <th>signup_app</th>\n",
       "      <th>first_device_type</th>\n",
       "      <th>first_browser</th>\n",
       "      <th>destination_language</th>\n",
       "      <th>action_detail</th>\n",
       "      <th>device_type</th>\n",
       "      <th>secs_elapsed</th>\n",
       "    </tr>\n",
       "  </thead>\n",
       "  <tbody>\n",
       "    <tr>\n",
       "      <th>0</th>\n",
       "      <td>MALE</td>\n",
       "      <td>Middle Age</td>\n",
       "      <td>basic</td>\n",
       "      <td>sem-non-brand</td>\n",
       "      <td>google</td>\n",
       "      <td>omg</td>\n",
       "      <td>Web</td>\n",
       "      <td>Windows Desktop</td>\n",
       "      <td>Chrome</td>\n",
       "      <td>NaN</td>\n",
       "      <td>NaN</td>\n",
       "      <td>Windows Desktop</td>\n",
       "      <td>319.0</td>\n",
       "    </tr>\n",
       "    <tr>\n",
       "      <th>1</th>\n",
       "      <td>MALE</td>\n",
       "      <td>Middle Age</td>\n",
       "      <td>basic</td>\n",
       "      <td>sem-non-brand</td>\n",
       "      <td>google</td>\n",
       "      <td>omg</td>\n",
       "      <td>Web</td>\n",
       "      <td>Windows Desktop</td>\n",
       "      <td>Chrome</td>\n",
       "      <td>NaN</td>\n",
       "      <td>view_search_results</td>\n",
       "      <td>Windows Desktop</td>\n",
       "      <td>67753.0</td>\n",
       "    </tr>\n",
       "    <tr>\n",
       "      <th>2</th>\n",
       "      <td>MALE</td>\n",
       "      <td>Middle Age</td>\n",
       "      <td>basic</td>\n",
       "      <td>sem-non-brand</td>\n",
       "      <td>google</td>\n",
       "      <td>omg</td>\n",
       "      <td>Web</td>\n",
       "      <td>Windows Desktop</td>\n",
       "      <td>Chrome</td>\n",
       "      <td>NaN</td>\n",
       "      <td>NaN</td>\n",
       "      <td>Windows Desktop</td>\n",
       "      <td>301.0</td>\n",
       "    </tr>\n",
       "    <tr>\n",
       "      <th>3</th>\n",
       "      <td>MALE</td>\n",
       "      <td>Middle Age</td>\n",
       "      <td>basic</td>\n",
       "      <td>sem-non-brand</td>\n",
       "      <td>google</td>\n",
       "      <td>omg</td>\n",
       "      <td>Web</td>\n",
       "      <td>Windows Desktop</td>\n",
       "      <td>Chrome</td>\n",
       "      <td>NaN</td>\n",
       "      <td>view_search_results</td>\n",
       "      <td>Windows Desktop</td>\n",
       "      <td>22141.0</td>\n",
       "    </tr>\n",
       "    <tr>\n",
       "      <th>4</th>\n",
       "      <td>MALE</td>\n",
       "      <td>Middle Age</td>\n",
       "      <td>basic</td>\n",
       "      <td>sem-non-brand</td>\n",
       "      <td>google</td>\n",
       "      <td>omg</td>\n",
       "      <td>Web</td>\n",
       "      <td>Windows Desktop</td>\n",
       "      <td>Chrome</td>\n",
       "      <td>NaN</td>\n",
       "      <td>NaN</td>\n",
       "      <td>Windows Desktop</td>\n",
       "      <td>435.0</td>\n",
       "    </tr>\n",
       "  </tbody>\n",
       "</table>\n",
       "</div>"
      ],
      "text/plain": [
       "  gender         age signup_method affiliate_channel affiliate_provider first_affiliate_tracked signup_app first_device_type first_browser destination_language         action_detail      device_type  secs_elapsed\n",
       "0   MALE  Middle Age         basic     sem-non-brand             google                     omg        Web   Windows Desktop        Chrome                   NaN                  NaN  Windows Desktop         319.0\n",
       "1   MALE  Middle Age         basic     sem-non-brand             google                     omg        Web   Windows Desktop        Chrome                   NaN  view_search_results  Windows Desktop       67753.0\n",
       "2   MALE  Middle Age         basic     sem-non-brand             google                     omg        Web   Windows Desktop        Chrome                   NaN                  NaN  Windows Desktop         301.0\n",
       "3   MALE  Middle Age         basic     sem-non-brand             google                     omg        Web   Windows Desktop        Chrome                   NaN  view_search_results  Windows Desktop       22141.0\n",
       "4   MALE  Middle Age         basic     sem-non-brand             google                     omg        Web   Windows Desktop        Chrome                   NaN                  NaN  Windows Desktop         435.0"
      ]
     },
     "execution_count": 73,
     "metadata": {},
     "output_type": "execute_result"
    }
   ],
   "source": [
    "airbnb_pv.head()"
   ]
  },
  {
   "cell_type": "markdown",
   "metadata": {},
   "source": [
    "__CREATE A LOGISTIC REGRESSION MODEL__"
   ]
  },
  {
   "cell_type": "code",
   "execution_count": 74,
   "metadata": {},
   "outputs": [],
   "source": [
    "from sklearn import preprocessing\n",
    "from sklearn.preprocessing import StandardScaler"
   ]
  },
  {
   "cell_type": "code",
   "execution_count": 75,
   "metadata": {},
   "outputs": [
    {
     "data": {
      "text/plain": [
       "18654"
      ]
     },
     "execution_count": 75,
     "metadata": {},
     "output_type": "execute_result"
    }
   ],
   "source": [
    "airbnb_pv['secs_elapsed'].isna().sum()"
   ]
  },
  {
   "cell_type": "code",
   "execution_count": 76,
   "metadata": {},
   "outputs": [],
   "source": [
    "#fill the nan values in elapsed time with the mean\n",
    "airbnb_pv['secs_elapsed'].fillna(airbnb_pv['secs_elapsed'].mean(), inplace=True)"
   ]
  },
  {
   "cell_type": "code",
   "execution_count": 77,
   "metadata": {},
   "outputs": [
    {
     "data": {
      "text/plain": [
       "0"
      ]
     },
     "execution_count": 77,
     "metadata": {},
     "output_type": "execute_result"
    }
   ],
   "source": [
    "airbnb_pv['secs_elapsed'].isna().sum()"
   ]
  },
  {
   "cell_type": "code",
   "execution_count": 78,
   "metadata": {},
   "outputs": [],
   "source": [
    "#standardize elapsed time\n",
    "airbnb_pv[['secs_elapsed']] = StandardScaler().fit_transform(airbnb_pv[['secs_elapsed']])"
   ]
  },
  {
   "cell_type": "code",
   "execution_count": 79,
   "metadata": {},
   "outputs": [
    {
     "data": {
      "text/plain": [
       "(1507019, 13)"
      ]
     },
     "execution_count": 79,
     "metadata": {},
     "output_type": "execute_result"
    }
   ],
   "source": [
    "airbnb_pv.shape"
   ]
  },
  {
   "cell_type": "code",
   "execution_count": 80,
   "metadata": {
    "scrolled": true
   },
   "outputs": [
    {
     "data": {
      "text/plain": [
       "0   -0.229235\n",
       "1    0.458928\n",
       "2   -0.229419\n",
       "3   -0.006542\n",
       "4   -0.228052\n",
       "5   -0.153882\n",
       "6   -0.231317\n",
       "7   -0.224010\n",
       "8   -0.019799\n",
       "9   -0.225521\n",
       "Name: secs_elapsed, dtype: float64"
      ]
     },
     "execution_count": 80,
     "metadata": {},
     "output_type": "execute_result"
    }
   ],
   "source": [
    "airbnb_pv['secs_elapsed'].head(10)"
   ]
  },
  {
   "cell_type": "code",
   "execution_count": 81,
   "metadata": {
    "scrolled": false
   },
   "outputs": [
    {
     "data": {
      "text/html": [
       "<div>\n",
       "<style scoped>\n",
       "    .dataframe tbody tr th:only-of-type {\n",
       "        vertical-align: middle;\n",
       "    }\n",
       "\n",
       "    .dataframe tbody tr th {\n",
       "        vertical-align: top;\n",
       "    }\n",
       "\n",
       "    .dataframe thead th {\n",
       "        text-align: right;\n",
       "    }\n",
       "</style>\n",
       "<table border=\"1\" class=\"dataframe\">\n",
       "  <thead>\n",
       "    <tr style=\"text-align: right;\">\n",
       "      <th></th>\n",
       "      <th>gender</th>\n",
       "      <th>age</th>\n",
       "      <th>signup_method</th>\n",
       "      <th>affiliate_channel</th>\n",
       "      <th>affiliate_provider</th>\n",
       "      <th>first_affiliate_tracked</th>\n",
       "      <th>signup_app</th>\n",
       "      <th>first_device_type</th>\n",
       "      <th>first_browser</th>\n",
       "      <th>destination_language</th>\n",
       "      <th>action_detail</th>\n",
       "      <th>device_type</th>\n",
       "      <th>secs_elapsed</th>\n",
       "    </tr>\n",
       "  </thead>\n",
       "  <tbody>\n",
       "    <tr>\n",
       "      <th>0</th>\n",
       "      <td>MALE</td>\n",
       "      <td>Middle Age</td>\n",
       "      <td>basic</td>\n",
       "      <td>sem-non-brand</td>\n",
       "      <td>google</td>\n",
       "      <td>omg</td>\n",
       "      <td>Web</td>\n",
       "      <td>Windows Desktop</td>\n",
       "      <td>Chrome</td>\n",
       "      <td>NaN</td>\n",
       "      <td>NaN</td>\n",
       "      <td>Windows Desktop</td>\n",
       "      <td>-0.229235</td>\n",
       "    </tr>\n",
       "    <tr>\n",
       "      <th>1</th>\n",
       "      <td>MALE</td>\n",
       "      <td>Middle Age</td>\n",
       "      <td>basic</td>\n",
       "      <td>sem-non-brand</td>\n",
       "      <td>google</td>\n",
       "      <td>omg</td>\n",
       "      <td>Web</td>\n",
       "      <td>Windows Desktop</td>\n",
       "      <td>Chrome</td>\n",
       "      <td>NaN</td>\n",
       "      <td>view_search_results</td>\n",
       "      <td>Windows Desktop</td>\n",
       "      <td>0.458928</td>\n",
       "    </tr>\n",
       "    <tr>\n",
       "      <th>2</th>\n",
       "      <td>MALE</td>\n",
       "      <td>Middle Age</td>\n",
       "      <td>basic</td>\n",
       "      <td>sem-non-brand</td>\n",
       "      <td>google</td>\n",
       "      <td>omg</td>\n",
       "      <td>Web</td>\n",
       "      <td>Windows Desktop</td>\n",
       "      <td>Chrome</td>\n",
       "      <td>NaN</td>\n",
       "      <td>NaN</td>\n",
       "      <td>Windows Desktop</td>\n",
       "      <td>-0.229419</td>\n",
       "    </tr>\n",
       "    <tr>\n",
       "      <th>3</th>\n",
       "      <td>MALE</td>\n",
       "      <td>Middle Age</td>\n",
       "      <td>basic</td>\n",
       "      <td>sem-non-brand</td>\n",
       "      <td>google</td>\n",
       "      <td>omg</td>\n",
       "      <td>Web</td>\n",
       "      <td>Windows Desktop</td>\n",
       "      <td>Chrome</td>\n",
       "      <td>NaN</td>\n",
       "      <td>view_search_results</td>\n",
       "      <td>Windows Desktop</td>\n",
       "      <td>-0.006542</td>\n",
       "    </tr>\n",
       "    <tr>\n",
       "      <th>4</th>\n",
       "      <td>MALE</td>\n",
       "      <td>Middle Age</td>\n",
       "      <td>basic</td>\n",
       "      <td>sem-non-brand</td>\n",
       "      <td>google</td>\n",
       "      <td>omg</td>\n",
       "      <td>Web</td>\n",
       "      <td>Windows Desktop</td>\n",
       "      <td>Chrome</td>\n",
       "      <td>NaN</td>\n",
       "      <td>NaN</td>\n",
       "      <td>Windows Desktop</td>\n",
       "      <td>-0.228052</td>\n",
       "    </tr>\n",
       "  </tbody>\n",
       "</table>\n",
       "</div>"
      ],
      "text/plain": [
       "  gender         age signup_method affiliate_channel affiliate_provider first_affiliate_tracked signup_app first_device_type first_browser destination_language         action_detail      device_type  secs_elapsed\n",
       "0   MALE  Middle Age         basic     sem-non-brand             google                     omg        Web   Windows Desktop        Chrome                   NaN                  NaN  Windows Desktop     -0.229235\n",
       "1   MALE  Middle Age         basic     sem-non-brand             google                     omg        Web   Windows Desktop        Chrome                   NaN  view_search_results  Windows Desktop      0.458928\n",
       "2   MALE  Middle Age         basic     sem-non-brand             google                     omg        Web   Windows Desktop        Chrome                   NaN                  NaN  Windows Desktop     -0.229419\n",
       "3   MALE  Middle Age         basic     sem-non-brand             google                     omg        Web   Windows Desktop        Chrome                   NaN  view_search_results  Windows Desktop     -0.006542\n",
       "4   MALE  Middle Age         basic     sem-non-brand             google                     omg        Web   Windows Desktop        Chrome                   NaN                  NaN  Windows Desktop     -0.228052"
      ]
     },
     "execution_count": 81,
     "metadata": {},
     "output_type": "execute_result"
    }
   ],
   "source": [
    "airbnb_pv.head()"
   ]
  },
  {
   "cell_type": "code",
   "execution_count": 82,
   "metadata": {},
   "outputs": [],
   "source": [
    "#create dummies for the predictor variables\n",
    "airbnb_pv_dummied = pd.get_dummies(airbnb_pv, dummy_na=True)"
   ]
  },
  {
   "cell_type": "code",
   "execution_count": 83,
   "metadata": {},
   "outputs": [
    {
     "data": {
      "text/plain": [
       "(1507019, 181)"
      ]
     },
     "execution_count": 83,
     "metadata": {},
     "output_type": "execute_result"
    }
   ],
   "source": [
    "airbnb_pv_dummied.shape"
   ]
  },
  {
   "cell_type": "code",
   "execution_count": 84,
   "metadata": {
    "scrolled": true
   },
   "outputs": [
    {
     "data": {
      "text/html": [
       "<div>\n",
       "<style scoped>\n",
       "    .dataframe tbody tr th:only-of-type {\n",
       "        vertical-align: middle;\n",
       "    }\n",
       "\n",
       "    .dataframe tbody tr th {\n",
       "        vertical-align: top;\n",
       "    }\n",
       "\n",
       "    .dataframe thead th {\n",
       "        text-align: right;\n",
       "    }\n",
       "</style>\n",
       "<table border=\"1\" class=\"dataframe\">\n",
       "  <thead>\n",
       "    <tr style=\"text-align: right;\">\n",
       "      <th></th>\n",
       "      <th>secs_elapsed</th>\n",
       "      <th>gender_FEMALE</th>\n",
       "      <th>gender_MALE</th>\n",
       "      <th>gender_OTHER</th>\n",
       "      <th>gender_nan</th>\n",
       "      <th>age_Toddler</th>\n",
       "      <th>age_Child</th>\n",
       "      <th>age_Young Adult</th>\n",
       "      <th>age_Adult</th>\n",
       "      <th>age_Middle Age</th>\n",
       "      <th>age_Older Adult</th>\n",
       "      <th>age_nan</th>\n",
       "      <th>signup_method_basic</th>\n",
       "      <th>signup_method_facebook</th>\n",
       "      <th>signup_method_google</th>\n",
       "      <th>signup_method_nan</th>\n",
       "      <th>affiliate_channel_api</th>\n",
       "      <th>affiliate_channel_direct</th>\n",
       "      <th>affiliate_channel_other</th>\n",
       "      <th>affiliate_channel_sem-brand</th>\n",
       "      <th>affiliate_channel_sem-non-brand</th>\n",
       "      <th>affiliate_channel_seo</th>\n",
       "      <th>affiliate_channel_nan</th>\n",
       "      <th>affiliate_provider_direct</th>\n",
       "      <th>affiliate_provider_google</th>\n",
       "      <th>affiliate_provider_other</th>\n",
       "      <th>affiliate_provider_nan</th>\n",
       "      <th>first_affiliate_tracked_linked</th>\n",
       "      <th>first_affiliate_tracked_omg</th>\n",
       "      <th>first_affiliate_tracked_tracked-other</th>\n",
       "      <th>first_affiliate_tracked_untracked</th>\n",
       "      <th>first_affiliate_tracked_nan</th>\n",
       "      <th>signup_app_Mobile</th>\n",
       "      <th>signup_app_Web</th>\n",
       "      <th>signup_app_nan</th>\n",
       "      <th>first_device_type_Desktop (Other)</th>\n",
       "      <th>first_device_type_Mac Desktop</th>\n",
       "      <th>first_device_type_Other/Unknown</th>\n",
       "      <th>first_device_type_Smart Phone</th>\n",
       "      <th>first_device_type_Tablet</th>\n",
       "      <th>first_device_type_Windows Desktop</th>\n",
       "      <th>first_device_type_nan</th>\n",
       "      <th>first_browser_Chrome</th>\n",
       "      <th>first_browser_Firefox</th>\n",
       "      <th>first_browser_IE</th>\n",
       "      <th>first_browser_Mobile</th>\n",
       "      <th>first_browser_Other</th>\n",
       "      <th>first_browser_Safari</th>\n",
       "      <th>first_browser_nan</th>\n",
       "      <th>destination_language _deu</th>\n",
       "      <th>...</th>\n",
       "      <th>action_detail_send_message</th>\n",
       "      <th>action_detail_set_password</th>\n",
       "      <th>action_detail_set_password_page</th>\n",
       "      <th>action_detail_signup</th>\n",
       "      <th>action_detail_signup_login_page</th>\n",
       "      <th>action_detail_signup_modal</th>\n",
       "      <th>action_detail_similar_listings</th>\n",
       "      <th>action_detail_special_offer_field</th>\n",
       "      <th>action_detail_terms_and_privacy</th>\n",
       "      <th>action_detail_toggle_archived_thread</th>\n",
       "      <th>action_detail_toggle_starred_thread</th>\n",
       "      <th>action_detail_translate_listing_reviews</th>\n",
       "      <th>action_detail_translations</th>\n",
       "      <th>action_detail_trip_availability</th>\n",
       "      <th>action_detail_unavailable_dates</th>\n",
       "      <th>action_detail_update_listing</th>\n",
       "      <th>action_detail_update_listing_description</th>\n",
       "      <th>action_detail_update_user</th>\n",
       "      <th>action_detail_update_user_profile</th>\n",
       "      <th>action_detail_user_friend_recommendations</th>\n",
       "      <th>action_detail_user_listings</th>\n",
       "      <th>action_detail_user_profile</th>\n",
       "      <th>action_detail_user_profile_content_update</th>\n",
       "      <th>action_detail_user_reviews</th>\n",
       "      <th>action_detail_user_social_connections</th>\n",
       "      <th>action_detail_user_tax_forms</th>\n",
       "      <th>action_detail_user_wishlists</th>\n",
       "      <th>action_detail_view_listing</th>\n",
       "      <th>action_detail_view_search_results</th>\n",
       "      <th>action_detail_wishlist</th>\n",
       "      <th>action_detail_wishlist_content_update</th>\n",
       "      <th>action_detail_wishlist_note</th>\n",
       "      <th>action_detail_your_listings</th>\n",
       "      <th>action_detail_your_reservations</th>\n",
       "      <th>action_detail_your_trips</th>\n",
       "      <th>action_detail_nan</th>\n",
       "      <th>device_type_Android App Unknown Phone/Tablet</th>\n",
       "      <th>device_type_Android Phone</th>\n",
       "      <th>device_type_Blackberry</th>\n",
       "      <th>device_type_Chromebook</th>\n",
       "      <th>device_type_Linux Desktop</th>\n",
       "      <th>device_type_Mac Desktop</th>\n",
       "      <th>device_type_Opera Phone</th>\n",
       "      <th>device_type_Tablet</th>\n",
       "      <th>device_type_Windows Desktop</th>\n",
       "      <th>device_type_Windows Phone</th>\n",
       "      <th>device_type_iPad Tablet</th>\n",
       "      <th>device_type_iPhone</th>\n",
       "      <th>device_type_iPodtouch</th>\n",
       "      <th>device_type_nan</th>\n",
       "    </tr>\n",
       "  </thead>\n",
       "  <tbody>\n",
       "    <tr>\n",
       "      <th>0</th>\n",
       "      <td>-0.229235</td>\n",
       "      <td>0</td>\n",
       "      <td>1</td>\n",
       "      <td>0</td>\n",
       "      <td>0</td>\n",
       "      <td>0</td>\n",
       "      <td>0</td>\n",
       "      <td>0</td>\n",
       "      <td>0</td>\n",
       "      <td>1</td>\n",
       "      <td>0</td>\n",
       "      <td>0</td>\n",
       "      <td>1</td>\n",
       "      <td>0</td>\n",
       "      <td>0</td>\n",
       "      <td>0</td>\n",
       "      <td>0</td>\n",
       "      <td>0</td>\n",
       "      <td>0</td>\n",
       "      <td>0</td>\n",
       "      <td>1</td>\n",
       "      <td>0</td>\n",
       "      <td>0</td>\n",
       "      <td>0</td>\n",
       "      <td>1</td>\n",
       "      <td>0</td>\n",
       "      <td>0</td>\n",
       "      <td>0</td>\n",
       "      <td>1</td>\n",
       "      <td>0</td>\n",
       "      <td>0</td>\n",
       "      <td>0</td>\n",
       "      <td>0</td>\n",
       "      <td>1</td>\n",
       "      <td>0</td>\n",
       "      <td>0</td>\n",
       "      <td>0</td>\n",
       "      <td>0</td>\n",
       "      <td>0</td>\n",
       "      <td>0</td>\n",
       "      <td>1</td>\n",
       "      <td>0</td>\n",
       "      <td>1</td>\n",
       "      <td>0</td>\n",
       "      <td>0</td>\n",
       "      <td>0</td>\n",
       "      <td>0</td>\n",
       "      <td>0</td>\n",
       "      <td>0</td>\n",
       "      <td>0</td>\n",
       "      <td>...</td>\n",
       "      <td>0</td>\n",
       "      <td>0</td>\n",
       "      <td>0</td>\n",
       "      <td>0</td>\n",
       "      <td>0</td>\n",
       "      <td>0</td>\n",
       "      <td>0</td>\n",
       "      <td>0</td>\n",
       "      <td>0</td>\n",
       "      <td>0</td>\n",
       "      <td>0</td>\n",
       "      <td>0</td>\n",
       "      <td>0</td>\n",
       "      <td>0</td>\n",
       "      <td>0</td>\n",
       "      <td>0</td>\n",
       "      <td>0</td>\n",
       "      <td>0</td>\n",
       "      <td>0</td>\n",
       "      <td>0</td>\n",
       "      <td>0</td>\n",
       "      <td>0</td>\n",
       "      <td>0</td>\n",
       "      <td>0</td>\n",
       "      <td>0</td>\n",
       "      <td>0</td>\n",
       "      <td>0</td>\n",
       "      <td>0</td>\n",
       "      <td>0</td>\n",
       "      <td>0</td>\n",
       "      <td>0</td>\n",
       "      <td>0</td>\n",
       "      <td>0</td>\n",
       "      <td>0</td>\n",
       "      <td>0</td>\n",
       "      <td>1</td>\n",
       "      <td>0</td>\n",
       "      <td>0</td>\n",
       "      <td>0</td>\n",
       "      <td>0</td>\n",
       "      <td>0</td>\n",
       "      <td>0</td>\n",
       "      <td>0</td>\n",
       "      <td>0</td>\n",
       "      <td>1</td>\n",
       "      <td>0</td>\n",
       "      <td>0</td>\n",
       "      <td>0</td>\n",
       "      <td>0</td>\n",
       "      <td>0</td>\n",
       "    </tr>\n",
       "    <tr>\n",
       "      <th>1</th>\n",
       "      <td>0.458928</td>\n",
       "      <td>0</td>\n",
       "      <td>1</td>\n",
       "      <td>0</td>\n",
       "      <td>0</td>\n",
       "      <td>0</td>\n",
       "      <td>0</td>\n",
       "      <td>0</td>\n",
       "      <td>0</td>\n",
       "      <td>1</td>\n",
       "      <td>0</td>\n",
       "      <td>0</td>\n",
       "      <td>1</td>\n",
       "      <td>0</td>\n",
       "      <td>0</td>\n",
       "      <td>0</td>\n",
       "      <td>0</td>\n",
       "      <td>0</td>\n",
       "      <td>0</td>\n",
       "      <td>0</td>\n",
       "      <td>1</td>\n",
       "      <td>0</td>\n",
       "      <td>0</td>\n",
       "      <td>0</td>\n",
       "      <td>1</td>\n",
       "      <td>0</td>\n",
       "      <td>0</td>\n",
       "      <td>0</td>\n",
       "      <td>1</td>\n",
       "      <td>0</td>\n",
       "      <td>0</td>\n",
       "      <td>0</td>\n",
       "      <td>0</td>\n",
       "      <td>1</td>\n",
       "      <td>0</td>\n",
       "      <td>0</td>\n",
       "      <td>0</td>\n",
       "      <td>0</td>\n",
       "      <td>0</td>\n",
       "      <td>0</td>\n",
       "      <td>1</td>\n",
       "      <td>0</td>\n",
       "      <td>1</td>\n",
       "      <td>0</td>\n",
       "      <td>0</td>\n",
       "      <td>0</td>\n",
       "      <td>0</td>\n",
       "      <td>0</td>\n",
       "      <td>0</td>\n",
       "      <td>0</td>\n",
       "      <td>...</td>\n",
       "      <td>0</td>\n",
       "      <td>0</td>\n",
       "      <td>0</td>\n",
       "      <td>0</td>\n",
       "      <td>0</td>\n",
       "      <td>0</td>\n",
       "      <td>0</td>\n",
       "      <td>0</td>\n",
       "      <td>0</td>\n",
       "      <td>0</td>\n",
       "      <td>0</td>\n",
       "      <td>0</td>\n",
       "      <td>0</td>\n",
       "      <td>0</td>\n",
       "      <td>0</td>\n",
       "      <td>0</td>\n",
       "      <td>0</td>\n",
       "      <td>0</td>\n",
       "      <td>0</td>\n",
       "      <td>0</td>\n",
       "      <td>0</td>\n",
       "      <td>0</td>\n",
       "      <td>0</td>\n",
       "      <td>0</td>\n",
       "      <td>0</td>\n",
       "      <td>0</td>\n",
       "      <td>0</td>\n",
       "      <td>0</td>\n",
       "      <td>1</td>\n",
       "      <td>0</td>\n",
       "      <td>0</td>\n",
       "      <td>0</td>\n",
       "      <td>0</td>\n",
       "      <td>0</td>\n",
       "      <td>0</td>\n",
       "      <td>0</td>\n",
       "      <td>0</td>\n",
       "      <td>0</td>\n",
       "      <td>0</td>\n",
       "      <td>0</td>\n",
       "      <td>0</td>\n",
       "      <td>0</td>\n",
       "      <td>0</td>\n",
       "      <td>0</td>\n",
       "      <td>1</td>\n",
       "      <td>0</td>\n",
       "      <td>0</td>\n",
       "      <td>0</td>\n",
       "      <td>0</td>\n",
       "      <td>0</td>\n",
       "    </tr>\n",
       "    <tr>\n",
       "      <th>2</th>\n",
       "      <td>-0.229419</td>\n",
       "      <td>0</td>\n",
       "      <td>1</td>\n",
       "      <td>0</td>\n",
       "      <td>0</td>\n",
       "      <td>0</td>\n",
       "      <td>0</td>\n",
       "      <td>0</td>\n",
       "      <td>0</td>\n",
       "      <td>1</td>\n",
       "      <td>0</td>\n",
       "      <td>0</td>\n",
       "      <td>1</td>\n",
       "      <td>0</td>\n",
       "      <td>0</td>\n",
       "      <td>0</td>\n",
       "      <td>0</td>\n",
       "      <td>0</td>\n",
       "      <td>0</td>\n",
       "      <td>0</td>\n",
       "      <td>1</td>\n",
       "      <td>0</td>\n",
       "      <td>0</td>\n",
       "      <td>0</td>\n",
       "      <td>1</td>\n",
       "      <td>0</td>\n",
       "      <td>0</td>\n",
       "      <td>0</td>\n",
       "      <td>1</td>\n",
       "      <td>0</td>\n",
       "      <td>0</td>\n",
       "      <td>0</td>\n",
       "      <td>0</td>\n",
       "      <td>1</td>\n",
       "      <td>0</td>\n",
       "      <td>0</td>\n",
       "      <td>0</td>\n",
       "      <td>0</td>\n",
       "      <td>0</td>\n",
       "      <td>0</td>\n",
       "      <td>1</td>\n",
       "      <td>0</td>\n",
       "      <td>1</td>\n",
       "      <td>0</td>\n",
       "      <td>0</td>\n",
       "      <td>0</td>\n",
       "      <td>0</td>\n",
       "      <td>0</td>\n",
       "      <td>0</td>\n",
       "      <td>0</td>\n",
       "      <td>...</td>\n",
       "      <td>0</td>\n",
       "      <td>0</td>\n",
       "      <td>0</td>\n",
       "      <td>0</td>\n",
       "      <td>0</td>\n",
       "      <td>0</td>\n",
       "      <td>0</td>\n",
       "      <td>0</td>\n",
       "      <td>0</td>\n",
       "      <td>0</td>\n",
       "      <td>0</td>\n",
       "      <td>0</td>\n",
       "      <td>0</td>\n",
       "      <td>0</td>\n",
       "      <td>0</td>\n",
       "      <td>0</td>\n",
       "      <td>0</td>\n",
       "      <td>0</td>\n",
       "      <td>0</td>\n",
       "      <td>0</td>\n",
       "      <td>0</td>\n",
       "      <td>0</td>\n",
       "      <td>0</td>\n",
       "      <td>0</td>\n",
       "      <td>0</td>\n",
       "      <td>0</td>\n",
       "      <td>0</td>\n",
       "      <td>0</td>\n",
       "      <td>0</td>\n",
       "      <td>0</td>\n",
       "      <td>0</td>\n",
       "      <td>0</td>\n",
       "      <td>0</td>\n",
       "      <td>0</td>\n",
       "      <td>0</td>\n",
       "      <td>1</td>\n",
       "      <td>0</td>\n",
       "      <td>0</td>\n",
       "      <td>0</td>\n",
       "      <td>0</td>\n",
       "      <td>0</td>\n",
       "      <td>0</td>\n",
       "      <td>0</td>\n",
       "      <td>0</td>\n",
       "      <td>1</td>\n",
       "      <td>0</td>\n",
       "      <td>0</td>\n",
       "      <td>0</td>\n",
       "      <td>0</td>\n",
       "      <td>0</td>\n",
       "    </tr>\n",
       "    <tr>\n",
       "      <th>3</th>\n",
       "      <td>-0.006542</td>\n",
       "      <td>0</td>\n",
       "      <td>1</td>\n",
       "      <td>0</td>\n",
       "      <td>0</td>\n",
       "      <td>0</td>\n",
       "      <td>0</td>\n",
       "      <td>0</td>\n",
       "      <td>0</td>\n",
       "      <td>1</td>\n",
       "      <td>0</td>\n",
       "      <td>0</td>\n",
       "      <td>1</td>\n",
       "      <td>0</td>\n",
       "      <td>0</td>\n",
       "      <td>0</td>\n",
       "      <td>0</td>\n",
       "      <td>0</td>\n",
       "      <td>0</td>\n",
       "      <td>0</td>\n",
       "      <td>1</td>\n",
       "      <td>0</td>\n",
       "      <td>0</td>\n",
       "      <td>0</td>\n",
       "      <td>1</td>\n",
       "      <td>0</td>\n",
       "      <td>0</td>\n",
       "      <td>0</td>\n",
       "      <td>1</td>\n",
       "      <td>0</td>\n",
       "      <td>0</td>\n",
       "      <td>0</td>\n",
       "      <td>0</td>\n",
       "      <td>1</td>\n",
       "      <td>0</td>\n",
       "      <td>0</td>\n",
       "      <td>0</td>\n",
       "      <td>0</td>\n",
       "      <td>0</td>\n",
       "      <td>0</td>\n",
       "      <td>1</td>\n",
       "      <td>0</td>\n",
       "      <td>1</td>\n",
       "      <td>0</td>\n",
       "      <td>0</td>\n",
       "      <td>0</td>\n",
       "      <td>0</td>\n",
       "      <td>0</td>\n",
       "      <td>0</td>\n",
       "      <td>0</td>\n",
       "      <td>...</td>\n",
       "      <td>0</td>\n",
       "      <td>0</td>\n",
       "      <td>0</td>\n",
       "      <td>0</td>\n",
       "      <td>0</td>\n",
       "      <td>0</td>\n",
       "      <td>0</td>\n",
       "      <td>0</td>\n",
       "      <td>0</td>\n",
       "      <td>0</td>\n",
       "      <td>0</td>\n",
       "      <td>0</td>\n",
       "      <td>0</td>\n",
       "      <td>0</td>\n",
       "      <td>0</td>\n",
       "      <td>0</td>\n",
       "      <td>0</td>\n",
       "      <td>0</td>\n",
       "      <td>0</td>\n",
       "      <td>0</td>\n",
       "      <td>0</td>\n",
       "      <td>0</td>\n",
       "      <td>0</td>\n",
       "      <td>0</td>\n",
       "      <td>0</td>\n",
       "      <td>0</td>\n",
       "      <td>0</td>\n",
       "      <td>0</td>\n",
       "      <td>1</td>\n",
       "      <td>0</td>\n",
       "      <td>0</td>\n",
       "      <td>0</td>\n",
       "      <td>0</td>\n",
       "      <td>0</td>\n",
       "      <td>0</td>\n",
       "      <td>0</td>\n",
       "      <td>0</td>\n",
       "      <td>0</td>\n",
       "      <td>0</td>\n",
       "      <td>0</td>\n",
       "      <td>0</td>\n",
       "      <td>0</td>\n",
       "      <td>0</td>\n",
       "      <td>0</td>\n",
       "      <td>1</td>\n",
       "      <td>0</td>\n",
       "      <td>0</td>\n",
       "      <td>0</td>\n",
       "      <td>0</td>\n",
       "      <td>0</td>\n",
       "    </tr>\n",
       "    <tr>\n",
       "      <th>4</th>\n",
       "      <td>-0.228052</td>\n",
       "      <td>0</td>\n",
       "      <td>1</td>\n",
       "      <td>0</td>\n",
       "      <td>0</td>\n",
       "      <td>0</td>\n",
       "      <td>0</td>\n",
       "      <td>0</td>\n",
       "      <td>0</td>\n",
       "      <td>1</td>\n",
       "      <td>0</td>\n",
       "      <td>0</td>\n",
       "      <td>1</td>\n",
       "      <td>0</td>\n",
       "      <td>0</td>\n",
       "      <td>0</td>\n",
       "      <td>0</td>\n",
       "      <td>0</td>\n",
       "      <td>0</td>\n",
       "      <td>0</td>\n",
       "      <td>1</td>\n",
       "      <td>0</td>\n",
       "      <td>0</td>\n",
       "      <td>0</td>\n",
       "      <td>1</td>\n",
       "      <td>0</td>\n",
       "      <td>0</td>\n",
       "      <td>0</td>\n",
       "      <td>1</td>\n",
       "      <td>0</td>\n",
       "      <td>0</td>\n",
       "      <td>0</td>\n",
       "      <td>0</td>\n",
       "      <td>1</td>\n",
       "      <td>0</td>\n",
       "      <td>0</td>\n",
       "      <td>0</td>\n",
       "      <td>0</td>\n",
       "      <td>0</td>\n",
       "      <td>0</td>\n",
       "      <td>1</td>\n",
       "      <td>0</td>\n",
       "      <td>1</td>\n",
       "      <td>0</td>\n",
       "      <td>0</td>\n",
       "      <td>0</td>\n",
       "      <td>0</td>\n",
       "      <td>0</td>\n",
       "      <td>0</td>\n",
       "      <td>0</td>\n",
       "      <td>...</td>\n",
       "      <td>0</td>\n",
       "      <td>0</td>\n",
       "      <td>0</td>\n",
       "      <td>0</td>\n",
       "      <td>0</td>\n",
       "      <td>0</td>\n",
       "      <td>0</td>\n",
       "      <td>0</td>\n",
       "      <td>0</td>\n",
       "      <td>0</td>\n",
       "      <td>0</td>\n",
       "      <td>0</td>\n",
       "      <td>0</td>\n",
       "      <td>0</td>\n",
       "      <td>0</td>\n",
       "      <td>0</td>\n",
       "      <td>0</td>\n",
       "      <td>0</td>\n",
       "      <td>0</td>\n",
       "      <td>0</td>\n",
       "      <td>0</td>\n",
       "      <td>0</td>\n",
       "      <td>0</td>\n",
       "      <td>0</td>\n",
       "      <td>0</td>\n",
       "      <td>0</td>\n",
       "      <td>0</td>\n",
       "      <td>0</td>\n",
       "      <td>0</td>\n",
       "      <td>0</td>\n",
       "      <td>0</td>\n",
       "      <td>0</td>\n",
       "      <td>0</td>\n",
       "      <td>0</td>\n",
       "      <td>0</td>\n",
       "      <td>1</td>\n",
       "      <td>0</td>\n",
       "      <td>0</td>\n",
       "      <td>0</td>\n",
       "      <td>0</td>\n",
       "      <td>0</td>\n",
       "      <td>0</td>\n",
       "      <td>0</td>\n",
       "      <td>0</td>\n",
       "      <td>1</td>\n",
       "      <td>0</td>\n",
       "      <td>0</td>\n",
       "      <td>0</td>\n",
       "      <td>0</td>\n",
       "      <td>0</td>\n",
       "    </tr>\n",
       "  </tbody>\n",
       "</table>\n",
       "<p>5 rows × 181 columns</p>\n",
       "</div>"
      ],
      "text/plain": [
       "   secs_elapsed  gender_FEMALE  gender_MALE  gender_OTHER  gender_nan  age_Toddler  age_Child  age_Young Adult  age_Adult  age_Middle Age  age_Older Adult  age_nan  signup_method_basic  signup_method_facebook  signup_method_google  signup_method_nan  affiliate_channel_api  affiliate_channel_direct  affiliate_channel_other  affiliate_channel_sem-brand  affiliate_channel_sem-non-brand  affiliate_channel_seo  affiliate_channel_nan  affiliate_provider_direct  affiliate_provider_google  \\\n",
       "0     -0.229235              0            1             0           0            0          0                0          0               1                0        0                    1                       0                     0                  0                      0                         0                        0                            0                                1                      0                      0                          0                          1   \n",
       "1      0.458928              0            1             0           0            0          0                0          0               1                0        0                    1                       0                     0                  0                      0                         0                        0                            0                                1                      0                      0                          0                          1   \n",
       "2     -0.229419              0            1             0           0            0          0                0          0               1                0        0                    1                       0                     0                  0                      0                         0                        0                            0                                1                      0                      0                          0                          1   \n",
       "3     -0.006542              0            1             0           0            0          0                0          0               1                0        0                    1                       0                     0                  0                      0                         0                        0                            0                                1                      0                      0                          0                          1   \n",
       "4     -0.228052              0            1             0           0            0          0                0          0               1                0        0                    1                       0                     0                  0                      0                         0                        0                            0                                1                      0                      0                          0                          1   \n",
       "\n",
       "   affiliate_provider_other  affiliate_provider_nan  first_affiliate_tracked_linked  first_affiliate_tracked_omg  first_affiliate_tracked_tracked-other  first_affiliate_tracked_untracked  first_affiliate_tracked_nan  signup_app_Mobile  signup_app_Web  signup_app_nan  first_device_type_Desktop (Other)  first_device_type_Mac Desktop  first_device_type_Other/Unknown  first_device_type_Smart Phone  first_device_type_Tablet  first_device_type_Windows Desktop  first_device_type_nan  \\\n",
       "0                         0                       0                               0                            1                                      0                                  0                            0                  0               1               0                                  0                              0                                0                              0                         0                                  1                      0   \n",
       "1                         0                       0                               0                            1                                      0                                  0                            0                  0               1               0                                  0                              0                                0                              0                         0                                  1                      0   \n",
       "2                         0                       0                               0                            1                                      0                                  0                            0                  0               1               0                                  0                              0                                0                              0                         0                                  1                      0   \n",
       "3                         0                       0                               0                            1                                      0                                  0                            0                  0               1               0                                  0                              0                                0                              0                         0                                  1                      0   \n",
       "4                         0                       0                               0                            1                                      0                                  0                            0                  0               1               0                                  0                              0                                0                              0                         0                                  1                      0   \n",
       "\n",
       "   first_browser_Chrome  first_browser_Firefox  first_browser_IE  first_browser_Mobile  first_browser_Other  first_browser_Safari  first_browser_nan  destination_language _deu  ...  action_detail_send_message  action_detail_set_password  action_detail_set_password_page  action_detail_signup  action_detail_signup_login_page  action_detail_signup_modal  action_detail_similar_listings  action_detail_special_offer_field  action_detail_terms_and_privacy  action_detail_toggle_archived_thread  \\\n",
       "0                     1                      0                 0                     0                    0                     0                  0                          0  ...                           0                           0                                0                     0                                0                           0                               0                                  0                                0                                     0   \n",
       "1                     1                      0                 0                     0                    0                     0                  0                          0  ...                           0                           0                                0                     0                                0                           0                               0                                  0                                0                                     0   \n",
       "2                     1                      0                 0                     0                    0                     0                  0                          0  ...                           0                           0                                0                     0                                0                           0                               0                                  0                                0                                     0   \n",
       "3                     1                      0                 0                     0                    0                     0                  0                          0  ...                           0                           0                                0                     0                                0                           0                               0                                  0                                0                                     0   \n",
       "4                     1                      0                 0                     0                    0                     0                  0                          0  ...                           0                           0                                0                     0                                0                           0                               0                                  0                                0                                     0   \n",
       "\n",
       "   action_detail_toggle_starred_thread  action_detail_translate_listing_reviews  action_detail_translations  action_detail_trip_availability  action_detail_unavailable_dates  action_detail_update_listing  action_detail_update_listing_description  action_detail_update_user  action_detail_update_user_profile  action_detail_user_friend_recommendations  action_detail_user_listings  action_detail_user_profile  action_detail_user_profile_content_update  action_detail_user_reviews  \\\n",
       "0                                    0                                        0                           0                                0                                0                             0                                         0                          0                                  0                                          0                            0                           0                                          0                           0   \n",
       "1                                    0                                        0                           0                                0                                0                             0                                         0                          0                                  0                                          0                            0                           0                                          0                           0   \n",
       "2                                    0                                        0                           0                                0                                0                             0                                         0                          0                                  0                                          0                            0                           0                                          0                           0   \n",
       "3                                    0                                        0                           0                                0                                0                             0                                         0                          0                                  0                                          0                            0                           0                                          0                           0   \n",
       "4                                    0                                        0                           0                                0                                0                             0                                         0                          0                                  0                                          0                            0                           0                                          0                           0   \n",
       "\n",
       "   action_detail_user_social_connections  action_detail_user_tax_forms  action_detail_user_wishlists  action_detail_view_listing  action_detail_view_search_results  action_detail_wishlist  action_detail_wishlist_content_update  action_detail_wishlist_note  action_detail_your_listings  action_detail_your_reservations  action_detail_your_trips  action_detail_nan  device_type_Android App Unknown Phone/Tablet  device_type_Android Phone  device_type_Blackberry  device_type_Chromebook  \\\n",
       "0                                      0                             0                             0                           0                                  0                       0                                      0                            0                            0                                0                         0                  1                                             0                          0                       0                       0   \n",
       "1                                      0                             0                             0                           0                                  1                       0                                      0                            0                            0                                0                         0                  0                                             0                          0                       0                       0   \n",
       "2                                      0                             0                             0                           0                                  0                       0                                      0                            0                            0                                0                         0                  1                                             0                          0                       0                       0   \n",
       "3                                      0                             0                             0                           0                                  1                       0                                      0                            0                            0                                0                         0                  0                                             0                          0                       0                       0   \n",
       "4                                      0                             0                             0                           0                                  0                       0                                      0                            0                            0                                0                         0                  1                                             0                          0                       0                       0   \n",
       "\n",
       "   device_type_Linux Desktop  device_type_Mac Desktop  device_type_Opera Phone  device_type_Tablet  device_type_Windows Desktop  device_type_Windows Phone  device_type_iPad Tablet  device_type_iPhone  device_type_iPodtouch  device_type_nan  \n",
       "0                          0                        0                        0                   0                            1                          0                        0                   0                      0                0  \n",
       "1                          0                        0                        0                   0                            1                          0                        0                   0                      0                0  \n",
       "2                          0                        0                        0                   0                            1                          0                        0                   0                      0                0  \n",
       "3                          0                        0                        0                   0                            1                          0                        0                   0                      0                0  \n",
       "4                          0                        0                        0                   0                            1                          0                        0                   0                      0                0  \n",
       "\n",
       "[5 rows x 181 columns]"
      ]
     },
     "execution_count": 84,
     "metadata": {},
     "output_type": "execute_result"
    }
   ],
   "source": [
    "airbnb_pv_dummied.head()"
   ]
  },
  {
   "cell_type": "code",
   "execution_count": 85,
   "metadata": {},
   "outputs": [],
   "source": [
    "from sklearn.model_selection import train_test_split\n",
    "from sklearn.linear_model import LogisticRegression\n",
    "from sklearn.metrics import accuracy_score\n"
   ]
  },
  {
   "cell_type": "code",
   "execution_count": 86,
   "metadata": {
    "scrolled": true
   },
   "outputs": [
    {
     "name": "stdout",
     "output_type": "stream",
     "text": [
      "X:  <class 'numpy.ndarray'> (1507019, 181)\n"
     ]
    }
   ],
   "source": [
    "# Split the data into a training and test set.\n",
    "#Xlr, Xtestlr, ylr, ytestlr = train_test_split(airbnb_pv_dummied.values, \n",
    "                                            #airbnb_tv.values, random_state=5)\n",
    "\n",
    "# define the first parameter and see what it is\n",
    "X = airbnb_pv_dummied.values\n",
    "print(\"X: \", type(X), X.shape)"
   ]
  },
  {
   "cell_type": "code",
   "execution_count": 87,
   "metadata": {},
   "outputs": [
    {
     "data": {
      "text/plain": [
       "(1507019, 181)"
      ]
     },
     "execution_count": 87,
     "metadata": {},
     "output_type": "execute_result"
    }
   ],
   "source": [
    "# what is the shape of the dataframe used to build X?\n",
    "airbnb_pv_dummied.shape"
   ]
  },
  {
   "cell_type": "code",
   "execution_count": 88,
   "metadata": {},
   "outputs": [
    {
     "name": "stdout",
     "output_type": "stream",
     "text": [
      "y:  <class 'numpy.ndarray'> (1507019,)\n",
      "country_destination shape:  (1507019,)\n"
     ]
    }
   ],
   "source": [
    "# define the second parameter, investigate its type and shape\n",
    "# and also compare its shape with that of the dataframe it comes from ...\n",
    "y = airbnb_tv.values\n",
    "\n",
    "print(\"y: \", type(y), y.shape)\n",
    "print(\"country_destination shape: \", airbnb_tv.shape)"
   ]
  },
  {
   "cell_type": "code",
   "execution_count": 89,
   "metadata": {
    "scrolled": true
   },
   "outputs": [
    {
     "data": {
      "text/plain": [
       "array(['other', 'other', 'other', ..., 'US', 'US', 'US'], dtype=object)"
      ]
     },
     "execution_count": 89,
     "metadata": {},
     "output_type": "execute_result"
    }
   ],
   "source": [
    "y"
   ]
  },
  {
   "cell_type": "code",
   "execution_count": 90,
   "metadata": {},
   "outputs": [],
   "source": [
    "import pickle"
   ]
  },
  {
   "cell_type": "code",
   "execution_count": 91,
   "metadata": {},
   "outputs": [],
   "source": [
    "# Saving the objects:\n",
    "with open('variables.pkl', 'wb') as f:  # Python 3: open(..., 'wb')\n",
    "    pickle.dump([X, y], f, protocol=4)\n"
   ]
  },
  {
   "cell_type": "code",
   "execution_count": 92,
   "metadata": {},
   "outputs": [],
   "source": [
    "Xlr, Xtestlr, ylr, ytestlr = train_test_split(X, y, train_size=0.8, random_state=0)"
   ]
  },
  {
   "cell_type": "code",
   "execution_count": 93,
   "metadata": {
    "scrolled": false
   },
   "outputs": [
    {
     "name": "stdout",
     "output_type": "stream",
     "text": [
      "\n",
      "\n",
      "Xlr: [[ 0.23796922  0.          0.         ...  0.          0.\n",
      "   0.        ]\n",
      " [-0.22669438  0.          1.         ...  1.          0.\n",
      "   0.        ]\n",
      " [-0.22601065  1.          0.         ...  0.          0.\n",
      "   0.        ]\n",
      " ...\n",
      " [-0.22332674  0.          0.         ...  0.          0.\n",
      "   0.        ]\n",
      " [-0.10439784  0.          0.         ...  0.          0.\n",
      "   0.        ]\n",
      " [-0.22252055  0.          1.         ...  0.          0.\n",
      "   0.        ]] <class 'numpy.ndarray'> (1205615, 181) 1205615\n",
      "\n",
      "\n",
      "Xtestlr [[-0.20715184  1.          0.         ...  0.          0.\n",
      "   0.        ]\n",
      " [ 0.4647342   0.          1.         ...  0.          0.\n",
      "   1.        ]\n",
      " [-0.23212344  0.          1.         ...  0.          0.\n",
      "   0.        ]\n",
      " ...\n",
      " [-0.22207153  0.          0.         ...  0.          0.\n",
      "   0.        ]\n",
      " [-0.22811288  0.          1.         ...  0.          0.\n",
      "   0.        ]\n",
      " [-0.21995909  1.          0.         ...  0.          0.\n",
      "   0.        ]] <class 'numpy.ndarray'> (301404, 181) 301404\n",
      "\n",
      "\n",
      "ylr ['US' 'US' 'GB' ... 'US' 'other' 'NL'] <class 'numpy.ndarray'> (1205615,) 1205615\n",
      "\n",
      "\n",
      "ytestlr ['US' 'US' 'other' ... 'US' 'US' 'US'] <class 'numpy.ndarray'> (301404,) 301404\n"
     ]
    }
   ],
   "source": [
    "print(\"\\n\")\n",
    "print(\"Xlr:\", Xlr, type(Xlr), Xlr.shape, len(Xlr)) #TrainX\n",
    "\n",
    "print(\"\\n\")\n",
    "print(\"Xtestlr\", Xtestlr, type(Xtestlr), Xtestlr.shape, len(Xtestlr)) #TestX \n",
    "\n",
    "\n",
    "print(\"\\n\")\n",
    "print(\"ylr\", ylr, type(ylr), ylr.shape, len(ylr)) #Trainy\n",
    "\n",
    "\n",
    "print(\"\\n\")\n",
    "print(\"ytestlr\", ytestlr, type(ytestlr), ytestlr.shape, len(ytestlr)) #Testy"
   ]
  },
  {
   "cell_type": "code",
   "execution_count": 94,
   "metadata": {},
   "outputs": [],
   "source": [
    "# construct the LogisticRegression model\n",
    "clf = LogisticRegression(multi_class='multinomial', solver ='sag', max_iter = 25, verbose = 1, n_jobs = -1)\n",
    "\n"
   ]
  },
  {
   "cell_type": "code",
   "execution_count": 95,
   "metadata": {},
   "outputs": [
    {
     "name": "stderr",
     "output_type": "stream",
     "text": [
      "[Parallel(n_jobs=-1)]: Using backend ThreadingBackend with 4 concurrent workers.\n"
     ]
    },
    {
     "name": "stdout",
     "output_type": "stream",
     "text": [
      "max_iter reached after 325 seconds\n"
     ]
    },
    {
     "name": "stderr",
     "output_type": "stream",
     "text": [
      "/Users/remzikboga/anaconda3/lib/python3.7/site-packages/sklearn/linear_model/sag.py:337: ConvergenceWarning: The max_iter was reached which means the coef_ did not converge\n",
      "  \"the coef_ did not converge\", ConvergenceWarning)\n",
      "[Parallel(n_jobs=-1)]: Done   1 out of   1 | elapsed:  5.5min finished\n"
     ]
    },
    {
     "data": {
      "text/plain": [
       "LogisticRegression(C=1.0, class_weight=None, dual=False, fit_intercept=True,\n",
       "                   intercept_scaling=1, l1_ratio=None, max_iter=25,\n",
       "                   multi_class='multinomial', n_jobs=-1, penalty='l2',\n",
       "                   random_state=None, solver='sag', tol=0.0001, verbose=1,\n",
       "                   warm_start=False)"
      ]
     },
     "execution_count": 95,
     "metadata": {},
     "output_type": "execute_result"
    }
   ],
   "source": [
    "# Fit the model on the training data.\n",
    "clf.fit(Xlr, ylr.ravel()) "
   ]
  },
  {
   "cell_type": "code",
   "execution_count": 96,
   "metadata": {},
   "outputs": [
    {
     "name": "stdout",
     "output_type": "stream",
     "text": [
      "\n",
      "\n",
      "[Test] Accuracy score (y_predict_test, ytestlr): 0.9564770208756354\n",
      "\n",
      "\n",
      "[Test] Accuracy score: (ytestlr, y_predict_test) 0.9564770208756354\n",
      "\n",
      "\n",
      "[Training] Accuracy score: (ylr, y_predict_training) 0.9562538621367518\n"
     ]
    }
   ],
   "source": [
    "y_predict_test = clf.predict(Xtestlr)\n",
    "print(\"\\n\")\n",
    "print(\"[Test] Accuracy score (y_predict_test, ytestlr):\",accuracy_score(y_predict_test, ytestlr))\n",
    "\n",
    "# Note the order in which the parameters must be passed\n",
    "# according to the documentation ... although there should be\n",
    "# no difference since it is a one-to-one comparison ...\n",
    "# ref: http://scikit-learn.org/stable/modules/generated/sklearn.metrics.accuracy_score.html#sklearn.metrics.accuracy_score\n",
    "print(\"\\n\")\n",
    "print(\"[Test] Accuracy score: (ytestlr, y_predict_test)\",accuracy_score(ytestlr, y_predict_test))\n",
    "\n",
    "# also printout the training score\n",
    "y_predict_training = clf.predict(Xlr)\n",
    "print(\"\\n\")\n",
    "print(\"[Training] Accuracy score: (ylr, y_predict_training)\",accuracy_score(ylr, y_predict_training))"
   ]
  },
  {
   "cell_type": "code",
   "execution_count": 97,
   "metadata": {},
   "outputs": [],
   "source": [
    "# predict on training set\n",
    "y_predict_training = clf.predict(Xlr)\n",
    "    \n",
    "# predict on test set\n",
    "y_predict_test = clf.predict(Xtestlr)"
   ]
  },
  {
   "cell_type": "code",
   "execution_count": 98,
   "metadata": {},
   "outputs": [
    {
     "name": "stdout",
     "output_type": "stream",
     "text": [
      "[Training Classification Report]\n"
     ]
    },
    {
     "name": "stderr",
     "output_type": "stream",
     "text": [
      "/Users/remzikboga/anaconda3/lib/python3.7/site-packages/sklearn/metrics/classification.py:1437: UndefinedMetricWarning: Precision and F-score are ill-defined and being set to 0.0 in labels with no predicted samples.\n",
      "  'precision', 'predicted', average, warn_for)\n"
     ]
    },
    {
     "name": "stdout",
     "output_type": "stream",
     "text": [
      "              precision    recall  f1-score   support\n",
      "\n",
      "          AU       0.54      0.00      0.00      5916\n",
      "          CA       0.46      0.03      0.06     15257\n",
      "          DE       1.00      1.00      1.00     11559\n",
      "          ES       1.00      1.00      1.00     33193\n",
      "          FR       1.00      1.00      1.00     72218\n",
      "          GB       0.00      0.00      0.00     31660\n",
      "          IT       1.00      1.00      1.00     48064\n",
      "          NL       1.00      1.00      1.00     10216\n",
      "          PT       1.00      1.00      1.00      2805\n",
      "          US       0.94      1.00      0.97    810437\n",
      "       other       1.00      1.00      1.00    164290\n",
      "\n",
      "    accuracy                           0.96   1205615\n",
      "   macro avg       0.81      0.73      0.73   1205615\n",
      "weighted avg       0.92      0.96      0.94   1205615\n",
      "\n",
      "[Test Classification Report]\n",
      "              precision    recall  f1-score   support\n",
      "\n",
      "          AU       1.00      0.00      0.00      1518\n",
      "          CA       0.49      0.04      0.07      3749\n",
      "          DE       1.00      1.00      1.00      2953\n",
      "          ES       1.00      1.00      1.00      8280\n",
      "          FR       1.00      1.00      1.00     18064\n",
      "          GB       0.00      0.00      0.00      7880\n",
      "          IT       1.00      1.00      1.00     11868\n",
      "          NL       1.00      1.00      1.00      2614\n",
      "          PT       1.00      1.00      1.00       672\n",
      "          US       0.94      1.00      0.97    202599\n",
      "       other       1.00      1.00      1.00     41207\n",
      "\n",
      "    accuracy                           0.96    301404\n",
      "   macro avg       0.86      0.73      0.73    301404\n",
      "weighted avg       0.93      0.96      0.94    301404\n",
      "\n"
     ]
    }
   ],
   "source": [
    "# use sklearn.metrics.classification_report for a more comprehensive\n",
    "# performance analysis\n",
    "\n",
    "\n",
    "from sklearn.metrics import classification_report\n",
    "# ref: http://scikit-learn.org/stable/modules/generated/sklearn.metrics.classification_report.html#sklearn.metrics.classification_report\n",
    "\n",
    "print(\"[Training Classification Report]\")\n",
    "print(classification_report(ylr, y_predict_training))\n",
    "\n",
    "print(\"[Test Classification Report]\")\n",
    "print(classification_report(ytestlr, y_predict_test))"
   ]
  },
  {
   "cell_type": "code",
   "execution_count": 99,
   "metadata": {},
   "outputs": [],
   "source": [
    "from sklearn.metrics import confusion_matrix\n",
    "from sklearn.metrics import multilabel_confusion_matrix"
   ]
  },
  {
   "cell_type": "code",
   "execution_count": 100,
   "metadata": {
    "scrolled": false
   },
   "outputs": [],
   "source": [
    "def plot_confusion_matrix(cm, classes,\n",
    "                          normalize=False,\n",
    "                          title='Confusion matrix',\n",
    "                          cmap=plt.cm.Blues):\n",
    "    \"\"\"\n",
    "    This function prints and plots the confusion matrix.\n",
    "    Normalization can be applied by setting `normalize=True`.\n",
    "    \"\"\"\n",
    "    import itertools\n",
    "    if normalize:\n",
    "        cm = cm.astype('float') / cm.sum(axis=1)[:, np.newaxis]\n",
    "        print(\"Normalized confusion matrix\")\n",
    "    else:\n",
    "        print('Confusion matrix, without normalization')\n",
    "\n",
    "    print(cm)\n",
    "\n",
    "    plt.imshow(cm, interpolation='nearest', cmap=cmap)\n",
    "    plt.title(title)\n",
    "    plt.colorbar()\n",
    "    tick_marks = np.arange(len(classes))\n",
    "    plt.xticks(tick_marks, classes, rotation=45)\n",
    "    plt.yticks(tick_marks, classes)\n",
    "\n",
    "    fmt = '.2f' if normalize else 'd'\n",
    "    thresh = cm.max() / 2.\n",
    "    for i, j in itertools.product(range(cm.shape[0]), range(cm.shape[1])):\n",
    "        plt.text(j, i, format(cm[i, j], fmt),\n",
    "                 horizontalalignment=\"center\",\n",
    "                 color=\"white\" if cm[i, j] > thresh else \"black\")\n",
    "\n",
    "    plt.ylabel('True label')\n",
    "    plt.xlabel('Predicted label')"
   ]
  },
  {
   "cell_type": "code",
   "execution_count": 101,
   "metadata": {
    "scrolled": false
   },
   "outputs": [
    {
     "name": "stdout",
     "output_type": "stream",
     "text": [
      "Confusion matrix, without normalization\n",
      "[[     1     34      0      0      0      0      0      0      0   1483\n",
      "       0]\n",
      " [     0    132      0      0      0      0      0      0      0   3617\n",
      "       0]\n",
      " [     0      0   2953      0      0      0      0      0      0      0\n",
      "       0]\n",
      " [     0      0      0   8280      0      0      0      0      0      0\n",
      "       0]\n",
      " [     0      0      0      0  18064      0      0      0      0      0\n",
      "       0]\n",
      " [     0      0      0      0      0      0      0      0      0   7880\n",
      "       0]\n",
      " [     0      0      0      0      0      0  11868      0      0      0\n",
      "       0]\n",
      " [     0      0      0      0      0      0      0   2614      0      0\n",
      "       0]\n",
      " [     0      0      0      0      0      0      0      0    672      0\n",
      "       0]\n",
      " [     0    104      0      0      0      0      0      0      0 202495\n",
      "       0]\n",
      " [     0      0      0      0      0      0      0      0      0      0\n",
      "   41207]]\n"
     ]
    },
    {
     "data": {
      "image/png": "[encoded data removed]",
      "text/plain": [
       "<Figure size 792x576 with 2 Axes>"
      ]
     },
     "metadata": {
      "needs_background": "light"
     },
     "output_type": "display_data"
    }
   ],
   "source": [
    "cnf_matrix = confusion_matrix(ytestlr, y_predict_test)\n",
    "np.set_printoptions(precision=2)\n",
    "\n",
    "# Plot non-normalized confusion matrix\n",
    "plt.figure(figsize=(11, 8))\n",
    "plot_confusion_matrix(cnf_matrix, classes = ['AU', 'CA','DE', 'ES', 'FR', 'GB', 'IT', 'NL', 'PT', 'US', 'Other'],\n",
    "                      title='Confusion matrix without normalization')"
   ]
  },
  {
   "cell_type": "code",
   "execution_count": 108,
   "metadata": {},
   "outputs": [],
   "source": [
    "#from sklearn.metrics import accuracy_score, precision_score, recall_score, f1_score\n",
    "#print('\\nAccuracy: {:.2f}\\n'.format(accuracy_score(ytestlr, y_predict_test)))\n",
    "\n",
    "#print('Micro Precision: {:.2f}'.format(precision_score(ytestlr, y_predict_test, average='micro')))\n",
    "#print('Micro Recall: {:.2f}'.format(recall_score(ytestlr, y_predict_test, average='micro')))\n",
    "#print('Micro F1-score: {:.2f}\\n'.format(f1_score(ytestlr, y_predict_test, average='micro')))\n",
    "\n",
    "#print('Macro Precision: {:.2f}'.format(precision_score(ytestlr, y_predict_test, average='macro')))\n",
    "#print('Macro Recall: {:.2f}'.format(recall_score(ytestlr, y_predict_test, average='macro')))\n",
    "#print('Macro F1-score: {:.2f}\\n'.format(f1_score(ytestlr, y_predict_test, average='macro')))\n",
    "\n",
    "#print('Weighted Precision: {:.2f}'.format(precision_score(ytestlr, y_predict_test, average='weighted')))\n",
    "#print('Weighted Recall: {:.2f}'.format(recall_score(ytestlr, y_predict_test, average='weighted')))\n",
    "#print('Weighted F1-score: {:.2f}'.format(f1_score(ytestlr, y_predict_test, average='weighted')))"
   ]
  },
  {
   "cell_type": "code",
   "execution_count": 107,
   "metadata": {},
   "outputs": [],
   "source": [
    "#print(classification_report(ytestlr, y_predict_test))"
   ]
  },
  {
   "cell_type": "code",
   "execution_count": null,
   "metadata": {},
   "outputs": [],
   "source": []
  }
 ],
 "metadata": {
  "kernelspec": {
   "display_name": "Python 3",
   "language": "python",
   "name": "python3"
  },
  "language_info": {
   "codemirror_mode": {
    "name": "ipython",
    "version": 3
   },
   "file_extension": ".py",
   "mimetype": "text/x-python",
   "name": "python",
   "nbconvert_exporter": "python",
   "pygments_lexer": "ipython3",
   "version": "3.7.3"
  }
 },
 "nbformat": 4,
 "nbformat_minor": 2
}
