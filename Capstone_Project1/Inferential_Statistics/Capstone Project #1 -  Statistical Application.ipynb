{
 "cells": [
  {
   "cell_type": "markdown",
   "metadata": {},
   "source": [
    "__STATISTICAL APPLICATION ON AIRBNB DATA__"
   ]
  },
  {
   "cell_type": "markdown",
   "metadata": {},
   "source": [
    "__CAPSTONE PROJECT #1 STATISTICAL APPLICATION__\n"
   ]
  },
  {
   "cell_type": "code",
   "execution_count": 1,
   "metadata": {},
   "outputs": [],
   "source": [
    "%matplotlib inline\n",
    "import pandas as pd\n",
    "import numpy as np\n",
    "import seaborn as sns\n",
    "import matplotlib.pyplot as plt\n",
    "import scipy.stats\n",
    "from scipy.stats import ttest_ind_from_stats\n",
    "from scipy.stats import ttest_ind\n",
    "from scipy.stats import t\n",
    "from scipy.stats import norm\n",
    "from numpy.random import seed\n",
    "import math\n"
   ]
  },
  {
   "cell_type": "code",
   "execution_count": 2,
   "metadata": {},
   "outputs": [],
   "source": [
    "airbnb = pd.read_csv('data/dfmergefinal.csv')"
   ]
  },
  {
   "cell_type": "code",
   "execution_count": 3,
   "metadata": {},
   "outputs": [
    {
     "data": {
      "text/plain": [
       "(3340486, 30)"
      ]
     },
     "execution_count": 3,
     "metadata": {},
     "output_type": "execute_result"
    }
   ],
   "source": [
    "airbnb.shape"
   ]
  },
  {
   "cell_type": "code",
   "execution_count": 4,
   "metadata": {
    "scrolled": false
   },
   "outputs": [
    {
     "data": {
      "text/html": [
       "<div>\n",
       "<style scoped>\n",
       "    .dataframe tbody tr th:only-of-type {\n",
       "        vertical-align: middle;\n",
       "    }\n",
       "\n",
       "    .dataframe tbody tr th {\n",
       "        vertical-align: top;\n",
       "    }\n",
       "\n",
       "    .dataframe thead th {\n",
       "        text-align: right;\n",
       "    }\n",
       "</style>\n",
       "<table border=\"1\" class=\"dataframe\">\n",
       "  <thead>\n",
       "    <tr style=\"text-align: right;\">\n",
       "      <th></th>\n",
       "      <th>user_id</th>\n",
       "      <th>date_account_created</th>\n",
       "      <th>timestamp_first_active</th>\n",
       "      <th>date_first_booking</th>\n",
       "      <th>gender</th>\n",
       "      <th>age</th>\n",
       "      <th>signup_method</th>\n",
       "      <th>signup_flow</th>\n",
       "      <th>language</th>\n",
       "      <th>affiliate_channel</th>\n",
       "      <th>...</th>\n",
       "      <th>destination_language</th>\n",
       "      <th>language_levenshtein_distance</th>\n",
       "      <th>action</th>\n",
       "      <th>action_type</th>\n",
       "      <th>action_detail</th>\n",
       "      <th>device_type</th>\n",
       "      <th>secs_elapsed</th>\n",
       "      <th>age_bucket</th>\n",
       "      <th>population_in_thousands</th>\n",
       "      <th>year</th>\n",
       "    </tr>\n",
       "  </thead>\n",
       "  <tbody>\n",
       "    <tr>\n",
       "      <th>0</th>\n",
       "      <td>d1mm9tcy42</td>\n",
       "      <td>2014-01-01</td>\n",
       "      <td>20140101000936</td>\n",
       "      <td>2014-01-04</td>\n",
       "      <td>MALE</td>\n",
       "      <td>62.0</td>\n",
       "      <td>basic</td>\n",
       "      <td>0</td>\n",
       "      <td>en</td>\n",
       "      <td>sem-non-brand</td>\n",
       "      <td>...</td>\n",
       "      <td>NaN</td>\n",
       "      <td>NaN</td>\n",
       "      <td>lookup</td>\n",
       "      <td>NaN</td>\n",
       "      <td>NaN</td>\n",
       "      <td>Windows Desktop</td>\n",
       "      <td>319.0</td>\n",
       "      <td>NaN</td>\n",
       "      <td>NaN</td>\n",
       "      <td>NaN</td>\n",
       "    </tr>\n",
       "    <tr>\n",
       "      <th>1</th>\n",
       "      <td>d1mm9tcy42</td>\n",
       "      <td>2014-01-01</td>\n",
       "      <td>20140101000936</td>\n",
       "      <td>2014-01-04</td>\n",
       "      <td>MALE</td>\n",
       "      <td>62.0</td>\n",
       "      <td>basic</td>\n",
       "      <td>0</td>\n",
       "      <td>en</td>\n",
       "      <td>sem-non-brand</td>\n",
       "      <td>...</td>\n",
       "      <td>NaN</td>\n",
       "      <td>NaN</td>\n",
       "      <td>search_results</td>\n",
       "      <td>click</td>\n",
       "      <td>view_search_results</td>\n",
       "      <td>Windows Desktop</td>\n",
       "      <td>67753.0</td>\n",
       "      <td>NaN</td>\n",
       "      <td>NaN</td>\n",
       "      <td>NaN</td>\n",
       "    </tr>\n",
       "    <tr>\n",
       "      <th>2</th>\n",
       "      <td>d1mm9tcy42</td>\n",
       "      <td>2014-01-01</td>\n",
       "      <td>20140101000936</td>\n",
       "      <td>2014-01-04</td>\n",
       "      <td>MALE</td>\n",
       "      <td>62.0</td>\n",
       "      <td>basic</td>\n",
       "      <td>0</td>\n",
       "      <td>en</td>\n",
       "      <td>sem-non-brand</td>\n",
       "      <td>...</td>\n",
       "      <td>NaN</td>\n",
       "      <td>NaN</td>\n",
       "      <td>lookup</td>\n",
       "      <td>NaN</td>\n",
       "      <td>NaN</td>\n",
       "      <td>Windows Desktop</td>\n",
       "      <td>301.0</td>\n",
       "      <td>NaN</td>\n",
       "      <td>NaN</td>\n",
       "      <td>NaN</td>\n",
       "    </tr>\n",
       "    <tr>\n",
       "      <th>3</th>\n",
       "      <td>d1mm9tcy42</td>\n",
       "      <td>2014-01-01</td>\n",
       "      <td>20140101000936</td>\n",
       "      <td>2014-01-04</td>\n",
       "      <td>MALE</td>\n",
       "      <td>62.0</td>\n",
       "      <td>basic</td>\n",
       "      <td>0</td>\n",
       "      <td>en</td>\n",
       "      <td>sem-non-brand</td>\n",
       "      <td>...</td>\n",
       "      <td>NaN</td>\n",
       "      <td>NaN</td>\n",
       "      <td>search_results</td>\n",
       "      <td>click</td>\n",
       "      <td>view_search_results</td>\n",
       "      <td>Windows Desktop</td>\n",
       "      <td>22141.0</td>\n",
       "      <td>NaN</td>\n",
       "      <td>NaN</td>\n",
       "      <td>NaN</td>\n",
       "    </tr>\n",
       "    <tr>\n",
       "      <th>4</th>\n",
       "      <td>d1mm9tcy42</td>\n",
       "      <td>2014-01-01</td>\n",
       "      <td>20140101000936</td>\n",
       "      <td>2014-01-04</td>\n",
       "      <td>MALE</td>\n",
       "      <td>62.0</td>\n",
       "      <td>basic</td>\n",
       "      <td>0</td>\n",
       "      <td>en</td>\n",
       "      <td>sem-non-brand</td>\n",
       "      <td>...</td>\n",
       "      <td>NaN</td>\n",
       "      <td>NaN</td>\n",
       "      <td>lookup</td>\n",
       "      <td>NaN</td>\n",
       "      <td>NaN</td>\n",
       "      <td>Windows Desktop</td>\n",
       "      <td>435.0</td>\n",
       "      <td>NaN</td>\n",
       "      <td>NaN</td>\n",
       "      <td>NaN</td>\n",
       "    </tr>\n",
       "  </tbody>\n",
       "</table>\n",
       "<p>5 rows × 30 columns</p>\n",
       "</div>"
      ],
      "text/plain": [
       "      user_id date_account_created  timestamp_first_active date_first_booking  \\\n",
       "0  d1mm9tcy42           2014-01-01          20140101000936         2014-01-04   \n",
       "1  d1mm9tcy42           2014-01-01          20140101000936         2014-01-04   \n",
       "2  d1mm9tcy42           2014-01-01          20140101000936         2014-01-04   \n",
       "3  d1mm9tcy42           2014-01-01          20140101000936         2014-01-04   \n",
       "4  d1mm9tcy42           2014-01-01          20140101000936         2014-01-04   \n",
       "\n",
       "  gender   age signup_method  signup_flow language affiliate_channel  ...  \\\n",
       "0   MALE  62.0         basic            0       en     sem-non-brand  ...   \n",
       "1   MALE  62.0         basic            0       en     sem-non-brand  ...   \n",
       "2   MALE  62.0         basic            0       en     sem-non-brand  ...   \n",
       "3   MALE  62.0         basic            0       en     sem-non-brand  ...   \n",
       "4   MALE  62.0         basic            0       en     sem-non-brand  ...   \n",
       "\n",
       "  destination_language  language_levenshtein_distance          action  \\\n",
       "0                   NaN                           NaN          lookup   \n",
       "1                   NaN                           NaN  search_results   \n",
       "2                   NaN                           NaN          lookup   \n",
       "3                   NaN                           NaN  search_results   \n",
       "4                   NaN                           NaN          lookup   \n",
       "\n",
       "  action_type        action_detail      device_type  secs_elapsed  age_bucket  \\\n",
       "0         NaN                  NaN  Windows Desktop         319.0         NaN   \n",
       "1       click  view_search_results  Windows Desktop       67753.0         NaN   \n",
       "2         NaN                  NaN  Windows Desktop         301.0         NaN   \n",
       "3       click  view_search_results  Windows Desktop       22141.0         NaN   \n",
       "4         NaN                  NaN  Windows Desktop         435.0         NaN   \n",
       "\n",
       "   population_in_thousands  year  \n",
       "0                      NaN   NaN  \n",
       "1                      NaN   NaN  \n",
       "2                      NaN   NaN  \n",
       "3                      NaN   NaN  \n",
       "4                      NaN   NaN  \n",
       "\n",
       "[5 rows x 30 columns]"
      ]
     },
     "execution_count": 4,
     "metadata": {},
     "output_type": "execute_result"
    }
   ],
   "source": [
    "airbnb.head()"
   ]
  },
  {
   "cell_type": "markdown",
   "metadata": {},
   "source": [
    "__#1: Is there a significant difference between age of users in terms of their genders who booked in the US.\n",
    "Ho: There is no significant difference between ages of females and males. \n",
    "H1: There is significant diffence between the ages of females and males.__"
   ]
  },
  {
   "cell_type": "code",
   "execution_count": 5,
   "metadata": {
    "scrolled": false
   },
   "outputs": [
    {
     "data": {
      "text/html": [
       "<div>\n",
       "<style scoped>\n",
       "    .dataframe tbody tr th:only-of-type {\n",
       "        vertical-align: middle;\n",
       "    }\n",
       "\n",
       "    .dataframe tbody tr th {\n",
       "        vertical-align: top;\n",
       "    }\n",
       "\n",
       "    .dataframe thead th {\n",
       "        text-align: right;\n",
       "    }\n",
       "</style>\n",
       "<table border=\"1\" class=\"dataframe\">\n",
       "  <thead>\n",
       "    <tr style=\"text-align: right;\">\n",
       "      <th></th>\n",
       "      <th>user_id</th>\n",
       "      <th>gender</th>\n",
       "      <th>country_destination</th>\n",
       "      <th>age</th>\n",
       "      <th>secs_elapsed</th>\n",
       "    </tr>\n",
       "  </thead>\n",
       "  <tbody>\n",
       "    <tr>\n",
       "      <th>315</th>\n",
       "      <td>xwxei6hdk4</td>\n",
       "      <td>FEMALE</td>\n",
       "      <td>US</td>\n",
       "      <td>32.0</td>\n",
       "      <td>1355.0</td>\n",
       "    </tr>\n",
       "    <tr>\n",
       "      <th>316</th>\n",
       "      <td>xwxei6hdk4</td>\n",
       "      <td>FEMALE</td>\n",
       "      <td>US</td>\n",
       "      <td>32.0</td>\n",
       "      <td>1246.0</td>\n",
       "    </tr>\n",
       "    <tr>\n",
       "      <th>318</th>\n",
       "      <td>xwxei6hdk4</td>\n",
       "      <td>FEMALE</td>\n",
       "      <td>US</td>\n",
       "      <td>32.0</td>\n",
       "      <td>386.0</td>\n",
       "    </tr>\n",
       "    <tr>\n",
       "      <th>319</th>\n",
       "      <td>xwxei6hdk4</td>\n",
       "      <td>FEMALE</td>\n",
       "      <td>US</td>\n",
       "      <td>32.0</td>\n",
       "      <td>424.0</td>\n",
       "    </tr>\n",
       "    <tr>\n",
       "      <th>320</th>\n",
       "      <td>xwxei6hdk4</td>\n",
       "      <td>FEMALE</td>\n",
       "      <td>US</td>\n",
       "      <td>32.0</td>\n",
       "      <td>0.0</td>\n",
       "    </tr>\n",
       "  </tbody>\n",
       "</table>\n",
       "</div>"
      ],
      "text/plain": [
       "        user_id  gender country_destination   age  secs_elapsed\n",
       "315  xwxei6hdk4  FEMALE                  US  32.0        1355.0\n",
       "316  xwxei6hdk4  FEMALE                  US  32.0        1246.0\n",
       "318  xwxei6hdk4  FEMALE                  US  32.0         386.0\n",
       "319  xwxei6hdk4  FEMALE                  US  32.0         424.0\n",
       "320  xwxei6hdk4  FEMALE                  US  32.0           0.0"
      ]
     },
     "execution_count": 5,
     "metadata": {},
     "output_type": "execute_result"
    }
   ],
   "source": [
    "#Create a subset to work based on my interest\n",
    "airbnb_test = airbnb[(airbnb['age'].notnull()) & (airbnb['country_destination'] != 'NDF') &\n",
    "                (airbnb['country_destination'] == 'US') &(airbnb['country_destination'] != 'other') & (airbnb['gender'] != 'OTHER') &\n",
    "                (airbnb['gender'].notnull() & airbnb['secs_elapsed'].notnull())]\n",
    "airbnb_test= airbnb_test[['user_id', 'gender', 'country_destination', 'age', 'secs_elapsed']]\n",
    "airbnb_test.head()"
   ]
  },
  {
   "cell_type": "code",
   "execution_count": 9,
   "metadata": {},
   "outputs": [
    {
     "data": {
      "text/plain": [
       "count     678076\n",
       "unique         2\n",
       "top       FEMALE\n",
       "freq      378691\n",
       "Name: gender, dtype: object"
      ]
     },
     "execution_count": 9,
     "metadata": {},
     "output_type": "execute_result"
    }
   ],
   "source": [
    "#descriptive statistics for gender\n",
    "airbnb_test['gender'].describe()"
   ]
  },
  {
   "cell_type": "code",
   "execution_count": 10,
   "metadata": {},
   "outputs": [
    {
     "data": {
      "text/plain": [
       "count     678076\n",
       "unique         1\n",
       "top           US\n",
       "freq      678076\n",
       "Name: country_destination, dtype: object"
      ]
     },
     "execution_count": 10,
     "metadata": {},
     "output_type": "execute_result"
    }
   ],
   "source": [
    "#descriptive statistics for country destination\n",
    "airbnb_test['country_destination'].describe()"
   ]
  },
  {
   "cell_type": "markdown",
   "metadata": {},
   "source": [
    "__Users booked in the US are mostly female.I will now find out if there is significant difference between males and females in terms of their ages. The null hypothesis is \"there is no difference between males and females who select their country destination as US in terms of their ages\". The alternative hypothesis is \"there is a difference between two groups.\"__"
   ]
  },
  {
   "cell_type": "code",
   "execution_count": 11,
   "metadata": {},
   "outputs": [
    {
     "data": {
      "text/plain": [
       "(299385, 5)"
      ]
     },
     "execution_count": 11,
     "metadata": {},
     "output_type": "execute_result"
    }
   ],
   "source": [
    "#calculate the number of male users\n",
    "male = airbnb_test[airbnb_test.gender == 'MALE']\n",
    "male.shape"
   ]
  },
  {
   "cell_type": "code",
   "execution_count": 12,
   "metadata": {},
   "outputs": [
    {
     "data": {
      "text/plain": [
       "(378691, 5)"
      ]
     },
     "execution_count": 12,
     "metadata": {},
     "output_type": "execute_result"
    }
   ],
   "source": [
    "#calculate the number of female users\n",
    "\n",
    "female = airbnb_test[airbnb_test.gender == 'FEMALE']\n",
    "female.shape"
   ]
  },
  {
   "cell_type": "code",
   "execution_count": 13,
   "metadata": {},
   "outputs": [
    {
     "name": "stdout",
     "output_type": "stream",
     "text": [
      "34.98603136429681\n",
      "11.854855086709195\n"
     ]
    }
   ],
   "source": [
    "#calculate the mean and standard deviations of males\n",
    "male_age_mean = male.age.mean()\n",
    "print(male_age_mean)\n",
    "\n",
    "male_age_std = male.age.std()\n",
    "print(male_age_std)"
   ]
  },
  {
   "cell_type": "code",
   "execution_count": 14,
   "metadata": {
    "scrolled": true
   },
   "outputs": [
    {
     "name": "stdout",
     "output_type": "stream",
     "text": [
      "34.76702641467582\n",
      "13.124190304005962\n"
     ]
    }
   ],
   "source": [
    "#calculate the mean and standard deviations of females\n",
    "female_age_mean = female.age.mean()\n",
    "print(female_age_mean)\n",
    "female_age_std = female.age.std()\n",
    "print(female_age_std)"
   ]
  },
  {
   "cell_type": "code",
   "execution_count": 15,
   "metadata": {},
   "outputs": [
    {
     "name": "stdout",
     "output_type": "stream",
     "text": [
      "The difference between the means of males and females is  0.21900494962098804\n"
     ]
    }
   ],
   "source": [
    "# Means for females and males seem to be close. I want to calculate the difference in means.\n",
    "\n",
    "mean_difference= male_age_mean - female_age_mean\n",
    "print(\"The difference between the means of males and females is \", mean_difference)"
   ]
  },
  {
   "cell_type": "code",
   "execution_count": 16,
   "metadata": {},
   "outputs": [
    {
     "name": "stdout",
     "output_type": "stream",
     "text": [
      "Standard error: 0.027184520259685614\n"
     ]
    }
   ],
   "source": [
    "# Now I want to calculate the standard error\n",
    "\n",
    "SE=((male_age_std**2)/372311 + (female_age_std**2)/476439)**0.5\n",
    "print(\"Standard error:\", SE)"
   ]
  },
  {
   "cell_type": "code",
   "execution_count": 18,
   "metadata": {},
   "outputs": [
    {
     "name": "stdout",
     "output_type": "stream",
     "text": [
      "Mean Male: 34.98603136429681\n",
      "Mean Female: 34.76702641467582\n",
      "Standard Deviation Male: 11.85483528801356\n",
      "Standard Deviation Female: 13.124172975631419\n"
     ]
    }
   ],
   "source": [
    "#manual calculation of t and p values\n",
    "male_age = airbnb_test.age[airbnb_test.gender == 'MALE']  #assign male age\n",
    "female_age = airbnb_test.age[airbnb_test.gender == 'FEMALE'] #assign female age\n",
    "mean_male = np.mean(male_age) #mean of male age\n",
    "print('Mean Male:', mean_male)\n",
    "mean_female = np.mean(female_age) #mean of female age\n",
    "print('Mean Female:', mean_female)\n",
    "std_dev_male = np.std(male_age) #standard deviation of male age\n",
    "print('Standard Deviation Male:', std_dev_male)\n",
    "std_dev_female = np.std(female_age) #standard deviation of female age\n",
    "print('Standard Deviation Female:', std_dev_female)"
   ]
  },
  {
   "cell_type": "code",
   "execution_count": 19,
   "metadata": {},
   "outputs": [
    {
     "name": "stdout",
     "output_type": "stream",
     "text": [
      "-7.118804078367921\n"
     ]
    }
   ],
   "source": [
    "#calculate t value manually\n",
    "n0 = len(male_age)\n",
    "n1= len(female_age)\n",
    "std0 = male_age.std()\n",
    "std1= female_age.std()\n",
    "mean0 = mean_male\n",
    "mean1= mean_female\n",
    "sp = np.sqrt( ((n0-1)*(std0)**2 + (n1-1)*(std1)**2)/ (n0+n1-2) )\n",
    "t_ = (mean1 - mean0)/(sp * np.sqrt(1/n0 + 1/n1)) \n",
    "print(t_)"
   ]
  },
  {
   "cell_type": "code",
   "execution_count": 20,
   "metadata": {},
   "outputs": [
    {
     "name": "stdout",
     "output_type": "stream",
     "text": [
      "8.056237429570178\n"
     ]
    }
   ],
   "source": [
    "# Use 0.05 Significance level in two sample t-test\n",
    "t_val=((male_age_mean - female_age_mean)-0)/SE\n",
    "print(t_val)"
   ]
  },
  {
   "cell_type": "code",
   "execution_count": 21,
   "metadata": {},
   "outputs": [
    {
     "data": {
      "text/plain": [
       "1.9999999999989102"
      ]
     },
     "execution_count": 21,
     "metadata": {},
     "output_type": "execute_result"
    }
   ],
   "source": [
    "#calculate p value manually \n",
    "p_value = (1 - t(n0 + n1 - 1).cdf(t_)) * 2\n",
    "p_value"
   ]
  },
  {
   "cell_type": "code",
   "execution_count": 22,
   "metadata": {},
   "outputs": [
    {
     "data": {
      "text/plain": [
       "Ttest_indResult(statistic=7.118804078366678, pvalue=1.0897469575308629e-12)"
      ]
     },
     "execution_count": 22,
     "metadata": {},
     "output_type": "execute_result"
    }
   ],
   "source": [
    "#calculate t and p values using scipy\n",
    "ttest_ind(male_age, female_age)"
   ]
  },
  {
   "cell_type": "markdown",
   "metadata": {},
   "source": [
    "__Because the p-value is less then 0.05, we reject null hypothesis and obtain alternative hypothesis which shows that there is significant difference between the means of males and females ages.__"
   ]
  },
  {
   "cell_type": "markdown",
   "metadata": {},
   "source": [
    "# _______________________________________________________________________"
   ]
  },
  {
   "cell_type": "markdown",
   "metadata": {},
   "source": [
    "__#2: Is there a significant difference between elapsed time in terms of users' genders who booked in the US.__\n",
    "\n",
    "__Ho: There is no significant difference between the means of females and males.__\n",
    "__H1: There is significant diffence between the means of females and males.__"
   ]
  },
  {
   "cell_type": "code",
   "execution_count": 23,
   "metadata": {
    "scrolled": true
   },
   "outputs": [
    {
     "data": {
      "text/plain": [
       "Text(0.5, 0, 'Seconds Elapsed')"
      ]
     },
     "execution_count": 23,
     "metadata": {},
     "output_type": "execute_result"
    },
    {
     "data": {
      "image/png": "[encoded data removed]",
      "text/plain": [
       "<Figure size 432x288 with 1 Axes>"
      ]
     },
     "metadata": {
      "needs_background": "light"
     },
     "output_type": "display_data"
    }
   ],
   "source": [
    "#plot the elapsed time\n",
    "plt.hist(airbnb_test['secs_elapsed'], edgecolor = 'yellow', bins=10)\n",
    "plt.xlabel('Seconds Elapsed')"
   ]
  },
  {
   "cell_type": "code",
   "execution_count": 24,
   "metadata": {},
   "outputs": [],
   "source": [
    "elapsed_time = airbnb_test['secs_elapsed']"
   ]
  },
  {
   "cell_type": "code",
   "execution_count": 25,
   "metadata": {},
   "outputs": [
    {
     "data": {
      "text/plain": [
       "(678076,)"
      ]
     },
     "execution_count": 25,
     "metadata": {},
     "output_type": "execute_result"
    }
   ],
   "source": [
    "elapsed_time.shape"
   ]
  },
  {
   "cell_type": "code",
   "execution_count": 26,
   "metadata": {},
   "outputs": [
    {
     "name": "stdout",
     "output_type": "stream",
     "text": [
      "Standart Deviation:  98548.91733977081\n",
      "Mean:  22653.53765359635\n"
     ]
    }
   ],
   "source": [
    "#calculate the standard deviation and mean of second elapsed\n",
    "std_elapsed_time=np.std(elapsed_time)\n",
    "mean_elapsed_time=np.mean(elapsed_time)\n",
    "print(\"Standart Deviation: \", std_elapsed_time)\n",
    "print(\"Mean: \", mean_elapsed_time)"
   ]
  },
  {
   "cell_type": "markdown",
   "metadata": {},
   "source": [
    "__INTERPRETATIONS:__ Standard deviation is too high compare to mean. The histogram shows that the data is not normally distributed, but right skewed."
   ]
  },
  {
   "cell_type": "code",
   "execution_count": 27,
   "metadata": {},
   "outputs": [
    {
     "name": "stdout",
     "output_type": "stream",
     "text": [
      "Median:  1258.0\n"
     ]
    }
   ],
   "source": [
    "median_elapsed_time= np.median(elapsed_time)\n",
    "print(\"Median: \", median_elapsed_time)"
   ]
  },
  {
   "cell_type": "code",
   "execution_count": 28,
   "metadata": {},
   "outputs": [
    {
     "data": {
      "text/plain": [
       "FEMALE    378691\n",
       "MALE      299385\n",
       "Name: gender, dtype: int64"
      ]
     },
     "execution_count": 28,
     "metadata": {},
     "output_type": "execute_result"
    }
   ],
   "source": [
    "airbnb_test.gender.value_counts()"
   ]
  },
  {
   "cell_type": "code",
   "execution_count": 30,
   "metadata": {},
   "outputs": [
    {
     "data": {
      "text/plain": [
       "FEMALE    0.558479\n",
       "MALE      0.441521\n",
       "Name: gender, dtype: float64"
      ]
     },
     "execution_count": 30,
     "metadata": {},
     "output_type": "execute_result"
    }
   ],
   "source": [
    "#calculate the percentages\n",
    "airbnb_test.gender.value_counts(normalize=True)"
   ]
  },
  {
   "cell_type": "code",
   "execution_count": 31,
   "metadata": {},
   "outputs": [
    {
     "name": "stdout",
     "output_type": "stream",
     "text": [
      "22456.68561000778\n"
     ]
    }
   ],
   "source": [
    "n = len(airbnb_test['secs_elapsed'])\n",
    "lower = mean_elapsed_time + norm.ppf(0.05)*std_elapsed_time/np.sqrt(n)\n",
    "print(lower)"
   ]
  },
  {
   "cell_type": "markdown",
   "metadata": {},
   "source": [
    "__INTERPRETATION:__ This indicates with a 95% confidence interval that the mean is above 22456."
   ]
  },
  {
   "cell_type": "code",
   "execution_count": 32,
   "metadata": {},
   "outputs": [
    {
     "name": "stdout",
     "output_type": "stream",
     "text": [
      "Mean Male: 23262.14048132004\n",
      "Mean Female: 22172.38928308304\n",
      "Standard Deviation Male: 102037.81496088109\n",
      "Standard Deviation Female: 95697.9459837973\n"
     ]
    }
   ],
   "source": [
    "#I want to compare male and female in terms the elapsed time. \n",
    "#in order to do that I first need to calculate their means. I will also calculare std. deviations.\n",
    "#our null hyphothesis is that these two groups have same variance\n",
    "\n",
    "male = airbnb_test.secs_elapsed[airbnb_test.gender == 'MALE']  \n",
    "female = airbnb_test.secs_elapsed[airbnb_test.gender == 'FEMALE']\n",
    "mean_male = np.mean(male)\n",
    "print('Mean Male:', mean_male)\n",
    "mean_female = np.mean(female)\n",
    "print('Mean Female:', mean_female)\n",
    "std_dev_male = np.std(male)\n",
    "print('Standard Deviation Male:', std_dev_male)\n",
    "std_dev_female = np.std(female)\n",
    "print('Standard Deviation Female:', std_dev_female)"
   ]
  },
  {
   "cell_type": "code",
   "execution_count": 33,
   "metadata": {
    "scrolled": true
   },
   "outputs": [
    {
     "name": "stdout",
     "output_type": "stream",
     "text": [
      "-4.521679006836198\n"
     ]
    }
   ],
   "source": [
    "n0 = len(male)\n",
    "n1= len(female)\n",
    "std0 = male.std()\n",
    "std1= female.std()\n",
    "mean0 = mean_male\n",
    "mean1= mean_female\n",
    "sp = np.sqrt(((n0-1)*(std0)**2 + (n1-1)*(std1)**2)/(n0+n1-2))\n",
    "t_ = (mean1 - mean0)/(sp * np.sqrt(1/n0 + 1/n1)) \n",
    "print(t_)"
   ]
  },
  {
   "cell_type": "code",
   "execution_count": 34,
   "metadata": {},
   "outputs": [
    {
     "data": {
      "text/plain": [
       "1.9999938638589012"
      ]
     },
     "execution_count": 34,
     "metadata": {},
     "output_type": "execute_result"
    }
   ],
   "source": [
    "p_value = (1 - t(n0 + n1 - 1).cdf(t_)) * 2\n",
    "p_value"
   ]
  },
  {
   "cell_type": "code",
   "execution_count": 35,
   "metadata": {},
   "outputs": [
    {
     "data": {
      "text/plain": [
       "Ttest_indResult(statistic=4.521679006836163, pvalue=6.136141100266454e-06)"
      ]
     },
     "execution_count": 35,
     "metadata": {},
     "output_type": "execute_result"
    }
   ],
   "source": [
    "ttest_ind(male, female)"
   ]
  },
  {
   "cell_type": "markdown",
   "metadata": {},
   "source": [
    "__INTERPRETATION:__ Those are the results when we assume that there is no difference between variances of two groups. I want to look for the values when the variances are not assumed to be same this time."
   ]
  },
  {
   "cell_type": "code",
   "execution_count": 36,
   "metadata": {},
   "outputs": [
    {
     "data": {
      "text/plain": [
       "Ttest_indResult(statistic=4.487927633810977, pvalue=7.1932208754725195e-06)"
      ]
     },
     "execution_count": 36,
     "metadata": {},
     "output_type": "execute_result"
    }
   ],
   "source": [
    "ttest_ind(male, female, equal_var=False)"
   ]
  },
  {
   "cell_type": "markdown",
   "metadata": {},
   "source": [
    "__INTERPRETATION:__ Because the pvalue is less than 0.05, we reject the null hypothesis which was \"there was no difference in elapsed times between females and males.\" Instead, we will need to obtain the alternative hyphotesis which obviously shows that there is a significant difference between these two groups who booked in the US.  "
   ]
  },
  {
   "cell_type": "markdown",
   "metadata": {},
   "source": [
    "__BOOTSTRAP METHOD and CONFIDENCE INTERVAL__"
   ]
  },
  {
   "cell_type": "code",
   "execution_count": 37,
   "metadata": {},
   "outputs": [],
   "source": [
    "from numpy.random import seed"
   ]
  },
  {
   "cell_type": "code",
   "execution_count": 45,
   "metadata": {},
   "outputs": [],
   "source": [
    "np.random.seed(47)\n",
    "N_rep = 1000\n",
    "\n",
    "# set up an empty array\n",
    "bs_replicates = np.empty(N_rep)\n",
    "\n",
    "# getting 10000 bootstrap replicates (10000) \n",
    "# replicates indicate the statistic value\n",
    "\n",
    "for i in range(N_rep):\n",
    "    bs_sample = np.random.choice(airbnb_test.secs_elapsed, size=len(airbnb_test.secs_elapsed))\n",
    "    bs_replicates[i] = bs_sample.mean()\n"
   ]
  },
  {
   "cell_type": "code",
   "execution_count": 46,
   "metadata": {},
   "outputs": [
    {
     "name": "stdout",
     "output_type": "stream",
     "text": [
      "The lower limit of the 95% confidence interval is: 22456.202649555507\n"
     ]
    }
   ],
   "source": [
    "# estimating the same 95% confidence interval lower limit \n",
    "# since it's the lower limit, set the area under the curve as 5%\n",
    "lower_limit = np.percentile(bs_replicates, [5])[0]\n",
    "\n",
    "print(\"The lower limit of the 95% confidence interval is: {}\".format(lower_limit))"
   ]
  },
  {
   "cell_type": "markdown",
   "metadata": {},
   "source": [
    "__INTERPRETATION:__ When I performed 10000 replicates immediately after setting the random seed to 47, I got the the value 22456.2 here, which compares almost perfectly same with the value 22456.6 obtained using the t-distribution confidence interval previously."
   ]
  },
  {
   "cell_type": "code",
   "execution_count": 47,
   "metadata": {},
   "outputs": [],
   "source": [
    "# making a function since we will use this logic often\n",
    "# (Reference: Datacamp / Statistical Thinking in Python (Part 2) / Generating many Bootstrap Replicates)\n",
    "\n",
    "def draw_bs_reps(data, func, size=1):\n",
    "    \"\"\"Draw bootstrap replicates. \n",
    "    Func refers to the type of statistic we want (np.mean / np.median etc.)\"\"\"\n",
    "    \n",
    "    # Initialize array of replicates: bs_replicates\n",
    "    bs_replicates = np.empty(size)\n",
    "\n",
    "    # Generate replicates\n",
    "    for i in range(size):\n",
    "        bs_sample = np.random.choice(data, len(data))\n",
    "        bs_replicates[i] = func(bs_sample)  # store the statistic from each bs_sample into the new array\n",
    "\n",
    "    return bs_replicates"
   ]
  },
  {
   "cell_type": "code",
   "execution_count": 48,
   "metadata": {},
   "outputs": [
    {
     "data": {
      "text/plain": [
       "6339.8689770809"
      ]
     },
     "execution_count": 48,
     "metadata": {},
     "output_type": "execute_result"
    }
   ],
   "source": [
    "# Male and female groups in arrays\n",
    "male_bts = np.array(airbnb_test[airbnb_test['gender']== \"MALE\"].secs_elapsed)\n",
    "female_bts = np.array(airbnb_test[airbnb_test['gender']== \"FEMALE\"].secs_elapsed)\n",
    "\n",
    "# Difference of the standard deviation of the original sample (observed)\n",
    "obs_difference_std = np.std(male_bts) - np.std(female_bts)\n",
    "obs_difference_std"
   ]
  },
  {
   "cell_type": "code",
   "execution_count": 49,
   "metadata": {},
   "outputs": [
    {
     "name": "stdout",
     "output_type": "stream",
     "text": [
      "The 95% confidence interval of the difference in standard deviation      between two groups is: [3723.4564025594013 , 8950.454220856525]\n"
     ]
    }
   ],
   "source": [
    "# difference in bootstrap relicates (for N=10000)\n",
    "bs_diff_std = draw_bs_reps(male_bts, np.std, size=10000) - draw_bs_reps(female_bts, np.std, size=10000)\n",
    "    \n",
    "# getting the 95% confidence interval\n",
    "ci_95 = np.percentile(bs_diff_std,[2.5, 97.5])\n",
    "ci_95\n",
    "\n",
    "print(\"The 95% confidence interval of the difference in standard deviation\\\n",
    "      between two groups is: [{} , {}]\".format(ci_95[0],ci_95[1]))"
   ]
  },
  {
   "cell_type": "markdown",
   "metadata": {},
   "source": [
    "__INTERPRETATION:__ My Null and Alternative Hypothesis were as follows:\n",
    "\n",
    "$H_0$ : there is no difference in standard deviations between males and females\n",
    "i.e. $\\mu_d$ = 0\n",
    "\n",
    "$H_a$ : there is a difference in standard deviations between males and females\n",
    "i.e. $\\mu_d$ $\\neq$ 0\n",
    "\n",
    "\n",
    "My Bootstrap replicates with a 95% confidence interval indicate that the difference in standard deviations between the two groups have a 95% chance of lying within [3723.4564025594013 , 950.454220856525], which does not contain zero.\n",
    "\n",
    "Thus I reject the null hypothesis. There is a significant difference in standard deviation (and thus variance) between males and females in terms of elapsed time."
   ]
  },
  {
   "cell_type": "code",
   "execution_count": 50,
   "metadata": {},
   "outputs": [],
   "source": [
    "#Perform a bootstrapped hypothesis test at the 5% significance level ($\\alpha = 0.05$)\n",
    "#to calculate the p-value of the observed difference between females and males. \n",
    "#I will state my null and alternative hypotheses and \n",
    "#whether I will retain or reject the null hypothesis for the given significance level at the end."
   ]
  },
  {
   "cell_type": "markdown",
   "metadata": {},
   "source": [
    "__For $\\alpha$ = 0.05,\n",
    "$H_0$ : there is no difference in charges between males and females\n",
    "i.e. $\\mu_d$ = 0\n",
    "$H_a$ : there is a difference in charges between males and females\n",
    "i.e. $\\mu_d$ $\\neq$ 0__"
   ]
  },
  {
   "cell_type": "code",
   "execution_count": 51,
   "metadata": {},
   "outputs": [],
   "source": [
    "# # Shifting the Dataset so that the two groups have equal means\n",
    "\n",
    "# First calculating the combined mean\n",
    "combined_mean = np.mean(np.concatenate((male_bts, female_bts)))\n",
    "\n",
    "# Generate the shifted dataset \n",
    "male_shifted = male_bts - np.mean(male_bts) + combined_mean\n",
    "female_shifted =  female_bts - np.mean(female_bts) + combined_mean"
   ]
  },
  {
   "cell_type": "code",
   "execution_count": 52,
   "metadata": {},
   "outputs": [],
   "source": [
    "# Draw the bootstrap replicates from the shifted dataset\n",
    "bs_replicates_male = draw_bs_reps(male_shifted, np.mean, size=1000)\n",
    "bs_replicates_female = draw_bs_reps(female_shifted, np.mean, size=1000)"
   ]
  },
  {
   "cell_type": "code",
   "execution_count": 53,
   "metadata": {},
   "outputs": [
    {
     "data": {
      "text/plain": [
       "1089.7511982369979"
      ]
     },
     "execution_count": 53,
     "metadata": {},
     "output_type": "execute_result"
    }
   ],
   "source": [
    "# Get the differences for the bootstrap simulated sample\n",
    "bs_differences = bs_replicates_male - bs_replicates_female\n",
    "\n",
    "\n",
    "# Get the observed difference from the actual dataset\n",
    "obs_diff = np.mean(male_bts) - np.mean(female_bts)\n",
    "obs_diff"
   ]
  },
  {
   "cell_type": "code",
   "execution_count": 54,
   "metadata": {},
   "outputs": [
    {
     "name": "stdout",
     "output_type": "stream",
     "text": [
      "p-value = 0.0\n"
     ]
    }
   ],
   "source": [
    "# Calculate the p-value by comparing the bootstrap replicates against the observed difference of the means\n",
    "# The fraction of values WITHIN bootstrap replicates array that meet a certain criteria against the obs_diff\n",
    "\n",
    "p = np.sum(bs_differences >= obs_diff)/ len(bs_differences)\n",
    "print('p-value =', p)"
   ]
  },
  {
   "cell_type": "markdown",
   "metadata": {},
   "source": [
    "__INTERPRETATION:__ Under the null hypothesis, we get a p-value of 0. Thus it is sufficiently unlikely that the null hypothesis is true and thus we reject the null. There is a difference in elapsed time between females and males.."
   ]
  },
  {
   "cell_type": "code",
   "execution_count": null,
   "metadata": {},
   "outputs": [],
   "source": []
  }
 ],
 "metadata": {
  "kernelspec": {
   "display_name": "Python 3",
   "language": "python",
   "name": "python3"
  },
  "language_info": {
   "codemirror_mode": {
    "name": "ipython",
    "version": 3
   },
   "file_extension": ".py",
   "mimetype": "text/x-python",
   "name": "python",
   "nbconvert_exporter": "python",
   "pygments_lexer": "ipython3",
   "version": "3.7.3"
  }
 },
 "nbformat": 4,
 "nbformat_minor": 2
}
